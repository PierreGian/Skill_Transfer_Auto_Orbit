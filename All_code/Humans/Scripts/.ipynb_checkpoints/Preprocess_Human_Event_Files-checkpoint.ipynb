{
 "cells": [
  {
   "cell_type": "code",
   "execution_count": 4,
   "metadata": {},
   "outputs": [],
   "source": [
    "import numpy as np"
   ]
  },
  {
   "cell_type": "code",
   "execution_count": 5,
   "metadata": {},
   "outputs": [
    {
     "name": "stdout",
     "output_type": "stream",
     "text": [
      "There are 180 human subjects in this file\n",
      "['AIOZF654BN0LT', 'A1EP3XESXAG0EP', 'A6AAAG3KQ7XXV', 'A6WYBPPG8Y2Q4', 'A14JGIN4ZXXLGD', 'A7445W1585GJX', 'A161UN6SUJBB33', 'A39GXHWJ23W5F', 'ASZBND3G5UYJG', 'A1WVNDH62P2UNZ', 'A2R1TM9CS8OAL', 'A21XQYRKFFHL4A', 'A2KSAAQBU5R0F6', 'A2RY4MK1FONYH1', 'A28GXI90JIF3I7', 'A1JFN2WUBMMI6K', 'A2WTOW5KR5GQCF', 'A1XVHV97ZVXRA4', 'A2HHWFGVV9UUC5', 'A3UQ5DF8VVD975', 'A1RV2LERVS0A4H', 'A32AM1ZLLNQF81', 'AWDU600NXZ26L', 'A2UM5VTQ1Q4TGU', 'A1SISJL5ST2PWH', 'A3MHYBS6PHJ5QG', 'A1YSBD5XW5UCR0', 'A39MKVROUZ1UWR', 'AFIK3VBMMX6G6', 'AAFDTSRFE14R3', 'A2CD4H68NVVC5A', 'A2Z750U1HCWVEE', 'A3APMO8WXVH1V0', 'A1LF2VKDYRKXZ9', 'A12WDL4PB927P6', 'A2ACDHSJLC41IV', 'A2QS8G463BJAUU', 'AY832D29HUURG', 'ADFKY1MOYP7P2', 'A7P3R1AIA4TVV', 'A1X84T4EFW04GZ', 'A3O5RKGH6VB19C', 'AFUZEIQF6FD30', 'A19278PENOWZPZ', 'A1VR1XQEQQXYUE', 'AYPOAY43REHC8', 'ACGHHDT7RY1AH', 'A1G34TESSXG1R8', 'A36FBIDN58N139', 'A2UU1PPOQC12SC', 'A13YOOKZFZJJ10', 'AN0JVAS4VR13F', 'A2GO3SYV3X3KE', 'AFM65NU0UXIGP', 'A3SWT9MJCQTORQ', 'A2BFFKEYMCBFWW', 'A2YD4XK9B1TBKL', 'A1GPAKHKT74GA4', 'ANQ0RLFEZ17W0', 'AQXRHIMQ7UK7O', 'A11FFJZ0C984W4', 'A3IGG3RX4HXUV9', 'A1A5X39XFG2PWH', 'A2WPKP73S4MBLK', 'A1AR0HVJQKTZER', 'A1PF01FF85HUY4', 'A394JO4NEPCY3M', 'A3V4AW6DGWBHDO', 'AMARSQRPRZ3TG', 'A3BHC8XH566T0Y', 'A23YOV169QAC2M', 'A1ETEW9WH37WDS', 'A2C0VTQOFYUP83', 'A2GA29WTMFW2W', 'A2N5O2OTCXM8Z4', 'A3VPK66FDCY78Q', 'A1IAMNSZB9U4Z1', 'A1RH69F7I73LRW', 'A3LA0JBSIW4MUI', 'A1R0NGPP4NGUTE', 'A2FMEIDYEIWJA8', 'A2W8TJXW68442D', 'A10GBO6PU2EI0K', 'A65FDBSWHLIVX', 'AN7VKUM6J7KMS', 'AZ8NBOTCBCLKG', 'A12ZO39VZ879ZS', 'A2YPG2YAUIRXES', 'A6F4S7L3OALOX', 'A3PN17H3QT51O', 'A2H4HO2XNNKV0O', 'A1HKCTDOTL6C9I', 'A122LRCSBAD6DC', 'A3FF1VSY7QIDWB', 'A1EQAFAN71Z0SK', 'A1QAIJ6OOQH3RL', 'A2ZL7BZA7RRMIN', 'A2JH4QBXGHJ47M', 'A3T2YYWJM6NRH9', 'A2BA9Y6VGW6WS1', 'AXMPSUNKUBEIL', 'AKOOC3BXIS15H', 'A3VMPVPOWNWUZC', 'ANNEV2BKIR8GK', 'A1AJ2G7JXXJ8UJ', 'ATN07GFZ7CKKU', 'A1N53V41FMCR7Q', 'A1S1O9ZCONEGE3', 'A35J1SKAW9FTJX', 'A1Z7XZCHIRHCBY', 'AAE1COF4E8740', 'A1MN2PWAV10VAB', 'A194WFDN5KXOXW', 'A1OVGCI9KUL4MI', 'A3MYPYBVHX7FQ2', 'A2ZIATVCA2NKPF', 'AUWE1BE6SGVHA', 'A3FKDL7CAES4LP', 'A2XW91EHCZ3T3V', 'A3GHPWV5J07UE8', 'A2FBT0BSFOV91D', 'A2RWLFIP23FZA7', 'A28IFWT5CR33RZ', 'A1OR6CKL5VWQ6D', 'A2CM4LDI7GNDNW', 'A1B7GQTH9YG04X', 'A2XPDRWL1KCWDM', 'A3B1P3B6X3AM2B', 'A7WCYUB783QNB', 'A32XQQQSFXCMP2', 'AQ7LRYYA7NRWR', 'A9LSEP71DNP4O', 'A1E8ZYOQSGKTP8', 'A53S7J4JGWG38', 'A72QIS9A5W4K6', 'A38F7I5ZZ4JOLF', 'A1H5I0BGVIY5CC', 'A19M1TGTL9HKHB', 'A3DUL880Y08G95', 'A2YE7NBCK14VAQ', 'ALT6TQMZJKSFQ', 'A29CB19F64GGIF', 'A1U2A42K8FV3RA', 'A01913642LJT7L89AFM2F', 'A2ZGRB5DEGOG9C', 'A3UX3RPWUKNVX', 'AY5OS6NZWVX22', 'A309E9ZYRIL8X2', 'AHI4FABU79VTP', 'A82Q1HS5CPZ5I', 'A1V4IGF2OD43ZT', 'ALDKDKRBR4LXD', 'A2YT9HJEU5KTYM', 'ALC46VKZ9C5TR', 'AGSSG1SWNWGHD', 'A15J42M6EC7Y1K', 'A3CTXNQ2GXIQSP', 'AZNY7CZTSQRXS', 'ALTMSSCYKZS8Z', 'A1USR9JCAMDGM3', 'A3BLJ6QSDTZC9U', 'A2E609OEGN4D6H', 'A3PHU8OHA8PONE', 'A1MFQBQRNANOD6', 'A1NIKHUA79SWGD', 'A1URCANKSOR247', 'A1PAPIJ1ZCEQBD', 'A22DF0EWILGRLV', 'A1M6Y1W2PTXFN1', 'A3VDG4N48AVYGQ', 'A3BU6QQUL1R5OT', 'A3RUQO10JKY9NT', 'AZDRKFTM4LARP', 'A28J7H4TH29DC3', 'A2T1JYVKKQQHH9', 'A1DS0M9DLHAISJ', 'A10IZOZGBH42K', 'A2M3FPQF852HW4', 'A1SNDQPYVHYPK9', 'A16335MOISDG1F']\n"
     ]
    }
   ],
   "source": [
    "#Special search file to get all the model names\n",
    "from glob import glob\n",
    "GameNb=15\n",
    "Data_file = \"Data\"\n",
    "Preproc_file = \"Preproc\"\n",
    "\n",
    "my_game_search = '../'+Data_file+'/*_1.evt'\n",
    "paths = glob(my_game_search)\n",
    "NbPaths = len(paths)\n",
    "#print(paths)\n",
    "names = [paths[i].split('/')[-1].split('.')[0].split('_')[0] for i in range(NbPaths)]\n",
    "SubjNb = len(names)\n",
    "print(\"There are %i human subjects in this file\"%SubjNb)\n",
    "print(names)\n",
    "#names contains all the names of all the model subjects"
   ]
  },
  {
   "cell_type": "code",
   "execution_count": 6,
   "metadata": {},
   "outputs": [],
   "source": [
    "#This cell is creating *.evts, *.holds and *.holrel files\n",
    "for subj in range(SubjNb):\n",
    "    currPlayer = \"../Data/\"+names[subj] \n",
    "    Player_T = \"../Preproc/\"+names[subj] \n",
    "    for k in range(GameNb):\n",
    "        name1 = currPlayer+\"_\"+str(k+1)+\".evt\"\n",
    "        name2 = Player_T+\"_\"+str(k+1)+\".evts\"\n",
    "        name3 = Player_T+\"_\"+str(k+1)+\".holds\"\n",
    "        name4 = Player_T+\"_\"+str(k+1)+\".holrel\"\n",
    "        f_toOpen = open(name1,\"r\") \n",
    "        lines = [line.rstrip().split(\"\\t\") for line in f_toOpen] \n",
    "        ff_toWrite = open(name2,\"w+\")\n",
    "        for line in lines:\n",
    "            toPrint_baseline = line[1]+\"\\t\"+line[2]\n",
    "            if(not line[3]=='[]'):\n",
    "                #print(line[3])\n",
    "                evts = line[3][1:-1].rstrip().split(\",\")\n",
    "                for evt in evts:\n",
    "                    toPrint = toPrint_baseline+\"\\t\"+evt.replace(\"\\\"\",\"\").replace(\" \",\"\")+\"\\n\"\n",
    "                    ff_toWrite.write(toPrint)\n",
    "        ff_toWrite.close()\n",
    "        f_toOpen.close() #close the file\n",
    "        f_toOpen = open(name2,\"r\") \n",
    "        lines = [line.rstrip().split(\"\\t\") for line in f_toOpen] \n",
    "        ff_toWrite = open(name3,\"w+\")\n",
    "        for line in lines:\n",
    "            if(line[2][:4]==\"hold\" or line[2]==\"fortress-destroyed\" or line[2]==\"fortress-respawn\" or line[2]==\"random-rotation\"):\n",
    "                ToWrite = line[0]+\"\\t\"+line[1]+\"\\t\"+line[2]+\"\\n\"\n",
    "                ff_toWrite.write(ToWrite)\n",
    "        ff_toWrite.close()\n",
    "        f_toOpen.close() #close the file\n",
    "        f_toOpen = open(name2,\"r\") \n",
    "        lines = [line.rstrip().split(\"\\t\") for line in f_toOpen] \n",
    "        ff_toWrite = open(name4,\"w+\")\n",
    "        for line in lines:\n",
    "            if(line[2][:4]==\"hold\" or line[2][:7]==\"release\" or line[2]==\"fortress-destroyed\" or line[2]==\"fortress-respawn\" or line[2]==\"random-rotation\"):\n",
    "                ToWrite = line[0]+\"\\t\"+line[1]+\"\\t\"+line[2]+\"\\n\"\n",
    "                ff_toWrite.write(ToWrite)\n",
    "        ff_toWrite.close()\n",
    "        f_toOpen.close() #close the file"
   ]
  },
  {
   "cell_type": "code",
   "execution_count": null,
   "metadata": {},
   "outputs": [],
   "source": []
  },
  {
   "cell_type": "code",
   "execution_count": null,
   "metadata": {},
   "outputs": [],
   "source": []
  }
 ],
 "metadata": {
  "kernelspec": {
   "display_name": "Python 3",
   "language": "python",
   "name": "python3"
  },
  "language_info": {
   "codemirror_mode": {
    "name": "ipython",
    "version": 3
   },
   "file_extension": ".py",
   "mimetype": "text/x-python",
   "name": "python",
   "nbconvert_exporter": "python",
   "pygments_lexer": "ipython3",
   "version": "3.8.5"
  }
 },
 "nbformat": 4,
 "nbformat_minor": 2
}
