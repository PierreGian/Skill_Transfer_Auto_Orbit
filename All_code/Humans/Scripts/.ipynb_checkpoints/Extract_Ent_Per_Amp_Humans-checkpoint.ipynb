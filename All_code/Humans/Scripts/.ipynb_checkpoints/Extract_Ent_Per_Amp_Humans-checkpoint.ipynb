{
 "cells": [
  {
   "cell_type": "code",
   "execution_count": 9,
   "metadata": {},
   "outputs": [],
   "source": [
    "import numpy as np\n",
    "import matplotlib.pyplot as plt\n",
    "import pylab\n",
    "import scipy.fftpack\n",
    "import statsmodels as sm\n",
    "import pandas as pd\n",
    "from statsmodels.tsa.stattools import acf, pacf\n",
    "from scipy.signal import argrelextrema\n",
    "import os"
   ]
  },
  {
   "cell_type": "code",
   "execution_count": 10,
   "metadata": {},
   "outputs": [
    {
     "name": "stdout",
     "output_type": "stream",
     "text": [
      "['name', 'condition1', 'condition2', '1', '2', '3', '4', '5', '6', '7', '8', '9', '10', '11', '12', '13', '14', '15', 'Average']\n",
      "['A14JGIN4ZXXLGD', 'medium', 'fast', '376', '1340', '1732', '1356', '2344', '90', '276', '0', '1054', '738', '1932', '2348', '1708', '2112', '1948', '1290.266667']\n",
      "There are 13 human subjects in this file\n",
      "['A1URCANKSOR247', 'A28GXI90JIF3I7', 'AUWE1BE6SGVHA', 'A1AJ2G7JXXJ8UJ', 'AZDRKFTM4LARP', 'A3RUQO10JKY9NT', 'A1V4IGF2OD43ZT', 'AY832D29HUURG', 'A1VR1XQEQQXYUE', 'A3O5RKGH6VB19C', 'A2BA9Y6VGW6WS1', 'ANQ0RLFEZ17W0', 'A1PF01FF85HUY4']\n",
      "[('medium', 'medium'), ('medium', 'medium'), ('medium', 'medium'), ('medium', 'medium'), ('medium', 'medium'), ('medium', 'medium'), ('medium', 'medium'), ('medium', 'medium'), ('medium', 'medium'), ('medium', 'medium'), ('medium', 'medium'), ('medium', 'medium'), ('medium', 'medium')]\n",
      "13\n"
     ]
    }
   ],
   "source": [
    "#Special search file to get all the human names\n",
    "from glob import glob\n",
    "GameNb=15\n",
    "N = 180\n",
    "Data_file = 'Data'\n",
    "Preproc_file = 'Preproc'\n",
    "Output_file = 'Outputs'\n",
    "Name_Output = 'ALL_Humans'\n",
    "######################\n",
    "\n",
    "Allnames=[j for j in range(N)]\n",
    "Allconds=[('','') for j in range(N)]\n",
    "SeqFile = '../Scripts/Summary_Scores_ALL.txt'\n",
    "f_toOpen = open(SeqFile,\"r\") \n",
    "lines = [line.rstrip().split(\"\\t\") for line in f_toOpen]\n",
    "cats = lines[0]\n",
    "print(cats)\n",
    "print(lines[1])\n",
    "idx=0\n",
    "for ii in np.arange(1,len(lines)):\n",
    "    cur_line=lines[ii]\n",
    "    Allnames[idx] = cur_line[0]\n",
    "    Allconds[idx] = (cur_line[1],cur_line[2])\n",
    "    idx=idx+1\n",
    "\n",
    "#Special search file to get all the human names and the conditions they were assigned to\n",
    "from glob import glob\n",
    "GameNb=15\n",
    "Data_file = \"Data\"\n",
    "Preproc_file = \"Preproc\"\n",
    "\n",
    "my_game_search = '../'+Preproc_file+'/*_1.evts'\n",
    "paths = glob(my_game_search)\n",
    "NbPaths = len(paths)\n",
    "#print(paths)\n",
    "names = [paths[i].split('/')[-1].split('.')[0].split('_')[0] for i in range(NbPaths)]\n",
    "SubjNb = len(names)\n",
    "conds=[('','') for j in range(SubjNb)]\n",
    "print(\"There are %i human subjects in this file\"%SubjNb)\n",
    "print(names)\n",
    "for i,nn in enumerate(names):\n",
    "    for j,aa in enumerate(Allnames):\n",
    "        if(nn==aa):\n",
    "            conds[i]=Allconds[j]\n",
    "print(conds)\n",
    "print(len(names))"
   ]
  },
  {
   "cell_type": "code",
   "execution_count": 11,
   "metadata": {},
   "outputs": [
    {
     "name": "stdout",
     "output_type": "stream",
     "text": [
      "13\n",
      "15\n"
     ]
    }
   ],
   "source": [
    "from glob import glob\n",
    "Letters = [[[] for gg in range(GameNb)] for i in range(SubjNb)]\n",
    "IPI = [[[] for gg in range(GameNb)] for i in range(SubjNb)]\n",
    "\n",
    "print(len(IPI)) #number of humans\n",
    "print(len(IPI[1])) #number of games\n",
    "\n",
    "for subj,name in enumerate(names):\n",
    "    path_cyc = '../Game_Cycles/NoRotations/'\n",
    "    for gg in range(GameNb):\n",
    "        #1) Get the right condition corresponding to the game number\n",
    "        cur_cond = ''\n",
    "        if(gg>=5 and gg<10):\n",
    "            cur_cond = conds[subj][1]\n",
    "        else:\n",
    "            cur_cond = conds[subj][0]\n",
    "        #print(cur_cond)\n",
    "        #2) Get the right name corresponding to the no rotations game cycles\n",
    "        cur_name = names[subj]+\"_\"+cur_cond+'_Game'+str(gg+1)+'_NoRot*.txt'\n",
    "        my_game_search2 = path_cyc+cur_name\n",
    "        #print(my_game_search2)\n",
    "        cur_paths = glob(my_game_search2)\n",
    "        #print(cur_paths)\n",
    "        Listfiles = [cur_paths[i].split('/')[-1] for i in range(len(cur_paths))]\n",
    "        if(not(not Listfiles)): #if the returned list is not empty\n",
    "            list_len = len(Listfiles)\n",
    "            cur_arrLets = []\n",
    "            cur_arrIPIs = []\n",
    "            cur_arrgames = -1\n",
    "            for cc in np.arange(1,list_len+1):\n",
    "                SeqFile = path_cyc+names[subj]+'_'+cur_cond+'_Game'+str(gg+1)+'_NoRot'+str(cc)+'.txt'\n",
    "                f_toOpen = open(SeqFile,\"r\") \n",
    "                lines = [line.rstrip().split(\"\\t\") for line in f_toOpen]\n",
    "                cur_Letters = []\n",
    "                cur_IPIs = []\n",
    "                for ii in np.arange(1,len(lines)): #append letters and IPIs starting at index 1\n",
    "                    cur_Letters.append(lines[ii][0])\n",
    "                    cur_IPIs.append(lines[ii][1])\n",
    "                cur_arrLets.append(''.join(cur_Letters))\n",
    "                cur_arrIPIs.append(cur_IPIs)\n",
    "            Letters[subj][gg]=cur_arrLets\n",
    "            IPI[subj][gg].append(cur_arrIPIs)"
   ]
  },
  {
   "cell_type": "code",
   "execution_count": 12,
   "metadata": {
    "scrolled": false
   },
   "outputs": [
    {
     "name": "stdout",
     "output_type": "stream",
     "text": [
      "[]\n",
      "[]\n",
      "A28GXI90JIF3I7\n"
     ]
    }
   ],
   "source": [
    "print(IPI[1][14])\n",
    "print(Letters[1][14])\n",
    "print(names[1])"
   ]
  },
  {
   "cell_type": "code",
   "execution_count": 13,
   "metadata": {},
   "outputs": [],
   "source": [
    "#Step 2: Entropy results\n",
    "def Entropy(perc):\n",
    "    e=np.sum(-perc*np.log2(perc))\n",
    "    return e"
   ]
  },
  {
   "cell_type": "code",
   "execution_count": 14,
   "metadata": {},
   "outputs": [],
   "source": [
    "Letters3 = [a+b+c for a in 'LRF' for b in 'LRF' for c in 'LRF']\n",
    "ns_pairs = np.ones((SubjNb,GameNb,len(Letters3))) #Initialize vector of fires with all ones\n",
    "probs_pairs = np.ones((SubjNb,GameNb,len(Letters3))) #make sure the frequency is never 0 (Laplace smoothing)\n",
    "ent_games = np.ones((SubjNb,GameNb))\n",
    "for sub in range(SubjNb): #subjects\n",
    "    for gg in range(GameNb): #games\n",
    "        for seq in Letters[sub][gg]: \n",
    "            ns_pairs[sub][gg] = np.add(ns_pairs[sub][gg],np.array([seq.count(ll) for ll in Letters3],dtype=float))\n",
    "        probs_pairs[sub][gg] = ns_pairs[sub][gg]/np.sum(ns_pairs[sub][gg]) #Vector divided by the sum of the probabilities\n",
    "        ent_games[sub][gg] = Entropy(probs_pairs[sub][gg]) #Calculate Entropy next"
   ]
  },
  {
   "cell_type": "code",
   "execution_count": 15,
   "metadata": {},
   "outputs": [
    {
     "name": "stdout",
     "output_type": "stream",
     "text": [
      "[0.03703704 0.03703704 0.03703704 0.03703704 0.03703704 0.03703704\n",
      " 0.03703704 0.03703704 0.03703704 0.03703704 0.03703704 0.03703704\n",
      " 0.03703704 0.03703704 0.03703704 0.03703704 0.03703704 0.03703704\n",
      " 0.03703704 0.03703704 0.03703704 0.03703704 0.03703704 0.03703704\n",
      " 0.03703704 0.03703704 0.03703704]\n",
      "4.754887502163469\n"
     ]
    }
   ],
   "source": [
    "print(probs_pairs[1][14])\n",
    "print(ent_games[1][14])"
   ]
  },
  {
   "cell_type": "code",
   "execution_count": 16,
   "metadata": {},
   "outputs": [],
   "source": [
    "#Now deal with autocorrelation measures\n",
    "Lefts = [[[] for gg in range(GameNb)] for i in range(SubjNb)]\n",
    "Rights = [[[] for gg in range(GameNb)] for i in range(SubjNb)]\n",
    "Fires = [[[] for gg in range(GameNb)] for i in range(SubjNb)]"
   ]
  },
  {
   "cell_type": "code",
   "execution_count": 17,
   "metadata": {},
   "outputs": [],
   "source": [
    "#Looping through all the subjects\n",
    "numlags = 100\n",
    "for subj,name in enumerate(names):\n",
    "    for el,gg in enumerate(range(GameNb)):\n",
    "        #1) Get the right condition corresponding to the game number\n",
    "        cur_cond = ''\n",
    "        if(gg>=5 and gg<10):\n",
    "            cur_cond = conds[subj][1]\n",
    "        else:\n",
    "            cur_cond = conds[subj][0]\n",
    "        #print(cur_cond)\n",
    "        #2) Get the right name corresponding to the no rotations game cycles\n",
    "        path_cyc = '../Discrete_Game_Cycles/NoRotations/'\n",
    "        cur_name = names[subj]+\"_\"+cur_cond+'_Game'+str(gg+1)+'_NoRot*.dists'\n",
    "        my_game_search2 = path_cyc+cur_name\n",
    "        cur_paths = glob(my_game_search2)\n",
    "        Listfiles = [cur_paths[i].split('/')[-1] for i in range(len(cur_paths))]\n",
    "        #print(Listfiles)\n",
    "        if(not(not Listfiles)): #if the returned list is not empty\n",
    "            list_len = len(Listfiles)\n",
    "            for cc in np.arange(1,list_len+1): #for each game cycle, append a vector\n",
    "                SeqFile = path_cyc+names[subj]+'_'+cur_cond+'_Game'+str(gg+1)+'_NoRot'+str(cc)+'.dists'\n",
    "                if(not (os.stat(SeqFile).st_size == 0)): #Make sure file is not empty\n",
    "                    f_toOpen = open(SeqFile,\"r\") \n",
    "                    lines = [line.rstrip().split(\",\") for line in f_toOpen]\n",
    "                    cur_Lefts = [int(ee) for ee in lines[0]]\n",
    "                    cur_Rights = [int(ee) for ee in lines[1]]\n",
    "                    cur_Fires = [int(ee) for ee in lines[2]]\n",
    "                    Lefts[subj][el].append(cur_Lefts)\n",
    "                    Rights[subj][el].append(cur_Rights)\n",
    "                    if(len(cur_Fires)>=numlags):\n",
    "                        Fires[subj][el].append(cur_Fires)"
   ]
  },
  {
   "cell_type": "code",
   "execution_count": 18,
   "metadata": {
    "scrolled": true
   },
   "outputs": [
    {
     "name": "stdout",
     "output_type": "stream",
     "text": [
      "../Discrete_Game_Cycles/NoRotations/A1PF01FF85HUY4_medium_Game15_NoRot9.dists\n"
     ]
    }
   ],
   "source": [
    "#If there is a problem/error with the discrete game cycle file in the cell above, this cell allows one to debug\n",
    "print(SeqFile)"
   ]
  },
  {
   "cell_type": "code",
   "execution_count": 19,
   "metadata": {},
   "outputs": [],
   "source": [
    "#Second, create loop\n",
    "All_ACFs = [[[] for gg in range(GameNb)] for i in range(SubjNb)] #Initialize autocorrelation function\n",
    "numlags = 100\n",
    "all_pers = np.zeros((SubjNb,GameNb)) #Periodicities\n",
    "all_amps = np.zeros((SubjNb,GameNb)) #Amplitudes\n",
    "for subj in range(SubjNb):\n",
    "    for nn in range(GameNb):\n",
    "        cur_Fires = Fires[subj][nn]\n",
    "        if(cur_Fires==[]):\n",
    "            all_pers[subj][nn] = 0.0\n",
    "            all_amps[subj][nn] = 0.0\n",
    "            continue\n",
    "        n_cyc = len(cur_Fires)\n",
    "        Per_list = []\n",
    "        Amp_list = []\n",
    "        for cc in range(n_cyc):\n",
    "            cur_IPIs = cur_Fires[cc]\n",
    "            data_fr = pd.DataFrame(\n",
    "                {\n",
    "                    \"event\":np.arange(1,len(cur_IPIs)+1),\n",
    "                    \"IPIs\":cur_IPIs,\n",
    "                }\n",
    "            )\n",
    "            if(cur_IPIs==[]):\n",
    "                continue\n",
    "            series = data_fr['IPIs']\n",
    "            lag_acf = acf(series, nlags=numlags)\n",
    "            All_ACFs[subj][nn].append(lag_acf)\n",
    "            len_lag = numlags+1\n",
    "            per = 0\n",
    "            amp = 0\n",
    "            if(len(lag_acf)==len_lag):\n",
    "                vec = np.array(lag_acf)\n",
    "                max_all = argrelextrema(vec, np.greater)[0]\n",
    "                amp_max = np.array([vec[ee] for ee in max_all])\n",
    "                for iii,mm in enumerate(amp_max):\n",
    "                    if(mm>0):\n",
    "                        amp=mm\n",
    "                        per=max_all[iii]*16\n",
    "                        break\n",
    "                Per_list.append(per)\n",
    "                Amp_list.append(amp)\n",
    "        all_pers[subj][nn] = np.mean(np.array(Per_list))\n",
    "        all_amps[subj][nn] = np.mean(np.array(Amp_list))"
   ]
  },
  {
   "cell_type": "code",
   "execution_count": 20,
   "metadata": {},
   "outputs": [],
   "source": [
    "#Now printing the Excel version of the table to help plot results\n",
    "#1) Periodicity\n",
    "path = '../'+Output_file+'/'\n",
    "SeqFile = path+'Periodicity_'+Name_Output+'_Transfer.txt'\n",
    "ff_toWrite = open(SeqFile,\"w+\")\n",
    "ToWrite = \"ModelNb\\t1\\t2\\t3\\t4\\t5\\t6\\t7\\t8\\t9\\t10\\t11\\t12\\t13\\t14\\t15\\n\"\n",
    "ff_toWrite.write(ToWrite)\n",
    "for subj in range(SubjNb):\n",
    "    ToWrite = names[subj]\n",
    "    for nn in range(GameNb):\n",
    "        cGame = str(nn+1)\n",
    "        Per = str(all_pers[subj][nn])\n",
    "        ToWrite=ToWrite+'\\t'+Per\n",
    "    ToWrite=ToWrite+\"\\n\"\n",
    "    ff_toWrite.write(ToWrite)\n",
    "ff_toWrite.close()\n",
    "#2) Amplitude\n",
    "SeqFile = path+'Amplitude_'+Name_Output+'_Transfer.txt'\n",
    "ff_toWrite = open(SeqFile,\"w+\")\n",
    "ToWrite = \"Subject\\t1\\t2\\t3\\t4\\t5\\t6\\t7\\t8\\t9\\t10\\t11\\t12\\t13\\t14\\t15\\n\"\n",
    "ff_toWrite.write(ToWrite)\n",
    "for subj in range(SubjNb):\n",
    "    ToWrite = names[subj]\n",
    "    for nn in range(GameNb):\n",
    "        cGame = str(nn+1)\n",
    "        Per = str(all_amps[subj][nn])\n",
    "        ToWrite=ToWrite+'\\t'+Per\n",
    "    ToWrite=ToWrite+\"\\n\"\n",
    "    ff_toWrite.write(ToWrite)\n",
    "ff_toWrite.close()"
   ]
  },
  {
   "cell_type": "code",
   "execution_count": null,
   "metadata": {},
   "outputs": [],
   "source": [
    "#3) Entropy\n",
    "SeqFile = path+'Entropy_'+Name_Output+'_Transfer.txt'\n",
    "ff_toWrite = open(SeqFile,\"w+\")\n",
    "ToWrite = \"Subject\\t1\\t2\\t3\\t4\\t5\\t6\\t7\\t8\\t9\\t10\\t11\\t12\\t13\\t14\\t15\\n\"\n",
    "ff_toWrite.write(ToWrite)\n",
    "for subj in range(SubjNb):\n",
    "    ToWrite = names[subj]\n",
    "    for nn in range(GameNb):\n",
    "        cGame = str(nn+1)\n",
    "        Per = str(ent_games[subj][nn])\n",
    "        ToWrite=ToWrite+'\\t'+Per\n",
    "    ToWrite=ToWrite+\"\\n\"\n",
    "    ff_toWrite.write(ToWrite)\n",
    "ff_toWrite.close()"
   ]
  },
  {
   "cell_type": "code",
   "execution_count": null,
   "metadata": {},
   "outputs": [],
   "source": []
  }
 ],
 "metadata": {
  "kernelspec": {
   "display_name": "Python 3",
   "language": "python",
   "name": "python3"
  },
  "language_info": {
   "codemirror_mode": {
    "name": "ipython",
    "version": 3
   },
   "file_extension": ".py",
   "mimetype": "text/x-python",
   "name": "python",
   "nbconvert_exporter": "python",
   "pygments_lexer": "ipython3",
   "version": "3.8.5"
  }
 },
 "nbformat": 4,
 "nbformat_minor": 2
}
