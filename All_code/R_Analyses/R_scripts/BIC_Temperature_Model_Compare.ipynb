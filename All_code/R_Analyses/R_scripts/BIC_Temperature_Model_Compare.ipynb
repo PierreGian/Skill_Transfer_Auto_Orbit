{
 "cells": [
  {
   "cell_type": "code",
   "execution_count": 1,
   "metadata": {},
   "outputs": [
    {
     "name": "stderr",
     "output_type": "stream",
     "text": [
      "Loading required package: Matrix\n",
      "\n",
      "\n",
      "Attaching package: ‘dplyr’\n",
      "\n",
      "\n",
      "The following objects are masked from ‘package:stats’:\n",
      "\n",
      "    filter, lag\n",
      "\n",
      "\n",
      "The following objects are masked from ‘package:base’:\n",
      "\n",
      "    intersect, setdiff, setequal, union\n",
      "\n",
      "\n",
      "\n",
      "Attaching package: ‘MASS’\n",
      "\n",
      "\n",
      "The following object is masked from ‘package:dplyr’:\n",
      "\n",
      "    select\n",
      "\n",
      "\n",
      "Loading required package: coda\n",
      "\n",
      "************\n",
      "Welcome to BayesFactor 0.9.12-4.2. If you have questions, please contact Richard Morey (richarddmorey@gmail.com).\n",
      "\n",
      "Type BFManual() to open the manual.\n",
      "************\n",
      "\n",
      "Loading required package: carData\n",
      "\n",
      "Registered S3 methods overwritten by 'car':\n",
      "  method                          from\n",
      "  influence.merMod                lme4\n",
      "  cooks.distance.influence.merMod lme4\n",
      "  dfbeta.influence.merMod         lme4\n",
      "  dfbetas.influence.merMod        lme4\n",
      "\n",
      "\n",
      "Attaching package: ‘car’\n",
      "\n",
      "\n",
      "The following object is masked from ‘package:dplyr’:\n",
      "\n",
      "    recode\n",
      "\n",
      "\n",
      "\n",
      "Attaching package: ‘lmerTest’\n",
      "\n",
      "\n",
      "The following object is masked from ‘package:lme4’:\n",
      "\n",
      "    lmer\n",
      "\n",
      "\n",
      "The following object is masked from ‘package:stats’:\n",
      "\n",
      "    step\n",
      "\n",
      "\n",
      "------------------------------------------------------------------------------\n",
      "\n",
      "You have loaded plyr after dplyr - this is likely to cause problems.\n",
      "If you need functions from both plyr and dplyr, please load plyr first, then dplyr:\n",
      "library(plyr); library(dplyr)\n",
      "\n",
      "------------------------------------------------------------------------------\n",
      "\n",
      "\n",
      "Attaching package: ‘plyr’\n",
      "\n",
      "\n",
      "The following objects are masked from ‘package:dplyr’:\n",
      "\n",
      "    arrange, count, desc, failwith, id, mutate, rename, summarise,\n",
      "    summarize\n",
      "\n",
      "\n",
      "\n",
      "Attaching package: ‘rstatix’\n",
      "\n",
      "\n",
      "The following objects are masked from ‘package:plyr’:\n",
      "\n",
      "    desc, mutate\n",
      "\n",
      "\n",
      "The following object is masked from ‘package:MASS’:\n",
      "\n",
      "    select\n",
      "\n",
      "\n",
      "The following object is masked from ‘package:stats’:\n",
      "\n",
      "    filter\n",
      "\n",
      "\n",
      "\n",
      "Attaching package: ‘ggpubr’\n",
      "\n",
      "\n",
      "The following object is masked from ‘package:plyr’:\n",
      "\n",
      "    mutate\n",
      "\n",
      "\n",
      "corrplot 0.84 loaded\n",
      "\n"
     ]
    }
   ],
   "source": [
    "library(\"lme4\")\n",
    "library(\"ggplot2\")\n",
    "library(\"dplyr\")\n",
    "library(MASS)\n",
    "library(\"BayesFactor\")\n",
    "library(\"car\")\n",
    "library(\"scales\")\n",
    "library(\"lmerTest\")\n",
    "library(\"MuMIn\")\n",
    "library(\"plyr\")\n",
    "library(\"rstatix\")\n",
    "library(\"ggpubr\")\n",
    "library(\"knitr\")\n",
    "library(\"corrplot\")\n",
    "library(\"RColorBrewer\")"
   ]
  },
  {
   "cell_type": "code",
   "execution_count": 2,
   "metadata": {},
   "outputs": [],
   "source": [
    "#Load the data => Here, we are filtering the cases in which subjects had a MuIFI of 0\n",
    "FinalPath<-'../ToInput/R_HumMod_MS17_notemp.txt'\n",
    "data <- read.delim(FinalPath, sep=\"\\t\", header=T, stringsAsFactors=F)\n",
    "NoTemp_N <- nrow(data %>% filter(Temperature==\"no\"))\n",
    "YesTemp_N <- nrow(data %>% filter(Temperature==\"yes\"))\n",
    "data <- data %>% filter(!Amplitude==0)\n",
    "dataTest <- data\n",
    "data$lCV <- log(data$CV)"
   ]
  },
  {
   "cell_type": "code",
   "execution_count": 3,
   "metadata": {},
   "outputs": [
    {
     "data": {
      "text/plain": [
       "       \n",
       "         MMM  MSM  SMS  SSS\n",
       "  Human  273  286  282  273\n",
       "  no    1499 1490 1495 1499\n",
       "  yes   1499 1491 1498 1496"
      ]
     },
     "metadata": {},
     "output_type": "display_data"
    }
   ],
   "source": [
    "table(data$Temperature, data$GameSpeed)"
   ]
  },
  {
   "cell_type": "code",
   "execution_count": 4,
   "metadata": {},
   "outputs": [],
   "source": [
    "## Gives count, mean, standard deviation, standard error of the mean, and confidence interval (default 95%).\n",
    "##   data: a data frame.\n",
    "##   measurevar: the name of a column that contains the variable to be summariezed\n",
    "##   groupvars: a vector containing names of columns that contain grouping variables\n",
    "##   na.rm: a boolean that indicates whether to ignore NA's\n",
    "##   conf.interval: the percent range of the confidence interval (default is 95%)\n",
    "summarySE <- function(data=NULL, measurevar, groupvars=NULL, na.rm=FALSE,\n",
    "                      conf.interval=.95, .drop=TRUE) {\n",
    "    library(plyr)\n",
    "\n",
    "    # New version of length which can handle NA's: if na.rm==T, don't count them\n",
    "    length2 <- function (x, na.rm=FALSE) {\n",
    "        if (na.rm) sum(!is.na(x))\n",
    "        else       length(x)\n",
    "    }\n",
    "\n",
    "    # This does the summary. For each group's data frame, return a vector with\n",
    "    # N, mean, and sd\n",
    "    datac <- ddply(data, groupvars, .drop=.drop,\n",
    "      .fun = function(xx, col) {\n",
    "        c(N    = length2(xx[[col]], na.rm=na.rm),\n",
    "          mean = mean   (xx[[col]], na.rm=na.rm),\n",
    "          sd   = sd     (xx[[col]], na.rm=na.rm)\n",
    "        )\n",
    "      },\n",
    "      measurevar\n",
    "    )\n",
    "\n",
    "    # Rename the \"mean\" column    \n",
    "    datac <- rename(datac, c(\"mean\" = measurevar))\n",
    "\n",
    "    datac$se <- datac$sd / sqrt(datac$N)  # Calculate standard error of the mean\n",
    "\n",
    "    # Confidence interval multiplier for standard error\n",
    "    # Calculate t-statistic for confidence interval: \n",
    "    # e.g., if conf.interval is .95, use .975 (above/below), and use df=N-1\n",
    "    ciMult <- qt(conf.interval/2 + .5, datac$N-1)\n",
    "    datac$ci <- datac$se * ciMult\n",
    "\n",
    "    return(datac)\n",
    "}"
   ]
  },
  {
   "cell_type": "code",
   "execution_count": 5,
   "metadata": {},
   "outputs": [],
   "source": [
    "# Multiple plot function\n",
    "#\n",
    "# ggplot objects can be passed in ..., or to plotlist (as a list of ggplot objects)\n",
    "# - cols:   Number of columns in layout\n",
    "# - layout: A matrix specifying the layout. If present, 'cols' is ignored.\n",
    "#\n",
    "# If the layout is something like matrix(c(1,2,3,3), nrow=2, byrow=TRUE),\n",
    "# then plot 1 will go in the upper left, 2 will go in the upper right, and\n",
    "# 3 will go all the way across the bottom.\n",
    "#\n",
    "multiplot <- function(..., plotlist=NULL, file, cols=1, layout=NULL) {\n",
    "  library(grid)\n",
    "\n",
    "  # Make a list from the ... arguments and plotlist\n",
    "  plots <- c(list(...), plotlist)\n",
    "\n",
    "  numPlots = length(plots)\n",
    "\n",
    "  # If layout is NULL, then use 'cols' to determine layout\n",
    "  if (is.null(layout)) {\n",
    "    # Make the panel\n",
    "    # ncol: Number of columns of plots\n",
    "    # nrow: Number of rows needed, calculated from # of cols\n",
    "    layout <- matrix(seq(1, cols * ceiling(numPlots/cols)),\n",
    "                    ncol = cols, nrow = ceiling(numPlots/cols))\n",
    "  }\n",
    "\n",
    " if (numPlots==1) {\n",
    "    print(plots[[1]])\n",
    "\n",
    "  } else {\n",
    "    # Set up the page\n",
    "    grid.newpage()\n",
    "    pushViewport(viewport(layout = grid.layout(nrow(layout), ncol(layout))))\n",
    "\n",
    "    # Make each plot, in the correct location\n",
    "    for (i in 1:numPlots) {\n",
    "      # Get the i,j matrix positions of the regions that contain this subplot\n",
    "      matchidx <- as.data.frame(which(layout == i, arr.ind = TRUE))\n",
    "\n",
    "      print(plots[[i]], vp = viewport(layout.pos.row = matchidx$row,\n",
    "                                      layout.pos.col = matchidx$col))\n",
    "    }\n",
    "  }\n",
    "}"
   ]
  },
  {
   "cell_type": "markdown",
   "metadata": {},
   "source": [
    "# Compute r and RMSE"
   ]
  },
  {
   "cell_type": "code",
   "execution_count": 6,
   "metadata": {},
   "outputs": [],
   "source": [
    "#RMSE function definition\n",
    "RMSE = function(mod, obs){\n",
    "  sqrt(mean((mod - obs)^2))\n",
    "}\n",
    "\n",
    "RSS = function(mod,obs){\n",
    "    sum((mod - obs)^2)\n",
    "}\n",
    "\n",
    "BIC = function(RSS,n,k){\n",
    "    n*log(RSS/n)+k*log(n)\n",
    "}\n",
    "\n",
    "#Filtered data set\n",
    "filt_data <- data %>% filter(!Temperature==\"yes\")"
   ]
  },
  {
   "cell_type": "code",
   "execution_count": 7,
   "metadata": {},
   "outputs": [
    {
     "data": {
      "text/html": [
       "311.93900315514"
      ],
      "text/latex": [
       "311.93900315514"
      ],
      "text/markdown": [
       "311.93900315514"
      ],
      "text/plain": [
       "[1] 311.939"
      ]
     },
     "metadata": {},
     "output_type": "display_data"
    },
    {
     "data": {
      "text/html": [
       "5838356.50136535"
      ],
      "text/latex": [
       "5838356.50136535"
      ],
      "text/markdown": [
       "5838356.50136535"
      ],
      "text/plain": [
       "[1] 5838357"
      ]
     },
     "metadata": {},
     "output_type": "display_data"
    }
   ],
   "source": [
    "#1) Performance results\n",
    "muTab<-aggregate(filt_data$Points, by=list(filt_data$Agent,filt_data$GameSpeed,filt_data$GameNb), FUN=mean)\n",
    "colnames(muTab)<-c(\"Agent\",\"GameSpeed\",\"GameNb\",\"Value\")\n",
    "H_Mat <- matrix(, nrow = 15, ncol = 4)\n",
    "for (i in 1:15)\n",
    "{\n",
    "    H_Mat[i,] <- muTab[which(muTab$Agent==\"Human\" & muTab$GameNb==i),]$Value\n",
    "}\n",
    "M_Mat <- matrix(, nrow = 15, ncol = 4)\n",
    "for (i in 1:15)\n",
    "{\n",
    "    M_Mat[i,] <- muTab[which(muTab$Agent==\"Model\" & muTab$GameNb==i),]$Value\n",
    "}\n",
    "colnames(H_Mat) <- c(\"MMM\",\"MSM\",\"SMS\",\"SSS\")\n",
    "rownames(H_Mat) <- 1:15\n",
    "colnames(M_Mat) <- c(\"MMM\",\"MSM\",\"SMS\",\"SSS\")\n",
    "rownames(M_Mat) <- 1:15\n",
    "\n",
    "H_vec <- c(H_Mat)\n",
    "M_vec <- c(M_Mat)\n",
    "Perf_r <- cor(H_vec,M_vec,method = \"pearson\")\n",
    "Perf_RMSE <- RMSE(M_vec,H_vec)\n",
    "Perf_RSS <- RSS(M_vec,H_vec)\n",
    "Perf_RMSE\n",
    "Perf_RSS"
   ]
  },
  {
   "cell_type": "code",
   "execution_count": 8,
   "metadata": {},
   "outputs": [
    {
     "data": {
      "text/html": [
       "0.140778431806633"
      ],
      "text/latex": [
       "0.140778431806633"
      ],
      "text/markdown": [
       "0.140778431806633"
      ],
      "text/plain": [
       "[1] 0.1407784"
      ]
     },
     "metadata": {},
     "output_type": "display_data"
    },
    {
     "data": {
      "text/html": [
       "1.18911401171609"
      ],
      "text/latex": [
       "1.18911401171609"
      ],
      "text/markdown": [
       "1.18911401171609"
      ],
      "text/plain": [
       "[1] 1.189114"
      ]
     },
     "metadata": {},
     "output_type": "display_data"
    }
   ],
   "source": [
    "#2) Entropy results\n",
    "muTab<-aggregate(filt_data$Entropy, by=list(filt_data$Agent,filt_data$GameSpeed,filt_data$GameNb), FUN=mean)\n",
    "colnames(muTab)<-c(\"Agent\",\"GameSpeed\",\"GameNb\",\"Value\")\n",
    "H_Mat <- matrix(, nrow = 15, ncol = 4)\n",
    "for (i in 1:15)\n",
    "{\n",
    "    H_Mat[i,] <- muTab[which(muTab$Agent==\"Human\" & muTab$GameNb==i),]$Value\n",
    "}\n",
    "M_Mat <- matrix(, nrow = 15, ncol = 4)\n",
    "for (i in 1:15)\n",
    "{\n",
    "    M_Mat[i,] <- muTab[which(muTab$Agent==\"Model\" & muTab$GameNb==i),]$Value\n",
    "}\n",
    "colnames(H_Mat) <- c(\"MMM\",\"MSM\",\"SMS\",\"SSS\")\n",
    "rownames(H_Mat) <- 1:15\n",
    "colnames(M_Mat) <- c(\"MMM\",\"MSM\",\"SMS\",\"SSS\")\n",
    "rownames(M_Mat) <- 1:15\n",
    "\n",
    "H_vec <- c(H_Mat)\n",
    "M_vec <- c(M_Mat)\n",
    "Ent_r <- cor(H_vec,M_vec,method = \"pearson\")\n",
    "Ent_RMSE <- RMSE(M_vec,H_vec)\n",
    "Ent_RSS <- RSS(M_vec,H_vec)\n",
    "Ent_RMSE\n",
    "Ent_RSS"
   ]
  },
  {
   "cell_type": "code",
   "execution_count": 9,
   "metadata": {},
   "outputs": [
    {
     "data": {
      "text/html": [
       "0.373809671338822"
      ],
      "text/latex": [
       "0.373809671338822"
      ],
      "text/markdown": [
       "0.373809671338822"
      ],
      "text/plain": [
       "[1] 0.3738097"
      ]
     },
     "metadata": {},
     "output_type": "display_data"
    },
    {
     "data": {
      "text/html": [
       "8.38402022318627"
      ],
      "text/latex": [
       "8.38402022318627"
      ],
      "text/markdown": [
       "8.38402022318627"
      ],
      "text/plain": [
       "[1] 8.38402"
      ]
     },
     "metadata": {},
     "output_type": "display_data"
    }
   ],
   "source": [
    "#3) Log CV ISI results\n",
    "muTab<-aggregate(filt_data$lCV, by=list(filt_data$Agent,filt_data$GameSpeed,filt_data$GameNb), FUN=mean)\n",
    "colnames(muTab)<-c(\"Agent\",\"GameSpeed\",\"GameNb\",\"Value\")\n",
    "H_Mat <- matrix(, nrow = 15, ncol = 4)\n",
    "for (i in 1:15)\n",
    "{\n",
    "    H_Mat[i,] <- muTab[which(muTab$Agent==\"Human\" & muTab$GameNb==i),]$Value\n",
    "}\n",
    "M_Mat <- matrix(, nrow = 15, ncol = 4)\n",
    "for (i in 1:15)\n",
    "{\n",
    "    M_Mat[i,] <- muTab[which(muTab$Agent==\"Model\" & muTab$GameNb==i),]$Value\n",
    "}\n",
    "colnames(H_Mat) <- c(\"MMM\",\"MSM\",\"SMS\",\"SSS\")\n",
    "rownames(H_Mat) <- 1:15\n",
    "colnames(M_Mat) <- c(\"MMM\",\"MSM\",\"SMS\",\"SSS\")\n",
    "rownames(M_Mat) <- 1:15\n",
    "\n",
    "H_vec <- c(H_Mat)\n",
    "M_vec <- c(M_Mat)\n",
    "lcv_r <- cor(H_vec,M_vec,method = \"pearson\")\n",
    "lcv_RMSE <- RMSE(M_vec,H_vec)\n",
    "lcv_RSS <- RSS(M_vec,H_vec)\n",
    "lcv_RMSE\n",
    "lcv_RSS"
   ]
  },
  {
   "cell_type": "code",
   "execution_count": 10,
   "metadata": {},
   "outputs": [
    {
     "data": {
      "text/html": [
       "65.5688038809405"
      ],
      "text/latex": [
       "65.5688038809405"
      ],
      "text/markdown": [
       "65.5688038809405"
      ],
      "text/plain": [
       "[1] 65.5688"
      ]
     },
     "metadata": {},
     "output_type": "display_data"
    },
    {
     "data": {
      "text/html": [
       "257956.082542634"
      ],
      "text/latex": [
       "257956.082542634"
      ],
      "text/markdown": [
       "257956.082542634"
      ],
      "text/plain": [
       "[1] 257956.1"
      ]
     },
     "metadata": {},
     "output_type": "display_data"
    }
   ],
   "source": [
    "#4) Periodicity results\n",
    "muTab<-aggregate(filt_data$Periodicity, by=list(filt_data$Agent,filt_data$GameSpeed,filt_data$GameNb), FUN=mean)\n",
    "colnames(muTab)<-c(\"Agent\",\"GameSpeed\",\"GameNb\",\"Value\")\n",
    "H_Mat <- matrix(, nrow = 15, ncol = 4)\n",
    "for (i in 1:15)\n",
    "{\n",
    "    H_Mat[i,] <- muTab[which(muTab$Agent==\"Human\" & muTab$GameNb==i),]$Value\n",
    "}\n",
    "M_Mat <- matrix(, nrow = 15, ncol = 4)\n",
    "for (i in 1:15)\n",
    "{\n",
    "    M_Mat[i,] <- muTab[which(muTab$Agent==\"Model\" & muTab$GameNb==i),]$Value\n",
    "}\n",
    "colnames(H_Mat) <- c(\"MMM\",\"MSM\",\"SMS\",\"SSS\")\n",
    "rownames(H_Mat) <- 1:15\n",
    "colnames(M_Mat) <- c(\"MMM\",\"MSM\",\"SMS\",\"SSS\")\n",
    "rownames(M_Mat) <- 1:15\n",
    "\n",
    "H_vec <- c(H_Mat)\n",
    "M_vec <- c(M_Mat)\n",
    "Per_r <- cor(H_vec,M_vec,method = \"pearson\")\n",
    "Per_RMSE <- RMSE(M_vec,H_vec)\n",
    "Per_RSS <- RSS(M_vec,H_vec)\n",
    "Per_RMSE\n",
    "Per_RSS"
   ]
  },
  {
   "cell_type": "code",
   "execution_count": 11,
   "metadata": {},
   "outputs": [
    {
     "data": {
      "text/html": [
       "0.0381017684894307"
      ],
      "text/latex": [
       "0.0381017684894307"
      ],
      "text/markdown": [
       "0.0381017684894307"
      ],
      "text/plain": [
       "[1] 0.03810177"
      ]
     },
     "metadata": {},
     "output_type": "display_data"
    },
    {
     "data": {
      "text/html": [
       "0.0871046857213305"
      ],
      "text/latex": [
       "0.0871046857213305"
      ],
      "text/markdown": [
       "0.0871046857213305"
      ],
      "text/plain": [
       "[1] 0.08710469"
      ]
     },
     "metadata": {},
     "output_type": "display_data"
    }
   ],
   "source": [
    "#5) Regularity results\n",
    "muTab<-aggregate(filt_data$Amplitude, by=list(filt_data$Agent,filt_data$GameSpeed,filt_data$GameNb), FUN=mean)\n",
    "colnames(muTab)<-c(\"Agent\",\"GameSpeed\",\"GameNb\",\"Value\")\n",
    "H_Mat <- matrix(, nrow = 15, ncol = 4)\n",
    "for (i in 1:15)\n",
    "{\n",
    "    H_Mat[i,] <- muTab[which(muTab$Agent==\"Human\" & muTab$GameNb==i),]$Value\n",
    "}\n",
    "M_Mat <- matrix(, nrow = 15, ncol = 4)\n",
    "for (i in 1:15)\n",
    "{\n",
    "    M_Mat[i,] <- muTab[which(muTab$Agent==\"Model\" & muTab$GameNb==i),]$Value\n",
    "}\n",
    "colnames(H_Mat) <- c(\"MMM\",\"MSM\",\"SMS\",\"SSS\")\n",
    "rownames(H_Mat) <- 1:15\n",
    "colnames(M_Mat) <- c(\"MMM\",\"MSM\",\"SMS\",\"SSS\")\n",
    "rownames(M_Mat) <- 1:15\n",
    "\n",
    "H_vec <- c(H_Mat)\n",
    "M_vec <- c(M_Mat)\n",
    "Reg_r <- cor(H_vec,M_vec,method = \"pearson\")\n",
    "Reg_RMSE <- RMSE(M_vec,H_vec)\n",
    "Reg_RSS <- RSS(M_vec,H_vec)\n",
    "Reg_RMSE\n",
    "Reg_RSS"
   ]
  },
  {
   "cell_type": "code",
   "execution_count": 12,
   "metadata": {},
   "outputs": [
    {
     "data": {
      "text/html": [
       "5.08650235318812"
      ],
      "text/latex": [
       "5.08650235318812"
      ],
      "text/markdown": [
       "5.08650235318812"
      ],
      "text/plain": [
       "[1] 5.086502"
      ]
     },
     "metadata": {},
     "output_type": "display_data"
    },
    {
     "data": {
      "text/html": [
       "1552.3503713393"
      ],
      "text/latex": [
       "1552.3503713393"
      ],
      "text/markdown": [
       "1552.3503713393"
      ],
      "text/plain": [
       "[1] 1552.35"
      ]
     },
     "metadata": {},
     "output_type": "display_data"
    }
   ],
   "source": [
    "#6) Resets results\n",
    "muTab<-aggregate(filt_data$Resets, by=list(filt_data$Agent,filt_data$GameSpeed,filt_data$GameNb), FUN=mean)\n",
    "colnames(muTab)<-c(\"Agent\",\"GameSpeed\",\"GameNb\",\"Value\")\n",
    "H_Mat <- matrix(, nrow = 15, ncol = 4)\n",
    "for (i in 1:15)\n",
    "{\n",
    "    H_Mat[i,] <- muTab[which(muTab$Agent==\"Human\" & muTab$GameNb==i),]$Value\n",
    "}\n",
    "M_Mat <- matrix(, nrow = 15, ncol = 4)\n",
    "for (i in 1:15)\n",
    "{\n",
    "    M_Mat[i,] <- muTab[which(muTab$Agent==\"Model\" & muTab$GameNb==i),]$Value\n",
    "}\n",
    "colnames(H_Mat) <- c(\"MMM\",\"MSM\",\"SMS\",\"SSS\")\n",
    "rownames(H_Mat) <- 1:15\n",
    "colnames(M_Mat) <- c(\"MMM\",\"MSM\",\"SMS\",\"SSS\")\n",
    "rownames(M_Mat) <- 1:15\n",
    "\n",
    "H_vec <- c(H_Mat)\n",
    "M_vec <- c(M_Mat)\n",
    "Res_r <- cor(H_vec,M_vec,method = \"pearson\")\n",
    "Res_RMSE <- RMSE(M_vec,H_vec)\n",
    "Res_RSS <- RSS(M_vec,H_vec)\n",
    "Res_RMSE\n",
    "Res_RSS"
   ]
  },
  {
   "cell_type": "code",
   "execution_count": 13,
   "metadata": {},
   "outputs": [
    {
     "data": {
      "text/html": [
       "3.71553785599463"
      ],
      "text/latex": [
       "3.71553785599463"
      ],
      "text/markdown": [
       "3.71553785599463"
      ],
      "text/plain": [
       "[1] 3.715538"
      ]
     },
     "metadata": {},
     "output_type": "display_data"
    },
    {
     "data": {
      "text/html": [
       "828.313293559752"
      ],
      "text/latex": [
       "828.313293559752"
      ],
      "text/markdown": [
       "828.313293559752"
      ],
      "text/plain": [
       "[1] 828.3133"
      ]
     },
     "metadata": {},
     "output_type": "display_data"
    }
   ],
   "source": [
    "#7) Deflations results\n",
    "muTab<-aggregate(filt_data$Deflations, by=list(filt_data$Agent,filt_data$GameSpeed,filt_data$GameNb), FUN=mean)\n",
    "colnames(muTab)<-c(\"Agent\",\"GameSpeed\",\"GameNb\",\"Value\")\n",
    "H_Mat <- matrix(, nrow = 15, ncol = 4)\n",
    "for (i in 1:15)\n",
    "{\n",
    "    H_Mat[i,] <- muTab[which(muTab$Agent==\"Human\" & muTab$GameNb==i),]$Value\n",
    "}\n",
    "M_Mat <- matrix(, nrow = 15, ncol = 4)\n",
    "for (i in 1:15)\n",
    "{\n",
    "    M_Mat[i,] <- muTab[which(muTab$Agent==\"Model\" & muTab$GameNb==i),]$Value\n",
    "}\n",
    "colnames(H_Mat) <- c(\"MMM\",\"MSM\",\"SMS\",\"SSS\")\n",
    "rownames(H_Mat) <- 1:15\n",
    "colnames(M_Mat) <- c(\"MMM\",\"MSM\",\"SMS\",\"SSS\")\n",
    "rownames(M_Mat) <- 1:15\n",
    "\n",
    "H_vec <- c(H_Mat)\n",
    "M_vec <- c(M_Mat)\n",
    "Def_r <- cor(H_vec,M_vec,method = \"pearson\")\n",
    "Def_RMSE <- RMSE(M_vec,H_vec)\n",
    "Def_RSS <- RSS(M_vec,H_vec)\n",
    "Def_RMSE\n",
    "Def_RSS"
   ]
  },
  {
   "cell_type": "code",
   "execution_count": 14,
   "metadata": {},
   "outputs": [
    {
     "data": {
      "text/html": [
       "6.50653680886598"
      ],
      "text/latex": [
       "6.50653680886598"
      ],
      "text/markdown": [
       "6.50653680886598"
      ],
      "text/plain": [
       "[1] 6.506537"
      ]
     },
     "metadata": {},
     "output_type": "display_data"
    },
    {
     "data": {
      "text/html": [
       "2540.10127470768"
      ],
      "text/latex": [
       "2540.10127470768"
      ],
      "text/markdown": [
       "2540.10127470768"
      ],
      "text/plain": [
       "[1] 2540.101"
      ]
     },
     "metadata": {},
     "output_type": "display_data"
    }
   ],
   "source": [
    "#8) Misses results\n",
    "muTab<-aggregate(filt_data$Misses, by=list(filt_data$Agent,filt_data$GameSpeed,filt_data$GameNb), FUN=mean)\n",
    "colnames(muTab)<-c(\"Agent\",\"GameSpeed\",\"GameNb\",\"Value\")\n",
    "H_Mat <- matrix(, nrow = 15, ncol = 4)\n",
    "for (i in 1:15)\n",
    "{\n",
    "    H_Mat[i,] <- muTab[which(muTab$Agent==\"Human\" & muTab$GameNb==i),]$Value\n",
    "}\n",
    "M_Mat <- matrix(, nrow = 15, ncol = 4)\n",
    "for (i in 1:15)\n",
    "{\n",
    "    M_Mat[i,] <- muTab[which(muTab$Agent==\"Model\" & muTab$GameNb==i),]$Value\n",
    "}\n",
    "colnames(H_Mat) <- c(\"MMM\",\"MSM\",\"SMS\",\"SSS\")\n",
    "rownames(H_Mat) <- 1:15\n",
    "colnames(M_Mat) <- c(\"MMM\",\"MSM\",\"SMS\",\"SSS\")\n",
    "rownames(M_Mat) <- 1:15\n",
    "\n",
    "H_vec <- c(H_Mat)\n",
    "M_vec <- c(M_Mat)\n",
    "Mis_r <- cor(H_vec,M_vec,method = \"pearson\")\n",
    "Mis_RMSE <- RMSE(M_vec,H_vec)\n",
    "Mis_RSS <- RSS(M_vec,H_vec)\n",
    "Mis_RMSE\n",
    "Mis_RSS"
   ]
  },
  {
   "cell_type": "code",
   "execution_count": 15,
   "metadata": {},
   "outputs": [
    {
     "data": {
      "text/html": [
       "689.136919918614"
      ],
      "text/latex": [
       "689.136919918614"
      ],
      "text/markdown": [
       "689.136919918614"
      ],
      "text/plain": [
       "[1] 689.1369"
      ]
     },
     "metadata": {},
     "output_type": "display_data"
    },
    {
     "data": {
      "text/html": [
       "-235.268163622016"
      ],
      "text/latex": [
       "-235.268163622016"
      ],
      "text/markdown": [
       "-235.268163622016"
      ],
      "text/plain": [
       "[1] -235.2682"
      ]
     },
     "metadata": {},
     "output_type": "display_data"
    },
    {
     "data": {
      "text/html": [
       "-118.081021351778"
      ],
      "text/latex": [
       "-118.081021351778"
      ],
      "text/markdown": [
       "-118.081021351778"
      ],
      "text/plain": [
       "[1] -118.081"
      ]
     },
     "metadata": {},
     "output_type": "display_data"
    },
    {
     "data": {
      "text/html": [
       "501.972003869349"
      ],
      "text/latex": [
       "501.972003869349"
      ],
      "text/markdown": [
       "501.972003869349"
      ],
      "text/plain": [
       "[1] 501.972"
      ]
     },
     "metadata": {},
     "output_type": "display_data"
    },
    {
     "data": {
      "text/html": [
       "-392.099349705755"
      ],
      "text/latex": [
       "-392.099349705755"
      ],
      "text/markdown": [
       "-392.099349705755"
      ],
      "text/plain": [
       "[1] -392.0993"
      ]
     },
     "metadata": {},
     "output_type": "display_data"
    },
    {
     "data": {
      "text/html": [
       "195.190852066274"
      ],
      "text/latex": [
       "195.190852066274"
      ],
      "text/markdown": [
       "195.190852066274"
      ],
      "text/plain": [
       "[1] 195.1909"
      ]
     },
     "metadata": {},
     "output_type": "display_data"
    },
    {
     "data": {
      "text/html": [
       "157.502813667735"
      ],
      "text/latex": [
       "157.502813667735"
      ],
      "text/markdown": [
       "157.502813667735"
      ],
      "text/plain": [
       "[1] 157.5028"
      ]
     },
     "metadata": {},
     "output_type": "display_data"
    },
    {
     "data": {
      "text/html": [
       "224.736880135666"
      ],
      "text/latex": [
       "224.736880135666"
      ],
      "text/markdown": [
       "224.736880135666"
      ],
      "text/plain": [
       "[1] 224.7369"
      ]
     },
     "metadata": {},
     "output_type": "display_data"
    }
   ],
   "source": [
    "#BIC measure\n",
    "n=60\n",
    "k=0\n",
    "Points_BIC <- BIC(Perf_RSS,n,k)\n",
    "Points_BIC\n",
    "Ent_BIC <- BIC(Ent_RSS,n,k)\n",
    "Ent_BIC\n",
    "lCV_BIC <- BIC(lcv_RSS,n,k)\n",
    "lCV_BIC\n",
    "Per_BIC <- BIC(Per_RSS,n,k)\n",
    "Per_BIC\n",
    "Reg_BIC <- BIC(Reg_RSS,n,k)\n",
    "Reg_BIC\n",
    "Res_BIC <- BIC(Res_RSS,n,k)\n",
    "Res_BIC\n",
    "Def_BIC <- BIC(Def_RSS,n,k)\n",
    "Def_BIC\n",
    "Mis_BIC <- BIC(Mis_RSS,n,k)\n",
    "Mis_BIC"
   ]
  },
  {
   "cell_type": "code",
   "execution_count": null,
   "metadata": {},
   "outputs": [],
   "source": []
  },
  {
   "cell_type": "code",
   "execution_count": null,
   "metadata": {},
   "outputs": [],
   "source": []
  },
  {
   "cell_type": "code",
   "execution_count": null,
   "metadata": {},
   "outputs": [],
   "source": []
  },
  {
   "cell_type": "code",
   "execution_count": null,
   "metadata": {},
   "outputs": [],
   "source": []
  },
  {
   "cell_type": "code",
   "execution_count": null,
   "metadata": {},
   "outputs": [],
   "source": []
  }
 ],
 "metadata": {
  "kernelspec": {
   "display_name": "R",
   "language": "R",
   "name": "ir"
  },
  "language_info": {
   "codemirror_mode": "r",
   "file_extension": ".r",
   "mimetype": "text/x-r-source",
   "name": "R",
   "pygments_lexer": "r",
   "version": "3.6.3"
  }
 },
 "nbformat": 4,
 "nbformat_minor": 2
}
