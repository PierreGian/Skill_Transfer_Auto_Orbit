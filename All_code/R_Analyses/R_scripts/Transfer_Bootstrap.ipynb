{
 "cells": [
  {
   "cell_type": "code",
   "execution_count": 1,
   "metadata": {},
   "outputs": [
    {
     "name": "stderr",
     "output_type": "stream",
     "text": [
      "Loading required package: Matrix\n",
      "Registered S3 methods overwritten by 'ggplot2':\n",
      "  method         from \n",
      "  [.quosures     rlang\n",
      "  c.quosures     rlang\n",
      "  print.quosures rlang\n",
      "Warning message:\n",
      "\"package 'dplyr' was built under R version 3.6.3\"\n",
      "Attaching package: 'dplyr'\n",
      "\n",
      "The following objects are masked from 'package:stats':\n",
      "\n",
      "    filter, lag\n",
      "\n",
      "The following objects are masked from 'package:base':\n",
      "\n",
      "    intersect, setdiff, setequal, union\n",
      "\n",
      "\n",
      "Attaching package: 'MASS'\n",
      "\n",
      "The following object is masked from 'package:dplyr':\n",
      "\n",
      "    select\n",
      "\n",
      "Warning message:\n",
      "\"package 'BayesFactor' was built under R version 3.6.3\"Loading required package: coda\n",
      "Warning message:\n",
      "\"package 'coda' was built under R version 3.6.3\"************\n",
      "Welcome to BayesFactor 0.9.12-4.2. If you have questions, please contact Richard Morey (richarddmorey@gmail.com).\n",
      "\n",
      "Type BFManual() to open the manual.\n",
      "************\n",
      "Loading required package: carData\n",
      "Registered S3 methods overwritten by 'car':\n",
      "  method                          from\n",
      "  influence.merMod                lme4\n",
      "  cooks.distance.influence.merMod lme4\n",
      "  dfbeta.influence.merMod         lme4\n",
      "  dfbetas.influence.merMod        lme4\n",
      "\n",
      "Attaching package: 'car'\n",
      "\n",
      "The following object is masked from 'package:dplyr':\n",
      "\n",
      "    recode\n",
      "\n",
      "Warning message:\n",
      "\"package 'lmerTest' was built under R version 3.6.3\"\n",
      "Attaching package: 'lmerTest'\n",
      "\n",
      "The following object is masked from 'package:lme4':\n",
      "\n",
      "    lmer\n",
      "\n",
      "The following object is masked from 'package:stats':\n",
      "\n",
      "    step\n",
      "\n",
      "Warning message:\n",
      "\"package 'MuMIn' was built under R version 3.6.3\"------------------------------------------------------------------------------\n",
      "You have loaded plyr after dplyr - this is likely to cause problems.\n",
      "If you need functions from both plyr and dplyr, please load plyr first, then dplyr:\n",
      "library(plyr); library(dplyr)\n",
      "------------------------------------------------------------------------------\n",
      "\n",
      "Attaching package: 'plyr'\n",
      "\n",
      "The following objects are masked from 'package:dplyr':\n",
      "\n",
      "    arrange, count, desc, failwith, id, mutate, rename, summarise,\n",
      "    summarize\n",
      "\n"
     ]
    }
   ],
   "source": [
    "library(\"lme4\")\n",
    "library(\"ggplot2\")\n",
    "library(\"dplyr\")\n",
    "library(MASS)\n",
    "library(\"BayesFactor\")\n",
    "library(\"car\")\n",
    "library(\"scales\")\n",
    "library(\"lmerTest\")\n",
    "library(\"MuMIn\")\n",
    "library(\"plyr\")\n",
    "library(\"knitr\")"
   ]
  },
  {
   "cell_type": "code",
   "execution_count": 2,
   "metadata": {},
   "outputs": [
    {
     "data": {
      "text/html": [
       "<table>\n",
       "<thead><tr><th scope=col>Agent</th><th scope=col>Subject</th><th scope=col>condition1</th><th scope=col>condition2</th><th scope=col>GameNb</th><th scope=col>Points</th><th scope=col>Entropy</th><th scope=col>Periodicity</th><th scope=col>Amplitude</th><th scope=col>MuIFI</th><th scope=col>StdIFI</th><th scope=col>CV</th><th scope=col>Resets</th><th scope=col>Deflations</th><th scope=col>Misses</th><th scope=col>GameSpeed</th><th scope=col>NewTracker</th><th scope=col>lCV</th></tr></thead>\n",
       "<tbody>\n",
       "\t<tr><td>Human         </td><td>A1H5I0BGVIY5CC</td><td>slow          </td><td>slow          </td><td> 1            </td><td>   0          </td><td>4.754888      </td><td>   0          </td><td>0.00000000    </td><td>   0.000      </td><td>   0.0000     </td><td>0.0000000     </td><td>53            </td><td> 5            </td><td>3             </td><td>SSS           </td><td>Human         </td><td>      -Inf    </td></tr>\n",
       "\t<tr><td>Human         </td><td>A1H5I0BGVIY5CC</td><td>slow          </td><td>slow          </td><td> 2            </td><td> 876          </td><td>4.031359      </td><td>1248          </td><td>0.02126137    </td><td>2548.355      </td><td>2098.1992     </td><td>0.8233544     </td><td> 4            </td><td>10            </td><td>5             </td><td>SSS           </td><td>Human         </td><td>-0.1943685    </td></tr>\n",
       "\t<tr><td>Human         </td><td>A1H5I0BGVIY5CC</td><td>slow          </td><td>slow          </td><td> 3            </td><td>1164          </td><td>3.680692      </td><td>1152          </td><td>0.16175389    </td><td>1491.830      </td><td> 643.3786     </td><td>0.4312681     </td><td> 7            </td><td> 7            </td><td>6             </td><td>SSS           </td><td>Human         </td><td>-0.8410253    </td></tr>\n",
       "\t<tr><td>Human         </td><td>A1H5I0BGVIY5CC</td><td>slow          </td><td>slow          </td><td> 4            </td><td>   0          </td><td>4.754888      </td><td>   0          </td><td>0.00000000    </td><td>   0.000      </td><td>   0.0000     </td><td>0.0000000     </td><td>19            </td><td> 4            </td><td>5             </td><td>SSS           </td><td>Human         </td><td>      -Inf    </td></tr>\n",
       "\t<tr><td>Human         </td><td>A1H5I0BGVIY5CC</td><td>slow          </td><td>slow          </td><td> 5            </td><td>   0          </td><td>4.754888      </td><td>   0          </td><td>0.00000000    </td><td>   0.000      </td><td>   0.0000     </td><td>0.0000000     </td><td>18            </td><td> 4            </td><td>7             </td><td>SSS           </td><td>Human         </td><td>      -Inf    </td></tr>\n",
       "\t<tr><td>Human         </td><td>A1H5I0BGVIY5CC</td><td>slow          </td><td>slow          </td><td> 6            </td><td>1188          </td><td>3.706067      </td><td>1152          </td><td>0.10679609    </td><td>1354.912      </td><td> 533.3642     </td><td>0.3936523     </td><td> 8            </td><td> 1            </td><td>6             </td><td>SSS           </td><td>Human         </td><td>-0.9322872    </td></tr>\n",
       "\t<tr><td>Human         </td><td>A1H5I0BGVIY5CC</td><td>slow          </td><td>slow          </td><td> 7            </td><td>1182          </td><td>3.750739      </td><td>1072          </td><td>0.02100682    </td><td>1534.550      </td><td> 605.2312     </td><td>0.3944030     </td><td> 5            </td><td> 5            </td><td>5             </td><td>SSS           </td><td>Human         </td><td>-0.9303819    </td></tr>\n",
       "\t<tr><td>Human         </td><td>A1H5I0BGVIY5CC</td><td>slow          </td><td>slow          </td><td> 8            </td><td>2070          </td><td>3.772847      </td><td>1280          </td><td>0.07723494    </td><td>1557.833      </td><td> 494.2271     </td><td>0.3172529     </td><td> 0            </td><td> 2            </td><td>5             </td><td>SSS           </td><td>Human         </td><td>-1.1480561    </td></tr>\n",
       "\t<tr><td>Human         </td><td>A1H5I0BGVIY5CC</td><td>slow          </td><td>slow          </td><td> 9            </td><td>2094          </td><td>3.365619      </td><td>1248          </td><td>0.07976081    </td><td>1470.068      </td><td> 372.2022     </td><td>0.2531871     </td><td> 0            </td><td> 1            </td><td>2             </td><td>SSS           </td><td>Human         </td><td>-1.3736264    </td></tr>\n",
       "\t<tr><td>Human         </td><td>A1H5I0BGVIY5CC</td><td>slow          </td><td>slow          </td><td>10            </td><td>1800          </td><td>3.256371      </td><td>1200          </td><td>0.11164991    </td><td>1522.202      </td><td> 522.3647     </td><td>0.3431638     </td><td> 4            </td><td> 1            </td><td>1             </td><td>SSS           </td><td>Human         </td><td>-1.0695475    </td></tr>\n",
       "\t<tr><td>Human         </td><td>A1H5I0BGVIY5CC</td><td>slow          </td><td>slow          </td><td>11            </td><td>1758          </td><td>3.610161      </td><td>1184          </td><td>0.07468571    </td><td>1496.148      </td><td> 533.8548     </td><td>0.3568196     </td><td> 1            </td><td> 3            </td><td>7             </td><td>SSS           </td><td>Human         </td><td>-1.0305248    </td></tr>\n",
       "\t<tr><td>Human         </td><td>A1H5I0BGVIY5CC</td><td>slow          </td><td>slow          </td><td>12            </td><td>2394          </td><td>3.159598      </td><td>1120          </td><td>0.10648144    </td><td>1409.811      </td><td> 389.6958     </td><td>0.2764170     </td><td> 2            </td><td> 1            </td><td>1             </td><td>SSS           </td><td>Human         </td><td>-1.2858446    </td></tr>\n",
       "\t<tr><td>Human         </td><td>A1H5I0BGVIY5CC</td><td>slow          </td><td>slow          </td><td>13            </td><td>2382          </td><td>3.253638      </td><td>1152          </td><td>0.15804645    </td><td>1338.730      </td><td> 441.3697     </td><td>0.3296929     </td><td> 0            </td><td> 1            </td><td>4             </td><td>SSS           </td><td>Human         </td><td>-1.1095936    </td></tr>\n",
       "\t<tr><td>Human         </td><td>A1H5I0BGVIY5CC</td><td>slow          </td><td>slow          </td><td>14            </td><td>2076          </td><td>3.296733      </td><td>1088          </td><td>0.15664412    </td><td>1323.064      </td><td> 359.2313     </td><td>0.2715147     </td><td> 2            </td><td> 2            </td><td>4             </td><td>SSS           </td><td>Human         </td><td>-1.3037390    </td></tr>\n",
       "\t<tr><td>Human         </td><td>A1H5I0BGVIY5CC</td><td>slow          </td><td>slow          </td><td>15            </td><td>2100          </td><td>3.357380      </td><td>1120          </td><td>0.07136015    </td><td>1472.612      </td><td> 668.5500     </td><td>0.4539892     </td><td> 2            </td><td> 0            </td><td>0             </td><td>SSS           </td><td>Human         </td><td>-0.7896818    </td></tr>\n",
       "</tbody>\n",
       "</table>\n"
      ],
      "text/latex": [
       "\\begin{tabular}{r|llllllllllllllllll}\n",
       " Agent & Subject & condition1 & condition2 & GameNb & Points & Entropy & Periodicity & Amplitude & MuIFI & StdIFI & CV & Resets & Deflations & Misses & GameSpeed & NewTracker & lCV\\\\\n",
       "\\hline\n",
       "\t Human          & A1H5I0BGVIY5CC & slow           & slow           &  1             &    0           & 4.754888       &    0           & 0.00000000     &    0.000       &    0.0000      & 0.0000000      & 53             &  5             & 3              & SSS            & Human          &       -Inf    \\\\\n",
       "\t Human          & A1H5I0BGVIY5CC & slow           & slow           &  2             &  876           & 4.031359       & 1248           & 0.02126137     & 2548.355       & 2098.1992      & 0.8233544      &  4             & 10             & 5              & SSS            & Human          & -0.1943685    \\\\\n",
       "\t Human          & A1H5I0BGVIY5CC & slow           & slow           &  3             & 1164           & 3.680692       & 1152           & 0.16175389     & 1491.830       &  643.3786      & 0.4312681      &  7             &  7             & 6              & SSS            & Human          & -0.8410253    \\\\\n",
       "\t Human          & A1H5I0BGVIY5CC & slow           & slow           &  4             &    0           & 4.754888       &    0           & 0.00000000     &    0.000       &    0.0000      & 0.0000000      & 19             &  4             & 5              & SSS            & Human          &       -Inf    \\\\\n",
       "\t Human          & A1H5I0BGVIY5CC & slow           & slow           &  5             &    0           & 4.754888       &    0           & 0.00000000     &    0.000       &    0.0000      & 0.0000000      & 18             &  4             & 7              & SSS            & Human          &       -Inf    \\\\\n",
       "\t Human          & A1H5I0BGVIY5CC & slow           & slow           &  6             & 1188           & 3.706067       & 1152           & 0.10679609     & 1354.912       &  533.3642      & 0.3936523      &  8             &  1             & 6              & SSS            & Human          & -0.9322872    \\\\\n",
       "\t Human          & A1H5I0BGVIY5CC & slow           & slow           &  7             & 1182           & 3.750739       & 1072           & 0.02100682     & 1534.550       &  605.2312      & 0.3944030      &  5             &  5             & 5              & SSS            & Human          & -0.9303819    \\\\\n",
       "\t Human          & A1H5I0BGVIY5CC & slow           & slow           &  8             & 2070           & 3.772847       & 1280           & 0.07723494     & 1557.833       &  494.2271      & 0.3172529      &  0             &  2             & 5              & SSS            & Human          & -1.1480561    \\\\\n",
       "\t Human          & A1H5I0BGVIY5CC & slow           & slow           &  9             & 2094           & 3.365619       & 1248           & 0.07976081     & 1470.068       &  372.2022      & 0.2531871      &  0             &  1             & 2              & SSS            & Human          & -1.3736264    \\\\\n",
       "\t Human          & A1H5I0BGVIY5CC & slow           & slow           & 10             & 1800           & 3.256371       & 1200           & 0.11164991     & 1522.202       &  522.3647      & 0.3431638      &  4             &  1             & 1              & SSS            & Human          & -1.0695475    \\\\\n",
       "\t Human          & A1H5I0BGVIY5CC & slow           & slow           & 11             & 1758           & 3.610161       & 1184           & 0.07468571     & 1496.148       &  533.8548      & 0.3568196      &  1             &  3             & 7              & SSS            & Human          & -1.0305248    \\\\\n",
       "\t Human          & A1H5I0BGVIY5CC & slow           & slow           & 12             & 2394           & 3.159598       & 1120           & 0.10648144     & 1409.811       &  389.6958      & 0.2764170      &  2             &  1             & 1              & SSS            & Human          & -1.2858446    \\\\\n",
       "\t Human          & A1H5I0BGVIY5CC & slow           & slow           & 13             & 2382           & 3.253638       & 1152           & 0.15804645     & 1338.730       &  441.3697      & 0.3296929      &  0             &  1             & 4              & SSS            & Human          & -1.1095936    \\\\\n",
       "\t Human          & A1H5I0BGVIY5CC & slow           & slow           & 14             & 2076           & 3.296733       & 1088           & 0.15664412     & 1323.064       &  359.2313      & 0.2715147      &  2             &  2             & 4              & SSS            & Human          & -1.3037390    \\\\\n",
       "\t Human          & A1H5I0BGVIY5CC & slow           & slow           & 15             & 2100           & 3.357380       & 1120           & 0.07136015     & 1472.612       &  668.5500      & 0.4539892      &  2             &  0             & 0              & SSS            & Human          & -0.7896818    \\\\\n",
       "\\end{tabular}\n"
      ],
      "text/markdown": [
       "\n",
       "| Agent | Subject | condition1 | condition2 | GameNb | Points | Entropy | Periodicity | Amplitude | MuIFI | StdIFI | CV | Resets | Deflations | Misses | GameSpeed | NewTracker | lCV |\n",
       "|---|---|---|---|---|---|---|---|---|---|---|---|---|---|---|---|---|---|\n",
       "| Human          | A1H5I0BGVIY5CC | slow           | slow           |  1             |    0           | 4.754888       |    0           | 0.00000000     |    0.000       |    0.0000      | 0.0000000      | 53             |  5             | 3              | SSS            | Human          |       -Inf     |\n",
       "| Human          | A1H5I0BGVIY5CC | slow           | slow           |  2             |  876           | 4.031359       | 1248           | 0.02126137     | 2548.355       | 2098.1992      | 0.8233544      |  4             | 10             | 5              | SSS            | Human          | -0.1943685     |\n",
       "| Human          | A1H5I0BGVIY5CC | slow           | slow           |  3             | 1164           | 3.680692       | 1152           | 0.16175389     | 1491.830       |  643.3786      | 0.4312681      |  7             |  7             | 6              | SSS            | Human          | -0.8410253     |\n",
       "| Human          | A1H5I0BGVIY5CC | slow           | slow           |  4             |    0           | 4.754888       |    0           | 0.00000000     |    0.000       |    0.0000      | 0.0000000      | 19             |  4             | 5              | SSS            | Human          |       -Inf     |\n",
       "| Human          | A1H5I0BGVIY5CC | slow           | slow           |  5             |    0           | 4.754888       |    0           | 0.00000000     |    0.000       |    0.0000      | 0.0000000      | 18             |  4             | 7              | SSS            | Human          |       -Inf     |\n",
       "| Human          | A1H5I0BGVIY5CC | slow           | slow           |  6             | 1188           | 3.706067       | 1152           | 0.10679609     | 1354.912       |  533.3642      | 0.3936523      |  8             |  1             | 6              | SSS            | Human          | -0.9322872     |\n",
       "| Human          | A1H5I0BGVIY5CC | slow           | slow           |  7             | 1182           | 3.750739       | 1072           | 0.02100682     | 1534.550       |  605.2312      | 0.3944030      |  5             |  5             | 5              | SSS            | Human          | -0.9303819     |\n",
       "| Human          | A1H5I0BGVIY5CC | slow           | slow           |  8             | 2070           | 3.772847       | 1280           | 0.07723494     | 1557.833       |  494.2271      | 0.3172529      |  0             |  2             | 5              | SSS            | Human          | -1.1480561     |\n",
       "| Human          | A1H5I0BGVIY5CC | slow           | slow           |  9             | 2094           | 3.365619       | 1248           | 0.07976081     | 1470.068       |  372.2022      | 0.2531871      |  0             |  1             | 2              | SSS            | Human          | -1.3736264     |\n",
       "| Human          | A1H5I0BGVIY5CC | slow           | slow           | 10             | 1800           | 3.256371       | 1200           | 0.11164991     | 1522.202       |  522.3647      | 0.3431638      |  4             |  1             | 1              | SSS            | Human          | -1.0695475     |\n",
       "| Human          | A1H5I0BGVIY5CC | slow           | slow           | 11             | 1758           | 3.610161       | 1184           | 0.07468571     | 1496.148       |  533.8548      | 0.3568196      |  1             |  3             | 7              | SSS            | Human          | -1.0305248     |\n",
       "| Human          | A1H5I0BGVIY5CC | slow           | slow           | 12             | 2394           | 3.159598       | 1120           | 0.10648144     | 1409.811       |  389.6958      | 0.2764170      |  2             |  1             | 1              | SSS            | Human          | -1.2858446     |\n",
       "| Human          | A1H5I0BGVIY5CC | slow           | slow           | 13             | 2382           | 3.253638       | 1152           | 0.15804645     | 1338.730       |  441.3697      | 0.3296929      |  0             |  1             | 4              | SSS            | Human          | -1.1095936     |\n",
       "| Human          | A1H5I0BGVIY5CC | slow           | slow           | 14             | 2076           | 3.296733       | 1088           | 0.15664412     | 1323.064       |  359.2313      | 0.2715147      |  2             |  2             | 4              | SSS            | Human          | -1.3037390     |\n",
       "| Human          | A1H5I0BGVIY5CC | slow           | slow           | 15             | 2100           | 3.357380       | 1120           | 0.07136015     | 1472.612       |  668.5500      | 0.4539892      |  2             |  0             | 0              | SSS            | Human          | -0.7896818     |\n",
       "\n"
      ],
      "text/plain": [
       "   Agent Subject        condition1 condition2 GameNb Points Entropy \n",
       "1  Human A1H5I0BGVIY5CC slow       slow        1        0   4.754888\n",
       "2  Human A1H5I0BGVIY5CC slow       slow        2      876   4.031359\n",
       "3  Human A1H5I0BGVIY5CC slow       slow        3     1164   3.680692\n",
       "4  Human A1H5I0BGVIY5CC slow       slow        4        0   4.754888\n",
       "5  Human A1H5I0BGVIY5CC slow       slow        5        0   4.754888\n",
       "6  Human A1H5I0BGVIY5CC slow       slow        6     1188   3.706067\n",
       "7  Human A1H5I0BGVIY5CC slow       slow        7     1182   3.750739\n",
       "8  Human A1H5I0BGVIY5CC slow       slow        8     2070   3.772847\n",
       "9  Human A1H5I0BGVIY5CC slow       slow        9     2094   3.365619\n",
       "10 Human A1H5I0BGVIY5CC slow       slow       10     1800   3.256371\n",
       "11 Human A1H5I0BGVIY5CC slow       slow       11     1758   3.610161\n",
       "12 Human A1H5I0BGVIY5CC slow       slow       12     2394   3.159598\n",
       "13 Human A1H5I0BGVIY5CC slow       slow       13     2382   3.253638\n",
       "14 Human A1H5I0BGVIY5CC slow       slow       14     2076   3.296733\n",
       "15 Human A1H5I0BGVIY5CC slow       slow       15     2100   3.357380\n",
       "   Periodicity Amplitude  MuIFI    StdIFI    CV        Resets Deflations Misses\n",
       "1     0        0.00000000    0.000    0.0000 0.0000000 53      5         3     \n",
       "2  1248        0.02126137 2548.355 2098.1992 0.8233544  4     10         5     \n",
       "3  1152        0.16175389 1491.830  643.3786 0.4312681  7      7         6     \n",
       "4     0        0.00000000    0.000    0.0000 0.0000000 19      4         5     \n",
       "5     0        0.00000000    0.000    0.0000 0.0000000 18      4         7     \n",
       "6  1152        0.10679609 1354.912  533.3642 0.3936523  8      1         6     \n",
       "7  1072        0.02100682 1534.550  605.2312 0.3944030  5      5         5     \n",
       "8  1280        0.07723494 1557.833  494.2271 0.3172529  0      2         5     \n",
       "9  1248        0.07976081 1470.068  372.2022 0.2531871  0      1         2     \n",
       "10 1200        0.11164991 1522.202  522.3647 0.3431638  4      1         1     \n",
       "11 1184        0.07468571 1496.148  533.8548 0.3568196  1      3         7     \n",
       "12 1120        0.10648144 1409.811  389.6958 0.2764170  2      1         1     \n",
       "13 1152        0.15804645 1338.730  441.3697 0.3296929  0      1         4     \n",
       "14 1088        0.15664412 1323.064  359.2313 0.2715147  2      2         4     \n",
       "15 1120        0.07136015 1472.612  668.5500 0.4539892  2      0         0     \n",
       "   GameSpeed NewTracker lCV       \n",
       "1  SSS       Human            -Inf\n",
       "2  SSS       Human      -0.1943685\n",
       "3  SSS       Human      -0.8410253\n",
       "4  SSS       Human            -Inf\n",
       "5  SSS       Human            -Inf\n",
       "6  SSS       Human      -0.9322872\n",
       "7  SSS       Human      -0.9303819\n",
       "8  SSS       Human      -1.1480561\n",
       "9  SSS       Human      -1.3736264\n",
       "10 SSS       Human      -1.0695475\n",
       "11 SSS       Human      -1.0305248\n",
       "12 SSS       Human      -1.2858446\n",
       "13 SSS       Human      -1.1095936\n",
       "14 SSS       Human      -1.3037390\n",
       "15 SSS       Human      -0.7896818"
      ]
     },
     "metadata": {},
     "output_type": "display_data"
    }
   ],
   "source": [
    "#Load the data => Here, we are filtering the cases in which subjects had a MuIFI of 0\n",
    "FinalPath<-'../ToInput/R_HumMod_MS17_1tracker.txt'\n",
    "data <- read.delim(FinalPath, sep=\"\\t\", header=T, stringsAsFactors=F)\n",
    "data <- data %>% filter(!NewTracker=='no')\n",
    "#dataTest <- data\n",
    "data$lCV <- log(data$CV)\n",
    "head(data,15)"
   ]
  },
  {
   "cell_type": "code",
   "execution_count": 3,
   "metadata": {},
   "outputs": [],
   "source": [
    "## Gives count, mean, standard deviation, standard error of the mean, and confidence interval (default 95%).\n",
    "##   data: a data frame.\n",
    "##   measurevar: the name of a column that contains the variable to be summariezed\n",
    "##   groupvars: a vector containing names of columns that contain grouping variables\n",
    "##   na.rm: a boolean that indicates whether to ignore NA's\n",
    "##   conf.interval: the percent range of the confidence interval (default is 95%)\n",
    "summarySE <- function(data=NULL, measurevar, groupvars=NULL, na.rm=FALSE,\n",
    "                      conf.interval=.95, .drop=TRUE) {\n",
    "    library(plyr)\n",
    "\n",
    "    # New version of length which can handle NA's: if na.rm==T, don't count them\n",
    "    length2 <- function (x, na.rm=FALSE) {\n",
    "        if (na.rm) sum(!is.na(x))\n",
    "        else       length(x)\n",
    "    }\n",
    "\n",
    "    # This does the summary. For each group's data frame, return a vector with\n",
    "    # N, mean, and sd\n",
    "    datac <- ddply(data, groupvars, .drop=.drop,\n",
    "      .fun = function(xx, col) {\n",
    "        c(N    = length2(xx[[col]], na.rm=na.rm),\n",
    "          mean = mean   (xx[[col]], na.rm=na.rm),\n",
    "          sd   = sd     (xx[[col]], na.rm=na.rm)\n",
    "        )\n",
    "      },\n",
    "      measurevar\n",
    "    )\n",
    "\n",
    "    # Rename the \"mean\" column    \n",
    "    datac <- rename(datac, c(\"mean\" = measurevar))\n",
    "\n",
    "    datac$se <- datac$sd / sqrt(datac$N)  # Calculate standard error of the mean\n",
    "\n",
    "    # Confidence interval multiplier for standard error\n",
    "    # Calculate t-statistic for confidence interval: \n",
    "    # e.g., if conf.interval is .95, use .975 (above/below), and use df=N-1\n",
    "    ciMult <- qt(conf.interval/2 + .5, datac$N-1)\n",
    "    datac$ci <- datac$se * ciMult\n",
    "\n",
    "    return(datac)\n",
    "}"
   ]
  },
  {
   "cell_type": "code",
   "execution_count": 4,
   "metadata": {},
   "outputs": [
    {
     "data": {
      "text/plain": [
       "       \n",
       "         MMM  MSM  SMS  SSS\n",
       "  Human  300  300  300  300\n",
       "  Model 1500 1500 1500 1500"
      ]
     },
     "metadata": {},
     "output_type": "display_data"
    }
   ],
   "source": [
    "table(data$Agent, data$GameSpeed)"
   ]
  },
  {
   "cell_type": "code",
   "execution_count": 5,
   "metadata": {},
   "outputs": [],
   "source": [
    "#Getting data for games 1-5\n",
    "NewData <- data\n",
    "n_games <- 15\n",
    "for(i in 6:15){\n",
    "    NewData <- NewData %>% filter(GameNb!=i)\n",
    "}"
   ]
  },
  {
   "cell_type": "code",
   "execution_count": 6,
   "metadata": {},
   "outputs": [
    {
     "data": {
      "text/plain": [
       "       \n",
       "        MMM MSM SMS SSS\n",
       "  Human 100 100 100 100\n",
       "  Model 500 500 500 500"
      ]
     },
     "metadata": {},
     "output_type": "display_data"
    }
   ],
   "source": [
    "table(NewData$Agent, NewData$GameSpeed)"
   ]
  },
  {
   "cell_type": "code",
   "execution_count": 7,
   "metadata": {},
   "outputs": [
    {
     "data": {
      "text/html": [
       "100"
      ],
      "text/latex": [
       "100"
      ],
      "text/markdown": [
       "100"
      ],
      "text/plain": [
       "[1] 100"
      ]
     },
     "metadata": {},
     "output_type": "display_data"
    },
    {
     "data": {
      "text/html": [
       "<table>\n",
       "<thead><tr><th scope=col>MMM</th><th scope=col>MSM</th><th scope=col>SMS</th><th scope=col>SSS</th></tr></thead>\n",
       "<tbody>\n",
       "\t<tr><td>2364</td><td> 148</td><td>1200</td><td>   0</td></tr>\n",
       "\t<tr><td>3168</td><td>1548</td><td>1794</td><td> 876</td></tr>\n",
       "\t<tr><td>3356</td><td>1972</td><td>1788</td><td>1164</td></tr>\n",
       "\t<tr><td>2564</td><td>2384</td><td>2088</td><td>   0</td></tr>\n",
       "\t<tr><td>2564</td><td>2380</td><td>2688</td><td>   0</td></tr>\n",
       "\t<tr><td>1532</td><td>1916</td><td>1794</td><td> 600</td></tr>\n",
       "\t<tr><td>2716</td><td>2540</td><td>1794</td><td>1794</td></tr>\n",
       "\t<tr><td>2732</td><td>2932</td><td>2394</td><td>2082</td></tr>\n",
       "\t<tr><td>3132</td><td>2940</td><td>2388</td><td>2094</td></tr>\n",
       "\t<tr><td>3332</td><td>2928</td><td>2394</td><td>2088</td></tr>\n",
       "</tbody>\n",
       "</table>\n"
      ],
      "text/latex": [
       "\\begin{tabular}{r|llll}\n",
       " MMM & MSM & SMS & SSS\\\\\n",
       "\\hline\n",
       "\t 2364 &  148 & 1200 &    0\\\\\n",
       "\t 3168 & 1548 & 1794 &  876\\\\\n",
       "\t 3356 & 1972 & 1788 & 1164\\\\\n",
       "\t 2564 & 2384 & 2088 &    0\\\\\n",
       "\t 2564 & 2380 & 2688 &    0\\\\\n",
       "\t 1532 & 1916 & 1794 &  600\\\\\n",
       "\t 2716 & 2540 & 1794 & 1794\\\\\n",
       "\t 2732 & 2932 & 2394 & 2082\\\\\n",
       "\t 3132 & 2940 & 2388 & 2094\\\\\n",
       "\t 3332 & 2928 & 2394 & 2088\\\\\n",
       "\\end{tabular}\n"
      ],
      "text/markdown": [
       "\n",
       "| MMM | MSM | SMS | SSS |\n",
       "|---|---|---|---|\n",
       "| 2364 |  148 | 1200 |    0 |\n",
       "| 3168 | 1548 | 1794 |  876 |\n",
       "| 3356 | 1972 | 1788 | 1164 |\n",
       "| 2564 | 2384 | 2088 |    0 |\n",
       "| 2564 | 2380 | 2688 |    0 |\n",
       "| 1532 | 1916 | 1794 |  600 |\n",
       "| 2716 | 2540 | 1794 | 1794 |\n",
       "| 2732 | 2932 | 2394 | 2082 |\n",
       "| 3132 | 2940 | 2388 | 2094 |\n",
       "| 3332 | 2928 | 2394 | 2088 |\n",
       "\n"
      ],
      "text/plain": [
       "   MMM  MSM  SMS  SSS \n",
       "1  2364  148 1200    0\n",
       "2  3168 1548 1794  876\n",
       "3  3356 1972 1788 1164\n",
       "4  2564 2384 2088    0\n",
       "5  2564 2380 2688    0\n",
       "6  1532 1916 1794  600\n",
       "7  2716 2540 1794 1794\n",
       "8  2732 2932 2394 2082\n",
       "9  3132 2940 2388 2094\n",
       "10 3332 2928 2394 2088"
      ]
     },
     "metadata": {},
     "output_type": "display_data"
    }
   ],
   "source": [
    "#Creating dataset for Human games 1-5\n",
    "MMM <- (NewData %>% filter(Agent==\"Human\") %>% filter(GameSpeed==\"MMM\"))$Points\n",
    "MSM <- (NewData %>% filter(Agent==\"Human\") %>% filter(GameSpeed==\"MSM\"))$Points\n",
    "SMS <- (NewData %>% filter(Agent==\"Human\") %>% filter(GameSpeed==\"SMS\"))$Points\n",
    "SSS <- (NewData %>% filter(Agent==\"Human\") %>% filter(GameSpeed==\"SSS\"))$Points\n",
    "H1_5 <- data.frame(MMM,MSM,SMS,SSS)\n",
    "nrow(H1_5)\n",
    "head(H1_5,10)"
   ]
  },
  {
   "cell_type": "code",
   "execution_count": 8,
   "metadata": {},
   "outputs": [
    {
     "data": {
      "text/plain": [
       "\n",
       "\tWilcoxon rank sum test with continuity correction\n",
       "\n",
       "data:  MMM and MSM\n",
       "W = 4112.5, p-value = 0.02996\n",
       "alternative hypothesis: true location shift is not equal to 0\n"
      ]
     },
     "metadata": {},
     "output_type": "display_data"
    },
    {
     "data": {
      "text/html": [
       "-2.17064716307324"
      ],
      "text/latex": [
       "-2.17064716307324"
      ],
      "text/markdown": [
       "-2.17064716307324"
      ],
      "text/plain": [
       "[1] -2.170647"
      ]
     },
     "metadata": {},
     "output_type": "display_data"
    }
   ],
   "source": [
    "#Compare MMM and MSM subjects in games 1-5\n",
    "MWa<-wilcox.test(MMM,MSM,paired=FALSE,conf.level = 0.95,exact=FALSE)\n",
    "MWa\n",
    "qnorm(MWa$p.value/2)"
   ]
  },
  {
   "cell_type": "code",
   "execution_count": 15,
   "metadata": {},
   "outputs": [
    {
     "data": {
      "text/html": [
       "500"
      ],
      "text/latex": [
       "500"
      ],
      "text/markdown": [
       "500"
      ],
      "text/plain": [
       "[1] 500"
      ]
     },
     "metadata": {},
     "output_type": "display_data"
    },
    {
     "data": {
      "text/html": [
       "<table>\n",
       "<caption>A data.frame: 10 × 4</caption>\n",
       "<thead>\n",
       "\t<tr><th></th><th scope=col>MMM</th><th scope=col>MSM</th><th scope=col>SMS</th><th scope=col>SSS</th></tr>\n",
       "\t<tr><th></th><th scope=col>&lt;dbl&gt;</th><th scope=col>&lt;dbl&gt;</th><th scope=col>&lt;dbl&gt;</th><th scope=col>&lt;dbl&gt;</th></tr>\n",
       "</thead>\n",
       "<tbody>\n",
       "\t<tr><th scope=row>1</th><td>1908</td><td> 724</td><td>1050</td><td>1122</td></tr>\n",
       "\t<tr><th scope=row>2</th><td>2468</td><td>1700</td><td>1716</td><td>1458</td></tr>\n",
       "\t<tr><th scope=row>3</th><td>2312</td><td>2536</td><td>1410</td><td>2034</td></tr>\n",
       "\t<tr><th scope=row>4</th><td>2332</td><td>2092</td><td>1164</td><td>1728</td></tr>\n",
       "\t<tr><th scope=row>5</th><td>2316</td><td>2960</td><td>2004</td><td>1164</td></tr>\n",
       "\t<tr><th scope=row>6</th><td> 820</td><td>1516</td><td>1740</td><td> 264</td></tr>\n",
       "\t<tr><th scope=row>7</th><td>1908</td><td>1596</td><td>1704</td><td> 270</td></tr>\n",
       "\t<tr><th scope=row>8</th><td>1636</td><td>2104</td><td>2016</td><td> 270</td></tr>\n",
       "\t<tr><th scope=row>9</th><td>1940</td><td>2740</td><td>1752</td><td> 870</td></tr>\n",
       "\t<tr><th scope=row>10</th><td>1732</td><td>2072</td><td>1446</td><td> 432</td></tr>\n",
       "</tbody>\n",
       "</table>\n"
      ],
      "text/latex": [
       "A data.frame: 10 × 4\n",
       "\\begin{tabular}{r|llll}\n",
       "  & MMM & MSM & SMS & SSS\\\\\n",
       "  & <dbl> & <dbl> & <dbl> & <dbl>\\\\\n",
       "\\hline\n",
       "\t1 & 1908 &  724 & 1050 & 1122\\\\\n",
       "\t2 & 2468 & 1700 & 1716 & 1458\\\\\n",
       "\t3 & 2312 & 2536 & 1410 & 2034\\\\\n",
       "\t4 & 2332 & 2092 & 1164 & 1728\\\\\n",
       "\t5 & 2316 & 2960 & 2004 & 1164\\\\\n",
       "\t6 &  820 & 1516 & 1740 &  264\\\\\n",
       "\t7 & 1908 & 1596 & 1704 &  270\\\\\n",
       "\t8 & 1636 & 2104 & 2016 &  270\\\\\n",
       "\t9 & 1940 & 2740 & 1752 &  870\\\\\n",
       "\t10 & 1732 & 2072 & 1446 &  432\\\\\n",
       "\\end{tabular}\n"
      ],
      "text/markdown": [
       "\n",
       "A data.frame: 10 × 4\n",
       "\n",
       "| <!--/--> | MMM &lt;dbl&gt; | MSM &lt;dbl&gt; | SMS &lt;dbl&gt; | SSS &lt;dbl&gt; |\n",
       "|---|---|---|---|---|\n",
       "| 1 | 1908 |  724 | 1050 | 1122 |\n",
       "| 2 | 2468 | 1700 | 1716 | 1458 |\n",
       "| 3 | 2312 | 2536 | 1410 | 2034 |\n",
       "| 4 | 2332 | 2092 | 1164 | 1728 |\n",
       "| 5 | 2316 | 2960 | 2004 | 1164 |\n",
       "| 6 |  820 | 1516 | 1740 |  264 |\n",
       "| 7 | 1908 | 1596 | 1704 |  270 |\n",
       "| 8 | 1636 | 2104 | 2016 |  270 |\n",
       "| 9 | 1940 | 2740 | 1752 |  870 |\n",
       "| 10 | 1732 | 2072 | 1446 |  432 |\n",
       "\n"
      ],
      "text/plain": [
       "   MMM  MSM  SMS  SSS \n",
       "1  1908  724 1050 1122\n",
       "2  2468 1700 1716 1458\n",
       "3  2312 2536 1410 2034\n",
       "4  2332 2092 1164 1728\n",
       "5  2316 2960 2004 1164\n",
       "6   820 1516 1740  264\n",
       "7  1908 1596 1704  270\n",
       "8  1636 2104 2016  270\n",
       "9  1940 2740 1752  870\n",
       "10 1732 2072 1446  432"
      ]
     },
     "metadata": {},
     "output_type": "display_data"
    }
   ],
   "source": [
    "#Creating dataset for Model games 1-5\n",
    "MMM <- (NewData %>% filter(Agent==\"Model\") %>% filter(GameSpeed==\"MMM\"))$Points\n",
    "MSM <- (NewData %>% filter(Agent==\"Model\") %>% filter(GameSpeed==\"MSM\"))$Points\n",
    "SMS <- (NewData %>% filter(Agent==\"Model\") %>% filter(GameSpeed==\"SMS\"))$Points\n",
    "SSS <- (NewData %>% filter(Agent==\"Model\") %>% filter(GameSpeed==\"SSS\"))$Points\n",
    "M1_5 <- data.frame(MMM,MSM,SMS,SSS)\n",
    "nrow(M1_5)\n",
    "head(M1_5,10)"
   ]
  },
  {
   "cell_type": "code",
   "execution_count": 16,
   "metadata": {},
   "outputs": [
    {
     "data": {
      "text/plain": [
       "       \n",
       "        MMM MSM SMS SSS\n",
       "  Human 100 100 100 100\n",
       "  Model 500 500 500 500"
      ]
     },
     "metadata": {},
     "output_type": "display_data"
    }
   ],
   "source": [
    "#Getting means for games 6-10\n",
    "Data6_10 <- data\n",
    "n_games <- 15\n",
    "for(i in 1:5){\n",
    "    Data6_10 <- Data6_10 %>% filter(GameNb!=i)\n",
    "}\n",
    "for(i in 11:15){\n",
    "    Data6_10 <- Data6_10 %>% filter(GameNb!=i)\n",
    "}\n",
    "table(Data6_10$Agent, Data6_10$GameSpeed)"
   ]
  },
  {
   "cell_type": "code",
   "execution_count": 17,
   "metadata": {},
   "outputs": [
    {
     "data": {
      "text/html": [
       "100"
      ],
      "text/latex": [
       "100"
      ],
      "text/markdown": [
       "100"
      ],
      "text/plain": [
       "[1] 100"
      ]
     },
     "metadata": {},
     "output_type": "display_data"
    },
    {
     "data": {
      "text/html": [
       "<table>\n",
       "<caption>A data.frame: 10 × 4</caption>\n",
       "<thead>\n",
       "\t<tr><th></th><th scope=col>MMM</th><th scope=col>MSM</th><th scope=col>SMS</th><th scope=col>SSS</th></tr>\n",
       "\t<tr><th></th><th scope=col>&lt;dbl&gt;</th><th scope=col>&lt;dbl&gt;</th><th scope=col>&lt;dbl&gt;</th><th scope=col>&lt;dbl&gt;</th></tr>\n",
       "</thead>\n",
       "<tbody>\n",
       "\t<tr><th scope=row>1</th><td>2952</td><td>1170</td><td>2588</td><td>1188</td></tr>\n",
       "\t<tr><th scope=row>2</th><td>3360</td><td>2070</td><td>2992</td><td>1182</td></tr>\n",
       "\t<tr><th scope=row>3</th><td>3368</td><td>2094</td><td>3176</td><td>2070</td></tr>\n",
       "\t<tr><th scope=row>4</th><td>3336</td><td>2394</td><td>3160</td><td>2094</td></tr>\n",
       "\t<tr><th scope=row>5</th><td>3576</td><td>2382</td><td>2984</td><td>1800</td></tr>\n",
       "\t<tr><th scope=row>6</th><td>2924</td><td>2082</td><td>2160</td><td>2394</td></tr>\n",
       "\t<tr><th scope=row>7</th><td>2936</td><td>2082</td><td>2784</td><td>2400</td></tr>\n",
       "\t<tr><th scope=row>8</th><td>3328</td><td>2094</td><td>2552</td><td>2394</td></tr>\n",
       "\t<tr><th scope=row>9</th><td>2904</td><td>2376</td><td>2984</td><td>2400</td></tr>\n",
       "\t<tr><th scope=row>10</th><td>2932</td><td>2376</td><td>3168</td><td>2382</td></tr>\n",
       "</tbody>\n",
       "</table>\n"
      ],
      "text/latex": [
       "A data.frame: 10 × 4\n",
       "\\begin{tabular}{r|llll}\n",
       "  & MMM & MSM & SMS & SSS\\\\\n",
       "  & <dbl> & <dbl> & <dbl> & <dbl>\\\\\n",
       "\\hline\n",
       "\t1 & 2952 & 1170 & 2588 & 1188\\\\\n",
       "\t2 & 3360 & 2070 & 2992 & 1182\\\\\n",
       "\t3 & 3368 & 2094 & 3176 & 2070\\\\\n",
       "\t4 & 3336 & 2394 & 3160 & 2094\\\\\n",
       "\t5 & 3576 & 2382 & 2984 & 1800\\\\\n",
       "\t6 & 2924 & 2082 & 2160 & 2394\\\\\n",
       "\t7 & 2936 & 2082 & 2784 & 2400\\\\\n",
       "\t8 & 3328 & 2094 & 2552 & 2394\\\\\n",
       "\t9 & 2904 & 2376 & 2984 & 2400\\\\\n",
       "\t10 & 2932 & 2376 & 3168 & 2382\\\\\n",
       "\\end{tabular}\n"
      ],
      "text/markdown": [
       "\n",
       "A data.frame: 10 × 4\n",
       "\n",
       "| <!--/--> | MMM &lt;dbl&gt; | MSM &lt;dbl&gt; | SMS &lt;dbl&gt; | SSS &lt;dbl&gt; |\n",
       "|---|---|---|---|---|\n",
       "| 1 | 2952 | 1170 | 2588 | 1188 |\n",
       "| 2 | 3360 | 2070 | 2992 | 1182 |\n",
       "| 3 | 3368 | 2094 | 3176 | 2070 |\n",
       "| 4 | 3336 | 2394 | 3160 | 2094 |\n",
       "| 5 | 3576 | 2382 | 2984 | 1800 |\n",
       "| 6 | 2924 | 2082 | 2160 | 2394 |\n",
       "| 7 | 2936 | 2082 | 2784 | 2400 |\n",
       "| 8 | 3328 | 2094 | 2552 | 2394 |\n",
       "| 9 | 2904 | 2376 | 2984 | 2400 |\n",
       "| 10 | 2932 | 2376 | 3168 | 2382 |\n",
       "\n"
      ],
      "text/plain": [
       "   MMM  MSM  SMS  SSS \n",
       "1  2952 1170 2588 1188\n",
       "2  3360 2070 2992 1182\n",
       "3  3368 2094 3176 2070\n",
       "4  3336 2394 3160 2094\n",
       "5  3576 2382 2984 1800\n",
       "6  2924 2082 2160 2394\n",
       "7  2936 2082 2784 2400\n",
       "8  3328 2094 2552 2394\n",
       "9  2904 2376 2984 2400\n",
       "10 2932 2376 3168 2382"
      ]
     },
     "metadata": {},
     "output_type": "display_data"
    }
   ],
   "source": [
    "#Creating dataset for Human games 6-10\n",
    "MMM <- (Data6_10 %>% filter(Agent==\"Human\") %>% filter(GameSpeed==\"MMM\"))$Points\n",
    "MSM <- (Data6_10 %>% filter(Agent==\"Human\") %>% filter(GameSpeed==\"MSM\"))$Points\n",
    "SMS <- (Data6_10 %>% filter(Agent==\"Human\") %>% filter(GameSpeed==\"SMS\"))$Points\n",
    "SSS <- (Data6_10 %>% filter(Agent==\"Human\") %>% filter(GameSpeed==\"SSS\"))$Points\n",
    "H6_10 <- data.frame(MMM,MSM,SMS,SSS)\n",
    "nrow(H6_10)\n",
    "head(H6_10,10)"
   ]
  },
  {
   "cell_type": "code",
   "execution_count": 18,
   "metadata": {},
   "outputs": [
    {
     "data": {
      "text/html": [
       "500"
      ],
      "text/latex": [
       "500"
      ],
      "text/markdown": [
       "500"
      ],
      "text/plain": [
       "[1] 500"
      ]
     },
     "metadata": {},
     "output_type": "display_data"
    },
    {
     "data": {
      "text/html": [
       "<table>\n",
       "<caption>A data.frame: 10 × 4</caption>\n",
       "<thead>\n",
       "\t<tr><th></th><th scope=col>MMM</th><th scope=col>MSM</th><th scope=col>SMS</th><th scope=col>SSS</th></tr>\n",
       "\t<tr><th></th><th scope=col>&lt;dbl&gt;</th><th scope=col>&lt;dbl&gt;</th><th scope=col>&lt;dbl&gt;</th><th scope=col>&lt;dbl&gt;</th></tr>\n",
       "</thead>\n",
       "<tbody>\n",
       "\t<tr><th scope=row>1</th><td>1940</td><td>1794</td><td>1732</td><td>1440</td></tr>\n",
       "\t<tr><th scope=row>2</th><td>2752</td><td>2322</td><td>2324</td><td>2088</td></tr>\n",
       "\t<tr><th scope=row>3</th><td>2376</td><td>2376</td><td>2532</td><td>2052</td></tr>\n",
       "\t<tr><th scope=row>4</th><td>2352</td><td>2004</td><td>2956</td><td>2328</td></tr>\n",
       "\t<tr><th scope=row>5</th><td>3148</td><td>1122</td><td>2936</td><td>2034</td></tr>\n",
       "\t<tr><th scope=row>6</th><td>2932</td><td>2076</td><td>2548</td><td> 876</td></tr>\n",
       "\t<tr><th scope=row>7</th><td>2576</td><td>1464</td><td>2536</td><td>1128</td></tr>\n",
       "\t<tr><th scope=row>8</th><td>2956</td><td>2046</td><td>2968</td><td> 588</td></tr>\n",
       "\t<tr><th scope=row>9</th><td>2948</td><td>2076</td><td>2972</td><td> 300</td></tr>\n",
       "\t<tr><th scope=row>10</th><td>2692</td><td>1482</td><td>2960</td><td> 288</td></tr>\n",
       "</tbody>\n",
       "</table>\n"
      ],
      "text/latex": [
       "A data.frame: 10 × 4\n",
       "\\begin{tabular}{r|llll}\n",
       "  & MMM & MSM & SMS & SSS\\\\\n",
       "  & <dbl> & <dbl> & <dbl> & <dbl>\\\\\n",
       "\\hline\n",
       "\t1 & 1940 & 1794 & 1732 & 1440\\\\\n",
       "\t2 & 2752 & 2322 & 2324 & 2088\\\\\n",
       "\t3 & 2376 & 2376 & 2532 & 2052\\\\\n",
       "\t4 & 2352 & 2004 & 2956 & 2328\\\\\n",
       "\t5 & 3148 & 1122 & 2936 & 2034\\\\\n",
       "\t6 & 2932 & 2076 & 2548 &  876\\\\\n",
       "\t7 & 2576 & 1464 & 2536 & 1128\\\\\n",
       "\t8 & 2956 & 2046 & 2968 &  588\\\\\n",
       "\t9 & 2948 & 2076 & 2972 &  300\\\\\n",
       "\t10 & 2692 & 1482 & 2960 &  288\\\\\n",
       "\\end{tabular}\n"
      ],
      "text/markdown": [
       "\n",
       "A data.frame: 10 × 4\n",
       "\n",
       "| <!--/--> | MMM &lt;dbl&gt; | MSM &lt;dbl&gt; | SMS &lt;dbl&gt; | SSS &lt;dbl&gt; |\n",
       "|---|---|---|---|---|\n",
       "| 1 | 1940 | 1794 | 1732 | 1440 |\n",
       "| 2 | 2752 | 2322 | 2324 | 2088 |\n",
       "| 3 | 2376 | 2376 | 2532 | 2052 |\n",
       "| 4 | 2352 | 2004 | 2956 | 2328 |\n",
       "| 5 | 3148 | 1122 | 2936 | 2034 |\n",
       "| 6 | 2932 | 2076 | 2548 |  876 |\n",
       "| 7 | 2576 | 1464 | 2536 | 1128 |\n",
       "| 8 | 2956 | 2046 | 2968 |  588 |\n",
       "| 9 | 2948 | 2076 | 2972 |  300 |\n",
       "| 10 | 2692 | 1482 | 2960 |  288 |\n",
       "\n"
      ],
      "text/plain": [
       "   MMM  MSM  SMS  SSS \n",
       "1  1940 1794 1732 1440\n",
       "2  2752 2322 2324 2088\n",
       "3  2376 2376 2532 2052\n",
       "4  2352 2004 2956 2328\n",
       "5  3148 1122 2936 2034\n",
       "6  2932 2076 2548  876\n",
       "7  2576 1464 2536 1128\n",
       "8  2956 2046 2968  588\n",
       "9  2948 2076 2972  300\n",
       "10 2692 1482 2960  288"
      ]
     },
     "metadata": {},
     "output_type": "display_data"
    }
   ],
   "source": [
    "#Creating dataset for Model games 6-10\n",
    "MMM <- (Data6_10 %>% filter(Agent==\"Model\") %>% filter(GameSpeed==\"MMM\"))$Points\n",
    "MSM <- (Data6_10 %>% filter(Agent==\"Model\") %>% filter(GameSpeed==\"MSM\"))$Points\n",
    "SMS <- (Data6_10 %>% filter(Agent==\"Model\") %>% filter(GameSpeed==\"SMS\"))$Points\n",
    "SSS <- (Data6_10 %>% filter(Agent==\"Model\") %>% filter(GameSpeed==\"SSS\"))$Points\n",
    "M6_10 <- data.frame(MMM,MSM,SMS,SSS)\n",
    "nrow(M6_10)\n",
    "head(M6_10,10)"
   ]
  },
  {
   "cell_type": "code",
   "execution_count": 19,
   "metadata": {},
   "outputs": [],
   "source": [
    "Transfer <- function(H1_5,H6_10,M1_5,M6_10) {\n",
    "    #Humans\n",
    "    Slow_H1 <- (mean(H1_5$SMS) + mean(H1_5$SSS))/2\n",
    "    Med_H1 <- (mean(H1_5$MSM)+mean(H1_5$MMM))/2\n",
    "    Slow_H6 <- (mean(H6_10$MSM)+mean(H6_10$SSS))/2\n",
    "    Med_H6 <- (mean(H6_10$SMS)+mean(H6_10$MMM))/2\n",
    "\n",
    "    SSS_H1 <- mean(H1_5$SSS)\n",
    "    MMM_H1 <- mean(H1_5$MMM)\n",
    "    SMS_H1 <- mean(H1_5$SMS)\n",
    "    MSM_H1 <- mean(H1_5$MSM)\n",
    "    \n",
    "    MSM_H6 <- mean(H6_10$MSM)\n",
    "    SMS_H6 <- mean(H6_10$SMS)\n",
    "    SSS_H6 <- mean(H6_10$SSS)\n",
    "    MMM_H6 <- mean(H6_10$MMM)\n",
    "    #Models\n",
    "    Slow_M1 <- (mean(M1_5$SMS) + mean(M1_5$SSS))/2\n",
    "    Med_M1 <- (mean(M1_5$MSM)+mean(M1_5$MMM))/2\n",
    "    Slow_M6 <- (mean(M6_10$MSM)+mean(M6_10$SSS))/2\n",
    "    Med_M6 <- (mean(M6_10$SMS)+mean(M6_10$MMM))/2\n",
    "\n",
    "    SSS_M1 <- mean(M1_5$SSS)\n",
    "    MMM_M1 <- mean(M1_5$MMM)\n",
    "    SMS_M1 <- mean(M1_5$SMS)\n",
    "    MSM_M1 <- mean(M1_5$MSM)\n",
    "    \n",
    "    MSM_M6 <- mean(M6_10$MSM)\n",
    "    SMS_M6 <- mean(M6_10$SMS)\n",
    "    SSS_M6 <- mean(M6_10$SSS)\n",
    "    MMM_M6 <- mean(M6_10$MMM)\n",
    "    \n",
    "    Tr1 <- c(0,0,0,0)\n",
    "    Tr2 <- c(0,0,0,0)\n",
    "    Tr3 <- c(0,0,0,0)\n",
    "    #Transfer calculations - Transfer 1\n",
    "    #Tr1 = [Human_Slow,Human_Medium,Model_Slow,Model_Medium]\n",
    "    #Compute Transfer measures - Humans SSS/MMM 1-5\n",
    "    Tr1[1] <- ((MSM_H6 - Slow_H1)/Slow_H1)*100\n",
    "    Tr1[2] <- ((SMS_H6 - Med_H1)/Med_H1)*100\n",
    "    #Compute Transfer measures now - Models SSS/MMM 1-5\n",
    "    Tr1[3] <- ((MSM_M6 - Slow_M1)/Slow_M1)*100\n",
    "    Tr1[4] <- ((SMS_M6 - Med_M1)/Med_M1)*100 \n",
    "    \n",
    "    #Transfer 2\n",
    "    #Tr2 = [Human_Slow,Human_Medium,Model_Slow,Model_Medium]\n",
    "    #Compute Transfer measures - Humans SSS/MMM 6-10\n",
    "    Tr2[1] <- ((MSM_H6 - Slow_H1)/SSS_H6)*100\n",
    "    Tr2[2] <- ((SMS_H6 - Med_H1)/MMM_H6)*100\n",
    "    #Compute Transfer measures now - Models SSS/MMM 6-10\n",
    "    Tr2[3] <- ((MSM_M6 - Slow_M1)/SSS_M6)*100\n",
    "    Tr2[4] <- ((SMS_M6 - Med_M1)/MMM_M6)*100\n",
    "    \n",
    "    #Transfer 3\n",
    "    #Tr3 = [Human_Slow,Human_Medium,Model_Slow,Model_Medium]\n",
    "    #Compute Transfer measures - Humans difference\n",
    "    Tr3[1] <- ((MSM_H6 - Slow_H1)/(SSS_H6-Slow_H1))*100\n",
    "    Tr3[2] <- ((SMS_H6 - Med_H1)/(MMM_H6-Med_H1))*100\n",
    "    #Compute Transfer measures now - Models difference\n",
    "    Tr3[3] <- ((MSM_M6 - Slow_M1)/(SSS_M6-Slow_M1))*100\n",
    "    Tr3[4] <- ((SMS_M6 - Med_M1)/(MMM_M6-Med_M1))*100\n",
    "    \n",
    "    toReturn <- c(Tr1,Tr2,Tr3) # 4 first are first transfer, 4 second are second transfer, 4 last are last transfer\n",
    "    return(toReturn)\n",
    "}"
   ]
  },
  {
   "cell_type": "code",
   "execution_count": 20,
   "metadata": {
    "scrolled": true
   },
   "outputs": [
    {
     "name": "stdout",
     "output_type": "stream",
     "text": [
      " [1]  21.80189  27.58321  24.98736  24.80937  16.95286  22.80049  19.13572\n",
      " [8]  18.20758  76.22231 131.49641  81.71234  68.42366\n"
     ]
    }
   ],
   "source": [
    "print(Transfer(H1_5,H6_10,M1_5,M6_10))"
   ]
  },
  {
   "cell_type": "code",
   "execution_count": 21,
   "metadata": {},
   "outputs": [],
   "source": [
    "#Bootstrapping transfer function\n",
    "Transfer_bootstrap <- function(H1_5,H6_10,M1_5,M6_10,loop_n) {\n",
    "    matOut = matrix(numeric(loop_n*12), nrow = loop_n, ncol = 12)\n",
    "    for (val in 1:loop_n) {\n",
    "        #1) Shuffle all the columns of each table\n",
    "        copyH1_5 <- H1_5\n",
    "        copyH1_5$MMM <- sample(copyH1_5$MMM,replace=TRUE)\n",
    "        copyH1_5$MSM <- sample(copyH1_5$MSM,replace=TRUE)\n",
    "        copyH1_5$SMS <- sample(copyH1_5$SMS,replace=TRUE)\n",
    "        copyH1_5$SSS <- sample(copyH1_5$SSS,replace=TRUE)\n",
    "        \n",
    "        copyH6_10 <- H6_10\n",
    "        copyH6_10$MMM <- sample(copyH6_10$MMM,replace=TRUE)\n",
    "        copyH6_10$MSM <- sample(copyH6_10$MSM,replace=TRUE)\n",
    "        copyH6_10$SMS <- sample(copyH6_10$SMS,replace=TRUE)\n",
    "        copyH6_10$SSS <- sample(copyH6_10$SSS,replace=TRUE)\n",
    "        \n",
    "        copyM1_5 <- M1_5\n",
    "        copyM1_5$MMM <- sample(copyM1_5$MMM,replace=TRUE)\n",
    "        copyM1_5$MSM <- sample(copyM1_5$MSM,replace=TRUE)\n",
    "        copyM1_5$SMS <- sample(copyM1_5$SMS,replace=TRUE)\n",
    "        copyM1_5$SSS <- sample(copyM1_5$SSS,replace=TRUE)\n",
    "        \n",
    "        copyM6_10 <- M6_10\n",
    "        copyM6_10$MMM <- sample(copyM6_10$MMM,replace=TRUE)\n",
    "        copyM6_10$MSM <- sample(copyM6_10$MSM,replace=TRUE)\n",
    "        copyM6_10$SMS <- sample(copyM6_10$SMS,replace=TRUE)\n",
    "        copyM6_10$SSS <- sample(copyM6_10$SSS,replace=TRUE)\n",
    "        \n",
    "        #2) Run Transfer function on tables & store in matrix\n",
    "        matOut[val,] = Transfer(copyH1_5,copyH6_10,copyM1_5,copyM6_10)\n",
    "    }\n",
    "    return(matOut)\n",
    "}"
   ]
  },
  {
   "cell_type": "code",
   "execution_count": 22,
   "metadata": {},
   "outputs": [],
   "source": [
    "MatTr <- Transfer_bootstrap(H1_5,H6_10,M1_5,M6_10,10000)"
   ]
  },
  {
   "cell_type": "code",
   "execution_count": 23,
   "metadata": {},
   "outputs": [
    {
     "name": "stderr",
     "output_type": "stream",
     "text": [
      "Warning message:\n",
      "“Removed 1530 rows containing non-finite values (stat_ydensity).”\n",
      "Warning message:\n",
      "“Removed 1530 rows containing non-finite values (stat_boxplot).”\n",
      "Warning message:\n",
      "“Removed 1530 rows containing non-finite values (stat_ydensity).”\n",
      "Warning message:\n",
      "“Removed 1530 rows containing non-finite values (stat_boxplot).”\n"
     ]
    },
    {
     "data": {
      "image/png": "[encoded data removed]",
      "text/plain": [
       "plot without title"
      ]
     },
     "metadata": {
      "image/png": {
       "height": 420,
       "width": 420
      }
     },
     "output_type": "display_data"
    }
   ],
   "source": [
    "#Transfer - Bootstrap technique\n",
    "H_Slow <- MatTr[,9]\n",
    "H_Medium <- MatTr[,10]\n",
    "M_Slow <- MatTr[,11]\n",
    "M_Medium <- MatTr[,12]\n",
    "n<-length(H_Medium)\n",
    "\n",
    "#Transfer data frame\n",
    "Agent <- c(rep('Human',n),rep('Human',n),rep('Model',n),rep('Model',n))\n",
    "GameSpeed <- c(rep('Slow',n),rep('Medium',n),rep('Slow',n),rep('Medium',n))\n",
    "Transfer_Perc <- c(H_Slow,H_Medium,M_Slow,M_Medium)\n",
    "Tr3Boot_toPlot <- data.frame(Agent, GameSpeed, Transfer_Perc)\n",
    "\n",
    "#Plot violin plots for Transfer dataset\n",
    "p <- ggplot(Tr3Boot_toPlot, aes(x=GameSpeed, y=Transfer_Perc, fill=Agent)) + \n",
    "  geom_violin() + geom_boxplot(width=0.1,position=position_dodge(0.9)) + theme_classic() +\n",
    "  scale_fill_manual(values=c(\"salmon3\",\"royalblue1\")) + theme_classic() +\n",
    "     theme(plot.title = element_text(size=30,hjust=0.5),\n",
    "     axis.text = element_text(size = 26),\n",
    "     strip.text = element_text(size = 26,face = \"bold\"),\n",
    "     axis.title = element_text( size = 26, face = \"bold\" ),\n",
    "     legend.title=element_text(size=30),\n",
    "     legend.text=element_text(size=30)) +\n",
    "    labs(x = \"Speed\", y = \"Transfer (%)\") +\n",
    "  scale_x_discrete(labels=c(\"High\", \"Low\")) + ylim(0,200)\n",
    "  #ggtitle(\"Transfer with Bootsrapping\")\n",
    "p\n",
    "pathFig <- '../Figures/Figure6bis.png'\n",
    "ggsave(pathFig,p,width=12.5,height=12)"
   ]
  },
  {
   "cell_type": "code",
   "execution_count": 24,
   "metadata": {},
   "outputs": [
    {
     "data": {
      "text/plain": [
       "\n",
       "\tWelch Two Sample t-test\n",
       "\n",
       "data:  H_Medium and M_Medium\n",
       "t = 4.2209, df = 9999.1, p-value = 2.455e-05\n",
       "alternative hypothesis: true difference in means is not equal to 0\n",
       "95 percent confidence interval:\n",
       "  54.16152 148.08591\n",
       "sample estimates:\n",
       "mean of x mean of y \n",
       "169.52534  68.40162 \n"
      ]
     },
     "metadata": {},
     "output_type": "display_data"
    },
    {
     "data": {
      "text/plain": [
       "\n",
       "\tWelch Two Sample t-test\n",
       "\n",
       "data:  H_Slow and M_Slow\n",
       "t = -9.0927, df = 10806, p-value < 2.2e-16\n",
       "alternative hypothesis: true difference in means is not equal to 0\n",
       "95 percent confidence interval:\n",
       " -3.087566 -1.992432\n",
       "sample estimates:\n",
       "mean of x mean of y \n",
       " 79.26223  81.80223 \n"
      ]
     },
     "metadata": {},
     "output_type": "display_data"
    }
   ],
   "source": [
    "t.test(H_Medium,M_Medium)\n",
    "t.test(H_Slow,M_Slow)\n",
    "#shapiro.test(H_Medium)"
   ]
  },
  {
   "cell_type": "code",
   "execution_count": 25,
   "metadata": {},
   "outputs": [
    {
     "data": {
      "text/html": [
       "131.08056950216"
      ],
      "text/latex": [
       "131.08056950216"
      ],
      "text/markdown": [
       "131.08056950216"
      ],
      "text/plain": [
       "[1] 131.0806"
      ]
     },
     "metadata": {},
     "output_type": "display_data"
    },
    {
     "data": {
      "text/html": [
       "68.4631545318847"
      ],
      "text/latex": [
       "68.4631545318847"
      ],
      "text/markdown": [
       "68.4631545318847"
      ],
      "text/plain": [
       "[1] 68.46315"
      ]
     },
     "metadata": {},
     "output_type": "display_data"
    },
    {
     "data": {
      "text/html": [
       "76.3470172532579"
      ],
      "text/latex": [
       "76.3470172532579"
      ],
      "text/markdown": [
       "76.3470172532579"
      ],
      "text/plain": [
       "[1] 76.34702"
      ]
     },
     "metadata": {},
     "output_type": "display_data"
    },
    {
     "data": {
      "text/html": [
       "81.6415083222762"
      ],
      "text/latex": [
       "81.6415083222762"
      ],
      "text/markdown": [
       "81.6415083222762"
      ],
      "text/plain": [
       "[1] 81.64151"
      ]
     },
     "metadata": {},
     "output_type": "display_data"
    }
   ],
   "source": [
    "median(H_Medium)\n",
    "median(M_Medium)\n",
    "median(H_Slow)\n",
    "median(M_Slow)"
   ]
  },
  {
   "cell_type": "code",
   "execution_count": 26,
   "metadata": {},
   "outputs": [
    {
     "data": {
      "text/html": [
       "169.525335383638"
      ],
      "text/latex": [
       "169.525335383638"
      ],
      "text/markdown": [
       "169.525335383638"
      ],
      "text/plain": [
       "[1] 169.5253"
      ]
     },
     "metadata": {},
     "output_type": "display_data"
    },
    {
     "data": {
      "text/html": [
       "68.4016209496321"
      ],
      "text/latex": [
       "68.4016209496321"
      ],
      "text/markdown": [
       "68.4016209496321"
      ],
      "text/plain": [
       "[1] 68.40162"
      ]
     },
     "metadata": {},
     "output_type": "display_data"
    },
    {
     "data": {
      "text/html": [
       "79.2622303029527"
      ],
      "text/latex": [
       "79.2622303029527"
      ],
      "text/markdown": [
       "79.2622303029527"
      ],
      "text/plain": [
       "[1] 79.26223"
      ]
     },
     "metadata": {},
     "output_type": "display_data"
    },
    {
     "data": {
      "text/html": [
       "81.802229391457"
      ],
      "text/latex": [
       "81.802229391457"
      ],
      "text/markdown": [
       "81.802229391457"
      ],
      "text/plain": [
       "[1] 81.80223"
      ]
     },
     "metadata": {},
     "output_type": "display_data"
    }
   ],
   "source": [
    "mean(H_Medium)\n",
    "mean(M_Medium)\n",
    "mean(H_Slow)\n",
    "mean(M_Slow)"
   ]
  },
  {
   "cell_type": "code",
   "execution_count": null,
   "metadata": {},
   "outputs": [],
   "source": []
  },
  {
   "cell_type": "code",
   "execution_count": null,
   "metadata": {},
   "outputs": [],
   "source": []
  }
 ],
 "metadata": {
  "kernelspec": {
   "display_name": "R",
   "language": "R",
   "name": "ir"
  },
  "language_info": {
   "codemirror_mode": "r",
   "file_extension": ".r",
   "mimetype": "text/x-r-source",
   "name": "R",
   "pygments_lexer": "r",
   "version": "3.6.1"
  }
 },
 "nbformat": 4,
 "nbformat_minor": 2
}
