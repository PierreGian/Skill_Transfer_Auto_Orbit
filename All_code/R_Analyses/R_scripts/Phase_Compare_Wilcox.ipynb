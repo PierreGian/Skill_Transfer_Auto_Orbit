{
 "cells": [
  {
   "cell_type": "code",
   "execution_count": 1,
   "metadata": {},
   "outputs": [
    {
     "name": "stderr",
     "output_type": "stream",
     "text": [
      "Loading required package: Matrix\n",
      "\n",
      "\n",
      "Attaching package: ‘dplyr’\n",
      "\n",
      "\n",
      "The following objects are masked from ‘package:stats’:\n",
      "\n",
      "    filter, lag\n",
      "\n",
      "\n",
      "The following objects are masked from ‘package:base’:\n",
      "\n",
      "    intersect, setdiff, setequal, union\n",
      "\n",
      "\n",
      "\n",
      "Attaching package: ‘MASS’\n",
      "\n",
      "\n",
      "The following object is masked from ‘package:dplyr’:\n",
      "\n",
      "    select\n",
      "\n",
      "\n",
      "Loading required package: coda\n",
      "\n",
      "************\n",
      "Welcome to BayesFactor 0.9.12-4.2. If you have questions, please contact Richard Morey (richarddmorey@gmail.com).\n",
      "\n",
      "Type BFManual() to open the manual.\n",
      "************\n",
      "\n",
      "Loading required package: carData\n",
      "\n",
      "Registered S3 methods overwritten by 'car':\n",
      "  method                          from\n",
      "  influence.merMod                lme4\n",
      "  cooks.distance.influence.merMod lme4\n",
      "  dfbeta.influence.merMod         lme4\n",
      "  dfbetas.influence.merMod        lme4\n",
      "\n",
      "\n",
      "Attaching package: ‘car’\n",
      "\n",
      "\n",
      "The following object is masked from ‘package:dplyr’:\n",
      "\n",
      "    recode\n",
      "\n",
      "\n",
      "\n",
      "Attaching package: ‘lmerTest’\n",
      "\n",
      "\n",
      "The following object is masked from ‘package:lme4’:\n",
      "\n",
      "    lmer\n",
      "\n",
      "\n",
      "The following object is masked from ‘package:stats’:\n",
      "\n",
      "    step\n",
      "\n",
      "\n",
      "------------------------------------------------------------------------------\n",
      "\n",
      "You have loaded plyr after dplyr - this is likely to cause problems.\n",
      "If you need functions from both plyr and dplyr, please load plyr first, then dplyr:\n",
      "library(plyr); library(dplyr)\n",
      "\n",
      "------------------------------------------------------------------------------\n",
      "\n",
      "\n",
      "Attaching package: ‘plyr’\n",
      "\n",
      "\n",
      "The following objects are masked from ‘package:dplyr’:\n",
      "\n",
      "    arrange, count, desc, failwith, id, mutate, rename, summarise,\n",
      "    summarize\n",
      "\n",
      "\n",
      "\n",
      "Attaching package: ‘rstatix’\n",
      "\n",
      "\n",
      "The following objects are masked from ‘package:plyr’:\n",
      "\n",
      "    desc, mutate\n",
      "\n",
      "\n",
      "The following object is masked from ‘package:MASS’:\n",
      "\n",
      "    select\n",
      "\n",
      "\n",
      "The following object is masked from ‘package:stats’:\n",
      "\n",
      "    filter\n",
      "\n",
      "\n",
      "\n",
      "Attaching package: ‘ggpubr’\n",
      "\n",
      "\n",
      "The following object is masked from ‘package:plyr’:\n",
      "\n",
      "    mutate\n",
      "\n",
      "\n",
      "Loading required package: mvtnorm\n",
      "\n",
      "Loading required package: survival\n",
      "\n",
      "Loading required package: TH.data\n",
      "\n",
      "\n",
      "Attaching package: ‘TH.data’\n",
      "\n",
      "\n",
      "The following object is masked from ‘package:MASS’:\n",
      "\n",
      "    geyser\n",
      "\n",
      "\n",
      "Loading required package: emmeans\n",
      "\n",
      "The 'lsmeans' package is now basically a front end for 'emmeans'.\n",
      "Users are encouraged to switch the rest of the way.\n",
      "See help('transition') for more information, including how to\n",
      "convert old 'lsmeans' objects and scripts to work with 'emmeans'.\n",
      "\n",
      "Loading required package: nlme\n",
      "\n",
      "\n",
      "Attaching package: ‘nlme’\n",
      "\n",
      "\n",
      "The following object is masked from ‘package:dplyr’:\n",
      "\n",
      "    collapse\n",
      "\n",
      "\n",
      "The following object is masked from ‘package:lme4’:\n",
      "\n",
      "    lmList\n",
      "\n",
      "\n"
     ]
    }
   ],
   "source": [
    "library(\"lme4\")\n",
    "library(\"ggplot2\")\n",
    "library(\"dplyr\")\n",
    "library(MASS)\n",
    "library(\"BayesFactor\")\n",
    "library(\"car\")\n",
    "library(\"scales\")\n",
    "library(\"lmerTest\")\n",
    "library(\"MuMIn\")\n",
    "library(\"plyr\")\n",
    "library(\"knitr\")\n",
    "library(\"rstatix\")\n",
    "library(\"ggpubr\")\n",
    "library(\"multcompView\")\n",
    "library(\"multcomp\")\n",
    "library(\"lsmeans\")\n",
    "library(\"rcompanion\")\n",
    "require(nlme)\n",
    "library(\"agricolae\")"
   ]
  },
  {
   "cell_type": "code",
   "execution_count": 2,
   "metadata": {},
   "outputs": [],
   "source": [
    "#Load the data => Here, we are filtering the cases in which subjects had a MuIFI of 0\n",
    "FinalPath<-'../ToInput/R_HumMod_MS17_notemp.txt'\n",
    "data <- read.delim(FinalPath, sep=\"\\t\", header=T, stringsAsFactors=F)\n",
    "data <- data %>% filter(!Amplitude==0) \n",
    "dataTest <- data\n",
    "data$lCV <- log(data$CV)\n",
    "NArow <- which(is.na(data$lCV))\n",
    "data <- data %>% filter(!is.na(lCV))"
   ]
  },
  {
   "cell_type": "code",
   "execution_count": 3,
   "metadata": {},
   "outputs": [],
   "source": [
    "##Source for \"SummarySE\": http://www.cookbook-r.com/Manipulating_data/Summarizing_data/\n",
    "##\n",
    "##\n",
    "## Gives count, mean, standard deviation, standard error of the mean, and confidence interval (default 95%).\n",
    "##   data: a data frame.\n",
    "##   measurevar: the name of a column that contains the variable to be summariezed\n",
    "##   groupvars: a vector containing names of columns that contain grouping variables\n",
    "##   na.rm: a boolean that indicates whether to ignore NA's\n",
    "##   conf.interval: the percent range of the confidence interval (default is 95%)\n",
    "summarySE <- function(data=NULL, measurevar, groupvars=NULL, na.rm=FALSE,\n",
    "                      conf.interval=.95, .drop=TRUE) {\n",
    "    library(plyr)\n",
    "\n",
    "    # New version of length which can handle NA's: if na.rm==T, don't count them\n",
    "    length2 <- function (x, na.rm=FALSE) {\n",
    "        if (na.rm) sum(!is.na(x))\n",
    "        else       length(x)\n",
    "    }\n",
    "\n",
    "    # This does the summary. For each group's data frame, return a vector with\n",
    "    # N, mean, and sd\n",
    "    datac <- ddply(data, groupvars, .drop=.drop,\n",
    "      .fun = function(xx, col) {\n",
    "        c(N    = length2(xx[[col]], na.rm=na.rm),\n",
    "          mean = mean   (xx[[col]], na.rm=na.rm),\n",
    "          sd   = sd     (xx[[col]], na.rm=na.rm)\n",
    "        )\n",
    "      },\n",
    "      measurevar\n",
    "    )\n",
    "\n",
    "    # Rename the \"mean\" column    \n",
    "    datac <- rename(datac, c(\"mean\" = measurevar))\n",
    "\n",
    "    datac$se <- datac$sd / sqrt(datac$N)  # Calculate standard error of the mean\n",
    "\n",
    "    # Confidence interval multiplier for standard error\n",
    "    # Calculate t-statistic for confidence interval: \n",
    "    # e.g., if conf.interval is .95, use .975 (above/below), and use df=N-1\n",
    "    ciMult <- qt(conf.interval/2 + .5, datac$N-1)\n",
    "    datac$ci <- datac$se * ciMult\n",
    "\n",
    "    return(datac)\n",
    "}"
   ]
  },
  {
   "cell_type": "code",
   "execution_count": 4,
   "metadata": {},
   "outputs": [],
   "source": [
    "# Multiple plot function: source: http://www.cookbook-r.com/Graphs/Multiple_graphs_on_one_page_(ggplot2)/\n",
    "#\n",
    "#\n",
    "# ggplot objects can be passed in ..., or to plotlist (as a list of ggplot objects)\n",
    "# - cols:   Number of columns in layout\n",
    "# - layout: A matrix specifying the layout. If present, 'cols' is ignored.\n",
    "#\n",
    "# If the layout is something like matrix(c(1,2,3,3), nrow=2, byrow=TRUE),\n",
    "# then plot 1 will go in the upper left, 2 will go in the upper right, and\n",
    "# 3 will go all the way across the bottom.\n",
    "#\n",
    "multiplot <- function(..., plotlist=NULL, file, cols=1, layout=NULL) {\n",
    "  library(grid)\n",
    "\n",
    "  # Make a list from the ... arguments and plotlist\n",
    "  plots <- c(list(...), plotlist)\n",
    "\n",
    "  numPlots = length(plots)\n",
    "\n",
    "  # If layout is NULL, then use 'cols' to determine layout\n",
    "  if (is.null(layout)) {\n",
    "    # Make the panel\n",
    "    # ncol: Number of columns of plots\n",
    "    # nrow: Number of rows needed, calculated from # of cols\n",
    "    layout <- matrix(seq(1, cols * ceiling(numPlots/cols)),\n",
    "                    ncol = cols, nrow = ceiling(numPlots/cols))\n",
    "  }\n",
    "\n",
    " if (numPlots==1) {\n",
    "    print(plots[[1]])\n",
    "\n",
    "  } else {\n",
    "    # Set up the page\n",
    "    grid.newpage()\n",
    "    pushViewport(viewport(layout = grid.layout(nrow(layout), ncol(layout))))\n",
    "\n",
    "    # Make each plot, in the correct location\n",
    "    for (i in 1:numPlots) {\n",
    "      # Get the i,j matrix positions of the regions that contain this subplot\n",
    "      matchidx <- as.data.frame(which(layout == i, arr.ind = TRUE))\n",
    "\n",
    "      print(plots[[i]], vp = viewport(layout.pos.row = matchidx$row,\n",
    "                                      layout.pos.col = matchidx$col))\n",
    "    }\n",
    "  }\n",
    "}"
   ]
  },
  {
   "cell_type": "markdown",
   "metadata": {},
   "source": [
    "# Extract First 5 games data"
   ]
  },
  {
   "cell_type": "code",
   "execution_count": 5,
   "metadata": {},
   "outputs": [
    {
     "data": {
      "text/plain": [
       "       \n",
       "        MMM MSM SMS SSS\n",
       "  Human  80  92  95  84"
      ]
     },
     "metadata": {},
     "output_type": "display_data"
    },
    {
     "data": {
      "text/html": [
       "77"
      ],
      "text/latex": [
       "77"
      ],
      "text/markdown": [
       "77"
      ],
      "text/plain": [
       "[1] 77"
      ]
     },
     "metadata": {},
     "output_type": "display_data"
    },
    {
     "data": {
      "text/html": [
       "<table>\n",
       "<caption>A data.frame: 10 × 7</caption>\n",
       "<thead>\n",
       "\t<tr><th></th><th scope=col>Subject</th><th scope=col>Agent</th><th scope=col>GameSpeed</th><th scope=col>Amplitude</th><th scope=col>Periodicity</th><th scope=col>Entropy</th><th scope=col>lCV</th></tr>\n",
       "\t<tr><th></th><th scope=col>&lt;chr&gt;</th><th scope=col>&lt;chr&gt;</th><th scope=col>&lt;chr&gt;</th><th scope=col>&lt;dbl&gt;</th><th scope=col>&lt;dbl&gt;</th><th scope=col>&lt;dbl&gt;</th><th scope=col>&lt;dbl&gt;</th></tr>\n",
       "</thead>\n",
       "<tbody>\n",
       "\t<tr><th scope=row>1</th><td>A10GBO6PU2EI0K</td><td>Human</td><td>MSM</td><td>0.19151277</td><td> 784.0</td><td>3.246518</td><td>-1.2202040</td></tr>\n",
       "\t<tr><th scope=row>2</th><td>A12WDL4PB927P6</td><td>Human</td><td>SMS</td><td>0.14389429</td><td>1084.8</td><td>3.589319</td><td>-0.7473337</td></tr>\n",
       "\t<tr><th scope=row>3</th><td>A12ZO39VZ879ZS</td><td>Human</td><td>SMS</td><td>0.11915947</td><td>1180.8</td><td>3.394718</td><td>-1.2443726</td></tr>\n",
       "\t<tr><th scope=row>4</th><td>A15J42M6EC7Y1K</td><td>Human</td><td>SSS</td><td>0.07435005</td><td>1193.6</td><td>3.665702</td><td>-1.2107393</td></tr>\n",
       "\t<tr><th scope=row>5</th><td>A16335MOISDG1F</td><td>Human</td><td>MSM</td><td>0.14269687</td><td> 640.0</td><td>3.172987</td><td>-0.9372757</td></tr>\n",
       "\t<tr><th scope=row>6</th><td>A19M1TGTL9HKHB</td><td>Human</td><td>SSS</td><td>0.12906968</td><td>1305.6</td><td>3.491844</td><td>-1.0682865</td></tr>\n",
       "\t<tr><th scope=row>7</th><td>A1AJ2G7JXXJ8UJ</td><td>Human</td><td>MMM</td><td>0.15628601</td><td> 726.4</td><td>3.160044</td><td>-1.1044700</td></tr>\n",
       "\t<tr><th scope=row>8</th><td>A1E8ZYOQSGKTP8</td><td>Human</td><td>MSM</td><td>0.38543002</td><td> 992.0</td><td>3.398248</td><td>-0.2857093</td></tr>\n",
       "\t<tr><th scope=row>9</th><td>A1EQAFAN71Z0SK</td><td>Human</td><td>SSS</td><td>0.18445878</td><td>1260.8</td><td>3.633584</td><td>-1.2598311</td></tr>\n",
       "\t<tr><th scope=row>10</th><td>A1H5I0BGVIY5CC</td><td>Human</td><td>SSS</td><td>0.09150763</td><td>1200.0</td><td>3.856025</td><td>-0.5176969</td></tr>\n",
       "</tbody>\n",
       "</table>\n"
      ],
      "text/latex": [
       "A data.frame: 10 × 7\n",
       "\\begin{tabular}{r|lllllll}\n",
       "  & Subject & Agent & GameSpeed & Amplitude & Periodicity & Entropy & lCV\\\\\n",
       "  & <chr> & <chr> & <chr> & <dbl> & <dbl> & <dbl> & <dbl>\\\\\n",
       "\\hline\n",
       "\t1 & A10GBO6PU2EI0K & Human & MSM & 0.19151277 &  784.0 & 3.246518 & -1.2202040\\\\\n",
       "\t2 & A12WDL4PB927P6 & Human & SMS & 0.14389429 & 1084.8 & 3.589319 & -0.7473337\\\\\n",
       "\t3 & A12ZO39VZ879ZS & Human & SMS & 0.11915947 & 1180.8 & 3.394718 & -1.2443726\\\\\n",
       "\t4 & A15J42M6EC7Y1K & Human & SSS & 0.07435005 & 1193.6 & 3.665702 & -1.2107393\\\\\n",
       "\t5 & A16335MOISDG1F & Human & MSM & 0.14269687 &  640.0 & 3.172987 & -0.9372757\\\\\n",
       "\t6 & A19M1TGTL9HKHB & Human & SSS & 0.12906968 & 1305.6 & 3.491844 & -1.0682865\\\\\n",
       "\t7 & A1AJ2G7JXXJ8UJ & Human & MMM & 0.15628601 &  726.4 & 3.160044 & -1.1044700\\\\\n",
       "\t8 & A1E8ZYOQSGKTP8 & Human & MSM & 0.38543002 &  992.0 & 3.398248 & -0.2857093\\\\\n",
       "\t9 & A1EQAFAN71Z0SK & Human & SSS & 0.18445878 & 1260.8 & 3.633584 & -1.2598311\\\\\n",
       "\t10 & A1H5I0BGVIY5CC & Human & SSS & 0.09150763 & 1200.0 & 3.856025 & -0.5176969\\\\\n",
       "\\end{tabular}\n"
      ],
      "text/markdown": [
       "\n",
       "A data.frame: 10 × 7\n",
       "\n",
       "| <!--/--> | Subject &lt;chr&gt; | Agent &lt;chr&gt; | GameSpeed &lt;chr&gt; | Amplitude &lt;dbl&gt; | Periodicity &lt;dbl&gt; | Entropy &lt;dbl&gt; | lCV &lt;dbl&gt; |\n",
       "|---|---|---|---|---|---|---|---|\n",
       "| 1 | A10GBO6PU2EI0K | Human | MSM | 0.19151277 |  784.0 | 3.246518 | -1.2202040 |\n",
       "| 2 | A12WDL4PB927P6 | Human | SMS | 0.14389429 | 1084.8 | 3.589319 | -0.7473337 |\n",
       "| 3 | A12ZO39VZ879ZS | Human | SMS | 0.11915947 | 1180.8 | 3.394718 | -1.2443726 |\n",
       "| 4 | A15J42M6EC7Y1K | Human | SSS | 0.07435005 | 1193.6 | 3.665702 | -1.2107393 |\n",
       "| 5 | A16335MOISDG1F | Human | MSM | 0.14269687 |  640.0 | 3.172987 | -0.9372757 |\n",
       "| 6 | A19M1TGTL9HKHB | Human | SSS | 0.12906968 | 1305.6 | 3.491844 | -1.0682865 |\n",
       "| 7 | A1AJ2G7JXXJ8UJ | Human | MMM | 0.15628601 |  726.4 | 3.160044 | -1.1044700 |\n",
       "| 8 | A1E8ZYOQSGKTP8 | Human | MSM | 0.38543002 |  992.0 | 3.398248 | -0.2857093 |\n",
       "| 9 | A1EQAFAN71Z0SK | Human | SSS | 0.18445878 | 1260.8 | 3.633584 | -1.2598311 |\n",
       "| 10 | A1H5I0BGVIY5CC | Human | SSS | 0.09150763 | 1200.0 | 3.856025 | -0.5176969 |\n",
       "\n"
      ],
      "text/plain": [
       "   Subject        Agent GameSpeed Amplitude  Periodicity Entropy  lCV       \n",
       "1  A10GBO6PU2EI0K Human MSM       0.19151277  784.0      3.246518 -1.2202040\n",
       "2  A12WDL4PB927P6 Human SMS       0.14389429 1084.8      3.589319 -0.7473337\n",
       "3  A12ZO39VZ879ZS Human SMS       0.11915947 1180.8      3.394718 -1.2443726\n",
       "4  A15J42M6EC7Y1K Human SSS       0.07435005 1193.6      3.665702 -1.2107393\n",
       "5  A16335MOISDG1F Human MSM       0.14269687  640.0      3.172987 -0.9372757\n",
       "6  A19M1TGTL9HKHB Human SSS       0.12906968 1305.6      3.491844 -1.0682865\n",
       "7  A1AJ2G7JXXJ8UJ Human MMM       0.15628601  726.4      3.160044 -1.1044700\n",
       "8  A1E8ZYOQSGKTP8 Human MSM       0.38543002  992.0      3.398248 -0.2857093\n",
       "9  A1EQAFAN71Z0SK Human SSS       0.18445878 1260.8      3.633584 -1.2598311\n",
       "10 A1H5I0BGVIY5CC Human SSS       0.09150763 1200.0      3.856025 -0.5176969"
      ]
     },
     "metadata": {},
     "output_type": "display_data"
    }
   ],
   "source": [
    "#Getting means for games 1-5\n",
    "Data1_5 <- data %>% filter(Agent==\"Human\")\n",
    "n_games <- 15\n",
    "for(i in 6:15){\n",
    "    Data1_5 <- Data1_5 %>% filter(GameNb!=i)\n",
    "}\n",
    "table(Data1_5$Agent, Data1_5$GameSpeed)\n",
    "\n",
    "DataM1_5 <- ddply(Data1_5, c(\"Subject\",\"Agent\",\"GameSpeed\"), summarize,  Amplitude=mean(Amplitude),Periodicity=mean(Periodicity),Entropy=mean(Entropy),lCV=mean(lCV))\n",
    "DataM1_5 <- DataM1_5[order(DataM1_5$Subject),] # order by subject\n",
    "nb_subjs1<-nrow(DataM1_5)\n",
    "nb_subjs1\n",
    "#nrow(DataM1_5)\n",
    "head(DataM1_5,10)"
   ]
  },
  {
   "cell_type": "markdown",
   "metadata": {},
   "source": [
    "# Extract Middle 5 games data"
   ]
  },
  {
   "cell_type": "code",
   "execution_count": 6,
   "metadata": {},
   "outputs": [
    {
     "data": {
      "text/plain": [
       "       \n",
       "        MMM MSM SMS SSS\n",
       "  Human  95  97  90  93"
      ]
     },
     "metadata": {},
     "output_type": "display_data"
    },
    {
     "data": {
      "text/html": [
       "78"
      ],
      "text/latex": [
       "78"
      ],
      "text/markdown": [
       "78"
      ],
      "text/plain": [
       "[1] 78"
      ]
     },
     "metadata": {},
     "output_type": "display_data"
    },
    {
     "data": {
      "text/html": [
       "<table>\n",
       "<caption>A data.frame: 10 × 7</caption>\n",
       "<thead>\n",
       "\t<tr><th></th><th scope=col>Subject</th><th scope=col>Agent</th><th scope=col>GameSpeed</th><th scope=col>Amplitude</th><th scope=col>Periodicity</th><th scope=col>Entropy</th><th scope=col>lCV</th></tr>\n",
       "\t<tr><th></th><th scope=col>&lt;chr&gt;</th><th scope=col>&lt;chr&gt;</th><th scope=col>&lt;chr&gt;</th><th scope=col>&lt;dbl&gt;</th><th scope=col>&lt;dbl&gt;</th><th scope=col>&lt;dbl&gt;</th><th scope=col>&lt;dbl&gt;</th></tr>\n",
       "</thead>\n",
       "<tbody>\n",
       "\t<tr><th scope=row>1</th><td>A10GBO6PU2EI0K</td><td>Human</td><td>MSM</td><td>0.06550943</td><td>1219.2</td><td>3.332735</td><td>-1.3783059</td></tr>\n",
       "\t<tr><th scope=row>2</th><td>A12WDL4PB927P6</td><td>Human</td><td>SMS</td><td>0.19825693</td><td> 904.0</td><td>3.086130</td><td>-0.7575121</td></tr>\n",
       "\t<tr><th scope=row>3</th><td>A12ZO39VZ879ZS</td><td>Human</td><td>SMS</td><td>0.23277921</td><td> 748.8</td><td>3.018638</td><td>-1.3199233</td></tr>\n",
       "\t<tr><th scope=row>4</th><td>A15J42M6EC7Y1K</td><td>Human</td><td>SSS</td><td>0.09187504</td><td>1347.2</td><td>3.581618</td><td>-1.2493415</td></tr>\n",
       "\t<tr><th scope=row>5</th><td>A16335MOISDG1F</td><td>Human</td><td>MSM</td><td>0.20426644</td><td>1267.2</td><td>3.402664</td><td>-1.5323308</td></tr>\n",
       "\t<tr><th scope=row>6</th><td>A19M1TGTL9HKHB</td><td>Human</td><td>SSS</td><td>0.10614098</td><td>1456.0</td><td>3.373728</td><td>-1.2621086</td></tr>\n",
       "\t<tr><th scope=row>7</th><td>A1AJ2G7JXXJ8UJ</td><td>Human</td><td>MMM</td><td>0.12836712</td><td> 739.2</td><td>2.964896</td><td>-1.3636945</td></tr>\n",
       "\t<tr><th scope=row>8</th><td>A1E8ZYOQSGKTP8</td><td>Human</td><td>MSM</td><td>0.23646547</td><td>1331.2</td><td>3.745417</td><td>-0.5282842</td></tr>\n",
       "\t<tr><th scope=row>9</th><td>A1EQAFAN71Z0SK</td><td>Human</td><td>SSS</td><td>0.26503487</td><td>1212.8</td><td>3.296914</td><td>-1.3491235</td></tr>\n",
       "\t<tr><th scope=row>10</th><td>A1H5I0BGVIY5CC</td><td>Human</td><td>SSS</td><td>0.07928972</td><td>1190.4</td><td>3.570329</td><td>-1.0907798</td></tr>\n",
       "</tbody>\n",
       "</table>\n"
      ],
      "text/latex": [
       "A data.frame: 10 × 7\n",
       "\\begin{tabular}{r|lllllll}\n",
       "  & Subject & Agent & GameSpeed & Amplitude & Periodicity & Entropy & lCV\\\\\n",
       "  & <chr> & <chr> & <chr> & <dbl> & <dbl> & <dbl> & <dbl>\\\\\n",
       "\\hline\n",
       "\t1 & A10GBO6PU2EI0K & Human & MSM & 0.06550943 & 1219.2 & 3.332735 & -1.3783059\\\\\n",
       "\t2 & A12WDL4PB927P6 & Human & SMS & 0.19825693 &  904.0 & 3.086130 & -0.7575121\\\\\n",
       "\t3 & A12ZO39VZ879ZS & Human & SMS & 0.23277921 &  748.8 & 3.018638 & -1.3199233\\\\\n",
       "\t4 & A15J42M6EC7Y1K & Human & SSS & 0.09187504 & 1347.2 & 3.581618 & -1.2493415\\\\\n",
       "\t5 & A16335MOISDG1F & Human & MSM & 0.20426644 & 1267.2 & 3.402664 & -1.5323308\\\\\n",
       "\t6 & A19M1TGTL9HKHB & Human & SSS & 0.10614098 & 1456.0 & 3.373728 & -1.2621086\\\\\n",
       "\t7 & A1AJ2G7JXXJ8UJ & Human & MMM & 0.12836712 &  739.2 & 2.964896 & -1.3636945\\\\\n",
       "\t8 & A1E8ZYOQSGKTP8 & Human & MSM & 0.23646547 & 1331.2 & 3.745417 & -0.5282842\\\\\n",
       "\t9 & A1EQAFAN71Z0SK & Human & SSS & 0.26503487 & 1212.8 & 3.296914 & -1.3491235\\\\\n",
       "\t10 & A1H5I0BGVIY5CC & Human & SSS & 0.07928972 & 1190.4 & 3.570329 & -1.0907798\\\\\n",
       "\\end{tabular}\n"
      ],
      "text/markdown": [
       "\n",
       "A data.frame: 10 × 7\n",
       "\n",
       "| <!--/--> | Subject &lt;chr&gt; | Agent &lt;chr&gt; | GameSpeed &lt;chr&gt; | Amplitude &lt;dbl&gt; | Periodicity &lt;dbl&gt; | Entropy &lt;dbl&gt; | lCV &lt;dbl&gt; |\n",
       "|---|---|---|---|---|---|---|---|\n",
       "| 1 | A10GBO6PU2EI0K | Human | MSM | 0.06550943 | 1219.2 | 3.332735 | -1.3783059 |\n",
       "| 2 | A12WDL4PB927P6 | Human | SMS | 0.19825693 |  904.0 | 3.086130 | -0.7575121 |\n",
       "| 3 | A12ZO39VZ879ZS | Human | SMS | 0.23277921 |  748.8 | 3.018638 | -1.3199233 |\n",
       "| 4 | A15J42M6EC7Y1K | Human | SSS | 0.09187504 | 1347.2 | 3.581618 | -1.2493415 |\n",
       "| 5 | A16335MOISDG1F | Human | MSM | 0.20426644 | 1267.2 | 3.402664 | -1.5323308 |\n",
       "| 6 | A19M1TGTL9HKHB | Human | SSS | 0.10614098 | 1456.0 | 3.373728 | -1.2621086 |\n",
       "| 7 | A1AJ2G7JXXJ8UJ | Human | MMM | 0.12836712 |  739.2 | 2.964896 | -1.3636945 |\n",
       "| 8 | A1E8ZYOQSGKTP8 | Human | MSM | 0.23646547 | 1331.2 | 3.745417 | -0.5282842 |\n",
       "| 9 | A1EQAFAN71Z0SK | Human | SSS | 0.26503487 | 1212.8 | 3.296914 | -1.3491235 |\n",
       "| 10 | A1H5I0BGVIY5CC | Human | SSS | 0.07928972 | 1190.4 | 3.570329 | -1.0907798 |\n",
       "\n"
      ],
      "text/plain": [
       "   Subject        Agent GameSpeed Amplitude  Periodicity Entropy  lCV       \n",
       "1  A10GBO6PU2EI0K Human MSM       0.06550943 1219.2      3.332735 -1.3783059\n",
       "2  A12WDL4PB927P6 Human SMS       0.19825693  904.0      3.086130 -0.7575121\n",
       "3  A12ZO39VZ879ZS Human SMS       0.23277921  748.8      3.018638 -1.3199233\n",
       "4  A15J42M6EC7Y1K Human SSS       0.09187504 1347.2      3.581618 -1.2493415\n",
       "5  A16335MOISDG1F Human MSM       0.20426644 1267.2      3.402664 -1.5323308\n",
       "6  A19M1TGTL9HKHB Human SSS       0.10614098 1456.0      3.373728 -1.2621086\n",
       "7  A1AJ2G7JXXJ8UJ Human MMM       0.12836712  739.2      2.964896 -1.3636945\n",
       "8  A1E8ZYOQSGKTP8 Human MSM       0.23646547 1331.2      3.745417 -0.5282842\n",
       "9  A1EQAFAN71Z0SK Human SSS       0.26503487 1212.8      3.296914 -1.3491235\n",
       "10 A1H5I0BGVIY5CC Human SSS       0.07928972 1190.4      3.570329 -1.0907798"
      ]
     },
     "metadata": {},
     "output_type": "display_data"
    }
   ],
   "source": [
    "#Getting means for games 6-10\n",
    "Data6_10 <- data %>% filter(Agent==\"Human\")\n",
    "n_games <- 15\n",
    "for(i in 1:5){\n",
    "    Data6_10 <- Data6_10 %>% filter(GameNb!=i)\n",
    "}\n",
    "for(i in 11:15){\n",
    "    Data6_10 <- Data6_10 %>% filter(GameNb!=i)\n",
    "}\n",
    "table(Data6_10$Agent, Data6_10$GameSpeed)\n",
    "\n",
    "DataM6_10 <- ddply(Data6_10, c(\"Subject\",\"Agent\",\"GameSpeed\"), summarize,  Amplitude=mean(Amplitude),Periodicity=mean(Periodicity),Entropy=mean(Entropy),lCV=mean(lCV))\n",
    "DataM6_10 <- DataM6_10[order(DataM6_10$Subject),] # order by subject\n",
    "nb_subjs<-nrow(DataM6_10)\n",
    "nb_subjs\n",
    "head(DataM6_10,10)"
   ]
  },
  {
   "cell_type": "code",
   "execution_count": 7,
   "metadata": {},
   "outputs": [
    {
     "data": {
      "text/html": [
       "76"
      ],
      "text/latex": [
       "76"
      ],
      "text/markdown": [
       "76"
      ],
      "text/plain": [
       "[1] 76"
      ]
     },
     "metadata": {},
     "output_type": "display_data"
    },
    {
     "data": {
      "text/html": [
       "76"
      ],
      "text/latex": [
       "76"
      ],
      "text/markdown": [
       "76"
      ],
      "text/plain": [
       "[1] 76"
      ]
     },
     "metadata": {},
     "output_type": "display_data"
    }
   ],
   "source": [
    "#One way\n",
    "for(aa in 1:nb_subjs){\n",
    "    cur_Subject <- DataM6_10$Subject[aa]\n",
    "    if(!(cur_Subject %in% DataM1_5$Subject)){\n",
    "        DataM6_10 <- DataM6_10[-aa,]\n",
    "    }\n",
    "}\n",
    "nb_Ags2<-nrow(DataM6_10)\n",
    "nb_Ags2\n",
    "#Second way\n",
    "for(aa in 1:nb_subjs1){\n",
    "    cur_Subject <- DataM1_5$Subject[aa]\n",
    "    if(!(cur_Subject %in% DataM6_10$Subject)){\n",
    "        DataM1_5 <- DataM1_5[-aa,]\n",
    "    }\n",
    "}\n",
    "nb_Ags1<-nrow(DataM1_5)\n",
    "nb_Ags1\n",
    "\n",
    "\n",
    "#filter slow and medium\n",
    "Start_Slow <- DataM1_5 %>% filter(!GameSpeed=='MMM') %>% filter(!GameSpeed=='MSM') %>% filter(!GameSpeed=='SMS')\n",
    "Start_Medium <- DataM1_5 %>% filter(!GameSpeed=='SSS') %>% filter(!GameSpeed=='SMS') %>% filter(!GameSpeed=='MSM')\n",
    "Start_SlowT <- DataM1_5 %>% filter(!GameSpeed=='MMM') %>% filter(!GameSpeed=='MSM') %>% filter(!GameSpeed=='SSS')\n",
    "Start_MediumT <- DataM1_5 %>% filter(!GameSpeed=='SSS') %>% filter(!GameSpeed=='SMS') %>% filter(!GameSpeed=='MMM')\n",
    "\n",
    "#filter slow and medium\n",
    "Mid_MSM <- DataM6_10 %>% filter(GameSpeed=='MSM')\n",
    "Mid_SMS <- DataM6_10 %>% filter(GameSpeed=='SMS')\n",
    "Mid_MMM <- DataM6_10 %>% filter(GameSpeed=='MMM')\n",
    "Mid_SSS <- DataM6_10 %>% filter(GameSpeed=='SSS')"
   ]
  },
  {
   "cell_type": "code",
   "execution_count": 8,
   "metadata": {},
   "outputs": [],
   "source": [
    "require(nlme)\n",
    "require(multcomp)"
   ]
  },
  {
   "cell_type": "markdown",
   "metadata": {},
   "source": [
    "# Periodicity"
   ]
  },
  {
   "cell_type": "code",
   "execution_count": 9,
   "metadata": {},
   "outputs": [
    {
     "data": {
      "text/html": [
       "18"
      ],
      "text/latex": [
       "18"
      ],
      "text/markdown": [
       "18"
      ],
      "text/plain": [
       "[1] 18"
      ]
     },
     "metadata": {},
     "output_type": "display_data"
    },
    {
     "data": {
      "text/html": [
       "19"
      ],
      "text/latex": [
       "19"
      ],
      "text/markdown": [
       "19"
      ],
      "text/plain": [
       "[1] 19"
      ]
     },
     "metadata": {},
     "output_type": "display_data"
    },
    {
     "data": {
      "text/html": [
       "20"
      ],
      "text/latex": [
       "20"
      ],
      "text/markdown": [
       "20"
      ],
      "text/plain": [
       "[1] 20"
      ]
     },
     "metadata": {},
     "output_type": "display_data"
    },
    {
     "data": {
      "text/html": [
       "19"
      ],
      "text/latex": [
       "19"
      ],
      "text/markdown": [
       "19"
      ],
      "text/plain": [
       "[1] 19"
      ]
     },
     "metadata": {},
     "output_type": "display_data"
    },
    {
     "data": {
      "text/html": [
       "19"
      ],
      "text/latex": [
       "19"
      ],
      "text/markdown": [
       "19"
      ],
      "text/plain": [
       "[1] 19"
      ]
     },
     "metadata": {},
     "output_type": "display_data"
    },
    {
     "data": {
      "text/html": [
       "20"
      ],
      "text/latex": [
       "20"
      ],
      "text/markdown": [
       "20"
      ],
      "text/plain": [
       "[1] 20"
      ]
     },
     "metadata": {},
     "output_type": "display_data"
    },
    {
     "data": {
      "text/html": [
       "18"
      ],
      "text/latex": [
       "18"
      ],
      "text/markdown": [
       "18"
      ],
      "text/plain": [
       "[1] 18"
      ]
     },
     "metadata": {},
     "output_type": "display_data"
    },
    {
     "data": {
      "text/html": [
       "19"
      ],
      "text/latex": [
       "19"
      ],
      "text/markdown": [
       "19"
      ],
      "text/plain": [
       "[1] 19"
      ]
     },
     "metadata": {},
     "output_type": "display_data"
    },
    {
     "data": {
      "text/html": [
       "152"
      ],
      "text/latex": [
       "152"
      ],
      "text/markdown": [
       "152"
      ],
      "text/plain": [
       "[1] 152"
      ]
     },
     "metadata": {},
     "output_type": "display_data"
    }
   ],
   "source": [
    "Hum_StMed <- Start_Medium$Periodicity\n",
    "Ag_StMed <- Start_Medium$Subject\n",
    "n1<-length(Hum_StMed)\n",
    "n1\n",
    "Hum_StSlow <- Start_Slow$Periodicity\n",
    "Ag_StSlow <- Start_Slow$Subject\n",
    "n2<-length(Hum_StSlow)\n",
    "n2\n",
    "Hum_StMedT <- Start_MediumT$Periodicity\n",
    "Ag_StMedT <- Start_MediumT$Subject\n",
    "n1b<-length(Hum_StMedT)\n",
    "n1b\n",
    "Hum_StSlowT <- Start_SlowT$Periodicity\n",
    "Ag_StSlowT <- Start_SlowT$Subject\n",
    "n2b<-length(Hum_StSlowT)\n",
    "n2b\n",
    "Hum_MidMed <- Mid_SMS$Periodicity\n",
    "Ag_MidMed <- Mid_SMS$Subject\n",
    "n3<-length(Hum_MidMed)\n",
    "n3\n",
    "Hum_MidSlow <- Mid_MSM$Periodicity\n",
    "Ag_MidSlow <- Mid_MSM$Subject\n",
    "n4<-length(Hum_MidSlow)\n",
    "n4\n",
    "Hum_MidPureM <- Mid_MMM$Periodicity\n",
    "Ag_MidPureM <- Mid_MMM$Subject\n",
    "n5<-length(Hum_MidPureM)\n",
    "n5\n",
    "Hum_MidPureS <- Mid_SSS$Periodicity\n",
    "Ag_MidPureS <- Mid_SSS$Subject\n",
    "n6<-length(Hum_MidPureS)\n",
    "n6\n",
    "n_Total<-n1+n2+n1b+n2b+n3+n4+n5+n6\n",
    "n_Total"
   ]
  },
  {
   "cell_type": "code",
   "execution_count": 10,
   "metadata": {},
   "outputs": [
    {
     "data": {
      "text/html": [
       "152"
      ],
      "text/latex": [
       "152"
      ],
      "text/markdown": [
       "152"
      ],
      "text/plain": [
       "[1] 152"
      ]
     },
     "metadata": {},
     "output_type": "display_data"
    },
    {
     "data": {
      "text/html": [
       "<table>\n",
       "<caption>A data.frame: 6 × 4</caption>\n",
       "<thead>\n",
       "\t<tr><th></th><th scope=col>Subject</th><th scope=col>Speed</th><th scope=col>Phase</th><th scope=col>Periodicity</th></tr>\n",
       "\t<tr><th></th><th scope=col>&lt;fct&gt;</th><th scope=col>&lt;fct&gt;</th><th scope=col>&lt;fct&gt;</th><th scope=col>&lt;dbl&gt;</th></tr>\n",
       "</thead>\n",
       "<tbody>\n",
       "\t<tr><th scope=row>1</th><td>A10GBO6PU2EI0K</td><td>Medium</td><td>StartT</td><td>784.0</td></tr>\n",
       "\t<tr><th scope=row>2</th><td>A16335MOISDG1F</td><td>Medium</td><td>StartT</td><td>640.0</td></tr>\n",
       "\t<tr><th scope=row>3</th><td>A1E8ZYOQSGKTP8</td><td>Medium</td><td>StartT</td><td>992.0</td></tr>\n",
       "\t<tr><th scope=row>4</th><td>A1YSBD5XW5UCR0</td><td>Medium</td><td>StartT</td><td>636.8</td></tr>\n",
       "\t<tr><th scope=row>5</th><td>A2E609OEGN4D6H</td><td>Medium</td><td>StartT</td><td>692.0</td></tr>\n",
       "\t<tr><th scope=row>6</th><td>A2GO3SYV3X3KE </td><td>Medium</td><td>StartT</td><td>784.0</td></tr>\n",
       "</tbody>\n",
       "</table>\n"
      ],
      "text/latex": [
       "A data.frame: 6 × 4\n",
       "\\begin{tabular}{r|llll}\n",
       "  & Subject & Speed & Phase & Periodicity\\\\\n",
       "  & <fct> & <fct> & <fct> & <dbl>\\\\\n",
       "\\hline\n",
       "\t1 & A10GBO6PU2EI0K & Medium & StartT & 784.0\\\\\n",
       "\t2 & A16335MOISDG1F & Medium & StartT & 640.0\\\\\n",
       "\t3 & A1E8ZYOQSGKTP8 & Medium & StartT & 992.0\\\\\n",
       "\t4 & A1YSBD5XW5UCR0 & Medium & StartT & 636.8\\\\\n",
       "\t5 & A2E609OEGN4D6H & Medium & StartT & 692.0\\\\\n",
       "\t6 & A2GO3SYV3X3KE  & Medium & StartT & 784.0\\\\\n",
       "\\end{tabular}\n"
      ],
      "text/markdown": [
       "\n",
       "A data.frame: 6 × 4\n",
       "\n",
       "| <!--/--> | Subject &lt;fct&gt; | Speed &lt;fct&gt; | Phase &lt;fct&gt; | Periodicity &lt;dbl&gt; |\n",
       "|---|---|---|---|---|\n",
       "| 1 | A10GBO6PU2EI0K | Medium | StartT | 784.0 |\n",
       "| 2 | A16335MOISDG1F | Medium | StartT | 640.0 |\n",
       "| 3 | A1E8ZYOQSGKTP8 | Medium | StartT | 992.0 |\n",
       "| 4 | A1YSBD5XW5UCR0 | Medium | StartT | 636.8 |\n",
       "| 5 | A2E609OEGN4D6H | Medium | StartT | 692.0 |\n",
       "| 6 | A2GO3SYV3X3KE  | Medium | StartT | 784.0 |\n",
       "\n"
      ],
      "text/plain": [
       "  Subject        Speed  Phase  Periodicity\n",
       "1 A10GBO6PU2EI0K Medium StartT 784.0      \n",
       "2 A16335MOISDG1F Medium StartT 640.0      \n",
       "3 A1E8ZYOQSGKTP8 Medium StartT 992.0      \n",
       "4 A1YSBD5XW5UCR0 Medium StartT 636.8      \n",
       "5 A2E609OEGN4D6H Medium StartT 692.0      \n",
       "6 A2GO3SYV3X3KE  Medium StartT 784.0      "
      ]
     },
     "metadata": {},
     "output_type": "display_data"
    }
   ],
   "source": [
    "Speed <- c(rep(\"Medium\",n1b),rep(\"Slow\",n2b),rep(\"Medium\",n1),rep(\"Slow\",n2),rep(\"Medium\",n3),rep(\"Slow\",n4),rep(\"Medium\",n5),rep(\"Slow\",n6))\n",
    "Subject <- c(Ag_StMedT,Ag_StSlowT,Ag_StMed,Ag_StSlow,Ag_MidMed,Ag_MidSlow,Ag_MidPureM,Ag_MidPureS)\n",
    "Periodicity <- c(Hum_StMedT,Hum_StSlowT,Hum_StMed,Hum_StSlow,Hum_MidMed,Hum_MidSlow,Hum_MidPureM,Hum_MidPureS)\n",
    "Phase <- c(rep(\"StartT\",n1b),rep(\"StartT\",n2b),rep(\"StartNoT\",n1),rep(\"StartNoT\",n2),rep(\"MidT\",n3),rep(\"MidT\",n4),rep(\"MidNoT\",n5),rep(\"MidNoT\",n6))\n",
    "length(Speed)\n",
    "ToPlot_Per <- data.frame(Subject,Speed,Phase,Periodicity)\n",
    "#ToPlot_Per$Speed <- reorder(ToPlot_Per$Speed,desc(ToPlot_Per$Speed))\n",
    "head(ToPlot_Per)"
   ]
  },
  {
   "cell_type": "code",
   "execution_count": 11,
   "metadata": {
    "scrolled": true
   },
   "outputs": [
    {
     "data": {
      "text/html": [
       "<table>\n",
       "<caption>A tibble: 8 × 5</caption>\n",
       "<thead>\n",
       "\t<tr><th scope=col>Speed</th><th scope=col>Phase</th><th scope=col>variable</th><th scope=col>statistic</th><th scope=col>p</th></tr>\n",
       "\t<tr><th scope=col>&lt;fct&gt;</th><th scope=col>&lt;fct&gt;</th><th scope=col>&lt;chr&gt;</th><th scope=col>&lt;dbl&gt;</th><th scope=col>&lt;dbl&gt;</th></tr>\n",
       "</thead>\n",
       "<tbody>\n",
       "\t<tr><td>Medium</td><td>MidNoT  </td><td>Periodicity</td><td>0.8723401</td><td>0.0194485488</td></tr>\n",
       "\t<tr><td>Medium</td><td>MidT    </td><td>Periodicity</td><td>0.9617128</td><td>0.6065525051</td></tr>\n",
       "\t<tr><td>Medium</td><td>StartNoT</td><td>Periodicity</td><td>0.9523278</td><td>0.4626940058</td></tr>\n",
       "\t<tr><td>Medium</td><td>StartT  </td><td>Periodicity</td><td>0.7590720</td><td>0.0002252181</td></tr>\n",
       "\t<tr><td>Slow  </td><td>MidNoT  </td><td>Periodicity</td><td>0.9483836</td><td>0.3708185391</td></tr>\n",
       "\t<tr><td>Slow  </td><td>MidT    </td><td>Periodicity</td><td>0.8518313</td><td>0.0057213927</td></tr>\n",
       "\t<tr><td>Slow  </td><td>StartNoT</td><td>Periodicity</td><td>0.9290110</td><td>0.1660696071</td></tr>\n",
       "\t<tr><td>Slow  </td><td>StartT  </td><td>Periodicity</td><td>0.8610388</td><td>0.0101985197</td></tr>\n",
       "</tbody>\n",
       "</table>\n"
      ],
      "text/latex": [
       "A tibble: 8 × 5\n",
       "\\begin{tabular}{lllll}\n",
       " Speed & Phase & variable & statistic & p\\\\\n",
       " <fct> & <fct> & <chr> & <dbl> & <dbl>\\\\\n",
       "\\hline\n",
       "\t Medium & MidNoT   & Periodicity & 0.8723401 & 0.0194485488\\\\\n",
       "\t Medium & MidT     & Periodicity & 0.9617128 & 0.6065525051\\\\\n",
       "\t Medium & StartNoT & Periodicity & 0.9523278 & 0.4626940058\\\\\n",
       "\t Medium & StartT   & Periodicity & 0.7590720 & 0.0002252181\\\\\n",
       "\t Slow   & MidNoT   & Periodicity & 0.9483836 & 0.3708185391\\\\\n",
       "\t Slow   & MidT     & Periodicity & 0.8518313 & 0.0057213927\\\\\n",
       "\t Slow   & StartNoT & Periodicity & 0.9290110 & 0.1660696071\\\\\n",
       "\t Slow   & StartT   & Periodicity & 0.8610388 & 0.0101985197\\\\\n",
       "\\end{tabular}\n"
      ],
      "text/markdown": [
       "\n",
       "A tibble: 8 × 5\n",
       "\n",
       "| Speed &lt;fct&gt; | Phase &lt;fct&gt; | variable &lt;chr&gt; | statistic &lt;dbl&gt; | p &lt;dbl&gt; |\n",
       "|---|---|---|---|---|\n",
       "| Medium | MidNoT   | Periodicity | 0.8723401 | 0.0194485488 |\n",
       "| Medium | MidT     | Periodicity | 0.9617128 | 0.6065525051 |\n",
       "| Medium | StartNoT | Periodicity | 0.9523278 | 0.4626940058 |\n",
       "| Medium | StartT   | Periodicity | 0.7590720 | 0.0002252181 |\n",
       "| Slow   | MidNoT   | Periodicity | 0.9483836 | 0.3708185391 |\n",
       "| Slow   | MidT     | Periodicity | 0.8518313 | 0.0057213927 |\n",
       "| Slow   | StartNoT | Periodicity | 0.9290110 | 0.1660696071 |\n",
       "| Slow   | StartT   | Periodicity | 0.8610388 | 0.0101985197 |\n",
       "\n"
      ],
      "text/plain": [
       "  Speed  Phase    variable    statistic p           \n",
       "1 Medium MidNoT   Periodicity 0.8723401 0.0194485488\n",
       "2 Medium MidT     Periodicity 0.9617128 0.6065525051\n",
       "3 Medium StartNoT Periodicity 0.9523278 0.4626940058\n",
       "4 Medium StartT   Periodicity 0.7590720 0.0002252181\n",
       "5 Slow   MidNoT   Periodicity 0.9483836 0.3708185391\n",
       "6 Slow   MidT     Periodicity 0.8518313 0.0057213927\n",
       "7 Slow   StartNoT Periodicity 0.9290110 0.1660696071\n",
       "8 Slow   StartT   Periodicity 0.8610388 0.0101985197"
      ]
     },
     "metadata": {},
     "output_type": "display_data"
    }
   ],
   "source": [
    "ToPlot_Per %>% group_by(Speed,Phase) %>% shapiro_test(Periodicity)"
   ]
  },
  {
   "cell_type": "code",
   "execution_count": 12,
   "metadata": {},
   "outputs": [
    {
     "data": {
      "text/html": [
       "988.8"
      ],
      "text/latex": [
       "988.8"
      ],
      "text/markdown": [
       "988.8"
      ],
      "text/plain": [
       "[1] 988.8"
      ]
     },
     "metadata": {},
     "output_type": "display_data"
    },
    {
     "data": {
      "text/html": [
       "982.4"
      ],
      "text/latex": [
       "982.4"
      ],
      "text/markdown": [
       "982.4"
      ],
      "text/plain": [
       "[1] 982.4"
      ]
     },
     "metadata": {},
     "output_type": "display_data"
    },
    {
     "name": "stdout",
     "output_type": "stream",
     "text": [
      "[1] \"Phase comparison\"\n"
     ]
    },
    {
     "data": {
      "text/plain": [
       "\n",
       "\tWilcoxon signed rank test with continuity correction\n",
       "\n",
       "data:  Per_Start and Per_Mid\n",
       "V = 239, p-value = 0.2162\n",
       "alternative hypothesis: true location shift is not equal to 0\n"
      ]
     },
     "metadata": {},
     "output_type": "display_data"
    },
    {
     "data": {
      "text/html": [
       "-1.23670824232314"
      ],
      "text/latex": [
       "-1.23670824232314"
      ],
      "text/markdown": [
       "-1.23670824232314"
      ],
      "text/plain": [
       "[1] -1.236708"
      ]
     },
     "metadata": {},
     "output_type": "display_data"
    },
    {
     "data": {
      "text/html": [
       "1217.6"
      ],
      "text/latex": [
       "1217.6"
      ],
      "text/markdown": [
       "1217.6"
      ],
      "text/plain": [
       "[1] 1217.6"
      ]
     },
     "metadata": {},
     "output_type": "display_data"
    },
    {
     "data": {
      "text/html": [
       "692.8"
      ],
      "text/latex": [
       "692.8"
      ],
      "text/markdown": [
       "692.8"
      ],
      "text/plain": [
       "[1] 692.8"
      ]
     },
     "metadata": {},
     "output_type": "display_data"
    },
    {
     "name": "stdout",
     "output_type": "stream",
     "text": [
      "[1] \"Speed comparison\"\n"
     ]
    },
    {
     "data": {
      "text/plain": [
       "\n",
       "\tWilcoxon rank sum test with continuity correction\n",
       "\n",
       "data:  Per_Med and Per_Slow\n",
       "W = 26, p-value = 1.151e-12\n",
       "alternative hypothesis: true location shift is not equal to 0\n"
      ]
     },
     "metadata": {},
     "output_type": "display_data"
    },
    {
     "data": {
      "text/html": [
       "-7.1111795451404"
      ],
      "text/latex": [
       "-7.1111795451404"
      ],
      "text/markdown": [
       "-7.1111795451404"
      ],
      "text/plain": [
       "[1] -7.11118"
      ]
     },
     "metadata": {},
     "output_type": "display_data"
    }
   ],
   "source": [
    "#A/ case Start & No Transfer\n",
    "Per_data <- ToPlot_Per %>% filter(!Phase=='MidT') %>% filter(!Phase=='StartT')\n",
    "Per_Start <- (Per_data %>% filter(Phase=='StartNoT'))$Periodicity\n",
    "Per_Mid <- (Per_data %>% filter(Phase=='MidNoT'))$Periodicity\n",
    "median(Per_Start)\n",
    "median(Per_Mid)\n",
    "print('Phase comparison')\n",
    "MWa<-wilcox.test(Per_Start,Per_Mid,paired=TRUE,conf.level = 0.95,exact=FALSE)\n",
    "MWa\n",
    "qnorm(MWa$p.value/2)\n",
    "\n",
    "Per_Slow <- (Per_data %>% filter(Speed=='Slow'))$Periodicity\n",
    "Per_Med <- (Per_data %>% filter(Speed=='Medium'))$Periodicity\n",
    "median(Per_Slow)\n",
    "median(Per_Med)\n",
    "print('Speed comparison')\n",
    "MWb<-wilcox.test(Per_Med,Per_Slow,paired=FALSE,conf.level = 0.95,exact=FALSE)\n",
    "MWb\n",
    "qnorm(MWb$p.value/2)"
   ]
  },
  {
   "cell_type": "code",
   "execution_count": 17,
   "metadata": {
    "scrolled": false
   },
   "outputs": [
    {
     "name": "stdout",
     "output_type": "stream",
     "text": [
      "[1] \"Phase comparison\"\n"
     ]
    },
    {
     "data": {
      "text/html": [
       "931.2"
      ],
      "text/latex": [
       "931.2"
      ],
      "text/markdown": [
       "931.2"
      ],
      "text/plain": [
       "[1] 931.2"
      ]
     },
     "metadata": {},
     "output_type": "display_data"
    },
    {
     "data": {
      "text/html": [
       "982.4"
      ],
      "text/latex": [
       "982.4"
      ],
      "text/markdown": [
       "982.4"
      ],
      "text/plain": [
       "[1] 982.4"
      ]
     },
     "metadata": {},
     "output_type": "display_data"
    },
    {
     "data": {
      "text/plain": [
       "\n",
       "\tWilcoxon signed rank test with continuity correction\n",
       "\n",
       "data:  Per_Start and Per_Mid\n",
       "V = 243, p-value = 0.0655\n",
       "alternative hypothesis: true location shift is not equal to 0\n"
      ]
     },
     "metadata": {},
     "output_type": "display_data"
    },
    {
     "data": {
      "text/html": [
       "-1.84186164474723"
      ],
      "text/latex": [
       "-1.84186164474723"
      ],
      "text/markdown": [
       "-1.84186164474723"
      ],
      "text/plain": [
       "[1] -1.841862"
      ]
     },
     "metadata": {},
     "output_type": "display_data"
    },
    {
     "name": "stdout",
     "output_type": "stream",
     "text": [
      "[1] \"Speed comparison\"\n"
     ]
    },
    {
     "data": {
      "text/html": [
       "1216"
      ],
      "text/latex": [
       "1216"
      ],
      "text/markdown": [
       "1216"
      ],
      "text/plain": [
       "[1] 1216"
      ]
     },
     "metadata": {},
     "output_type": "display_data"
    },
    {
     "data": {
      "text/html": [
       "748.8"
      ],
      "text/latex": [
       "748.8"
      ],
      "text/markdown": [
       "748.8"
      ],
      "text/plain": [
       "[1] 748.8"
      ]
     },
     "metadata": {},
     "output_type": "display_data"
    },
    {
     "data": {
      "text/plain": [
       "\n",
       "\tWilcoxon rank sum test with continuity correction\n",
       "\n",
       "data:  Per_Med and Per_Slow\n",
       "W = 95, p-value = 2.996e-11\n",
       "alternative hypothesis: true location shift is not equal to 0\n"
      ]
     },
     "metadata": {},
     "output_type": "display_data"
    },
    {
     "data": {
      "text/html": [
       "-6.64677558530758"
      ],
      "text/latex": [
       "-6.64677558530758"
      ],
      "text/markdown": [
       "-6.64677558530758"
      ],
      "text/plain": [
       "[1] -6.646776"
      ]
     },
     "metadata": {},
     "output_type": "display_data"
    }
   ],
   "source": [
    "#B/ case Start & Transfer\n",
    "Per_data2 <- ToPlot_Per %>% filter(!Phase=='MidNoT') %>% filter(!Phase=='StartNoT')\n",
    "Per_Start <- (Per_data2 %>% filter(Phase=='StartT'))$Periodicity\n",
    "Per_Mid <- (Per_data2 %>% filter(Phase=='MidT'))$Periodicity\n",
    "print('Phase comparison')\n",
    "median(Per_Start)\n",
    "median(Per_Mid)\n",
    "MWa<-wilcox.test(Per_Start,Per_Mid,paired=TRUE,conf.level = 0.95,exact=FALSE)\n",
    "MWa\n",
    "qnorm(MWa$p.value/2)\n",
    "\n",
    "Per_Slow <- (Per_data2 %>% filter(Speed=='Slow'))$Periodicity\n",
    "Per_Med <- (Per_data2 %>% filter(Speed=='Medium'))$Periodicity\n",
    "print('Speed comparison')\n",
    "median(Per_Slow)\n",
    "median(Per_Med)\n",
    "MWb<-wilcox.test(Per_Med,Per_Slow,paired=FALSE,conf.level = 0.95,exact=FALSE)\n",
    "MWb\n",
    "qnorm(MWb$p.value/2)"
   ]
  },
  {
   "cell_type": "code",
   "execution_count": 18,
   "metadata": {},
   "outputs": [
    {
     "data": {
      "text/html": [
       "39"
      ],
      "text/latex": [
       "39"
      ],
      "text/markdown": [
       "39"
      ],
      "text/plain": [
       "[1] 39"
      ]
     },
     "metadata": {},
     "output_type": "display_data"
    },
    {
     "name": "stdout",
     "output_type": "stream",
     "text": [
      "[1] \"Phase comparison\"\n"
     ]
    },
    {
     "data": {
      "text/html": [
       "982.4"
      ],
      "text/latex": [
       "982.4"
      ],
      "text/markdown": [
       "982.4"
      ],
      "text/plain": [
       "[1] 982.4"
      ]
     },
     "metadata": {},
     "output_type": "display_data"
    },
    {
     "data": {
      "text/html": [
       "982.4"
      ],
      "text/latex": [
       "982.4"
      ],
      "text/markdown": [
       "982.4"
      ],
      "text/plain": [
       "[1] 982.4"
      ]
     },
     "metadata": {},
     "output_type": "display_data"
    },
    {
     "data": {
      "text/plain": [
       "\n",
       "\tWilcoxon rank sum test with continuity correction\n",
       "\n",
       "data:  Per_Transfer and Per_NoTransfer\n",
       "W = 723, p-value = 0.9917\n",
       "alternative hypothesis: true location shift is not equal to 0\n"
      ]
     },
     "metadata": {},
     "output_type": "display_data"
    },
    {
     "data": {
      "text/html": [
       "-0.0103938731475485"
      ],
      "text/latex": [
       "-0.0103938731475485"
      ],
      "text/markdown": [
       "-0.0103938731475485"
      ],
      "text/plain": [
       "[1] -0.01039387"
      ]
     },
     "metadata": {},
     "output_type": "display_data"
    }
   ],
   "source": [
    "#C) Transfer by comparison with No Transfer\n",
    "Transfer_compare <- Per_data2 %>% filter(Phase=='MidT')\n",
    "ToAdd_Transfer <- rep('Transfer',nrow(Transfer_compare))\n",
    "Transfer_compare$Group <- ToAdd_Transfer\n",
    "nrow(Transfer_compare)\n",
    "NoTransfer_compare <- Per_data %>% filter(Phase=='MidNoT')\n",
    "ToAdd_NoTransfer <- rep('No Transfer',nrow(NoTransfer_compare))\n",
    "NoTransfer_compare$Group <- ToAdd_NoTransfer\n",
    "#nrow(NoTransfer_compare)\n",
    "#Compare_T <- rbind(Transfer_compare,NoTransfer_compare)\n",
    "#nrow(Compare_T)\n",
    "\n",
    "Per_Transfer <- Transfer_compare$Periodicity\n",
    "Per_NoTransfer <- NoTransfer_compare$Periodicity\n",
    "print('Phase comparison')\n",
    "median(Per_Transfer)\n",
    "median(Per_NoTransfer)\n",
    "MWc<-wilcox.test(Per_Transfer,Per_NoTransfer,paired=FALSE,conf.level = 0.95,exact=FALSE)\n",
    "MWc\n",
    "qnorm(MWc$p.value/2)"
   ]
  },
  {
   "cell_type": "markdown",
   "metadata": {},
   "source": [
    "# Entropy"
   ]
  },
  {
   "cell_type": "code",
   "execution_count": 19,
   "metadata": {},
   "outputs": [
    {
     "data": {
      "text/html": [
       "18"
      ],
      "text/latex": [
       "18"
      ],
      "text/markdown": [
       "18"
      ],
      "text/plain": [
       "[1] 18"
      ]
     },
     "metadata": {},
     "output_type": "display_data"
    },
    {
     "data": {
      "text/html": [
       "19"
      ],
      "text/latex": [
       "19"
      ],
      "text/markdown": [
       "19"
      ],
      "text/plain": [
       "[1] 19"
      ]
     },
     "metadata": {},
     "output_type": "display_data"
    },
    {
     "data": {
      "text/html": [
       "20"
      ],
      "text/latex": [
       "20"
      ],
      "text/markdown": [
       "20"
      ],
      "text/plain": [
       "[1] 20"
      ]
     },
     "metadata": {},
     "output_type": "display_data"
    },
    {
     "data": {
      "text/html": [
       "19"
      ],
      "text/latex": [
       "19"
      ],
      "text/markdown": [
       "19"
      ],
      "text/plain": [
       "[1] 19"
      ]
     },
     "metadata": {},
     "output_type": "display_data"
    },
    {
     "data": {
      "text/html": [
       "19"
      ],
      "text/latex": [
       "19"
      ],
      "text/markdown": [
       "19"
      ],
      "text/plain": [
       "[1] 19"
      ]
     },
     "metadata": {},
     "output_type": "display_data"
    },
    {
     "data": {
      "text/html": [
       "20"
      ],
      "text/latex": [
       "20"
      ],
      "text/markdown": [
       "20"
      ],
      "text/plain": [
       "[1] 20"
      ]
     },
     "metadata": {},
     "output_type": "display_data"
    },
    {
     "data": {
      "text/html": [
       "18"
      ],
      "text/latex": [
       "18"
      ],
      "text/markdown": [
       "18"
      ],
      "text/plain": [
       "[1] 18"
      ]
     },
     "metadata": {},
     "output_type": "display_data"
    },
    {
     "data": {
      "text/html": [
       "19"
      ],
      "text/latex": [
       "19"
      ],
      "text/markdown": [
       "19"
      ],
      "text/plain": [
       "[1] 19"
      ]
     },
     "metadata": {},
     "output_type": "display_data"
    },
    {
     "data": {
      "text/html": [
       "152"
      ],
      "text/latex": [
       "152"
      ],
      "text/markdown": [
       "152"
      ],
      "text/plain": [
       "[1] 152"
      ]
     },
     "metadata": {},
     "output_type": "display_data"
    }
   ],
   "source": [
    "Hum_StMed <- Start_Medium$Entropy\n",
    "Ag_StMed <- Start_Medium$Subject\n",
    "n1<-length(Hum_StMed)\n",
    "n1\n",
    "Hum_StSlow <- Start_Slow$Entropy\n",
    "Ag_StSlow <- Start_Slow$Subject\n",
    "n2<-length(Hum_StSlow)\n",
    "n2\n",
    "Hum_StMedT <- Start_MediumT$Entropy\n",
    "Ag_StMedT <- Start_MediumT$Subject\n",
    "n1b<-length(Hum_StMedT)\n",
    "n1b\n",
    "Hum_StSlowT <- Start_SlowT$Entropy\n",
    "Ag_StSlowT <- Start_SlowT$Subject\n",
    "n2b<-length(Hum_StSlowT)\n",
    "n2b\n",
    "Hum_MidMed <- Mid_SMS$Entropy\n",
    "Ag_MidMed <- Mid_SMS$Subject\n",
    "n3<-length(Hum_MidMed)\n",
    "n3\n",
    "Hum_MidSlow <- Mid_MSM$Entropy\n",
    "Ag_MidSlow <- Mid_MSM$Subject\n",
    "n4<-length(Hum_MidSlow)\n",
    "n4\n",
    "Hum_MidPureM <- Mid_MMM$Entropy\n",
    "Ag_MidPureM <- Mid_MMM$Subject\n",
    "n5<-length(Hum_MidPureM)\n",
    "n5\n",
    "Hum_MidPureS <- Mid_SSS$Entropy\n",
    "Ag_MidPureS <- Mid_SSS$Subject\n",
    "n6<-length(Hum_MidPureS)\n",
    "n6\n",
    "n_Total<-n1+n2+n1b+n2b+n3+n4+n5+n6\n",
    "n_Total"
   ]
  },
  {
   "cell_type": "code",
   "execution_count": 20,
   "metadata": {},
   "outputs": [
    {
     "data": {
      "text/html": [
       "152"
      ],
      "text/latex": [
       "152"
      ],
      "text/markdown": [
       "152"
      ],
      "text/plain": [
       "[1] 152"
      ]
     },
     "metadata": {},
     "output_type": "display_data"
    },
    {
     "data": {
      "text/html": [
       "<table>\n",
       "<caption>A data.frame: 6 × 4</caption>\n",
       "<thead>\n",
       "\t<tr><th></th><th scope=col>Subject</th><th scope=col>Speed</th><th scope=col>Phase</th><th scope=col>Entropy</th></tr>\n",
       "\t<tr><th></th><th scope=col>&lt;fct&gt;</th><th scope=col>&lt;fct&gt;</th><th scope=col>&lt;fct&gt;</th><th scope=col>&lt;dbl&gt;</th></tr>\n",
       "</thead>\n",
       "<tbody>\n",
       "\t<tr><th scope=row>1</th><td>A10GBO6PU2EI0K</td><td>Medium</td><td>StartT</td><td>3.246518</td></tr>\n",
       "\t<tr><th scope=row>2</th><td>A16335MOISDG1F</td><td>Medium</td><td>StartT</td><td>3.172987</td></tr>\n",
       "\t<tr><th scope=row>3</th><td>A1E8ZYOQSGKTP8</td><td>Medium</td><td>StartT</td><td>3.398248</td></tr>\n",
       "\t<tr><th scope=row>4</th><td>A1YSBD5XW5UCR0</td><td>Medium</td><td>StartT</td><td>2.865347</td></tr>\n",
       "\t<tr><th scope=row>5</th><td>A2E609OEGN4D6H</td><td>Medium</td><td>StartT</td><td>3.584057</td></tr>\n",
       "\t<tr><th scope=row>6</th><td>A2GO3SYV3X3KE </td><td>Medium</td><td>StartT</td><td>3.345698</td></tr>\n",
       "</tbody>\n",
       "</table>\n"
      ],
      "text/latex": [
       "A data.frame: 6 × 4\n",
       "\\begin{tabular}{r|llll}\n",
       "  & Subject & Speed & Phase & Entropy\\\\\n",
       "  & <fct> & <fct> & <fct> & <dbl>\\\\\n",
       "\\hline\n",
       "\t1 & A10GBO6PU2EI0K & Medium & StartT & 3.246518\\\\\n",
       "\t2 & A16335MOISDG1F & Medium & StartT & 3.172987\\\\\n",
       "\t3 & A1E8ZYOQSGKTP8 & Medium & StartT & 3.398248\\\\\n",
       "\t4 & A1YSBD5XW5UCR0 & Medium & StartT & 2.865347\\\\\n",
       "\t5 & A2E609OEGN4D6H & Medium & StartT & 3.584057\\\\\n",
       "\t6 & A2GO3SYV3X3KE  & Medium & StartT & 3.345698\\\\\n",
       "\\end{tabular}\n"
      ],
      "text/markdown": [
       "\n",
       "A data.frame: 6 × 4\n",
       "\n",
       "| <!--/--> | Subject &lt;fct&gt; | Speed &lt;fct&gt; | Phase &lt;fct&gt; | Entropy &lt;dbl&gt; |\n",
       "|---|---|---|---|---|\n",
       "| 1 | A10GBO6PU2EI0K | Medium | StartT | 3.246518 |\n",
       "| 2 | A16335MOISDG1F | Medium | StartT | 3.172987 |\n",
       "| 3 | A1E8ZYOQSGKTP8 | Medium | StartT | 3.398248 |\n",
       "| 4 | A1YSBD5XW5UCR0 | Medium | StartT | 2.865347 |\n",
       "| 5 | A2E609OEGN4D6H | Medium | StartT | 3.584057 |\n",
       "| 6 | A2GO3SYV3X3KE  | Medium | StartT | 3.345698 |\n",
       "\n"
      ],
      "text/plain": [
       "  Subject        Speed  Phase  Entropy \n",
       "1 A10GBO6PU2EI0K Medium StartT 3.246518\n",
       "2 A16335MOISDG1F Medium StartT 3.172987\n",
       "3 A1E8ZYOQSGKTP8 Medium StartT 3.398248\n",
       "4 A1YSBD5XW5UCR0 Medium StartT 2.865347\n",
       "5 A2E609OEGN4D6H Medium StartT 3.584057\n",
       "6 A2GO3SYV3X3KE  Medium StartT 3.345698"
      ]
     },
     "metadata": {},
     "output_type": "display_data"
    }
   ],
   "source": [
    "Speed <- c(rep(\"Medium\",n1b),rep(\"Slow\",n2b),rep(\"Medium\",n1),rep(\"Slow\",n2),rep(\"Medium\",n3),rep(\"Slow\",n4),rep(\"Medium\",n5),rep(\"Slow\",n6))\n",
    "Subject <- c(Ag_StMedT,Ag_StSlowT,Ag_StMed,Ag_StSlow,Ag_MidMed,Ag_MidSlow,Ag_MidPureM,Ag_MidPureS)\n",
    "Entropy <- c(Hum_StMedT,Hum_StSlowT,Hum_StMed,Hum_StSlow,Hum_MidMed,Hum_MidSlow,Hum_MidPureM,Hum_MidPureS)\n",
    "Phase <- c(rep(\"StartT\",n1b),rep(\"StartT\",n2b),rep(\"StartNoT\",n1),rep(\"StartNoT\",n2),rep(\"MidT\",n3),rep(\"MidT\",n4),rep(\"MidNoT\",n5),rep(\"MidNoT\",n6))\n",
    "length(Speed)\n",
    "ToPlot_Ent <- data.frame(Subject,Speed,Phase,Entropy)\n",
    "head(ToPlot_Ent)"
   ]
  },
  {
   "cell_type": "code",
   "execution_count": 21,
   "metadata": {},
   "outputs": [
    {
     "data": {
      "text/html": [
       "<table>\n",
       "<caption>A tibble: 8 × 5</caption>\n",
       "<thead>\n",
       "\t<tr><th scope=col>Speed</th><th scope=col>Phase</th><th scope=col>variable</th><th scope=col>statistic</th><th scope=col>p</th></tr>\n",
       "\t<tr><th scope=col>&lt;fct&gt;</th><th scope=col>&lt;fct&gt;</th><th scope=col>&lt;chr&gt;</th><th scope=col>&lt;dbl&gt;</th><th scope=col>&lt;dbl&gt;</th></tr>\n",
       "</thead>\n",
       "<tbody>\n",
       "\t<tr><td>Medium</td><td>MidNoT  </td><td>Entropy</td><td>0.9417047</td><td>0.309835170</td></tr>\n",
       "\t<tr><td>Medium</td><td>MidT    </td><td>Entropy</td><td>0.9291213</td><td>0.166849918</td></tr>\n",
       "\t<tr><td>Medium</td><td>StartNoT</td><td>Entropy</td><td>0.9628566</td><td>0.657581798</td></tr>\n",
       "\t<tr><td>Medium</td><td>StartT  </td><td>Entropy</td><td>0.9632173</td><td>0.609925467</td></tr>\n",
       "\t<tr><td>Slow  </td><td>MidNoT  </td><td>Entropy</td><td>0.8368486</td><td>0.004129198</td></tr>\n",
       "\t<tr><td>Slow  </td><td>MidT    </td><td>Entropy</td><td>0.8996022</td><td>0.040536780</td></tr>\n",
       "\t<tr><td>Slow  </td><td>StartNoT</td><td>Entropy</td><td>0.9598709</td><td>0.569840744</td></tr>\n",
       "\t<tr><td>Slow  </td><td>StartT  </td><td>Entropy</td><td>0.9541601</td><td>0.463631468</td></tr>\n",
       "</tbody>\n",
       "</table>\n"
      ],
      "text/latex": [
       "A tibble: 8 × 5\n",
       "\\begin{tabular}{lllll}\n",
       " Speed & Phase & variable & statistic & p\\\\\n",
       " <fct> & <fct> & <chr> & <dbl> & <dbl>\\\\\n",
       "\\hline\n",
       "\t Medium & MidNoT   & Entropy & 0.9417047 & 0.309835170\\\\\n",
       "\t Medium & MidT     & Entropy & 0.9291213 & 0.166849918\\\\\n",
       "\t Medium & StartNoT & Entropy & 0.9628566 & 0.657581798\\\\\n",
       "\t Medium & StartT   & Entropy & 0.9632173 & 0.609925467\\\\\n",
       "\t Slow   & MidNoT   & Entropy & 0.8368486 & 0.004129198\\\\\n",
       "\t Slow   & MidT     & Entropy & 0.8996022 & 0.040536780\\\\\n",
       "\t Slow   & StartNoT & Entropy & 0.9598709 & 0.569840744\\\\\n",
       "\t Slow   & StartT   & Entropy & 0.9541601 & 0.463631468\\\\\n",
       "\\end{tabular}\n"
      ],
      "text/markdown": [
       "\n",
       "A tibble: 8 × 5\n",
       "\n",
       "| Speed &lt;fct&gt; | Phase &lt;fct&gt; | variable &lt;chr&gt; | statistic &lt;dbl&gt; | p &lt;dbl&gt; |\n",
       "|---|---|---|---|---|\n",
       "| Medium | MidNoT   | Entropy | 0.9417047 | 0.309835170 |\n",
       "| Medium | MidT     | Entropy | 0.9291213 | 0.166849918 |\n",
       "| Medium | StartNoT | Entropy | 0.9628566 | 0.657581798 |\n",
       "| Medium | StartT   | Entropy | 0.9632173 | 0.609925467 |\n",
       "| Slow   | MidNoT   | Entropy | 0.8368486 | 0.004129198 |\n",
       "| Slow   | MidT     | Entropy | 0.8996022 | 0.040536780 |\n",
       "| Slow   | StartNoT | Entropy | 0.9598709 | 0.569840744 |\n",
       "| Slow   | StartT   | Entropy | 0.9541601 | 0.463631468 |\n",
       "\n"
      ],
      "text/plain": [
       "  Speed  Phase    variable statistic p          \n",
       "1 Medium MidNoT   Entropy  0.9417047 0.309835170\n",
       "2 Medium MidT     Entropy  0.9291213 0.166849918\n",
       "3 Medium StartNoT Entropy  0.9628566 0.657581798\n",
       "4 Medium StartT   Entropy  0.9632173 0.609925467\n",
       "5 Slow   MidNoT   Entropy  0.8368486 0.004129198\n",
       "6 Slow   MidT     Entropy  0.8996022 0.040536780\n",
       "7 Slow   StartNoT Entropy  0.9598709 0.569840744\n",
       "8 Slow   StartT   Entropy  0.9541601 0.463631468"
      ]
     },
     "metadata": {},
     "output_type": "display_data"
    }
   ],
   "source": [
    "ToPlot_Ent %>% group_by(Speed,Phase) %>% shapiro_test(Entropy)"
   ]
  },
  {
   "cell_type": "code",
   "execution_count": 22,
   "metadata": {},
   "outputs": [
    {
     "name": "stdout",
     "output_type": "stream",
     "text": [
      "[1] \"Phase comparison\"\n"
     ]
    },
    {
     "data": {
      "text/html": [
       "3.45900576075"
      ],
      "text/latex": [
       "3.45900576075"
      ],
      "text/markdown": [
       "3.45900576075"
      ],
      "text/plain": [
       "[1] 3.459006"
      ]
     },
     "metadata": {},
     "output_type": "display_data"
    },
    {
     "data": {
      "text/html": [
       "3.350922831"
      ],
      "text/latex": [
       "3.350922831"
      ],
      "text/markdown": [
       "3.350922831"
      ],
      "text/plain": [
       "[1] 3.350923"
      ]
     },
     "metadata": {},
     "output_type": "display_data"
    },
    {
     "data": {
      "text/plain": [
       "\n",
       "\tWilcoxon signed rank test with continuity correction\n",
       "\n",
       "data:  Ent_Start and Ent_Mid\n",
       "V = 564, p-value = 0.001382\n",
       "alternative hypothesis: true location shift is not equal to 0\n"
      ]
     },
     "metadata": {},
     "output_type": "display_data"
    },
    {
     "data": {
      "text/html": [
       "-3.19829257435599"
      ],
      "text/latex": [
       "-3.19829257435599"
      ],
      "text/markdown": [
       "-3.19829257435599"
      ],
      "text/plain": [
       "[1] -3.198293"
      ]
     },
     "metadata": {},
     "output_type": "display_data"
    },
    {
     "name": "stdout",
     "output_type": "stream",
     "text": [
      "[1] \"Speed comparison\"\n"
     ]
    },
    {
     "data": {
      "text/html": [
       "3.4891429365"
      ],
      "text/latex": [
       "3.4891429365"
      ],
      "text/markdown": [
       "3.4891429365"
      ],
      "text/plain": [
       "[1] 3.489143"
      ]
     },
     "metadata": {},
     "output_type": "display_data"
    },
    {
     "data": {
      "text/html": [
       "3.1387193442"
      ],
      "text/latex": [
       "3.1387193442"
      ],
      "text/markdown": [
       "3.1387193442"
      ],
      "text/plain": [
       "[1] 3.138719"
      ]
     },
     "metadata": {},
     "output_type": "display_data"
    },
    {
     "data": {
      "text/plain": [
       "\n",
       "\tWilcoxon rank sum test with continuity correction\n",
       "\n",
       "data:  Ent_Med and Ent_Slow\n",
       "W = 121, p-value = 1.177e-09\n",
       "alternative hypothesis: true location shift is not equal to 0\n"
      ]
     },
     "metadata": {},
     "output_type": "display_data"
    },
    {
     "data": {
      "text/html": [
       "-6.08330329240359"
      ],
      "text/latex": [
       "-6.08330329240359"
      ],
      "text/markdown": [
       "-6.08330329240359"
      ],
      "text/plain": [
       "[1] -6.083303"
      ]
     },
     "metadata": {},
     "output_type": "display_data"
    }
   ],
   "source": [
    "#A/ case Start & No Transfer\n",
    "Ent_data <- ToPlot_Ent %>% filter(!Phase=='MidT') %>% filter(!Phase=='StartT')\n",
    "Ent_Start <- (Ent_data %>% filter(Phase=='StartNoT'))$Entropy\n",
    "Ent_Mid <- (Ent_data %>% filter(Phase=='MidNoT'))$Entropy\n",
    "print('Phase comparison')\n",
    "median(Ent_Start)\n",
    "median(Ent_Mid)\n",
    "MWa<-wilcox.test(Ent_Start,Ent_Mid,paired=TRUE,conf.level = 0.95,exact=FALSE)\n",
    "MWa\n",
    "qnorm(MWa$p.value/2)\n",
    "\n",
    "Ent_Slow <- (Ent_data %>% filter(Speed=='Slow'))$Entropy\n",
    "Ent_Med <- (Ent_data %>% filter(Speed=='Medium'))$Entropy\n",
    "print('Speed comparison')\n",
    "median(Ent_Slow)\n",
    "median(Ent_Med)\n",
    "MWb<-wilcox.test(Ent_Med,Ent_Slow,paired=FALSE,conf.level = 0.95,exact=FALSE)\n",
    "MWb\n",
    "qnorm(MWb$p.value/2)"
   ]
  },
  {
   "cell_type": "code",
   "execution_count": 23,
   "metadata": {},
   "outputs": [
    {
     "name": "stdout",
     "output_type": "stream",
     "text": [
      "[1] \"Phase comparison\"\n"
     ]
    },
    {
     "data": {
      "text/html": [
       "3.3297569006"
      ],
      "text/latex": [
       "3.3297569006"
      ],
      "text/markdown": [
       "3.3297569006"
      ],
      "text/plain": [
       "[1] 3.329757"
      ]
     },
     "metadata": {},
     "output_type": "display_data"
    },
    {
     "data": {
      "text/html": [
       "3.2683039914"
      ],
      "text/latex": [
       "3.2683039914"
      ],
      "text/markdown": [
       "3.2683039914"
      ],
      "text/plain": [
       "[1] 3.268304"
      ]
     },
     "metadata": {},
     "output_type": "display_data"
    },
    {
     "data": {
      "text/plain": [
       "\n",
       "\tWilcoxon signed rank test with continuity correction\n",
       "\n",
       "data:  Ent_Start and Ent_Mid\n",
       "V = 551, p-value = 0.02511\n",
       "alternative hypothesis: true location shift is not equal to 0\n"
      ]
     },
     "metadata": {},
     "output_type": "display_data"
    },
    {
     "data": {
      "text/html": [
       "-2.23977716585327"
      ],
      "text/latex": [
       "-2.23977716585327"
      ],
      "text/markdown": [
       "-2.23977716585327"
      ],
      "text/plain": [
       "[1] -2.239777"
      ]
     },
     "metadata": {},
     "output_type": "display_data"
    },
    {
     "name": "stdout",
     "output_type": "stream",
     "text": [
      "[1] \"Speed comparison\"\n"
     ]
    },
    {
     "data": {
      "text/html": [
       "3.394718043"
      ],
      "text/latex": [
       "3.394718043"
      ],
      "text/markdown": [
       "3.394718043"
      ],
      "text/plain": [
       "[1] 3.394718"
      ]
     },
     "metadata": {},
     "output_type": "display_data"
    },
    {
     "data": {
      "text/html": [
       "3.086130369"
      ],
      "text/latex": [
       "3.086130369"
      ],
      "text/markdown": [
       "3.086130369"
      ],
      "text/plain": [
       "[1] 3.08613"
      ]
     },
     "metadata": {},
     "output_type": "display_data"
    },
    {
     "data": {
      "text/plain": [
       "\n",
       "\tWilcoxon rank sum test with continuity correction\n",
       "\n",
       "data:  Ent_Med and Ent_Slow\n",
       "W = 121, p-value = 1.705e-10\n",
       "alternative hypothesis: true location shift is not equal to 0\n"
      ]
     },
     "metadata": {},
     "output_type": "display_data"
    },
    {
     "data": {
      "text/html": [
       "-6.38577082727665"
      ],
      "text/latex": [
       "-6.38577082727665"
      ],
      "text/markdown": [
       "-6.38577082727665"
      ],
      "text/plain": [
       "[1] -6.385771"
      ]
     },
     "metadata": {},
     "output_type": "display_data"
    }
   ],
   "source": [
    "#B/ case Start & Transfer\n",
    "Ent_data2 <- ToPlot_Ent %>% filter(!Phase=='MidNoT') %>% filter(!Phase=='StartNoT')\n",
    "Ent_Start <- (Ent_data2 %>% filter(Phase=='StartT'))$Entropy\n",
    "Ent_Mid <- (Ent_data2 %>% filter(Phase=='MidT'))$Entropy\n",
    "print('Phase comparison')\n",
    "median(Ent_Start)\n",
    "median(Ent_Mid)\n",
    "MWa<-wilcox.test(Ent_Start,Ent_Mid,paired=TRUE,conf.level = 0.95,exact=FALSE)\n",
    "MWa\n",
    "qnorm(MWa$p.value/2)\n",
    "\n",
    "Ent_Slow <- (Ent_data2 %>% filter(Speed=='Slow'))$Entropy\n",
    "Ent_Med <- (Ent_data2 %>% filter(Speed=='Medium'))$Entropy\n",
    "print('Speed comparison')\n",
    "median(Ent_Slow)\n",
    "median(Ent_Med)\n",
    "MWb<-wilcox.test(Ent_Med,Ent_Slow,paired=FALSE,conf.level = 0.95,exact=FALSE)\n",
    "MWb\n",
    "qnorm(MWb$p.value/2)"
   ]
  },
  {
   "cell_type": "code",
   "execution_count": 24,
   "metadata": {},
   "outputs": [
    {
     "data": {
      "text/html": [
       "39"
      ],
      "text/latex": [
       "39"
      ],
      "text/markdown": [
       "39"
      ],
      "text/plain": [
       "[1] 39"
      ]
     },
     "metadata": {},
     "output_type": "display_data"
    },
    {
     "data": {
      "text/html": [
       "3.2683039914"
      ],
      "text/latex": [
       "3.2683039914"
      ],
      "text/markdown": [
       "3.2683039914"
      ],
      "text/plain": [
       "[1] 3.268304"
      ]
     },
     "metadata": {},
     "output_type": "display_data"
    },
    {
     "data": {
      "text/html": [
       "3.350922831"
      ],
      "text/latex": [
       "3.350922831"
      ],
      "text/markdown": [
       "3.350922831"
      ],
      "text/plain": [
       "[1] 3.350923"
      ]
     },
     "metadata": {},
     "output_type": "display_data"
    },
    {
     "data": {
      "text/plain": [
       "\n",
       "\tWilcoxon rank sum test with continuity correction\n",
       "\n",
       "data:  Ent_Transfer and Ent_NoTransfer\n",
       "W = 612, p-value = 0.2573\n",
       "alternative hypothesis: true location shift is not equal to 0\n"
      ]
     },
     "metadata": {},
     "output_type": "display_data"
    },
    {
     "data": {
      "text/html": [
       "-1.13276179453108"
      ],
      "text/latex": [
       "-1.13276179453108"
      ],
      "text/markdown": [
       "-1.13276179453108"
      ],
      "text/plain": [
       "[1] -1.132762"
      ]
     },
     "metadata": {},
     "output_type": "display_data"
    }
   ],
   "source": [
    "#C) Transfer by comparison with No Transfer\n",
    "Transfer_compare <- Ent_data2 %>% filter(Phase=='MidT')\n",
    "ToAdd_Transfer <- rep('Transfer',nrow(Transfer_compare))\n",
    "Transfer_compare$Group <- ToAdd_Transfer\n",
    "nrow(Transfer_compare)\n",
    "NoTransfer_compare <- Ent_data %>% filter(Phase=='MidNoT')\n",
    "ToAdd_NoTransfer <- rep('No Transfer',nrow(NoTransfer_compare))\n",
    "NoTransfer_compare$Group <- ToAdd_NoTransfer\n",
    "#nrow(NoTransfer_compare)\n",
    "#Compare_T <- rbind(Transfer_compare,NoTransfer_compare)\n",
    "#nrow(Compare_T)\n",
    "\n",
    "Ent_Transfer <- Transfer_compare$Entropy\n",
    "Ent_NoTransfer <- NoTransfer_compare$Entropy\n",
    "median(Ent_Transfer)\n",
    "median(Ent_NoTransfer)\n",
    "MWc<-wilcox.test(Ent_Transfer,Ent_NoTransfer,paired=FALSE,conf.level = 0.95,exact=FALSE)\n",
    "MWc\n",
    "qnorm(MWc$p.value/2)"
   ]
  },
  {
   "cell_type": "markdown",
   "metadata": {},
   "source": [
    "# Log CV ISI"
   ]
  },
  {
   "cell_type": "code",
   "execution_count": 25,
   "metadata": {},
   "outputs": [
    {
     "data": {
      "text/html": [
       "18"
      ],
      "text/latex": [
       "18"
      ],
      "text/markdown": [
       "18"
      ],
      "text/plain": [
       "[1] 18"
      ]
     },
     "metadata": {},
     "output_type": "display_data"
    },
    {
     "data": {
      "text/html": [
       "19"
      ],
      "text/latex": [
       "19"
      ],
      "text/markdown": [
       "19"
      ],
      "text/plain": [
       "[1] 19"
      ]
     },
     "metadata": {},
     "output_type": "display_data"
    },
    {
     "data": {
      "text/html": [
       "20"
      ],
      "text/latex": [
       "20"
      ],
      "text/markdown": [
       "20"
      ],
      "text/plain": [
       "[1] 20"
      ]
     },
     "metadata": {},
     "output_type": "display_data"
    },
    {
     "data": {
      "text/html": [
       "19"
      ],
      "text/latex": [
       "19"
      ],
      "text/markdown": [
       "19"
      ],
      "text/plain": [
       "[1] 19"
      ]
     },
     "metadata": {},
     "output_type": "display_data"
    },
    {
     "data": {
      "text/html": [
       "19"
      ],
      "text/latex": [
       "19"
      ],
      "text/markdown": [
       "19"
      ],
      "text/plain": [
       "[1] 19"
      ]
     },
     "metadata": {},
     "output_type": "display_data"
    },
    {
     "data": {
      "text/html": [
       "20"
      ],
      "text/latex": [
       "20"
      ],
      "text/markdown": [
       "20"
      ],
      "text/plain": [
       "[1] 20"
      ]
     },
     "metadata": {},
     "output_type": "display_data"
    },
    {
     "data": {
      "text/html": [
       "18"
      ],
      "text/latex": [
       "18"
      ],
      "text/markdown": [
       "18"
      ],
      "text/plain": [
       "[1] 18"
      ]
     },
     "metadata": {},
     "output_type": "display_data"
    },
    {
     "data": {
      "text/html": [
       "19"
      ],
      "text/latex": [
       "19"
      ],
      "text/markdown": [
       "19"
      ],
      "text/plain": [
       "[1] 19"
      ]
     },
     "metadata": {},
     "output_type": "display_data"
    },
    {
     "data": {
      "text/html": [
       "152"
      ],
      "text/latex": [
       "152"
      ],
      "text/markdown": [
       "152"
      ],
      "text/plain": [
       "[1] 152"
      ]
     },
     "metadata": {},
     "output_type": "display_data"
    }
   ],
   "source": [
    "Hum_StMed <- Start_Medium$lCV\n",
    "Ag_StMed <- Start_Medium$Subject\n",
    "n1<-length(Hum_StMed)\n",
    "n1\n",
    "Hum_StSlow <- Start_Slow$lCV\n",
    "Ag_StSlow <- Start_Slow$Subject\n",
    "n2<-length(Hum_StSlow)\n",
    "n2\n",
    "Hum_StMedT <- Start_MediumT$lCV\n",
    "Ag_StMedT <- Start_MediumT$Subject\n",
    "n1b<-length(Hum_StMedT)\n",
    "n1b\n",
    "Hum_StSlowT <- Start_SlowT$lCV\n",
    "Ag_StSlowT <- Start_SlowT$Subject\n",
    "n2b<-length(Hum_StSlowT)\n",
    "n2b\n",
    "Hum_MidMed <- Mid_SMS$lCV\n",
    "Ag_MidMed <- Mid_SMS$Subject\n",
    "n3<-length(Hum_MidMed)\n",
    "n3\n",
    "Hum_MidSlow <- Mid_MSM$lCV\n",
    "Ag_MidSlow <- Mid_MSM$Subject\n",
    "n4<-length(Hum_MidSlow)\n",
    "n4\n",
    "Hum_MidPureM <- Mid_MMM$lCV\n",
    "Ag_MidPureM <- Mid_MMM$Subject\n",
    "n5<-length(Hum_MidPureM)\n",
    "n5\n",
    "Hum_MidPureS <- Mid_SSS$lCV\n",
    "Ag_MidPureS <- Mid_SSS$Subject\n",
    "n6<-length(Hum_MidPureS)\n",
    "n6\n",
    "n_Total<-n1+n2+n1b+n2b+n3+n4+n5+n6\n",
    "n_Total"
   ]
  },
  {
   "cell_type": "code",
   "execution_count": 26,
   "metadata": {},
   "outputs": [
    {
     "data": {
      "text/html": [
       "152"
      ],
      "text/latex": [
       "152"
      ],
      "text/markdown": [
       "152"
      ],
      "text/plain": [
       "[1] 152"
      ]
     },
     "metadata": {},
     "output_type": "display_data"
    },
    {
     "data": {
      "text/html": [
       "<table>\n",
       "<caption>A data.frame: 6 × 4</caption>\n",
       "<thead>\n",
       "\t<tr><th></th><th scope=col>Subject</th><th scope=col>Speed</th><th scope=col>Phase</th><th scope=col>lCV</th></tr>\n",
       "\t<tr><th></th><th scope=col>&lt;fct&gt;</th><th scope=col>&lt;fct&gt;</th><th scope=col>&lt;fct&gt;</th><th scope=col>&lt;dbl&gt;</th></tr>\n",
       "</thead>\n",
       "<tbody>\n",
       "\t<tr><th scope=row>1</th><td>A10GBO6PU2EI0K</td><td>Medium</td><td>StartT</td><td>-1.2202040</td></tr>\n",
       "\t<tr><th scope=row>2</th><td>A16335MOISDG1F</td><td>Medium</td><td>StartT</td><td>-0.9372757</td></tr>\n",
       "\t<tr><th scope=row>3</th><td>A1E8ZYOQSGKTP8</td><td>Medium</td><td>StartT</td><td>-0.2857093</td></tr>\n",
       "\t<tr><th scope=row>4</th><td>A1YSBD5XW5UCR0</td><td>Medium</td><td>StartT</td><td>-1.4761271</td></tr>\n",
       "\t<tr><th scope=row>5</th><td>A2E609OEGN4D6H</td><td>Medium</td><td>StartT</td><td>-0.4980249</td></tr>\n",
       "\t<tr><th scope=row>6</th><td>A2GO3SYV3X3KE </td><td>Medium</td><td>StartT</td><td>-0.8536570</td></tr>\n",
       "</tbody>\n",
       "</table>\n"
      ],
      "text/latex": [
       "A data.frame: 6 × 4\n",
       "\\begin{tabular}{r|llll}\n",
       "  & Subject & Speed & Phase & lCV\\\\\n",
       "  & <fct> & <fct> & <fct> & <dbl>\\\\\n",
       "\\hline\n",
       "\t1 & A10GBO6PU2EI0K & Medium & StartT & -1.2202040\\\\\n",
       "\t2 & A16335MOISDG1F & Medium & StartT & -0.9372757\\\\\n",
       "\t3 & A1E8ZYOQSGKTP8 & Medium & StartT & -0.2857093\\\\\n",
       "\t4 & A1YSBD5XW5UCR0 & Medium & StartT & -1.4761271\\\\\n",
       "\t5 & A2E609OEGN4D6H & Medium & StartT & -0.4980249\\\\\n",
       "\t6 & A2GO3SYV3X3KE  & Medium & StartT & -0.8536570\\\\\n",
       "\\end{tabular}\n"
      ],
      "text/markdown": [
       "\n",
       "A data.frame: 6 × 4\n",
       "\n",
       "| <!--/--> | Subject &lt;fct&gt; | Speed &lt;fct&gt; | Phase &lt;fct&gt; | lCV &lt;dbl&gt; |\n",
       "|---|---|---|---|---|\n",
       "| 1 | A10GBO6PU2EI0K | Medium | StartT | -1.2202040 |\n",
       "| 2 | A16335MOISDG1F | Medium | StartT | -0.9372757 |\n",
       "| 3 | A1E8ZYOQSGKTP8 | Medium | StartT | -0.2857093 |\n",
       "| 4 | A1YSBD5XW5UCR0 | Medium | StartT | -1.4761271 |\n",
       "| 5 | A2E609OEGN4D6H | Medium | StartT | -0.4980249 |\n",
       "| 6 | A2GO3SYV3X3KE  | Medium | StartT | -0.8536570 |\n",
       "\n"
      ],
      "text/plain": [
       "  Subject        Speed  Phase  lCV       \n",
       "1 A10GBO6PU2EI0K Medium StartT -1.2202040\n",
       "2 A16335MOISDG1F Medium StartT -0.9372757\n",
       "3 A1E8ZYOQSGKTP8 Medium StartT -0.2857093\n",
       "4 A1YSBD5XW5UCR0 Medium StartT -1.4761271\n",
       "5 A2E609OEGN4D6H Medium StartT -0.4980249\n",
       "6 A2GO3SYV3X3KE  Medium StartT -0.8536570"
      ]
     },
     "metadata": {},
     "output_type": "display_data"
    }
   ],
   "source": [
    "Speed <- c(rep(\"Medium\",n1b),rep(\"Slow\",n2b),rep(\"Medium\",n1),rep(\"Slow\",n2),rep(\"Medium\",n3),rep(\"Slow\",n4),rep(\"Medium\",n5),rep(\"Slow\",n6))\n",
    "Subject <- c(Ag_StMedT,Ag_StSlowT,Ag_StMed,Ag_StSlow,Ag_MidMed,Ag_MidSlow,Ag_MidPureM,Ag_MidPureS)\n",
    "lCV <- c(Hum_StMedT,Hum_StSlowT,Hum_StMed,Hum_StSlow,Hum_MidMed,Hum_MidSlow,Hum_MidPureM,Hum_MidPureS)\n",
    "Phase <- c(rep(\"StartT\",n1b),rep(\"StartT\",n2b),rep(\"StartNoT\",n1),rep(\"StartNoT\",n2),rep(\"MidT\",n3),rep(\"MidT\",n4),rep(\"MidNoT\",n5),rep(\"MidNoT\",n6))\n",
    "length(Speed)\n",
    "ToPlot_lcv <- data.frame(Subject,Speed,Phase,lCV)\n",
    "head(ToPlot_lcv)"
   ]
  },
  {
   "cell_type": "code",
   "execution_count": 27,
   "metadata": {},
   "outputs": [
    {
     "data": {
      "text/html": [
       "<table>\n",
       "<caption>A tibble: 8 × 5</caption>\n",
       "<thead>\n",
       "\t<tr><th scope=col>Speed</th><th scope=col>Phase</th><th scope=col>variable</th><th scope=col>statistic</th><th scope=col>p</th></tr>\n",
       "\t<tr><th scope=col>&lt;fct&gt;</th><th scope=col>&lt;fct&gt;</th><th scope=col>&lt;chr&gt;</th><th scope=col>&lt;dbl&gt;</th><th scope=col>&lt;dbl&gt;</th></tr>\n",
       "</thead>\n",
       "<tbody>\n",
       "\t<tr><td>Medium</td><td>MidNoT  </td><td>lCV</td><td>0.9162675</td><td>1.110217e-01</td></tr>\n",
       "\t<tr><td>Medium</td><td>MidT    </td><td>lCV</td><td>0.6677649</td><td>2.352677e-05</td></tr>\n",
       "\t<tr><td>Medium</td><td>StartNoT</td><td>lCV</td><td>0.8487408</td><td>8.090736e-03</td></tr>\n",
       "\t<tr><td>Medium</td><td>StartT  </td><td>lCV</td><td>0.8985187</td><td>3.868762e-02</td></tr>\n",
       "\t<tr><td>Slow  </td><td>MidNoT  </td><td>lCV</td><td>0.7325466</td><td>1.394608e-04</td></tr>\n",
       "\t<tr><td>Slow  </td><td>MidT    </td><td>lCV</td><td>0.8720865</td><td>1.278669e-02</td></tr>\n",
       "\t<tr><td>Slow  </td><td>StartNoT</td><td>lCV</td><td>0.7976930</td><td>1.058188e-03</td></tr>\n",
       "\t<tr><td>Slow  </td><td>StartT  </td><td>lCV</td><td>0.7686552</td><td>4.146855e-04</td></tr>\n",
       "</tbody>\n",
       "</table>\n"
      ],
      "text/latex": [
       "A tibble: 8 × 5\n",
       "\\begin{tabular}{lllll}\n",
       " Speed & Phase & variable & statistic & p\\\\\n",
       " <fct> & <fct> & <chr> & <dbl> & <dbl>\\\\\n",
       "\\hline\n",
       "\t Medium & MidNoT   & lCV & 0.9162675 & 1.110217e-01\\\\\n",
       "\t Medium & MidT     & lCV & 0.6677649 & 2.352677e-05\\\\\n",
       "\t Medium & StartNoT & lCV & 0.8487408 & 8.090736e-03\\\\\n",
       "\t Medium & StartT   & lCV & 0.8985187 & 3.868762e-02\\\\\n",
       "\t Slow   & MidNoT   & lCV & 0.7325466 & 1.394608e-04\\\\\n",
       "\t Slow   & MidT     & lCV & 0.8720865 & 1.278669e-02\\\\\n",
       "\t Slow   & StartNoT & lCV & 0.7976930 & 1.058188e-03\\\\\n",
       "\t Slow   & StartT   & lCV & 0.7686552 & 4.146855e-04\\\\\n",
       "\\end{tabular}\n"
      ],
      "text/markdown": [
       "\n",
       "A tibble: 8 × 5\n",
       "\n",
       "| Speed &lt;fct&gt; | Phase &lt;fct&gt; | variable &lt;chr&gt; | statistic &lt;dbl&gt; | p &lt;dbl&gt; |\n",
       "|---|---|---|---|---|\n",
       "| Medium | MidNoT   | lCV | 0.9162675 | 1.110217e-01 |\n",
       "| Medium | MidT     | lCV | 0.6677649 | 2.352677e-05 |\n",
       "| Medium | StartNoT | lCV | 0.8487408 | 8.090736e-03 |\n",
       "| Medium | StartT   | lCV | 0.8985187 | 3.868762e-02 |\n",
       "| Slow   | MidNoT   | lCV | 0.7325466 | 1.394608e-04 |\n",
       "| Slow   | MidT     | lCV | 0.8720865 | 1.278669e-02 |\n",
       "| Slow   | StartNoT | lCV | 0.7976930 | 1.058188e-03 |\n",
       "| Slow   | StartT   | lCV | 0.7686552 | 4.146855e-04 |\n",
       "\n"
      ],
      "text/plain": [
       "  Speed  Phase    variable statistic p           \n",
       "1 Medium MidNoT   lCV      0.9162675 1.110217e-01\n",
       "2 Medium MidT     lCV      0.6677649 2.352677e-05\n",
       "3 Medium StartNoT lCV      0.8487408 8.090736e-03\n",
       "4 Medium StartT   lCV      0.8985187 3.868762e-02\n",
       "5 Slow   MidNoT   lCV      0.7325466 1.394608e-04\n",
       "6 Slow   MidT     lCV      0.8720865 1.278669e-02\n",
       "7 Slow   StartNoT lCV      0.7976930 1.058188e-03\n",
       "8 Slow   StartT   lCV      0.7686552 4.146855e-04"
      ]
     },
     "metadata": {},
     "output_type": "display_data"
    }
   ],
   "source": [
    "ToPlot_lcv %>% group_by(Speed,Phase) %>% shapiro_test(lCV)"
   ]
  },
  {
   "cell_type": "code",
   "execution_count": 28,
   "metadata": {
    "scrolled": false
   },
   "outputs": [
    {
     "name": "stdout",
     "output_type": "stream",
     "text": [
      "[1] \"Phase comparison\"\n"
     ]
    },
    {
     "data": {
      "text/html": [
       "-1.06395648349535"
      ],
      "text/latex": [
       "-1.06395648349535"
      ],
      "text/markdown": [
       "-1.06395648349535"
      ],
      "text/plain": [
       "[1] -1.063956"
      ]
     },
     "metadata": {},
     "output_type": "display_data"
    },
    {
     "data": {
      "text/html": [
       "-1.26267865872117"
      ],
      "text/latex": [
       "-1.26267865872117"
      ],
      "text/markdown": [
       "-1.26267865872117"
      ],
      "text/plain": [
       "[1] -1.262679"
      ]
     },
     "metadata": {},
     "output_type": "display_data"
    },
    {
     "data": {
      "text/plain": [
       "\n",
       "\tWilcoxon signed rank test with continuity correction\n",
       "\n",
       "data:  lCV_Start and lCV_Mid\n",
       "V = 626, p-value = 3.571e-05\n",
       "alternative hypothesis: true location shift is not equal to 0\n"
      ]
     },
     "metadata": {},
     "output_type": "display_data"
    },
    {
     "data": {
      "text/html": [
       "-4.13364228949783"
      ],
      "text/latex": [
       "-4.13364228949783"
      ],
      "text/markdown": [
       "-4.13364228949783"
      ],
      "text/plain": [
       "[1] -4.133642"
      ]
     },
     "metadata": {},
     "output_type": "display_data"
    },
    {
     "name": "stdout",
     "output_type": "stream",
     "text": [
      "[1] \"Speed comparison\"\n"
     ]
    },
    {
     "data": {
      "text/html": [
       "-1.19879669820242"
      ],
      "text/latex": [
       "-1.19879669820242"
      ],
      "text/markdown": [
       "-1.19879669820242"
      ],
      "text/plain": [
       "[1] -1.198797"
      ]
     },
     "metadata": {},
     "output_type": "display_data"
    },
    {
     "data": {
      "text/html": [
       "-1.091261630318"
      ],
      "text/latex": [
       "-1.091261630318"
      ],
      "text/markdown": [
       "-1.091261630318"
      ],
      "text/plain": [
       "[1] -1.091262"
      ]
     },
     "metadata": {},
     "output_type": "display_data"
    },
    {
     "data": {
      "text/plain": [
       "\n",
       "\tWilcoxon rank sum test with continuity correction\n",
       "\n",
       "data:  lCV_Med and lCV_Slow\n",
       "W = 767, p-value = 0.3723\n",
       "alternative hypothesis: true location shift is not equal to 0\n"
      ]
     },
     "metadata": {},
     "output_type": "display_data"
    },
    {
     "data": {
      "text/html": [
       "-0.892217816219194"
      ],
      "text/latex": [
       "-0.892217816219194"
      ],
      "text/markdown": [
       "-0.892217816219194"
      ],
      "text/plain": [
       "[1] -0.8922178"
      ]
     },
     "metadata": {},
     "output_type": "display_data"
    }
   ],
   "source": [
    "#A/ case Start & No Transfer\n",
    "lCV_data <- ToPlot_lcv %>% filter(!Phase=='MidT') %>% filter(!Phase=='StartT')\n",
    "lCV_Start <- (lCV_data %>% filter(Phase=='StartNoT'))$lCV\n",
    "lCV_Mid <- (lCV_data %>% filter(Phase=='MidNoT'))$lCV\n",
    "print('Phase comparison')\n",
    "median(lCV_Start)\n",
    "median(lCV_Mid)\n",
    "MWa<-wilcox.test(lCV_Start,lCV_Mid,paired=TRUE,conf.level = 0.95,exact=FALSE)\n",
    "MWa\n",
    "qnorm(MWa$p.value/2)\n",
    "\n",
    "lCV_Slow <- (lCV_data %>% filter(Speed=='Slow'))$lCV\n",
    "lCV_Med <- (lCV_data %>% filter(Speed=='Medium'))$lCV\n",
    "print('Speed comparison')\n",
    "median(lCV_Slow)\n",
    "median(lCV_Med)\n",
    "MWb<-wilcox.test(lCV_Med,lCV_Slow,paired=FALSE,conf.level = 0.95,exact=FALSE)\n",
    "MWb\n",
    "qnorm(MWb$p.value/2)"
   ]
  },
  {
   "cell_type": "code",
   "execution_count": 29,
   "metadata": {
    "scrolled": false
   },
   "outputs": [
    {
     "name": "stdout",
     "output_type": "stream",
     "text": [
      "[1] \"Phase comparison\"\n"
     ]
    },
    {
     "data": {
      "text/html": [
       "-1.16854330519498"
      ],
      "text/latex": [
       "-1.16854330519498"
      ],
      "text/markdown": [
       "-1.16854330519498"
      ],
      "text/plain": [
       "[1] -1.168543"
      ]
     },
     "metadata": {},
     "output_type": "display_data"
    },
    {
     "data": {
      "text/html": [
       "-1.34491302485481"
      ],
      "text/latex": [
       "-1.34491302485481"
      ],
      "text/markdown": [
       "-1.34491302485481"
      ],
      "text/plain": [
       "[1] -1.344913"
      ]
     },
     "metadata": {},
     "output_type": "display_data"
    },
    {
     "data": {
      "text/plain": [
       "\n",
       "\tWilcoxon signed rank test with continuity correction\n",
       "\n",
       "data:  lCV_Start and lCV_Mid\n",
       "V = 517, p-value = 0.07751\n",
       "alternative hypothesis: true location shift is not equal to 0\n"
      ]
     },
     "metadata": {},
     "output_type": "display_data"
    },
    {
     "data": {
      "text/html": [
       "-1.76530723663825"
      ],
      "text/latex": [
       "-1.76530723663825"
      ],
      "text/markdown": [
       "-1.76530723663825"
      ],
      "text/plain": [
       "[1] -1.765307"
      ]
     },
     "metadata": {},
     "output_type": "display_data"
    },
    {
     "name": "stdout",
     "output_type": "stream",
     "text": [
      "[1] \"Speed comparison\"\n"
     ]
    },
    {
     "data": {
      "text/html": [
       "-1.27689156996872"
      ],
      "text/latex": [
       "-1.27689156996872"
      ],
      "text/markdown": [
       "-1.27689156996872"
      ],
      "text/plain": [
       "[1] -1.276892"
      ]
     },
     "metadata": {},
     "output_type": "display_data"
    },
    {
     "data": {
      "text/html": [
       "-1.26128790059845"
      ],
      "text/latex": [
       "-1.26128790059845"
      ],
      "text/markdown": [
       "-1.26128790059845"
      ],
      "text/plain": [
       "[1] -1.261288"
      ]
     },
     "metadata": {},
     "output_type": "display_data"
    },
    {
     "data": {
      "text/plain": [
       "\n",
       "\tWilcoxon rank sum test with continuity correction\n",
       "\n",
       "data:  lCV_Med and lCV_Slow\n",
       "W = 865, p-value = 0.2987\n",
       "alternative hypothesis: true location shift is not equal to 0\n"
      ]
     },
     "metadata": {},
     "output_type": "display_data"
    },
    {
     "data": {
      "text/html": [
       "-1.03931168393861"
      ],
      "text/latex": [
       "-1.03931168393861"
      ],
      "text/markdown": [
       "-1.03931168393861"
      ],
      "text/plain": [
       "[1] -1.039312"
      ]
     },
     "metadata": {},
     "output_type": "display_data"
    }
   ],
   "source": [
    "#B/ case Start & Transfer\n",
    "lCV_data2 <- ToPlot_lcv %>% filter(!Phase=='MidNoT') %>% filter(!Phase=='StartNoT')\n",
    "lCV_Start <- (lCV_data2 %>% filter(Phase=='StartT'))$lCV\n",
    "lCV_Mid <- (lCV_data2 %>% filter(Phase=='MidT'))$lCV\n",
    "print('Phase comparison')\n",
    "median(lCV_Start)\n",
    "median(lCV_Mid)\n",
    "MWa<-wilcox.test(lCV_Start,lCV_Mid,paired=TRUE,conf.level = 0.95,exact=FALSE)\n",
    "MWa\n",
    "qnorm(MWa$p.value/2)\n",
    "\n",
    "lCV_Slow <- (lCV_data2 %>% filter(Speed=='Slow'))$lCV\n",
    "lCV_Med <- (lCV_data2 %>% filter(Speed=='Medium'))$lCV\n",
    "print('Speed comparison')\n",
    "median(lCV_Slow)\n",
    "median(lCV_Med)\n",
    "MWb<-wilcox.test(lCV_Med,lCV_Slow,paired=FALSE,conf.level = 0.95,exact=FALSE)\n",
    "MWb\n",
    "qnorm(MWb$p.value/2)"
   ]
  },
  {
   "cell_type": "code",
   "execution_count": 30,
   "metadata": {},
   "outputs": [
    {
     "data": {
      "text/html": [
       "39"
      ],
      "text/latex": [
       "39"
      ],
      "text/markdown": [
       "39"
      ],
      "text/plain": [
       "[1] 39"
      ]
     },
     "metadata": {},
     "output_type": "display_data"
    },
    {
     "data": {
      "text/html": [
       "-1.34491302485481"
      ],
      "text/latex": [
       "-1.34491302485481"
      ],
      "text/markdown": [
       "-1.34491302485481"
      ],
      "text/plain": [
       "[1] -1.344913"
      ]
     },
     "metadata": {},
     "output_type": "display_data"
    },
    {
     "data": {
      "text/html": [
       "-1.26267865872117"
      ],
      "text/latex": [
       "-1.26267865872117"
      ],
      "text/markdown": [
       "-1.26267865872117"
      ],
      "text/plain": [
       "[1] -1.262679"
      ]
     },
     "metadata": {},
     "output_type": "display_data"
    },
    {
     "data": {
      "text/plain": [
       "\n",
       "\tWilcoxon rank sum test with continuity correction\n",
       "\n",
       "data:  lCV_Transfer and lCV_NoTransfer\n",
       "W = 568, p-value = 0.1118\n",
       "alternative hypothesis: true location shift is not equal to 0\n"
      ]
     },
     "metadata": {},
     "output_type": "display_data"
    },
    {
     "data": {
      "text/html": [
       "-1.59002343636015"
      ],
      "text/latex": [
       "-1.59002343636015"
      ],
      "text/markdown": [
       "-1.59002343636015"
      ],
      "text/plain": [
       "[1] -1.590023"
      ]
     },
     "metadata": {},
     "output_type": "display_data"
    }
   ],
   "source": [
    "#C) Transfer by comparison with No Transfer\n",
    "Transfer_compare <- lCV_data2 %>% filter(Phase=='MidT')\n",
    "ToAdd_Transfer <- rep('Transfer',nrow(Transfer_compare))\n",
    "Transfer_compare$Group <- ToAdd_Transfer\n",
    "nrow(Transfer_compare)\n",
    "NoTransfer_compare <- lCV_data %>% filter(Phase=='MidNoT')\n",
    "ToAdd_NoTransfer <- rep('No Transfer',nrow(NoTransfer_compare))\n",
    "NoTransfer_compare$Group <- ToAdd_NoTransfer\n",
    "#nrow(NoTransfer_compare)\n",
    "#Compare_T <- rbind(Transfer_compare,NoTransfer_compare)\n",
    "#nrow(Compare_T)\n",
    "\n",
    "lCV_Transfer <- Transfer_compare$lCV\n",
    "lCV_NoTransfer <- NoTransfer_compare$lCV\n",
    "median(lCV_Transfer)\n",
    "median(lCV_NoTransfer)\n",
    "MWc<-wilcox.test(lCV_Transfer,lCV_NoTransfer,paired=FALSE,conf.level = 0.95,exact=FALSE)\n",
    "MWc\n",
    "qnorm(MWc$p.value/2)"
   ]
  },
  {
   "cell_type": "markdown",
   "metadata": {},
   "source": [
    "# Regularity"
   ]
  },
  {
   "cell_type": "code",
   "execution_count": 31,
   "metadata": {},
   "outputs": [
    {
     "data": {
      "text/html": [
       "18"
      ],
      "text/latex": [
       "18"
      ],
      "text/markdown": [
       "18"
      ],
      "text/plain": [
       "[1] 18"
      ]
     },
     "metadata": {},
     "output_type": "display_data"
    },
    {
     "data": {
      "text/html": [
       "19"
      ],
      "text/latex": [
       "19"
      ],
      "text/markdown": [
       "19"
      ],
      "text/plain": [
       "[1] 19"
      ]
     },
     "metadata": {},
     "output_type": "display_data"
    },
    {
     "data": {
      "text/html": [
       "20"
      ],
      "text/latex": [
       "20"
      ],
      "text/markdown": [
       "20"
      ],
      "text/plain": [
       "[1] 20"
      ]
     },
     "metadata": {},
     "output_type": "display_data"
    },
    {
     "data": {
      "text/html": [
       "19"
      ],
      "text/latex": [
       "19"
      ],
      "text/markdown": [
       "19"
      ],
      "text/plain": [
       "[1] 19"
      ]
     },
     "metadata": {},
     "output_type": "display_data"
    },
    {
     "data": {
      "text/html": [
       "19"
      ],
      "text/latex": [
       "19"
      ],
      "text/markdown": [
       "19"
      ],
      "text/plain": [
       "[1] 19"
      ]
     },
     "metadata": {},
     "output_type": "display_data"
    },
    {
     "data": {
      "text/html": [
       "20"
      ],
      "text/latex": [
       "20"
      ],
      "text/markdown": [
       "20"
      ],
      "text/plain": [
       "[1] 20"
      ]
     },
     "metadata": {},
     "output_type": "display_data"
    },
    {
     "data": {
      "text/html": [
       "18"
      ],
      "text/latex": [
       "18"
      ],
      "text/markdown": [
       "18"
      ],
      "text/plain": [
       "[1] 18"
      ]
     },
     "metadata": {},
     "output_type": "display_data"
    },
    {
     "data": {
      "text/html": [
       "19"
      ],
      "text/latex": [
       "19"
      ],
      "text/markdown": [
       "19"
      ],
      "text/plain": [
       "[1] 19"
      ]
     },
     "metadata": {},
     "output_type": "display_data"
    },
    {
     "data": {
      "text/html": [
       "152"
      ],
      "text/latex": [
       "152"
      ],
      "text/markdown": [
       "152"
      ],
      "text/plain": [
       "[1] 152"
      ]
     },
     "metadata": {},
     "output_type": "display_data"
    }
   ],
   "source": [
    "Hum_StMed <- Start_Medium$Amplitude\n",
    "Ag_StMed <- Start_Medium$Subject\n",
    "n1<-length(Hum_StMed)\n",
    "n1\n",
    "Hum_StSlow <- Start_Slow$Amplitude\n",
    "Ag_StSlow <- Start_Slow$Subject\n",
    "n2<-length(Hum_StSlow)\n",
    "n2\n",
    "Hum_StMedT <- Start_MediumT$Amplitude\n",
    "Ag_StMedT <- Start_MediumT$Subject\n",
    "n1b<-length(Hum_StMedT)\n",
    "n1b\n",
    "Hum_StSlowT <- Start_SlowT$Amplitude\n",
    "Ag_StSlowT <- Start_SlowT$Subject\n",
    "n2b<-length(Hum_StSlowT)\n",
    "n2b\n",
    "Hum_MidMed <- Mid_SMS$Amplitude\n",
    "Ag_MidMed <- Mid_SMS$Subject\n",
    "n3<-length(Hum_MidMed)\n",
    "n3\n",
    "Hum_MidSlow <- Mid_MSM$Amplitude\n",
    "Ag_MidSlow <- Mid_MSM$Subject\n",
    "n4<-length(Hum_MidSlow)\n",
    "n4\n",
    "Hum_MidPureM <- Mid_MMM$Amplitude\n",
    "Ag_MidPureM <- Mid_MMM$Subject\n",
    "n5<-length(Hum_MidPureM)\n",
    "n5\n",
    "Hum_MidPureS <- Mid_SSS$Amplitude\n",
    "Ag_MidPureS <- Mid_SSS$Subject\n",
    "n6<-length(Hum_MidPureS)\n",
    "n6\n",
    "n_Total<-n1+n2+n1b+n2b+n3+n4+n5+n6\n",
    "n_Total"
   ]
  },
  {
   "cell_type": "code",
   "execution_count": 32,
   "metadata": {},
   "outputs": [
    {
     "data": {
      "text/html": [
       "152"
      ],
      "text/latex": [
       "152"
      ],
      "text/markdown": [
       "152"
      ],
      "text/plain": [
       "[1] 152"
      ]
     },
     "metadata": {},
     "output_type": "display_data"
    },
    {
     "data": {
      "text/html": [
       "<table>\n",
       "<caption>A data.frame: 6 × 4</caption>\n",
       "<thead>\n",
       "\t<tr><th></th><th scope=col>Subject</th><th scope=col>Speed</th><th scope=col>Phase</th><th scope=col>Regularity</th></tr>\n",
       "\t<tr><th></th><th scope=col>&lt;fct&gt;</th><th scope=col>&lt;fct&gt;</th><th scope=col>&lt;fct&gt;</th><th scope=col>&lt;dbl&gt;</th></tr>\n",
       "</thead>\n",
       "<tbody>\n",
       "\t<tr><th scope=row>1</th><td>A10GBO6PU2EI0K</td><td>Medium</td><td>StartT</td><td>0.1915128</td></tr>\n",
       "\t<tr><th scope=row>2</th><td>A16335MOISDG1F</td><td>Medium</td><td>StartT</td><td>0.1426969</td></tr>\n",
       "\t<tr><th scope=row>3</th><td>A1E8ZYOQSGKTP8</td><td>Medium</td><td>StartT</td><td>0.3854300</td></tr>\n",
       "\t<tr><th scope=row>4</th><td>A1YSBD5XW5UCR0</td><td>Medium</td><td>StartT</td><td>0.4248110</td></tr>\n",
       "\t<tr><th scope=row>5</th><td>A2E609OEGN4D6H</td><td>Medium</td><td>StartT</td><td>0.2559327</td></tr>\n",
       "\t<tr><th scope=row>6</th><td>A2GO3SYV3X3KE </td><td>Medium</td><td>StartT</td><td>0.3034830</td></tr>\n",
       "</tbody>\n",
       "</table>\n"
      ],
      "text/latex": [
       "A data.frame: 6 × 4\n",
       "\\begin{tabular}{r|llll}\n",
       "  & Subject & Speed & Phase & Regularity\\\\\n",
       "  & <fct> & <fct> & <fct> & <dbl>\\\\\n",
       "\\hline\n",
       "\t1 & A10GBO6PU2EI0K & Medium & StartT & 0.1915128\\\\\n",
       "\t2 & A16335MOISDG1F & Medium & StartT & 0.1426969\\\\\n",
       "\t3 & A1E8ZYOQSGKTP8 & Medium & StartT & 0.3854300\\\\\n",
       "\t4 & A1YSBD5XW5UCR0 & Medium & StartT & 0.4248110\\\\\n",
       "\t5 & A2E609OEGN4D6H & Medium & StartT & 0.2559327\\\\\n",
       "\t6 & A2GO3SYV3X3KE  & Medium & StartT & 0.3034830\\\\\n",
       "\\end{tabular}\n"
      ],
      "text/markdown": [
       "\n",
       "A data.frame: 6 × 4\n",
       "\n",
       "| <!--/--> | Subject &lt;fct&gt; | Speed &lt;fct&gt; | Phase &lt;fct&gt; | Regularity &lt;dbl&gt; |\n",
       "|---|---|---|---|---|\n",
       "| 1 | A10GBO6PU2EI0K | Medium | StartT | 0.1915128 |\n",
       "| 2 | A16335MOISDG1F | Medium | StartT | 0.1426969 |\n",
       "| 3 | A1E8ZYOQSGKTP8 | Medium | StartT | 0.3854300 |\n",
       "| 4 | A1YSBD5XW5UCR0 | Medium | StartT | 0.4248110 |\n",
       "| 5 | A2E609OEGN4D6H | Medium | StartT | 0.2559327 |\n",
       "| 6 | A2GO3SYV3X3KE  | Medium | StartT | 0.3034830 |\n",
       "\n"
      ],
      "text/plain": [
       "  Subject        Speed  Phase  Regularity\n",
       "1 A10GBO6PU2EI0K Medium StartT 0.1915128 \n",
       "2 A16335MOISDG1F Medium StartT 0.1426969 \n",
       "3 A1E8ZYOQSGKTP8 Medium StartT 0.3854300 \n",
       "4 A1YSBD5XW5UCR0 Medium StartT 0.4248110 \n",
       "5 A2E609OEGN4D6H Medium StartT 0.2559327 \n",
       "6 A2GO3SYV3X3KE  Medium StartT 0.3034830 "
      ]
     },
     "metadata": {},
     "output_type": "display_data"
    }
   ],
   "source": [
    "Speed <- c(rep(\"Medium\",n1b),rep(\"Slow\",n2b),rep(\"Medium\",n1),rep(\"Slow\",n2),rep(\"Medium\",n3),rep(\"Slow\",n4),rep(\"Medium\",n5),rep(\"Slow\",n6))\n",
    "Subject <- c(Ag_StMedT,Ag_StSlowT,Ag_StMed,Ag_StSlow,Ag_MidMed,Ag_MidSlow,Ag_MidPureM,Ag_MidPureS)\n",
    "Regularity <- c(Hum_StMedT,Hum_StSlowT,Hum_StMed,Hum_StSlow,Hum_MidMed,Hum_MidSlow,Hum_MidPureM,Hum_MidPureS)\n",
    "Phase <- c(rep(\"StartT\",n1b),rep(\"StartT\",n2b),rep(\"StartNoT\",n1),rep(\"StartNoT\",n2),rep(\"MidT\",n3),rep(\"MidT\",n4),rep(\"MidNoT\",n5),rep(\"MidNoT\",n6))\n",
    "length(Speed)\n",
    "ToPlot_reg <- data.frame(Subject,Speed,Phase,Regularity)\n",
    "head(ToPlot_reg)"
   ]
  },
  {
   "cell_type": "code",
   "execution_count": 33,
   "metadata": {},
   "outputs": [
    {
     "data": {
      "text/html": [
       "<table>\n",
       "<caption>A tibble: 8 × 5</caption>\n",
       "<thead>\n",
       "\t<tr><th scope=col>Speed</th><th scope=col>Phase</th><th scope=col>variable</th><th scope=col>statistic</th><th scope=col>p</th></tr>\n",
       "\t<tr><th scope=col>&lt;fct&gt;</th><th scope=col>&lt;fct&gt;</th><th scope=col>&lt;chr&gt;</th><th scope=col>&lt;dbl&gt;</th><th scope=col>&lt;dbl&gt;</th></tr>\n",
       "</thead>\n",
       "<tbody>\n",
       "\t<tr><td>Medium</td><td>MidNoT  </td><td>Regularity</td><td>0.9467135</td><td>0.37581236</td></tr>\n",
       "\t<tr><td>Medium</td><td>MidT    </td><td>Regularity</td><td>0.9638838</td><td>0.65084503</td></tr>\n",
       "\t<tr><td>Medium</td><td>StartNoT</td><td>Regularity</td><td>0.8992602</td><td>0.05577829</td></tr>\n",
       "\t<tr><td>Medium</td><td>StartT  </td><td>Regularity</td><td>0.9647867</td><td>0.64319022</td></tr>\n",
       "\t<tr><td>Slow  </td><td>MidNoT  </td><td>Regularity</td><td>0.8613048</td><td>0.01030333</td></tr>\n",
       "\t<tr><td>Slow  </td><td>MidT    </td><td>Regularity</td><td>0.9244852</td><td>0.12089964</td></tr>\n",
       "\t<tr><td>Slow  </td><td>StartNoT</td><td>Regularity</td><td>0.9477802</td><td>0.36203324</td></tr>\n",
       "\t<tr><td>Slow  </td><td>StartT  </td><td>Regularity</td><td>0.9445918</td><td>0.31843749</td></tr>\n",
       "</tbody>\n",
       "</table>\n"
      ],
      "text/latex": [
       "A tibble: 8 × 5\n",
       "\\begin{tabular}{lllll}\n",
       " Speed & Phase & variable & statistic & p\\\\\n",
       " <fct> & <fct> & <chr> & <dbl> & <dbl>\\\\\n",
       "\\hline\n",
       "\t Medium & MidNoT   & Regularity & 0.9467135 & 0.37581236\\\\\n",
       "\t Medium & MidT     & Regularity & 0.9638838 & 0.65084503\\\\\n",
       "\t Medium & StartNoT & Regularity & 0.8992602 & 0.05577829\\\\\n",
       "\t Medium & StartT   & Regularity & 0.9647867 & 0.64319022\\\\\n",
       "\t Slow   & MidNoT   & Regularity & 0.8613048 & 0.01030333\\\\\n",
       "\t Slow   & MidT     & Regularity & 0.9244852 & 0.12089964\\\\\n",
       "\t Slow   & StartNoT & Regularity & 0.9477802 & 0.36203324\\\\\n",
       "\t Slow   & StartT   & Regularity & 0.9445918 & 0.31843749\\\\\n",
       "\\end{tabular}\n"
      ],
      "text/markdown": [
       "\n",
       "A tibble: 8 × 5\n",
       "\n",
       "| Speed &lt;fct&gt; | Phase &lt;fct&gt; | variable &lt;chr&gt; | statistic &lt;dbl&gt; | p &lt;dbl&gt; |\n",
       "|---|---|---|---|---|\n",
       "| Medium | MidNoT   | Regularity | 0.9467135 | 0.37581236 |\n",
       "| Medium | MidT     | Regularity | 0.9638838 | 0.65084503 |\n",
       "| Medium | StartNoT | Regularity | 0.8992602 | 0.05577829 |\n",
       "| Medium | StartT   | Regularity | 0.9647867 | 0.64319022 |\n",
       "| Slow   | MidNoT   | Regularity | 0.8613048 | 0.01030333 |\n",
       "| Slow   | MidT     | Regularity | 0.9244852 | 0.12089964 |\n",
       "| Slow   | StartNoT | Regularity | 0.9477802 | 0.36203324 |\n",
       "| Slow   | StartT   | Regularity | 0.9445918 | 0.31843749 |\n",
       "\n"
      ],
      "text/plain": [
       "  Speed  Phase    variable   statistic p         \n",
       "1 Medium MidNoT   Regularity 0.9467135 0.37581236\n",
       "2 Medium MidT     Regularity 0.9638838 0.65084503\n",
       "3 Medium StartNoT Regularity 0.8992602 0.05577829\n",
       "4 Medium StartT   Regularity 0.9647867 0.64319022\n",
       "5 Slow   MidNoT   Regularity 0.8613048 0.01030333\n",
       "6 Slow   MidT     Regularity 0.9244852 0.12089964\n",
       "7 Slow   StartNoT Regularity 0.9477802 0.36203324\n",
       "8 Slow   StartT   Regularity 0.9445918 0.31843749"
      ]
     },
     "metadata": {},
     "output_type": "display_data"
    }
   ],
   "source": [
    "ToPlot_reg %>% group_by(Speed,Phase) %>% shapiro_test(Regularity)"
   ]
  },
  {
   "cell_type": "code",
   "execution_count": 34,
   "metadata": {
    "scrolled": false
   },
   "outputs": [
    {
     "name": "stdout",
     "output_type": "stream",
     "text": [
      "[1] \"Phase comparison\"\n"
     ]
    },
    {
     "data": {
      "text/html": [
       "0.1539936244"
      ],
      "text/latex": [
       "0.1539936244"
      ],
      "text/markdown": [
       "0.1539936244"
      ],
      "text/plain": [
       "[1] 0.1539936"
      ]
     },
     "metadata": {},
     "output_type": "display_data"
    },
    {
     "data": {
      "text/html": [
       "0.181772144"
      ],
      "text/latex": [
       "0.181772144"
      ],
      "text/markdown": [
       "0.181772144"
      ],
      "text/plain": [
       "[1] 0.1817721"
      ]
     },
     "metadata": {},
     "output_type": "display_data"
    },
    {
     "data": {
      "text/plain": [
       "\n",
       "\tWilcoxon signed rank test with continuity correction\n",
       "\n",
       "data:  Reg_Start and Reg_Mid\n",
       "V = 114, p-value = 0.0003496\n",
       "alternative hypothesis: true location shift is not equal to 0\n"
      ]
     },
     "metadata": {},
     "output_type": "display_data"
    },
    {
     "data": {
      "text/html": [
       "-3.57544971755835"
      ],
      "text/latex": [
       "-3.57544971755835"
      ],
      "text/markdown": [
       "-3.57544971755835"
      ],
      "text/plain": [
       "[1] -3.57545"
      ]
     },
     "metadata": {},
     "output_type": "display_data"
    },
    {
     "name": "stdout",
     "output_type": "stream",
     "text": [
      "[1] \"Speed comparison\"\n"
     ]
    },
    {
     "data": {
      "text/html": [
       "0.1286241653"
      ],
      "text/latex": [
       "0.1286241653"
      ],
      "text/markdown": [
       "0.1286241653"
      ],
      "text/plain": [
       "[1] 0.1286242"
      ]
     },
     "metadata": {},
     "output_type": "display_data"
    },
    {
     "data": {
      "text/html": [
       "0.19794825925"
      ],
      "text/latex": [
       "0.19794825925"
      ],
      "text/markdown": [
       "0.19794825925"
      ],
      "text/plain": [
       "[1] 0.1979483"
      ]
     },
     "metadata": {},
     "output_type": "display_data"
    },
    {
     "data": {
      "text/plain": [
       "\n",
       "\tWilcoxon rank sum test with continuity correction\n",
       "\n",
       "data:  Reg_Med and Reg_Slow\n",
       "W = 1041, p-value = 0.0001155\n",
       "alternative hypothesis: true location shift is not equal to 0\n"
      ]
     },
     "metadata": {},
     "output_type": "display_data"
    },
    {
     "data": {
      "text/html": [
       "-3.85546244220779"
      ],
      "text/latex": [
       "-3.85546244220779"
      ],
      "text/markdown": [
       "-3.85546244220779"
      ],
      "text/plain": [
       "[1] -3.855462"
      ]
     },
     "metadata": {},
     "output_type": "display_data"
    }
   ],
   "source": [
    "#A/ case Start & No Transfer\n",
    "Reg_data <- ToPlot_reg %>% filter(!Phase=='MidT') %>% filter(!Phase=='StartT')\n",
    "Reg_Start <- (Reg_data %>% filter(Phase=='StartNoT'))$Regularity\n",
    "Reg_Mid <- (Reg_data %>% filter(Phase=='MidNoT'))$Regularity\n",
    "print('Phase comparison')\n",
    "median(Reg_Start)\n",
    "median(Reg_Mid)\n",
    "MWa<-wilcox.test(Reg_Start,Reg_Mid,paired=TRUE,conf.level = 0.95,exact=FALSE)\n",
    "MWa\n",
    "qnorm(MWa$p.value/2)\n",
    "\n",
    "Reg_Slow <- (Reg_data %>% filter(Speed=='Slow'))$Regularity\n",
    "Reg_Med <- (Reg_data %>% filter(Speed=='Medium'))$Regularity\n",
    "print('Speed comparison')\n",
    "median(Reg_Slow)\n",
    "median(Reg_Med)\n",
    "MWb<-wilcox.test(Reg_Med,Reg_Slow,paired=FALSE,conf.level = 0.95,exact=FALSE)\n",
    "MWb\n",
    "qnorm(MWb$p.value/2)"
   ]
  },
  {
   "cell_type": "code",
   "execution_count": 35,
   "metadata": {
    "scrolled": false
   },
   "outputs": [
    {
     "name": "stdout",
     "output_type": "stream",
     "text": [
      "[1] \"Phase comparison\"\n"
     ]
    },
    {
     "data": {
      "text/html": [
       "0.191512766"
      ],
      "text/latex": [
       "0.191512766"
      ],
      "text/markdown": [
       "0.191512766"
      ],
      "text/plain": [
       "[1] 0.1915128"
      ]
     },
     "metadata": {},
     "output_type": "display_data"
    },
    {
     "data": {
      "text/html": [
       "0.2067542578"
      ],
      "text/latex": [
       "0.2067542578"
      ],
      "text/markdown": [
       "0.2067542578"
      ],
      "text/plain": [
       "[1] 0.2067543"
      ]
     },
     "metadata": {},
     "output_type": "display_data"
    },
    {
     "data": {
      "text/plain": [
       "\n",
       "\tWilcoxon signed rank test with continuity correction\n",
       "\n",
       "data:  Reg_Start and Reg_Mid\n",
       "V = 334, p-value = 0.4386\n",
       "alternative hypothesis: true location shift is not equal to 0\n"
      ]
     },
     "metadata": {},
     "output_type": "display_data"
    },
    {
     "data": {
      "text/html": [
       "-0.774502384453934"
      ],
      "text/latex": [
       "-0.774502384453934"
      ],
      "text/markdown": [
       "-0.774502384453934"
      ],
      "text/plain": [
       "[1] -0.7745024"
      ]
     },
     "metadata": {},
     "output_type": "display_data"
    },
    {
     "name": "stdout",
     "output_type": "stream",
     "text": [
      "[1] \"Speed comparison\"\n"
     ]
    },
    {
     "data": {
      "text/html": [
       "0.132381726"
      ],
      "text/latex": [
       "0.132381726"
      ],
      "text/markdown": [
       "0.132381726"
      ],
      "text/plain": [
       "[1] 0.1323817"
      ]
     },
     "metadata": {},
     "output_type": "display_data"
    },
    {
     "data": {
      "text/html": [
       "0.255080432"
      ],
      "text/latex": [
       "0.255080432"
      ],
      "text/markdown": [
       "0.255080432"
      ],
      "text/plain": [
       "[1] 0.2550804"
      ]
     },
     "metadata": {},
     "output_type": "display_data"
    },
    {
     "data": {
      "text/plain": [
       "\n",
       "\tWilcoxon rank sum test with continuity correction\n",
       "\n",
       "data:  Reg_Med and Reg_Slow\n",
       "W = 1300, p-value = 7.187e-08\n",
       "alternative hypothesis: true location shift is not equal to 0\n"
      ]
     },
     "metadata": {},
     "output_type": "display_data"
    },
    {
     "data": {
      "text/html": [
       "-5.38643266964337"
      ],
      "text/latex": [
       "-5.38643266964337"
      ],
      "text/markdown": [
       "-5.38643266964337"
      ],
      "text/plain": [
       "[1] -5.386433"
      ]
     },
     "metadata": {},
     "output_type": "display_data"
    }
   ],
   "source": [
    "#B/ case Start & Transfer\n",
    "Reg_data2 <- ToPlot_reg %>% filter(!Phase=='MidNoT') %>% filter(!Phase=='StartNoT')\n",
    "Reg_Start <- (Reg_data2 %>% filter(Phase=='StartT'))$Regularity\n",
    "Reg_Mid <- (Reg_data2 %>% filter(Phase=='MidT'))$Regularity\n",
    "print('Phase comparison')\n",
    "median(Reg_Start)\n",
    "median(Reg_Mid)\n",
    "MWa<-wilcox.test(Reg_Start,Reg_Mid,paired=TRUE,conf.level = 0.95,exact=FALSE)\n",
    "MWa\n",
    "qnorm(MWa$p.value/2)\n",
    "\n",
    "Reg_Slow <- (Reg_data2 %>% filter(Speed=='Slow'))$Regularity\n",
    "Reg_Med <- (Reg_data2 %>% filter(Speed=='Medium'))$Regularity\n",
    "print('Speed comparison')\n",
    "median(Reg_Slow)\n",
    "median(Reg_Med)\n",
    "MWb<-wilcox.test(Reg_Med,Reg_Slow,paired=FALSE,conf.level = 0.95,exact=FALSE)\n",
    "MWb\n",
    "qnorm(MWb$p.value/2)"
   ]
  },
  {
   "cell_type": "code",
   "execution_count": 36,
   "metadata": {},
   "outputs": [
    {
     "data": {
      "text/html": [
       "39"
      ],
      "text/latex": [
       "39"
      ],
      "text/markdown": [
       "39"
      ],
      "text/plain": [
       "[1] 39"
      ]
     },
     "metadata": {},
     "output_type": "display_data"
    },
    {
     "data": {
      "text/html": [
       "0.2067542578"
      ],
      "text/latex": [
       "0.2067542578"
      ],
      "text/markdown": [
       "0.2067542578"
      ],
      "text/plain": [
       "[1] 0.2067543"
      ]
     },
     "metadata": {},
     "output_type": "display_data"
    },
    {
     "data": {
      "text/html": [
       "0.181772144"
      ],
      "text/latex": [
       "0.181772144"
      ],
      "text/markdown": [
       "0.181772144"
      ],
      "text/plain": [
       "[1] 0.1817721"
      ]
     },
     "metadata": {},
     "output_type": "display_data"
    },
    {
     "data": {
      "text/plain": [
       "\n",
       "\tWilcoxon rank sum test with continuity correction\n",
       "\n",
       "data:  Reg_Transfer and Reg_NoTransfer\n",
       "W = 755, p-value = 0.7316\n",
       "alternative hypothesis: true location shift is not equal to 0\n"
      ]
     },
     "metadata": {},
     "output_type": "display_data"
    },
    {
     "data": {
      "text/html": [
       "-0.342946231371796"
      ],
      "text/latex": [
       "-0.342946231371796"
      ],
      "text/markdown": [
       "-0.342946231371796"
      ],
      "text/plain": [
       "[1] -0.3429462"
      ]
     },
     "metadata": {},
     "output_type": "display_data"
    }
   ],
   "source": [
    "#C) Transfer by comparison with No Transfer\n",
    "Transfer_compare <- Reg_data2 %>% filter(Phase=='MidT')\n",
    "ToAdd_Transfer <- rep('Transfer',nrow(Transfer_compare))\n",
    "Transfer_compare$Group <- ToAdd_Transfer\n",
    "nrow(Transfer_compare)\n",
    "NoTransfer_compare <- Reg_data %>% filter(Phase=='MidNoT')\n",
    "ToAdd_NoTransfer <- rep('No Transfer',nrow(NoTransfer_compare))\n",
    "NoTransfer_compare$Group <- ToAdd_NoTransfer\n",
    "#nrow(NoTransfer_compare)\n",
    "#Compare_T <- rbind(Transfer_compare,NoTransfer_compare)\n",
    "#nrow(Compare_T)\n",
    "\n",
    "Reg_Transfer <- Transfer_compare$Regularity\n",
    "Reg_NoTransfer <- NoTransfer_compare$Regularity\n",
    "median(Reg_Transfer)\n",
    "median(Reg_NoTransfer)\n",
    "MWc<-wilcox.test(Reg_Transfer,Reg_NoTransfer,paired=FALSE,conf.level = 0.95,exact=FALSE)\n",
    "MWc\n",
    "qnorm(MWc$p.value/2)"
   ]
  },
  {
   "cell_type": "code",
   "execution_count": null,
   "metadata": {},
   "outputs": [],
   "source": []
  },
  {
   "cell_type": "code",
   "execution_count": null,
   "metadata": {},
   "outputs": [],
   "source": []
  },
  {
   "cell_type": "code",
   "execution_count": null,
   "metadata": {},
   "outputs": [],
   "source": []
  },
  {
   "cell_type": "code",
   "execution_count": null,
   "metadata": {},
   "outputs": [],
   "source": []
  }
 ],
 "metadata": {
  "kernelspec": {
   "display_name": "R",
   "language": "R",
   "name": "ir"
  },
  "language_info": {
   "codemirror_mode": "r",
   "file_extension": ".r",
   "mimetype": "text/x-r-source",
   "name": "R",
   "pygments_lexer": "r",
   "version": "3.6.3"
  }
 },
 "nbformat": 4,
 "nbformat_minor": 2
}
