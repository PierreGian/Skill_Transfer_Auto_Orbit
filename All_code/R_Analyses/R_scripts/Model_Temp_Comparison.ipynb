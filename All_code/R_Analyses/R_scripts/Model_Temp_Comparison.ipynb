{
 "cells": [
  {
   "cell_type": "code",
   "execution_count": 2,
   "metadata": {},
   "outputs": [],
   "source": [
    "library(\"lme4\")\n",
    "library(\"ggplot2\")\n",
    "library(\"dplyr\")\n",
    "library(MASS)\n",
    "library(\"BayesFactor\")\n",
    "library(\"car\")\n",
    "library(\"scales\")\n",
    "library(\"lmerTest\")\n",
    "library(\"MuMIn\")\n",
    "library(\"plyr\")\n",
    "library(\"rstatix\")\n",
    "library(\"ggpubr\")\n",
    "library(\"knitr\")\n",
    "library(\"corrplot\")\n",
    "library(\"RColorBrewer\")"
   ]
  },
  {
   "cell_type": "code",
   "execution_count": 3,
   "metadata": {},
   "outputs": [],
   "source": [
    "#Load the data => Here, we are filtering the cases in which subjects had a MuIFI of 0\n",
    "FinalPath<-'../ToInput/MS17temp_R_HumMod_compare_t02_All_wCV.txt'\n",
    "data <- read.delim(FinalPath, sep=\"\\t\", header=T, stringsAsFactors=F)\n",
    "data <- data %>% filter(!Amplitude==0)\n",
    "dataTest <- data\n",
    "data$lCV <- log(data$CV)\n",
    "NArow <- which(is.na(data$lCV))\n",
    "data <- data %>% filter(!is.na(lCV))"
   ]
  },
  {
   "cell_type": "code",
   "execution_count": 4,
   "metadata": {},
   "outputs": [],
   "source": [
    "##Source for \"SummarySE\": http://www.cookbook-r.com/Manipulating_data/Summarizing_data/\n",
    "##\n",
    "##\n",
    "## Gives count, mean, standard deviation, standard error of the mean, and confidence interval (default 95%).\n",
    "##   data: a data frame.\n",
    "##   measurevar: the name of a column that contains the variable to be summariezed\n",
    "##   groupvars: a vector containing names of columns that contain grouping variables\n",
    "##   na.rm: a boolean that indicates whether to ignore NA's\n",
    "##   conf.interval: the percent range of the confidence interval (default is 95%)\n",
    "summarySE <- function(data=NULL, measurevar, groupvars=NULL, na.rm=FALSE,\n",
    "                      conf.interval=.95, .drop=TRUE) {\n",
    "    library(plyr)\n",
    "\n",
    "    # New version of length which can handle NA's: if na.rm==T, don't count them\n",
    "    length2 <- function (x, na.rm=FALSE) {\n",
    "        if (na.rm) sum(!is.na(x))\n",
    "        else       length(x)\n",
    "    }\n",
    "\n",
    "    # This does the summary. For each group's data frame, return a vector with\n",
    "    # N, mean, and sd\n",
    "    datac <- ddply(data, groupvars, .drop=.drop,\n",
    "      .fun = function(xx, col) {\n",
    "        c(N    = length2(xx[[col]], na.rm=na.rm),\n",
    "          mean = mean   (xx[[col]], na.rm=na.rm),\n",
    "          sd   = sd     (xx[[col]], na.rm=na.rm)\n",
    "        )\n",
    "      },\n",
    "      measurevar\n",
    "    )\n",
    "\n",
    "    # Rename the \"mean\" column    \n",
    "    datac <- rename(datac, c(\"mean\" = measurevar))\n",
    "\n",
    "    datac$se <- datac$sd / sqrt(datac$N)  # Calculate standard error of the mean\n",
    "\n",
    "    # Confidence interval multiplier for standard error\n",
    "    # Calculate t-statistic for confidence interval: \n",
    "    # e.g., if conf.interval is .95, use .975 (above/below), and use df=N-1\n",
    "    ciMult <- qt(conf.interval/2 + .5, datac$N-1)\n",
    "    datac$ci <- datac$se * ciMult\n",
    "\n",
    "    return(datac)\n",
    "}"
   ]
  },
  {
   "cell_type": "code",
   "execution_count": 5,
   "metadata": {},
   "outputs": [],
   "source": [
    "# Multiple plot function: source: http://www.cookbook-r.com/Graphs/Multiple_graphs_on_one_page_(ggplot2)/\n",
    "#\n",
    "#\n",
    "# ggplot objects can be passed in ..., or to plotlist (as a list of ggplot objects)\n",
    "# - cols:   Number of columns in layout\n",
    "# - layout: A matrix specifying the layout. If present, 'cols' is ignored.\n",
    "#\n",
    "# If the layout is something like matrix(c(1,2,3,3), nrow=2, byrow=TRUE),\n",
    "# then plot 1 will go in the upper left, 2 will go in the upper right, and\n",
    "# 3 will go all the way across the bottom.\n",
    "#\n",
    "multiplot <- function(..., plotlist=NULL, file, cols=1, layout=NULL) {\n",
    "  library(grid)\n",
    "\n",
    "  # Make a list from the ... arguments and plotlist\n",
    "  plots <- c(list(...), plotlist)\n",
    "\n",
    "  numPlots = length(plots)\n",
    "\n",
    "  # If layout is NULL, then use 'cols' to determine layout\n",
    "  if (is.null(layout)) {\n",
    "    # Make the panel\n",
    "    # ncol: Number of columns of plots\n",
    "    # nrow: Number of rows needed, calculated from # of cols\n",
    "    layout <- matrix(seq(1, cols * ceiling(numPlots/cols)),\n",
    "                    ncol = cols, nrow = ceiling(numPlots/cols))\n",
    "  }\n",
    "\n",
    " if (numPlots==1) {\n",
    "    print(plots[[1]])\n",
    "\n",
    "  } else {\n",
    "    # Set up the page\n",
    "    grid.newpage()\n",
    "    pushViewport(viewport(layout = grid.layout(nrow(layout), ncol(layout))))\n",
    "\n",
    "    # Make each plot, in the correct location\n",
    "    for (i in 1:numPlots) {\n",
    "      # Get the i,j matrix positions of the regions that contain this subplot\n",
    "      matchidx <- as.data.frame(which(layout == i, arr.ind = TRUE))\n",
    "\n",
    "      print(plots[[i]], vp = viewport(layout.pos.row = matchidx$row,\n",
    "                                      layout.pos.col = matchidx$col))\n",
    "    }\n",
    "  }\n",
    "}"
   ]
  },
  {
   "cell_type": "code",
   "execution_count": 6,
   "metadata": {},
   "outputs": [
    {
     "data": {
      "text/plain": [
       "     \n",
       "      Human   no  yes\n",
       "  MMM   273 1499 1499\n",
       "  MSM   286 1490 1491\n",
       "  SMS   282 1495 1498\n",
       "  SSS   273 1499 1496"
      ]
     },
     "metadata": {},
     "output_type": "display_data"
    }
   ],
   "source": [
    "table(data$GameSpeed, data$Temperature)"
   ]
  },
  {
   "cell_type": "markdown",
   "metadata": {},
   "source": [
    "# Compute r and RMSE"
   ]
  },
  {
   "cell_type": "code",
   "execution_count": 9,
   "metadata": {},
   "outputs": [],
   "source": [
    "#RMSE function definition\n",
    "RMSE = function(mod, obs){\n",
    "  sqrt(mean((mod - obs)^2))\n",
    "}\n",
    "\n",
    "#Filtered data set\n",
    "filt_data <- data"
   ]
  },
  {
   "cell_type": "code",
   "execution_count": 10,
   "metadata": {},
   "outputs": [
    {
     "data": {
      "text/plain": [
       "       \n",
       "         MMM  MSM  SMS  SSS\n",
       "  Human  273  286  282  273\n",
       "  no    1499 1490 1495 1499\n",
       "  yes   1499 1491 1498 1496"
      ]
     },
     "metadata": {},
     "output_type": "display_data"
    }
   ],
   "source": [
    "cont_table <- ddply(filt_data, c(\"Subject\",\"Temperature\",\"GameNb\",\"GameSpeed\"), summarize,  Amplitude=mean(Amplitude))\n",
    "table(cont_table$Temperature,cont_table$GameSpeed)"
   ]
  },
  {
   "cell_type": "code",
   "execution_count": 11,
   "metadata": {},
   "outputs": [
    {
     "name": "stdout",
     "output_type": "stream",
     "text": [
      "[1] \"Table for Points\"\n"
     ]
    },
    {
     "data": {
      "text/html": [
       "<style>\n",
       ".list-inline {list-style: none; margin:0; padding: 0}\n",
       ".list-inline>li {display: inline-block}\n",
       ".list-inline>li:not(:last-child)::after {content: \"\\00b7\"; padding: 0 .5ex}\n",
       "</style>\n",
       "<ol class=list-inline><li>506.333429063236</li><li>227.958174762577</li><li>217.529582675503</li><li>117.832113727498</li></ol>\n"
      ],
      "text/latex": [
       "\\begin{enumerate*}\n",
       "\\item 506.333429063236\n",
       "\\item 227.958174762577\n",
       "\\item 217.529582675503\n",
       "\\item 117.832113727498\n",
       "\\end{enumerate*}\n"
      ],
      "text/markdown": [
       "1. 506.333429063236\n",
       "2. 227.958174762577\n",
       "3. 217.529582675503\n",
       "4. 117.832113727498\n",
       "\n",
       "\n"
      ],
      "text/plain": [
       "[1] 506.3334 227.9582 217.5296 117.8321"
      ]
     },
     "metadata": {},
     "output_type": "display_data"
    },
    {
     "data": {
      "text/html": [
       "<style>\n",
       ".list-inline {list-style: none; margin:0; padding: 0}\n",
       ".list-inline>li {display: inline-block}\n",
       ".list-inline>li:not(:last-child)::after {content: \"\\00b7\"; padding: 0 .5ex}\n",
       "</style>\n",
       "<ol class=list-inline><li>507.112899180385</li><li>226.033507415871</li><li>244.683033275572</li><li>145.256122056524</li></ol>\n"
      ],
      "text/latex": [
       "\\begin{enumerate*}\n",
       "\\item 507.112899180385\n",
       "\\item 226.033507415871\n",
       "\\item 244.683033275572\n",
       "\\item 145.256122056524\n",
       "\\end{enumerate*}\n"
      ],
      "text/markdown": [
       "1. 507.112899180385\n",
       "2. 226.033507415871\n",
       "3. 244.683033275572\n",
       "4. 145.256122056524\n",
       "\n",
       "\n"
      ],
      "text/plain": [
       "[1] 507.1129 226.0335 244.6830 145.2561"
      ]
     },
     "metadata": {},
     "output_type": "display_data"
    },
    {
     "name": "stdout",
     "output_type": "stream",
     "text": [
      "[1] \"Overall correlation & RMSE\"\n"
     ]
    },
    {
     "data": {
      "text/html": [
       "267.413325057204"
      ],
      "text/latex": [
       "267.413325057204"
      ],
      "text/markdown": [
       "267.413325057204"
      ],
      "text/plain": [
       "[1] 267.4133"
      ]
     },
     "metadata": {},
     "output_type": "display_data"
    },
    {
     "data": {
      "text/html": [
       "280.771390482088"
      ],
      "text/latex": [
       "280.771390482088"
      ],
      "text/markdown": [
       "280.771390482088"
      ],
      "text/plain": [
       "[1] 280.7714"
      ]
     },
     "metadata": {},
     "output_type": "display_data"
    },
    {
     "data": {
      "text/html": [
       "13.3580654248843"
      ],
      "text/latex": [
       "13.3580654248843"
      ],
      "text/markdown": [
       "13.3580654248843"
      ],
      "text/plain": [
       "[1] 13.35807"
      ]
     },
     "metadata": {},
     "output_type": "display_data"
    }
   ],
   "source": [
    "#1) Performance results - no temperature & Humans\n",
    "muTab<-aggregate(filt_data$Points, by=list(filt_data$Temperature,filt_data$GameSpeed,filt_data$GameNb), FUN=mean)\n",
    "print(\"Table for Points\")\n",
    "colnames(muTab)<-c(\"Temperature\",\"GameSpeed\",\"GameNb\",\"Value\")\n",
    "H_Mat <- matrix(, nrow = 15, ncol = 4)\n",
    "for (i in 1:15)\n",
    "{\n",
    "    H_Mat[i,] <- muTab[which(muTab$Temperature==\"Human\" & muTab$GameNb==i),]$Value\n",
    "}\n",
    "M1_Mat <- matrix(, nrow = 15, ncol = 4)\n",
    "for (i in 1:15)\n",
    "{\n",
    "    M1_Mat[i,] <- muTab[which(muTab$Temperature==\"yes\" & muTab$GameNb==i),]$Value\n",
    "}\n",
    "M2_Mat <- matrix(, nrow = 15, ncol = 4)\n",
    "for (i in 1:15)\n",
    "{\n",
    "    M2_Mat[i,] <- muTab[which(muTab$Temperature==\"no\" & muTab$GameNb==i),]$Value\n",
    "}\n",
    "colnames(H_Mat) <- c(\"MMM\",\"MSM\",\"SMS\",\"SSS\")\n",
    "rownames(H_Mat) <- 1:15\n",
    "colnames(M1_Mat) <- c(\"MMM\",\"MSM\",\"SMS\",\"SSS\")\n",
    "rownames(M1_Mat) <- 1:15\n",
    "colnames(M2_Mat) <- c(\"MMM\",\"MSM\",\"SMS\",\"SSS\")\n",
    "rownames(M2_Mat) <- 1:15\n",
    "\n",
    "#correlations & RMSE per condition\n",
    "#print(\"Performance correlations & RMSE\")\n",
    "condition <- c(\"MMM\",\"MSM\",\"SMS\",\"SSS\")\n",
    "rmse <- rep(0,4)\n",
    "for (cond in 1:4) {\n",
    "    rmse[cond] <- RMSE(M1_Mat[,cond],H_Mat[,cond])\n",
    "}\n",
    "rmse_same <- rmse\n",
    "rmse_same\n",
    "rmse <- rep(0,4)\n",
    "for (cond in 1:4) {\n",
    "    rmse[cond] <- RMSE(M2_Mat[,cond],H_Mat[,cond])\n",
    "}\n",
    "rmse_diff <- rmse\n",
    "rmse_diff\n",
    "\n",
    "print(\"Overall correlation & RMSE\")\n",
    "M1_avg <- mean(rmse_same)\n",
    "M2_avg <- mean(rmse_diff)\n",
    "M1_avg\n",
    "M2_avg\n",
    "\n",
    "#Difference avg rmse delta - positive means keeping temperature is better\n",
    "Perf_delta <- M2_avg - M1_avg\n",
    "Perf_delta"
   ]
  },
  {
   "cell_type": "code",
   "execution_count": 12,
   "metadata": {},
   "outputs": [
    {
     "name": "stdout",
     "output_type": "stream",
     "text": [
      "[1] \"Table for Entropy\"\n"
     ]
    },
    {
     "data": {
      "text/html": [
       "<style>\n",
       ".list-inline {list-style: none; margin:0; padding: 0}\n",
       ".list-inline>li {display: inline-block}\n",
       ".list-inline>li:not(:last-child)::after {content: \"\\00b7\"; padding: 0 .5ex}\n",
       "</style>\n",
       "<ol class=list-inline><li>0.132970348521008</li><li>0.0694520765277595</li><li>0.128649300025855</li><li>0.20811395192129</li></ol>\n"
      ],
      "text/latex": [
       "\\begin{enumerate*}\n",
       "\\item 0.132970348521008\n",
       "\\item 0.0694520765277595\n",
       "\\item 0.128649300025855\n",
       "\\item 0.20811395192129\n",
       "\\end{enumerate*}\n"
      ],
      "text/markdown": [
       "1. 0.132970348521008\n",
       "2. 0.0694520765277595\n",
       "3. 0.128649300025855\n",
       "4. 0.20811395192129\n",
       "\n",
       "\n"
      ],
      "text/plain": [
       "[1] 0.13297035 0.06945208 0.12864930 0.20811395"
      ]
     },
     "metadata": {},
     "output_type": "display_data"
    },
    {
     "data": {
      "text/html": [
       "<style>\n",
       ".list-inline {list-style: none; margin:0; padding: 0}\n",
       ".list-inline>li {display: inline-block}\n",
       ".list-inline>li:not(:last-child)::after {content: \"\\00b7\"; padding: 0 .5ex}\n",
       "</style>\n",
       "<ol class=list-inline><li>0.131600515889569</li><li>0.0670403794890497</li><li>0.110536726682672</li><li>0.212703528969559</li></ol>\n"
      ],
      "text/latex": [
       "\\begin{enumerate*}\n",
       "\\item 0.131600515889569\n",
       "\\item 0.0670403794890497\n",
       "\\item 0.110536726682672\n",
       "\\item 0.212703528969559\n",
       "\\end{enumerate*}\n"
      ],
      "text/markdown": [
       "1. 0.131600515889569\n",
       "2. 0.0670403794890497\n",
       "3. 0.110536726682672\n",
       "4. 0.212703528969559\n",
       "\n",
       "\n"
      ],
      "text/plain": [
       "[1] 0.13160052 0.06704038 0.11053673 0.21270353"
      ]
     },
     "metadata": {},
     "output_type": "display_data"
    },
    {
     "name": "stdout",
     "output_type": "stream",
     "text": [
      "[1] \"Overall correlation & RMSE\"\n"
     ]
    },
    {
     "data": {
      "text/html": [
       "0.134796419248978"
      ],
      "text/latex": [
       "0.134796419248978"
      ],
      "text/markdown": [
       "0.134796419248978"
      ],
      "text/plain": [
       "[1] 0.1347964"
      ]
     },
     "metadata": {},
     "output_type": "display_data"
    },
    {
     "data": {
      "text/html": [
       "0.130470287757712"
      ],
      "text/latex": [
       "0.130470287757712"
      ],
      "text/markdown": [
       "0.130470287757712"
      ],
      "text/plain": [
       "[1] 0.1304703"
      ]
     },
     "metadata": {},
     "output_type": "display_data"
    },
    {
     "data": {
      "text/html": [
       "-0.00432613149126568"
      ],
      "text/latex": [
       "-0.00432613149126568"
      ],
      "text/markdown": [
       "-0.00432613149126568"
      ],
      "text/plain": [
       "[1] -0.004326131"
      ]
     },
     "metadata": {},
     "output_type": "display_data"
    }
   ],
   "source": [
    "#2) Entropy results - no temperature & Humans\n",
    "muTab<-aggregate(filt_data$Entropy, by=list(filt_data$Temperature,filt_data$GameSpeed,filt_data$GameNb), FUN=mean)\n",
    "print(\"Table for Entropy\")\n",
    "colnames(muTab)<-c(\"Temperature\",\"GameSpeed\",\"GameNb\",\"Value\")\n",
    "H_Mat <- matrix(, nrow = 15, ncol = 4)\n",
    "for (i in 1:15)\n",
    "{\n",
    "    H_Mat[i,] <- muTab[which(muTab$Temperature==\"Human\" & muTab$GameNb==i),]$Value\n",
    "}\n",
    "M1_Mat <- matrix(, nrow = 15, ncol = 4)\n",
    "for (i in 1:15)\n",
    "{\n",
    "    M1_Mat[i,] <- muTab[which(muTab$Temperature==\"yes\" & muTab$GameNb==i),]$Value\n",
    "}\n",
    "M2_Mat <- matrix(, nrow = 15, ncol = 4)\n",
    "for (i in 1:15)\n",
    "{\n",
    "    M2_Mat[i,] <- muTab[which(muTab$Temperature==\"no\" & muTab$GameNb==i),]$Value\n",
    "}\n",
    "colnames(H_Mat) <- c(\"MMM\",\"MSM\",\"SMS\",\"SSS\")\n",
    "rownames(H_Mat) <- 1:15\n",
    "colnames(M1_Mat) <- c(\"MMM\",\"MSM\",\"SMS\",\"SSS\")\n",
    "rownames(M1_Mat) <- 1:15\n",
    "colnames(M2_Mat) <- c(\"MMM\",\"MSM\",\"SMS\",\"SSS\")\n",
    "rownames(M2_Mat) <- 1:15\n",
    "\n",
    "\n",
    "#correlations & RMSE per condition\n",
    "#print(\"Performance correlations & RMSE\")\n",
    "condition <- c(\"MMM\",\"MSM\",\"SMS\",\"SSS\")\n",
    "rmse <- rep(0,4)\n",
    "for (cond in 1:4) {\n",
    "    rmse[cond] <- RMSE(M1_Mat[,cond],H_Mat[,cond])\n",
    "}\n",
    "rmse_same <- rmse\n",
    "rmse_same\n",
    "rmse <- rep(0,4)\n",
    "for (cond in 1:4) {\n",
    "    rmse[cond] <- RMSE(M2_Mat[,cond],H_Mat[,cond])\n",
    "}\n",
    "rmse_diff <- rmse\n",
    "rmse_diff\n",
    "\n",
    "print(\"Overall correlation & RMSE\")\n",
    "M1_avg <- mean(rmse_same)\n",
    "M2_avg <- mean(rmse_diff)\n",
    "M1_avg\n",
    "M2_avg\n",
    "\n",
    "#Difference avg rmse delta - positive means keeping temperature is better\n",
    "Ent_delta <- M2_avg - M1_avg\n",
    "Ent_delta"
   ]
  },
  {
   "cell_type": "code",
   "execution_count": 13,
   "metadata": {},
   "outputs": [
    {
     "name": "stdout",
     "output_type": "stream",
     "text": [
      "[1] \"Table for log CV\"\n"
     ]
    },
    {
     "data": {
      "text/html": [
       "<style>\n",
       ".list-inline {list-style: none; margin:0; padding: 0}\n",
       ".list-inline>li {display: inline-block}\n",
       ".list-inline>li:not(:last-child)::after {content: \"\\00b7\"; padding: 0 .5ex}\n",
       "</style>\n",
       "<ol class=list-inline><li>0.497112108134558</li><li>0.25575280344436</li><li>0.218277279312835</li><li>0.448713535772635</li></ol>\n"
      ],
      "text/latex": [
       "\\begin{enumerate*}\n",
       "\\item 0.497112108134558\n",
       "\\item 0.25575280344436\n",
       "\\item 0.218277279312835\n",
       "\\item 0.448713535772635\n",
       "\\end{enumerate*}\n"
      ],
      "text/markdown": [
       "1. 0.497112108134558\n",
       "2. 0.25575280344436\n",
       "3. 0.218277279312835\n",
       "4. 0.448713535772635\n",
       "\n",
       "\n"
      ],
      "text/plain": [
       "[1] 0.4971121 0.2557528 0.2182773 0.4487135"
      ]
     },
     "metadata": {},
     "output_type": "display_data"
    },
    {
     "data": {
      "text/html": [
       "<style>\n",
       ".list-inline {list-style: none; margin:0; padding: 0}\n",
       ".list-inline>li {display: inline-block}\n",
       ".list-inline>li:not(:last-child)::after {content: \"\\00b7\"; padding: 0 .5ex}\n",
       "</style>\n",
       "<ol class=list-inline><li>0.49797961352745</li><li>0.243045922840842</li><li>0.209919809055052</li><li>0.455865483893208</li></ol>\n"
      ],
      "text/latex": [
       "\\begin{enumerate*}\n",
       "\\item 0.49797961352745\n",
       "\\item 0.243045922840842\n",
       "\\item 0.209919809055052\n",
       "\\item 0.455865483893208\n",
       "\\end{enumerate*}\n"
      ],
      "text/markdown": [
       "1. 0.49797961352745\n",
       "2. 0.243045922840842\n",
       "3. 0.209919809055052\n",
       "4. 0.455865483893208\n",
       "\n",
       "\n"
      ],
      "text/plain": [
       "[1] 0.4979796 0.2430459 0.2099198 0.4558655"
      ]
     },
     "metadata": {},
     "output_type": "display_data"
    },
    {
     "name": "stdout",
     "output_type": "stream",
     "text": [
      "[1] \"Overall correlation & RMSE\"\n"
     ]
    },
    {
     "data": {
      "text/html": [
       "0.354963931666097"
      ],
      "text/latex": [
       "0.354963931666097"
      ],
      "text/markdown": [
       "0.354963931666097"
      ],
      "text/plain": [
       "[1] 0.3549639"
      ]
     },
     "metadata": {},
     "output_type": "display_data"
    },
    {
     "data": {
      "text/html": [
       "0.351702707329138"
      ],
      "text/latex": [
       "0.351702707329138"
      ],
      "text/markdown": [
       "0.351702707329138"
      ],
      "text/plain": [
       "[1] 0.3517027"
      ]
     },
     "metadata": {},
     "output_type": "display_data"
    },
    {
     "data": {
      "text/html": [
       "-0.00326122433695891"
      ],
      "text/latex": [
       "-0.00326122433695891"
      ],
      "text/markdown": [
       "-0.00326122433695891"
      ],
      "text/plain": [
       "[1] -0.003261224"
      ]
     },
     "metadata": {},
     "output_type": "display_data"
    }
   ],
   "source": [
    "#3) Log CV ISI results\n",
    "muTab<-aggregate(filt_data$lCV, by=list(filt_data$Temperature,filt_data$GameSpeed,filt_data$GameNb), FUN=mean)\n",
    "print(\"Table for log CV\")\n",
    "colnames(muTab)<-c(\"Temperature\",\"GameSpeed\",\"GameNb\",\"Value\")\n",
    "H_Mat <- matrix(, nrow = 15, ncol = 4)\n",
    "for (i in 1:15)\n",
    "{\n",
    "    H_Mat[i,] <- muTab[which(muTab$Temperature==\"Human\" & muTab$GameNb==i),]$Value\n",
    "}\n",
    "M1_Mat <- matrix(, nrow = 15, ncol = 4)\n",
    "for (i in 1:15)\n",
    "{\n",
    "    M1_Mat[i,] <- muTab[which(muTab$Temperature==\"yes\" & muTab$GameNb==i),]$Value\n",
    "}\n",
    "M2_Mat <- matrix(, nrow = 15, ncol = 4)\n",
    "for (i in 1:15)\n",
    "{\n",
    "    M2_Mat[i,] <- muTab[which(muTab$Temperature==\"no\" & muTab$GameNb==i),]$Value\n",
    "}\n",
    "colnames(H_Mat) <- c(\"MMM\",\"MSM\",\"SMS\",\"SSS\")\n",
    "rownames(H_Mat) <- 1:15\n",
    "colnames(M1_Mat) <- c(\"MMM\",\"MSM\",\"SMS\",\"SSS\")\n",
    "rownames(M1_Mat) <- 1:15\n",
    "colnames(M2_Mat) <- c(\"MMM\",\"MSM\",\"SMS\",\"SSS\")\n",
    "rownames(M2_Mat) <- 1:15\n",
    "\n",
    "\n",
    "#correlations & RMSE per condition\n",
    "#print(\"Performance correlations & RMSE\")\n",
    "condition <- c(\"MMM\",\"MSM\",\"SMS\",\"SSS\")\n",
    "rmse <- rep(0,4)\n",
    "for (cond in 1:4) {\n",
    "    rmse[cond] <- RMSE(M1_Mat[,cond],H_Mat[,cond])\n",
    "}\n",
    "rmse_same <- rmse\n",
    "rmse_same\n",
    "rmse <- rep(0,4)\n",
    "for (cond in 1:4) {\n",
    "    rmse[cond] <- RMSE(M2_Mat[,cond],H_Mat[,cond])\n",
    "}\n",
    "rmse_diff <- rmse\n",
    "rmse_diff\n",
    "\n",
    "print(\"Overall correlation & RMSE\")\n",
    "M1_avg <- mean(rmse_same)\n",
    "M2_avg <- mean(rmse_diff)\n",
    "M1_avg\n",
    "M2_avg\n",
    "\n",
    "#Difference avg rmse delta - positive means keeping temperature is better\n",
    "lCV_delta <- M2_avg - M1_avg\n",
    "lCV_delta"
   ]
  },
  {
   "cell_type": "code",
   "execution_count": 14,
   "metadata": {},
   "outputs": [
    {
     "name": "stdout",
     "output_type": "stream",
     "text": [
      "[1] \"Table for Periodicity\"\n"
     ]
    },
    {
     "data": {
      "text/html": [
       "<style>\n",
       ".list-inline {list-style: none; margin:0; padding: 0}\n",
       ".list-inline>li {display: inline-block}\n",
       ".list-inline>li:not(:last-child)::after {content: \"\\00b7\"; padding: 0 .5ex}\n",
       "</style>\n",
       "<ol class=list-inline><li>55.1901769077787</li><li>67.7800761006978</li><li>58.03874160187</li><li>80.6456329331885</li></ol>\n"
      ],
      "text/latex": [
       "\\begin{enumerate*}\n",
       "\\item 55.1901769077787\n",
       "\\item 67.7800761006978\n",
       "\\item 58.03874160187\n",
       "\\item 80.6456329331885\n",
       "\\end{enumerate*}\n"
      ],
      "text/markdown": [
       "1. 55.1901769077787\n",
       "2. 67.7800761006978\n",
       "3. 58.03874160187\n",
       "4. 80.6456329331885\n",
       "\n",
       "\n"
      ],
      "text/plain": [
       "[1] 55.19018 67.78008 58.03874 80.64563"
      ]
     },
     "metadata": {},
     "output_type": "display_data"
    },
    {
     "data": {
      "text/html": [
       "<style>\n",
       ".list-inline {list-style: none; margin:0; padding: 0}\n",
       ".list-inline>li {display: inline-block}\n",
       ".list-inline>li:not(:last-child)::after {content: \"\\00b7\"; padding: 0 .5ex}\n",
       "</style>\n",
       "<ol class=list-inline><li>57.3436458689995</li><li>62.9833134854858</li><li>58.4966178526565</li><li>80.7466802422801</li></ol>\n"
      ],
      "text/latex": [
       "\\begin{enumerate*}\n",
       "\\item 57.3436458689995\n",
       "\\item 62.9833134854858\n",
       "\\item 58.4966178526565\n",
       "\\item 80.7466802422801\n",
       "\\end{enumerate*}\n"
      ],
      "text/markdown": [
       "1. 57.3436458689995\n",
       "2. 62.9833134854858\n",
       "3. 58.4966178526565\n",
       "4. 80.7466802422801\n",
       "\n",
       "\n"
      ],
      "text/plain": [
       "[1] 57.34365 62.98331 58.49662 80.74668"
      ]
     },
     "metadata": {},
     "output_type": "display_data"
    },
    {
     "name": "stdout",
     "output_type": "stream",
     "text": [
      "[1] \"Overall correlation & RMSE\"\n"
     ]
    },
    {
     "data": {
      "text/html": [
       "65.4136568858838"
      ],
      "text/latex": [
       "65.4136568858838"
      ],
      "text/markdown": [
       "65.4136568858838"
      ],
      "text/plain": [
       "[1] 65.41366"
      ]
     },
     "metadata": {},
     "output_type": "display_data"
    },
    {
     "data": {
      "text/html": [
       "64.8925643623555"
      ],
      "text/latex": [
       "64.8925643623555"
      ],
      "text/markdown": [
       "64.8925643623555"
      ],
      "text/plain": [
       "[1] 64.89256"
      ]
     },
     "metadata": {},
     "output_type": "display_data"
    },
    {
     "data": {
      "text/html": [
       "-0.521092523528267"
      ],
      "text/latex": [
       "-0.521092523528267"
      ],
      "text/markdown": [
       "-0.521092523528267"
      ],
      "text/plain": [
       "[1] -0.5210925"
      ]
     },
     "metadata": {},
     "output_type": "display_data"
    }
   ],
   "source": [
    "#4) Periodicity results\n",
    "muTab<-aggregate(filt_data$Periodicity, by=list(filt_data$Temperature,filt_data$GameSpeed,filt_data$GameNb), FUN=mean)\n",
    "print(\"Table for Periodicity\")\n",
    "colnames(muTab)<-c(\"Temperature\",\"GameSpeed\",\"GameNb\",\"Value\")\n",
    "H_Mat <- matrix(, nrow = 15, ncol = 4)\n",
    "for (i in 1:15)\n",
    "{\n",
    "    H_Mat[i,] <- muTab[which(muTab$Temperature==\"Human\" & muTab$GameNb==i),]$Value\n",
    "}\n",
    "M1_Mat <- matrix(, nrow = 15, ncol = 4)\n",
    "for (i in 1:15)\n",
    "{\n",
    "    M1_Mat[i,] <- muTab[which(muTab$Temperature==\"yes\" & muTab$GameNb==i),]$Value\n",
    "}\n",
    "M2_Mat <- matrix(, nrow = 15, ncol = 4)\n",
    "for (i in 1:15)\n",
    "{\n",
    "    M2_Mat[i,] <- muTab[which(muTab$Temperature==\"no\" & muTab$GameNb==i),]$Value\n",
    "}\n",
    "colnames(H_Mat) <- c(\"MMM\",\"MSM\",\"SMS\",\"SSS\")\n",
    "rownames(H_Mat) <- 1:15\n",
    "colnames(M1_Mat) <- c(\"MMM\",\"MSM\",\"SMS\",\"SSS\")\n",
    "rownames(M1_Mat) <- 1:15\n",
    "colnames(M2_Mat) <- c(\"MMM\",\"MSM\",\"SMS\",\"SSS\")\n",
    "rownames(M2_Mat) <- 1:15\n",
    "\n",
    "\n",
    "#correlations & RMSE per condition\n",
    "#print(\"Performance correlations & RMSE\")\n",
    "condition <- c(\"MMM\",\"MSM\",\"SMS\",\"SSS\")\n",
    "rmse <- rep(0,4)\n",
    "for (cond in 1:4) {\n",
    "    rmse[cond] <- RMSE(M1_Mat[,cond],H_Mat[,cond])\n",
    "}\n",
    "rmse_same <- rmse\n",
    "rmse_same\n",
    "rmse <- rep(0,4)\n",
    "for (cond in 1:4) {\n",
    "    rmse[cond] <- RMSE(M2_Mat[,cond],H_Mat[,cond])\n",
    "}\n",
    "rmse_diff <- rmse\n",
    "rmse_diff\n",
    "\n",
    "print(\"Overall correlation & RMSE\")\n",
    "M1_avg <- mean(rmse_same)\n",
    "M2_avg <- mean(rmse_diff)\n",
    "M1_avg\n",
    "M2_avg\n",
    "\n",
    "#Difference avg rmse delta - positive means keeping temperature is better\n",
    "Per_delta <- M2_avg - M1_avg\n",
    "Per_delta"
   ]
  },
  {
   "cell_type": "code",
   "execution_count": 16,
   "metadata": {},
   "outputs": [
    {
     "name": "stdout",
     "output_type": "stream",
     "text": [
      "[1] \"Table for Regularity\"\n"
     ]
    },
    {
     "data": {
      "text/html": [
       "<style>\n",
       ".list-inline {list-style: none; margin:0; padding: 0}\n",
       ".list-inline>li {display: inline-block}\n",
       ".list-inline>li:not(:last-child)::after {content: \"\\00b7\"; padding: 0 .5ex}\n",
       "</style>\n",
       "<ol class=list-inline><li>0.040421783235492</li><li>0.0326658601995798</li><li>0.0258812723217776</li><li>0.0346533695858235</li></ol>\n"
      ],
      "text/latex": [
       "\\begin{enumerate*}\n",
       "\\item 0.040421783235492\n",
       "\\item 0.0326658601995798\n",
       "\\item 0.0258812723217776\n",
       "\\item 0.0346533695858235\n",
       "\\end{enumerate*}\n"
      ],
      "text/markdown": [
       "1. 0.040421783235492\n",
       "2. 0.0326658601995798\n",
       "3. 0.0258812723217776\n",
       "4. 0.0346533695858235\n",
       "\n",
       "\n"
      ],
      "text/plain": [
       "[1] 0.04042178 0.03266586 0.02588127 0.03465337"
      ]
     },
     "metadata": {},
     "output_type": "display_data"
    },
    {
     "data": {
      "text/html": [
       "<style>\n",
       ".list-inline {list-style: none; margin:0; padding: 0}\n",
       ".list-inline>li {display: inline-block}\n",
       ".list-inline>li:not(:last-child)::after {content: \"\\00b7\"; padding: 0 .5ex}\n",
       "</style>\n",
       "<ol class=list-inline><li>0.04149782252512</li><li>0.0257645255011466</li><li>0.0439103677515878</li><li>0.0386390813250344</li></ol>\n"
      ],
      "text/latex": [
       "\\begin{enumerate*}\n",
       "\\item 0.04149782252512\n",
       "\\item 0.0257645255011466\n",
       "\\item 0.0439103677515878\n",
       "\\item 0.0386390813250344\n",
       "\\end{enumerate*}\n"
      ],
      "text/markdown": [
       "1. 0.04149782252512\n",
       "2. 0.0257645255011466\n",
       "3. 0.0439103677515878\n",
       "4. 0.0386390813250344\n",
       "\n",
       "\n"
      ],
      "text/plain": [
       "[1] 0.04149782 0.02576453 0.04391037 0.03863908"
      ]
     },
     "metadata": {},
     "output_type": "display_data"
    },
    {
     "name": "stdout",
     "output_type": "stream",
     "text": [
      "[1] \"Overall correlation & RMSE\"\n"
     ]
    },
    {
     "data": {
      "text/html": [
       "0.0334055713356682"
      ],
      "text/latex": [
       "0.0334055713356682"
      ],
      "text/markdown": [
       "0.0334055713356682"
      ],
      "text/plain": [
       "[1] 0.03340557"
      ]
     },
     "metadata": {},
     "output_type": "display_data"
    },
    {
     "data": {
      "text/html": [
       "0.0374529492757222"
      ],
      "text/latex": [
       "0.0374529492757222"
      ],
      "text/markdown": [
       "0.0374529492757222"
      ],
      "text/plain": [
       "[1] 0.03745295"
      ]
     },
     "metadata": {},
     "output_type": "display_data"
    },
    {
     "data": {
      "text/html": [
       "0.00404737794005396"
      ],
      "text/latex": [
       "0.00404737794005396"
      ],
      "text/markdown": [
       "0.00404737794005396"
      ],
      "text/plain": [
       "[1] 0.004047378"
      ]
     },
     "metadata": {},
     "output_type": "display_data"
    }
   ],
   "source": [
    "#5) Regularity results\n",
    "muTab<-aggregate(filt_data$Amplitude, by=list(filt_data$Temperature,filt_data$GameSpeed,filt_data$GameNb), FUN=mean)\n",
    "print(\"Table for Regularity\")\n",
    "colnames(muTab)<-c(\"Temperature\",\"GameSpeed\",\"GameNb\",\"Value\")\n",
    "H_Mat <- matrix(, nrow = 15, ncol = 4)\n",
    "for (i in 1:15)\n",
    "{\n",
    "    H_Mat[i,] <- muTab[which(muTab$Temperature==\"Human\" & muTab$GameNb==i),]$Value\n",
    "}\n",
    "M1_Mat <- matrix(, nrow = 15, ncol = 4)\n",
    "for (i in 1:15)\n",
    "{\n",
    "    M1_Mat[i,] <- muTab[which(muTab$Temperature==\"yes\" & muTab$GameNb==i),]$Value\n",
    "}\n",
    "M2_Mat <- matrix(, nrow = 15, ncol = 4)\n",
    "for (i in 1:15)\n",
    "{\n",
    "    M2_Mat[i,] <- muTab[which(muTab$Temperature==\"no\" & muTab$GameNb==i),]$Value\n",
    "}\n",
    "colnames(H_Mat) <- c(\"MMM\",\"MSM\",\"SMS\",\"SSS\")\n",
    "rownames(H_Mat) <- 1:15\n",
    "colnames(M1_Mat) <- c(\"MMM\",\"MSM\",\"SMS\",\"SSS\")\n",
    "rownames(M1_Mat) <- 1:15\n",
    "colnames(M2_Mat) <- c(\"MMM\",\"MSM\",\"SMS\",\"SSS\")\n",
    "rownames(M2_Mat) <- 1:15\n",
    "\n",
    "\n",
    "#correlations & RMSE per condition\n",
    "#print(\"Performance correlations & RMSE\")\n",
    "condition <- c(\"MMM\",\"MSM\",\"SMS\",\"SSS\")\n",
    "rmse <- rep(0,4)\n",
    "for (cond in 1:4) {\n",
    "    rmse[cond] <- RMSE(M1_Mat[,cond],H_Mat[,cond])\n",
    "}\n",
    "rmse_same <- rmse\n",
    "rmse_same\n",
    "rmse <- rep(0,4)\n",
    "for (cond in 1:4) {\n",
    "    rmse[cond] <- RMSE(M2_Mat[,cond],H_Mat[,cond])\n",
    "}\n",
    "rmse_diff <- rmse\n",
    "rmse_diff\n",
    "\n",
    "print(\"Overall correlation & RMSE\")\n",
    "M1_avg <- mean(rmse_same)\n",
    "M2_avg <- mean(rmse_diff)\n",
    "M1_avg\n",
    "M2_avg\n",
    "\n",
    "#Difference avg rmse delta - positive means keeping temperature is better\n",
    "Reg_delta <- M2_avg - M1_avg\n",
    "Reg_delta"
   ]
  },
  {
   "cell_type": "code",
   "execution_count": 15,
   "metadata": {},
   "outputs": [
    {
     "name": "stdout",
     "output_type": "stream",
     "text": [
      "[1] \"Table for Resets\"\n"
     ]
    },
    {
     "data": {
      "text/html": [
       "<style>\n",
       ".list-inline {list-style: none; margin:0; padding: 0}\n",
       ".list-inline>li {display: inline-block}\n",
       ".list-inline>li:not(:last-child)::after {content: \"\\00b7\"; padding: 0 .5ex}\n",
       "</style>\n",
       "<ol class=list-inline><li>1.88292866161086</li><li>6.10964580418679</li><li>6.22114001970579</li><li>3.13902599812402</li></ol>\n"
      ],
      "text/latex": [
       "\\begin{enumerate*}\n",
       "\\item 1.88292866161086\n",
       "\\item 6.10964580418679\n",
       "\\item 6.22114001970579\n",
       "\\item 3.13902599812402\n",
       "\\end{enumerate*}\n"
      ],
      "text/markdown": [
       "1. 1.88292866161086\n",
       "2. 6.10964580418679\n",
       "3. 6.22114001970579\n",
       "4. 3.13902599812402\n",
       "\n",
       "\n"
      ],
      "text/plain": [
       "[1] 1.882929 6.109646 6.221140 3.139026"
      ]
     },
     "metadata": {},
     "output_type": "display_data"
    },
    {
     "data": {
      "text/html": [
       "<style>\n",
       ".list-inline {list-style: none; margin:0; padding: 0}\n",
       ".list-inline>li {display: inline-block}\n",
       ".list-inline>li:not(:last-child)::after {content: \"\\00b7\"; padding: 0 .5ex}\n",
       "</style>\n",
       "<ol class=list-inline><li>2.41361648075266</li><li>7.21062372179854</li><li>5.72842682519729</li><li>3.58559784286922</li></ol>\n"
      ],
      "text/latex": [
       "\\begin{enumerate*}\n",
       "\\item 2.41361648075266\n",
       "\\item 7.21062372179854\n",
       "\\item 5.72842682519729\n",
       "\\item 3.58559784286922\n",
       "\\end{enumerate*}\n"
      ],
      "text/markdown": [
       "1. 2.41361648075266\n",
       "2. 7.21062372179854\n",
       "3. 5.72842682519729\n",
       "4. 3.58559784286922\n",
       "\n",
       "\n"
      ],
      "text/plain": [
       "[1] 2.413616 7.210624 5.728427 3.585598"
      ]
     },
     "metadata": {},
     "output_type": "display_data"
    },
    {
     "name": "stdout",
     "output_type": "stream",
     "text": [
      "[1] \"Overall correlation & RMSE\"\n"
     ]
    },
    {
     "data": {
      "text/html": [
       "4.33818512090687"
      ],
      "text/latex": [
       "4.33818512090687"
      ],
      "text/markdown": [
       "4.33818512090687"
      ],
      "text/plain": [
       "[1] 4.338185"
      ]
     },
     "metadata": {},
     "output_type": "display_data"
    },
    {
     "data": {
      "text/html": [
       "4.73456621765443"
      ],
      "text/latex": [
       "4.73456621765443"
      ],
      "text/markdown": [
       "4.73456621765443"
      ],
      "text/plain": [
       "[1] 4.734566"
      ]
     },
     "metadata": {},
     "output_type": "display_data"
    },
    {
     "data": {
      "text/html": [
       "0.396381096747564"
      ],
      "text/latex": [
       "0.396381096747564"
      ],
      "text/markdown": [
       "0.396381096747564"
      ],
      "text/plain": [
       "[1] 0.3963811"
      ]
     },
     "metadata": {},
     "output_type": "display_data"
    }
   ],
   "source": [
    "#6) Resets results\n",
    "muTab<-aggregate(filt_data$Resets, by=list(filt_data$Temperature,filt_data$GameSpeed,filt_data$GameNb), FUN=mean)\n",
    "print(\"Table for Resets\")\n",
    "colnames(muTab)<-c(\"Temperature\",\"GameSpeed\",\"GameNb\",\"Value\")\n",
    "H_Mat <- matrix(, nrow = 15, ncol = 4)\n",
    "for (i in 1:15)\n",
    "{\n",
    "    H_Mat[i,] <- muTab[which(muTab$Temperature==\"Human\" & muTab$GameNb==i),]$Value\n",
    "}\n",
    "M1_Mat <- matrix(, nrow = 15, ncol = 4)\n",
    "for (i in 1:15)\n",
    "{\n",
    "    M1_Mat[i,] <- muTab[which(muTab$Temperature==\"yes\" & muTab$GameNb==i),]$Value\n",
    "}\n",
    "M2_Mat <- matrix(, nrow = 15, ncol = 4)\n",
    "for (i in 1:15)\n",
    "{\n",
    "    M2_Mat[i,] <- muTab[which(muTab$Temperature==\"no\" & muTab$GameNb==i),]$Value\n",
    "}\n",
    "colnames(H_Mat) <- c(\"MMM\",\"MSM\",\"SMS\",\"SSS\")\n",
    "rownames(H_Mat) <- 1:15\n",
    "colnames(M1_Mat) <- c(\"MMM\",\"MSM\",\"SMS\",\"SSS\")\n",
    "rownames(M1_Mat) <- 1:15\n",
    "colnames(M2_Mat) <- c(\"MMM\",\"MSM\",\"SMS\",\"SSS\")\n",
    "rownames(M2_Mat) <- 1:15\n",
    "\n",
    "\n",
    "#correlations & RMSE per condition\n",
    "#print(\"Performance correlations & RMSE\")\n",
    "condition <- c(\"MMM\",\"MSM\",\"SMS\",\"SSS\")\n",
    "rmse <- rep(0,4)\n",
    "for (cond in 1:4) {\n",
    "    rmse[cond] <- RMSE(M1_Mat[,cond],H_Mat[,cond])\n",
    "}\n",
    "rmse_same <- rmse\n",
    "rmse_same\n",
    "rmse <- rep(0,4)\n",
    "for (cond in 1:4) {\n",
    "    rmse[cond] <- RMSE(M2_Mat[,cond],H_Mat[,cond])\n",
    "}\n",
    "rmse_diff <- rmse\n",
    "rmse_diff\n",
    "\n",
    "print(\"Overall correlation & RMSE\")\n",
    "M1_avg <- mean(rmse_same)\n",
    "M2_avg <- mean(rmse_diff)\n",
    "M1_avg\n",
    "M2_avg\n",
    "\n",
    "#Difference avg rmse delta - positive means keeping temperature is better\n",
    "Res_delta <- M2_avg - M1_avg\n",
    "Res_delta"
   ]
  },
  {
   "cell_type": "code",
   "execution_count": 16,
   "metadata": {},
   "outputs": [
    {
     "name": "stdout",
     "output_type": "stream",
     "text": [
      "[1] \"Table for Deflations\"\n"
     ]
    },
    {
     "data": {
      "text/html": [
       "<style>\n",
       ".list-inline {list-style: none; margin:0; padding: 0}\n",
       ".list-inline>li {display: inline-block}\n",
       ".list-inline>li:not(:last-child)::after {content: \"\\00b7\"; padding: 0 .5ex}\n",
       "</style>\n",
       "<ol class=list-inline><li>3.92276964165068</li><li>4.10649529856902</li><li>3.23546833274189</li><li>1.21742053380999</li></ol>\n"
      ],
      "text/latex": [
       "\\begin{enumerate*}\n",
       "\\item 3.92276964165068\n",
       "\\item 4.10649529856902\n",
       "\\item 3.23546833274189\n",
       "\\item 1.21742053380999\n",
       "\\end{enumerate*}\n"
      ],
      "text/markdown": [
       "1. 3.92276964165068\n",
       "2. 4.10649529856902\n",
       "3. 3.23546833274189\n",
       "4. 1.21742053380999\n",
       "\n",
       "\n"
      ],
      "text/plain": [
       "[1] 3.922770 4.106495 3.235468 1.217421"
      ]
     },
     "metadata": {},
     "output_type": "display_data"
    },
    {
     "data": {
      "text/html": [
       "<style>\n",
       ".list-inline {list-style: none; margin:0; padding: 0}\n",
       ".list-inline>li {display: inline-block}\n",
       ".list-inline>li:not(:last-child)::after {content: \"\\00b7\"; padding: 0 .5ex}\n",
       "</style>\n",
       "<ol class=list-inline><li>3.8456485769266</li><li>4.38245117096288</li><li>4.44009978042337</li><li>1.22943439601698</li></ol>\n"
      ],
      "text/latex": [
       "\\begin{enumerate*}\n",
       "\\item 3.8456485769266\n",
       "\\item 4.38245117096288\n",
       "\\item 4.44009978042337\n",
       "\\item 1.22943439601698\n",
       "\\end{enumerate*}\n"
      ],
      "text/markdown": [
       "1. 3.8456485769266\n",
       "2. 4.38245117096288\n",
       "3. 4.44009978042337\n",
       "4. 1.22943439601698\n",
       "\n",
       "\n"
      ],
      "text/plain": [
       "[1] 3.845649 4.382451 4.440100 1.229434"
      ]
     },
     "metadata": {},
     "output_type": "display_data"
    },
    {
     "name": "stdout",
     "output_type": "stream",
     "text": [
      "[1] \"Overall correlation & RMSE\"\n"
     ]
    },
    {
     "data": {
      "text/html": [
       "3.1205384516929"
      ],
      "text/latex": [
       "3.1205384516929"
      ],
      "text/markdown": [
       "3.1205384516929"
      ],
      "text/plain": [
       "[1] 3.120538"
      ]
     },
     "metadata": {},
     "output_type": "display_data"
    },
    {
     "data": {
      "text/html": [
       "3.47440848108246"
      ],
      "text/latex": [
       "3.47440848108246"
      ],
      "text/markdown": [
       "3.47440848108246"
      ],
      "text/plain": [
       "[1] 3.474408"
      ]
     },
     "metadata": {},
     "output_type": "display_data"
    },
    {
     "data": {
      "text/html": [
       "0.353870029389561"
      ],
      "text/latex": [
       "0.353870029389561"
      ],
      "text/markdown": [
       "0.353870029389561"
      ],
      "text/plain": [
       "[1] 0.35387"
      ]
     },
     "metadata": {},
     "output_type": "display_data"
    }
   ],
   "source": [
    "#7) Deflations results\n",
    "muTab<-aggregate(filt_data$Deflations, by=list(filt_data$Temperature,filt_data$GameSpeed,filt_data$GameNb), FUN=mean)\n",
    "print(\"Table for Deflations\")\n",
    "colnames(muTab)<-c(\"Temperature\",\"GameSpeed\",\"GameNb\",\"Value\")\n",
    "H_Mat <- matrix(, nrow = 15, ncol = 4)\n",
    "for (i in 1:15)\n",
    "{\n",
    "    H_Mat[i,] <- muTab[which(muTab$Temperature==\"Human\" & muTab$GameNb==i),]$Value\n",
    "}\n",
    "M1_Mat <- matrix(, nrow = 15, ncol = 4)\n",
    "for (i in 1:15)\n",
    "{\n",
    "    M1_Mat[i,] <- muTab[which(muTab$Temperature==\"yes\" & muTab$GameNb==i),]$Value\n",
    "}\n",
    "M2_Mat <- matrix(, nrow = 15, ncol = 4)\n",
    "for (i in 1:15)\n",
    "{\n",
    "    M2_Mat[i,] <- muTab[which(muTab$Temperature==\"no\" & muTab$GameNb==i),]$Value\n",
    "}\n",
    "colnames(H_Mat) <- c(\"MMM\",\"MSM\",\"SMS\",\"SSS\")\n",
    "rownames(H_Mat) <- 1:15\n",
    "colnames(M1_Mat) <- c(\"MMM\",\"MSM\",\"SMS\",\"SSS\")\n",
    "rownames(M1_Mat) <- 1:15\n",
    "colnames(M2_Mat) <- c(\"MMM\",\"MSM\",\"SMS\",\"SSS\")\n",
    "rownames(M2_Mat) <- 1:15\n",
    "\n",
    "#correlations & RMSE per condition\n",
    "#print(\"Performance correlations & RMSE\")\n",
    "condition <- c(\"MMM\",\"MSM\",\"SMS\",\"SSS\")\n",
    "rmse <- rep(0,4)\n",
    "for (cond in 1:4) {\n",
    "    rmse[cond] <- RMSE(M1_Mat[,cond],H_Mat[,cond])\n",
    "}\n",
    "rmse_same <- rmse\n",
    "rmse_same\n",
    "rmse <- rep(0,4)\n",
    "for (cond in 1:4) {\n",
    "    rmse[cond] <- RMSE(M2_Mat[,cond],H_Mat[,cond])\n",
    "}\n",
    "rmse_diff <- rmse\n",
    "rmse_diff\n",
    "\n",
    "print(\"Overall correlation & RMSE\")\n",
    "M1_avg <- mean(rmse_same)\n",
    "M2_avg <- mean(rmse_diff)\n",
    "M1_avg\n",
    "M2_avg\n",
    "\n",
    "#Difference avg rmse delta - positive means keeping temperature is better\n",
    "Def_delta <- M2_avg - M1_avg\n",
    "Def_delta"
   ]
  },
  {
   "cell_type": "code",
   "execution_count": 17,
   "metadata": {},
   "outputs": [
    {
     "name": "stdout",
     "output_type": "stream",
     "text": [
      "[1] \"Table for Misses\"\n"
     ]
    },
    {
     "data": {
      "text/html": [
       "<style>\n",
       ".list-inline {list-style: none; margin:0; padding: 0}\n",
       ".list-inline>li {display: inline-block}\n",
       ".list-inline>li:not(:last-child)::after {content: \"\\00b7\"; padding: 0 .5ex}\n",
       "</style>\n",
       "<ol class=list-inline><li>3.98002076003002</li><li>7.14716823922773</li><li>7.87978669095024</li><li>5.4719344589947</li></ol>\n"
      ],
      "text/latex": [
       "\\begin{enumerate*}\n",
       "\\item 3.98002076003002\n",
       "\\item 7.14716823922773\n",
       "\\item 7.87978669095024\n",
       "\\item 5.4719344589947\n",
       "\\end{enumerate*}\n"
      ],
      "text/markdown": [
       "1. 3.98002076003002\n",
       "2. 7.14716823922773\n",
       "3. 7.87978669095024\n",
       "4. 5.4719344589947\n",
       "\n",
       "\n"
      ],
      "text/plain": [
       "[1] 3.980021 7.147168 7.879787 5.471934"
      ]
     },
     "metadata": {},
     "output_type": "display_data"
    },
    {
     "data": {
      "text/html": [
       "<style>\n",
       ".list-inline {list-style: none; margin:0; padding: 0}\n",
       ".list-inline>li {display: inline-block}\n",
       ".list-inline>li:not(:last-child)::after {content: \"\\00b7\"; padding: 0 .5ex}\n",
       "</style>\n",
       "<ol class=list-inline><li>3.89421861093897</li><li>7.51487225246978</li><li>8.00568719629156</li><li>5.79748341394104</li></ol>\n"
      ],
      "text/latex": [
       "\\begin{enumerate*}\n",
       "\\item 3.89421861093897\n",
       "\\item 7.51487225246978\n",
       "\\item 8.00568719629156\n",
       "\\item 5.79748341394104\n",
       "\\end{enumerate*}\n"
      ],
      "text/markdown": [
       "1. 3.89421861093897\n",
       "2. 7.51487225246978\n",
       "3. 8.00568719629156\n",
       "4. 5.79748341394104\n",
       "\n",
       "\n"
      ],
      "text/plain": [
       "[1] 3.894219 7.514872 8.005687 5.797483"
      ]
     },
     "metadata": {},
     "output_type": "display_data"
    },
    {
     "name": "stdout",
     "output_type": "stream",
     "text": [
      "[1] \"Overall correlation & RMSE\"\n"
     ]
    },
    {
     "data": {
      "text/html": [
       "6.11972753730067"
      ],
      "text/latex": [
       "6.11972753730067"
      ],
      "text/markdown": [
       "6.11972753730067"
      ],
      "text/plain": [
       "[1] 6.119728"
      ]
     },
     "metadata": {},
     "output_type": "display_data"
    },
    {
     "data": {
      "text/html": [
       "6.30306536841034"
      ],
      "text/latex": [
       "6.30306536841034"
      ],
      "text/markdown": [
       "6.30306536841034"
      ],
      "text/plain": [
       "[1] 6.303065"
      ]
     },
     "metadata": {},
     "output_type": "display_data"
    },
    {
     "data": {
      "text/html": [
       "0.183337831109665"
      ],
      "text/latex": [
       "0.183337831109665"
      ],
      "text/markdown": [
       "0.183337831109665"
      ],
      "text/plain": [
       "[1] 0.1833378"
      ]
     },
     "metadata": {},
     "output_type": "display_data"
    }
   ],
   "source": [
    "#8) Misses results\n",
    "muTab<-aggregate(filt_data$Misses, by=list(filt_data$Temperature,filt_data$GameSpeed,filt_data$GameNb), FUN=mean)\n",
    "print(\"Table for Misses\")\n",
    "colnames(muTab)<-c(\"Temperature\",\"GameSpeed\",\"GameNb\",\"Value\")\n",
    "H_Mat <- matrix(, nrow = 15, ncol = 4)\n",
    "for (i in 1:15)\n",
    "{\n",
    "    H_Mat[i,] <- muTab[which(muTab$Temperature==\"Human\" & muTab$GameNb==i),]$Value\n",
    "}\n",
    "M1_Mat <- matrix(, nrow = 15, ncol = 4)\n",
    "for (i in 1:15)\n",
    "{\n",
    "    M1_Mat[i,] <- muTab[which(muTab$Temperature==\"yes\" & muTab$GameNb==i),]$Value\n",
    "}\n",
    "M2_Mat <- matrix(, nrow = 15, ncol = 4)\n",
    "for (i in 1:15)\n",
    "{\n",
    "    M2_Mat[i,] <- muTab[which(muTab$Temperature==\"no\" & muTab$GameNb==i),]$Value\n",
    "}\n",
    "colnames(H_Mat) <- c(\"MMM\",\"MSM\",\"SMS\",\"SSS\")\n",
    "rownames(H_Mat) <- 1:15\n",
    "colnames(M1_Mat) <- c(\"MMM\",\"MSM\",\"SMS\",\"SSS\")\n",
    "rownames(M1_Mat) <- 1:15\n",
    "colnames(M2_Mat) <- c(\"MMM\",\"MSM\",\"SMS\",\"SSS\")\n",
    "rownames(M2_Mat) <- 1:15\n",
    "\n",
    "#correlations & RMSE per condition\n",
    "#print(\"Performance correlations & RMSE\")\n",
    "condition <- c(\"MMM\",\"MSM\",\"SMS\",\"SSS\")\n",
    "rmse <- rep(0,4)\n",
    "for (cond in 1:4) {\n",
    "    rmse[cond] <- RMSE(M1_Mat[,cond],H_Mat[,cond])\n",
    "}\n",
    "rmse_same <- rmse\n",
    "rmse_same\n",
    "rmse <- rep(0,4)\n",
    "for (cond in 1:4) {\n",
    "    rmse[cond] <- RMSE(M2_Mat[,cond],H_Mat[,cond])\n",
    "}\n",
    "rmse_diff <- rmse\n",
    "rmse_diff\n",
    "\n",
    "print(\"Overall correlation & RMSE\")\n",
    "M1_avg <- mean(rmse_same)\n",
    "M2_avg <- mean(rmse_diff)\n",
    "M1_avg\n",
    "M2_avg\n",
    "\n",
    "#Difference avg rmse delta - positive means keeping temperature is better\n",
    "Mis_delta <- M2_avg - M1_avg\n",
    "Mis_delta"
   ]
  },
  {
   "cell_type": "code",
   "execution_count": null,
   "metadata": {},
   "outputs": [],
   "source": []
  },
  {
   "cell_type": "code",
   "execution_count": null,
   "metadata": {},
   "outputs": [],
   "source": []
  },
  {
   "cell_type": "code",
   "execution_count": null,
   "metadata": {},
   "outputs": [],
   "source": []
  }
 ],
 "metadata": {
  "kernelspec": {
   "display_name": "R",
   "language": "R",
   "name": "ir"
  },
  "language_info": {
   "codemirror_mode": "r",
   "file_extension": ".r",
   "mimetype": "text/x-r-source",
   "name": "R",
   "pygments_lexer": "r",
   "version": "3.6.3"
  }
 },
 "nbformat": 4,
 "nbformat_minor": 2
}
