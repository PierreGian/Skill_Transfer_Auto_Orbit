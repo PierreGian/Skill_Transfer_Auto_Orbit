{
 "cells": [
  {
   "cell_type": "code",
   "execution_count": 2,
   "metadata": {},
   "outputs": [
    {
     "name": "stderr",
     "output_type": "stream",
     "text": [
      "Loading required package: Matrix\n",
      "Registered S3 methods overwritten by 'ggplot2':\n",
      "  method         from \n",
      "  [.quosures     rlang\n",
      "  c.quosures     rlang\n",
      "  print.quosures rlang\n",
      "Warning message:\n",
      "\"package 'dplyr' was built under R version 3.6.3\"\n",
      "Attaching package: 'dplyr'\n",
      "\n",
      "The following objects are masked from 'package:stats':\n",
      "\n",
      "    filter, lag\n",
      "\n",
      "The following objects are masked from 'package:base':\n",
      "\n",
      "    intersect, setdiff, setequal, union\n",
      "\n",
      "\n",
      "Attaching package: 'MASS'\n",
      "\n",
      "The following object is masked from 'package:dplyr':\n",
      "\n",
      "    select\n",
      "\n",
      "Warning message:\n",
      "\"package 'BayesFactor' was built under R version 3.6.3\"Loading required package: coda\n",
      "Warning message:\n",
      "\"package 'coda' was built under R version 3.6.3\"************\n",
      "Welcome to BayesFactor 0.9.12-4.2. If you have questions, please contact Richard Morey (richarddmorey@gmail.com).\n",
      "\n",
      "Type BFManual() to open the manual.\n",
      "************\n",
      "Loading required package: carData\n",
      "Registered S3 methods overwritten by 'car':\n",
      "  method                          from\n",
      "  influence.merMod                lme4\n",
      "  cooks.distance.influence.merMod lme4\n",
      "  dfbeta.influence.merMod         lme4\n",
      "  dfbetas.influence.merMod        lme4\n",
      "\n",
      "Attaching package: 'car'\n",
      "\n",
      "The following object is masked from 'package:dplyr':\n",
      "\n",
      "    recode\n",
      "\n",
      "Warning message:\n",
      "\"package 'lmerTest' was built under R version 3.6.3\"\n",
      "Attaching package: 'lmerTest'\n",
      "\n",
      "The following object is masked from 'package:lme4':\n",
      "\n",
      "    lmer\n",
      "\n",
      "The following object is masked from 'package:stats':\n",
      "\n",
      "    step\n",
      "\n",
      "Warning message:\n",
      "\"package 'MuMIn' was built under R version 3.6.3\"------------------------------------------------------------------------------\n",
      "You have loaded plyr after dplyr - this is likely to cause problems.\n",
      "If you need functions from both plyr and dplyr, please load plyr first, then dplyr:\n",
      "library(plyr); library(dplyr)\n",
      "------------------------------------------------------------------------------\n",
      "\n",
      "Attaching package: 'plyr'\n",
      "\n",
      "The following objects are masked from 'package:dplyr':\n",
      "\n",
      "    arrange, count, desc, failwith, id, mutate, rename, summarise,\n",
      "    summarize\n",
      "\n",
      "Warning message:\n",
      "\"package 'rstatix' was built under R version 3.6.3\"\n",
      "Attaching package: 'rstatix'\n",
      "\n",
      "The following objects are masked from 'package:plyr':\n",
      "\n",
      "    desc, mutate\n",
      "\n",
      "The following object is masked from 'package:MASS':\n",
      "\n",
      "    select\n",
      "\n",
      "The following object is masked from 'package:stats':\n",
      "\n",
      "    filter\n",
      "\n",
      "Warning message:\n",
      "\"package 'ggpubr' was built under R version 3.6.3\"\n",
      "Attaching package: 'ggpubr'\n",
      "\n",
      "The following object is masked from 'package:plyr':\n",
      "\n",
      "    mutate\n",
      "\n",
      "corrplot 0.84 loaded\n",
      "Warning message:\n",
      "\"package 'svglite' was built under R version 3.6.3\""
     ]
    }
   ],
   "source": [
    "library(\"lme4\")\n",
    "library(\"ggplot2\")\n",
    "library(\"dplyr\")\n",
    "library(MASS)\n",
    "library(\"BayesFactor\")\n",
    "library(\"car\")\n",
    "library(\"scales\")\n",
    "library(\"lmerTest\")\n",
    "library(\"MuMIn\")\n",
    "library(\"plyr\")\n",
    "library(\"rstatix\")\n",
    "library(\"ggpubr\")\n",
    "library(\"knitr\")\n",
    "library(\"corrplot\")\n",
    "library(\"RColorBrewer\")\n",
    "library(\"svglite\")"
   ]
  },
  {
   "cell_type": "code",
   "execution_count": 3,
   "metadata": {},
   "outputs": [],
   "source": [
    "#Load the data => Here, we are filtering the cases in which subjects had a MuIFI of 0\n",
    "FinalPath<-'../ToInput/R_HumMod_MS17_notemp.txt'\n",
    "data <- read.delim(FinalPath, sep=\"\\t\", header=T, stringsAsFactors=F)\n",
    "NoTemp_N <- nrow(data %>% filter(Temperature==\"no\"))\n",
    "YesTemp_N <- nrow(data %>% filter(Temperature==\"yes\"))\n",
    "data <- data %>% filter(!Amplitude==0)\n",
    "data$GameSpeed <- factor(data$GameSpeed, levels = c(\"SSS\",\"SMS\",\"MSM\",\"MMM\"))\n",
    "data$lCV <- log(data$CV)\n",
    "filt_NoTemp_N <- nrow(data %>% filter(Temperature==\"no\"))\n",
    "filt_YesTemp_N <- nrow(data %>% filter(Temperature==\"yes\"))"
   ]
  },
  {
   "cell_type": "code",
   "execution_count": 4,
   "metadata": {},
   "outputs": [
    {
     "data": {
      "text/plain": [
       "       \n",
       "         SSS  SMS  MSM  MMM\n",
       "  Human  273  282  286  273\n",
       "  no    1499 1495 1490 1499\n",
       "  yes   1496 1498 1491 1499"
      ]
     },
     "metadata": {},
     "output_type": "display_data"
    }
   ],
   "source": [
    "table(data$Temperature, data$GameSpeed)"
   ]
  },
  {
   "cell_type": "code",
   "execution_count": 5,
   "metadata": {},
   "outputs": [],
   "source": [
    "##Source for \"SummarySE\": http://www.cookbook-r.com/Manipulating_data/Summarizing_data/\n",
    "##\n",
    "##\n",
    "## Gives count, mean, standard deviation, standard error of the mean, and confidence interval (default 95%).\n",
    "##   data: a data frame.\n",
    "##   measurevar: the name of a column that contains the variable to be summariezed\n",
    "##   groupvars: a vector containing names of columns that contain grouping variables\n",
    "##   na.rm: a boolean that indicates whether to ignore NA's\n",
    "##   conf.interval: the percent range of the confidence interval (default is 95%)\n",
    "summarySE <- function(data=NULL, measurevar, groupvars=NULL, na.rm=FALSE,\n",
    "                      conf.interval=.95, .drop=TRUE) {\n",
    "    library(plyr)\n",
    "\n",
    "    # New version of length which can handle NA's: if na.rm==T, don't count them\n",
    "    length2 <- function (x, na.rm=FALSE) {\n",
    "        if (na.rm) sum(!is.na(x))\n",
    "        else       length(x)\n",
    "    }\n",
    "\n",
    "    # This does the summary. For each group's data frame, return a vector with\n",
    "    # N, mean, and sd\n",
    "    datac <- ddply(data, groupvars, .drop=.drop,\n",
    "      .fun = function(xx, col) {\n",
    "        c(N    = length2(xx[[col]], na.rm=na.rm),\n",
    "          mean = mean   (xx[[col]], na.rm=na.rm),\n",
    "          sd   = sd     (xx[[col]], na.rm=na.rm)\n",
    "        )\n",
    "      },\n",
    "      measurevar\n",
    "    )\n",
    "\n",
    "    # Rename the \"mean\" column    \n",
    "    datac <- rename(datac, c(\"mean\" = measurevar))\n",
    "\n",
    "    datac$se <- datac$sd / sqrt(datac$N)  # Calculate standard error of the mean\n",
    "\n",
    "    # Confidence interval multiplier for standard error\n",
    "    # Calculate t-statistic for confidence interval: \n",
    "    # e.g., if conf.interval is .95, use .975 (above/below), and use df=N-1\n",
    "    ciMult <- qt(conf.interval/2 + .5, datac$N-1)\n",
    "    datac$ci <- datac$se * ciMult\n",
    "\n",
    "    return(datac)\n",
    "}"
   ]
  },
  {
   "cell_type": "code",
   "execution_count": 6,
   "metadata": {},
   "outputs": [],
   "source": [
    "# Multiple plot function: source: http://www.cookbook-r.com/Graphs/Multiple_graphs_on_one_page_(ggplot2)/\n",
    "#\n",
    "#\n",
    "# ggplot objects can be passed in ..., or to plotlist (as a list of ggplot objects)\n",
    "# - cols:   Number of columns in layout\n",
    "# - layout: A matrix specifying the layout. If present, 'cols' is ignored.\n",
    "#\n",
    "# If the layout is something like matrix(c(1,2,3,3), nrow=2, byrow=TRUE),\n",
    "# then plot 1 will go in the upper left, 2 will go in the upper right, and\n",
    "# 3 will go all the way across the bottom.\n",
    "#\n",
    "multiplot <- function(..., plotlist=NULL, file, cols=1, layout=NULL) {\n",
    "  library(grid)\n",
    "\n",
    "  # Make a list from the ... arguments and plotlist\n",
    "  plots <- c(list(...), plotlist)\n",
    "\n",
    "  numPlots = length(plots)\n",
    "\n",
    "  # If layout is NULL, then use 'cols' to determine layout\n",
    "  if (is.null(layout)) {\n",
    "    # Make the panel\n",
    "    # ncol: Number of columns of plots\n",
    "    # nrow: Number of rows needed, calculated from # of cols\n",
    "    layout <- matrix(seq(1, cols * ceiling(numPlots/cols)),\n",
    "                    ncol = cols, nrow = ceiling(numPlots/cols))\n",
    "  }\n",
    "\n",
    " if (numPlots==1) {\n",
    "    print(plots[[1]])\n",
    "\n",
    "  } else {\n",
    "    # Set up the page\n",
    "    grid.newpage()\n",
    "    pushViewport(viewport(layout = grid.layout(nrow(layout), ncol(layout))))\n",
    "\n",
    "    # Make each plot, in the correct location\n",
    "    for (i in 1:numPlots) {\n",
    "      # Get the i,j matrix positions of the regions that contain this subplot\n",
    "      matchidx <- as.data.frame(which(layout == i, arr.ind = TRUE))\n",
    "\n",
    "      print(plots[[i]], vp = viewport(layout.pos.row = matchidx$row,\n",
    "                                      layout.pos.col = matchidx$col))\n",
    "    }\n",
    "  }\n",
    "}"
   ]
  },
  {
   "cell_type": "markdown",
   "metadata": {},
   "source": [
    "# Compute RMSE with new temperature ('no')"
   ]
  },
  {
   "cell_type": "code",
   "execution_count": 7,
   "metadata": {},
   "outputs": [],
   "source": [
    "#RMSE function definition\n",
    "RMSE = function(mod, obs){\n",
    "  sqrt(mean((mod - obs)^2))\n",
    "}\n",
    "\n",
    "#Filtered data set\n",
    "filt_data <- data %>% filter(!Temperature=='yes')"
   ]
  },
  {
   "cell_type": "code",
   "execution_count": 8,
   "metadata": {},
   "outputs": [],
   "source": [
    "#1) Performance results\n",
    "muTab<-aggregate(filt_data$Points, by=list(filt_data$Agent,filt_data$GameSpeed,filt_data$GameNb), FUN=mean)\n",
    "colnames(muTab)<-c(\"Agent\",\"GameSpeed\",\"GameNb\",\"Value\")\n",
    "H_Mat <- matrix(, nrow = 15, ncol = 4)\n",
    "for (i in 1:15)\n",
    "{\n",
    "    H_Mat[i,] <- muTab[which(muTab$Agent==\"Human\" & muTab$GameNb==i),]$Value\n",
    "}\n",
    "M_Mat <- matrix(, nrow = 15, ncol = 4)\n",
    "for (i in 1:15)\n",
    "{\n",
    "    M_Mat[i,] <- muTab[which(muTab$Agent==\"Model\" & muTab$GameNb==i),]$Value\n",
    "}\n",
    "colnames(H_Mat) <- c(\"MMM\",\"MSM\",\"SMS\",\"SSS\")\n",
    "rownames(H_Mat) <- 1:15\n",
    "colnames(M_Mat) <- c(\"MMM\",\"MSM\",\"SMS\",\"SSS\")\n",
    "rownames(M_Mat) <- 1:15\n",
    "\n",
    "H_vec <- c(H_Mat)\n",
    "M_vec <- c(M_Mat)\n",
    "\n",
    "#correlations & RMSE per condition\n",
    "#print(\"Performance correlations & RMSE\")\n",
    "condition <- c(\"MMM\",\"MSM\",\"SMS\",\"SSS\")\n",
    "rs<- rep(0,4)\n",
    "rmse <- rep(0,4)\n",
    "for (cond in 1:4) {\n",
    "    rs[cond] <- cor(H_Mat[,cond],M_Mat[,cond],method = \"pearson\")\n",
    "    rmse[cond] <- RMSE(M_Mat[,cond],H_Mat[,cond])\n",
    "}\n",
    "r_tab_Perf <- data.frame(condition,r=rs)\n",
    "rmse_tab_Perf <- data.frame(condition,rmse=rmse)\n",
    "\n",
    "#correlations & RMSE in R\n",
    "rs<- rep(0,15)\n",
    "rmse <- rep(0,15)\n",
    "for (gg in 1:15) {\n",
    "    rs[gg] <- cor(H_Mat[gg,],M_Mat[gg,],method = \"pearson\")\n",
    "    rmse[gg] <- RMSE(M_Mat[gg,],H_Mat[gg,])\n",
    "}\n",
    "df1 <- data.frame(GameNb=1:15,\n",
    "                r=rs)\n",
    "df2 <- data.frame(GameNb=1:15,\n",
    "                rmse=rmse)"
   ]
  },
  {
   "cell_type": "code",
   "execution_count": 9,
   "metadata": {},
   "outputs": [],
   "source": [
    "#2) Entropy results\n",
    "muTab<-aggregate(filt_data$Entropy, by=list(filt_data$Agent,filt_data$GameSpeed,filt_data$GameNb), FUN=mean)\n",
    "colnames(muTab)<-c(\"Agent\",\"GameSpeed\",\"GameNb\",\"Value\")\n",
    "H_Mat <- matrix(, nrow = 15, ncol = 4)\n",
    "for (i in 1:15)\n",
    "{\n",
    "    H_Mat[i,] <- muTab[which(muTab$Agent==\"Human\" & muTab$GameNb==i),]$Value\n",
    "}\n",
    "M_Mat <- matrix(, nrow = 15, ncol = 4)\n",
    "for (i in 1:15)\n",
    "{\n",
    "    M_Mat[i,] <- muTab[which(muTab$Agent==\"Model\" & muTab$GameNb==i),]$Value\n",
    "}\n",
    "colnames(H_Mat) <- c(\"MMM\",\"MSM\",\"SMS\",\"SSS\")\n",
    "rownames(H_Mat) <- 1:15\n",
    "colnames(M_Mat) <- c(\"MMM\",\"MSM\",\"SMS\",\"SSS\")\n",
    "rownames(M_Mat) <- 1:15\n",
    "\n",
    "H_vec <- c(H_Mat)\n",
    "M_vec <- c(M_Mat)\n",
    "\n",
    "#correlations & RMSE per condition\n",
    "condition <- c(\"MMM\",\"MSM\",\"SMS\",\"SSS\")\n",
    "rs<- rep(0,4)\n",
    "rmse <- rep(0,4)\n",
    "for (cond in 1:4) {\n",
    "    rs[cond] <- cor(H_Mat[,cond],M_Mat[,cond],method = \"pearson\")\n",
    "    rmse[cond] <- RMSE(M_Mat[,cond],H_Mat[,cond])\n",
    "}\n",
    "r_tab_Ent <- data.frame(condition,r=rs)\n",
    "rmse_tab_Ent <- data.frame(condition,rmse=rmse)\n",
    "\n",
    "#correlations & RMSE in R\n",
    "rs<- rep(0,15)\n",
    "rmse <- rep(0,15)\n",
    "for (gg in 1:15) {\n",
    "    rs[gg] <- cor(H_Mat[gg,],M_Mat[gg,],method = \"pearson\")\n",
    "    rmse[gg] <- RMSE(M_Mat[gg,],H_Mat[gg,])\n",
    "}\n",
    "df1 <- data.frame(GameNb=1:15,\n",
    "                r=rs)\n",
    "df2 <- data.frame(GameNb=1:15,\n",
    "                rmse=rmse)"
   ]
  },
  {
   "cell_type": "code",
   "execution_count": 10,
   "metadata": {},
   "outputs": [],
   "source": [
    "#3) Log CV ISI results\n",
    "muTab<-aggregate(filt_data$lCV, by=list(filt_data$Agent,filt_data$GameSpeed,filt_data$GameNb), FUN=mean)\n",
    "colnames(muTab)<-c(\"Agent\",\"GameSpeed\",\"GameNb\",\"Value\")\n",
    "H_Mat <- matrix(, nrow = 15, ncol = 4)\n",
    "for (i in 1:15)\n",
    "{\n",
    "    H_Mat[i,] <- muTab[which(muTab$Agent==\"Human\" & muTab$GameNb==i),]$Value\n",
    "}\n",
    "M_Mat <- matrix(, nrow = 15, ncol = 4)\n",
    "for (i in 1:15)\n",
    "{\n",
    "    M_Mat[i,] <- muTab[which(muTab$Agent==\"Model\" & muTab$GameNb==i),]$Value\n",
    "}\n",
    "colnames(H_Mat) <- c(\"MMM\",\"MSM\",\"SMS\",\"SSS\")\n",
    "rownames(H_Mat) <- 1:15\n",
    "colnames(M_Mat) <- c(\"MMM\",\"MSM\",\"SMS\",\"SSS\")\n",
    "rownames(M_Mat) <- 1:15\n",
    "\n",
    "H_vec <- c(H_Mat)\n",
    "M_vec <- c(M_Mat)\n",
    "\n",
    "#correlations & RMSE per condition\n",
    "condition <- c(\"MMM\",\"MSM\",\"SMS\",\"SSS\")\n",
    "rs<- rep(0,4)\n",
    "rmse <- rep(0,4)\n",
    "for (cond in 1:4) {\n",
    "    rs[cond] <- cor(H_Mat[,cond],M_Mat[,cond],method = \"pearson\")\n",
    "    rmse[cond] <- RMSE(M_Mat[,cond],H_Mat[,cond])\n",
    "}\n",
    "r_tab_lCV <- data.frame(condition,r=rs)\n",
    "rmse_tab_lCV <- data.frame(condition,rmse=rmse)\n",
    "\n",
    "#correlations & RMSE in R\n",
    "rs<- rep(0,15)\n",
    "rmse <- rep(0,15)\n",
    "for (gg in 1:15) {\n",
    "    rs[gg] <- cor(H_Mat[gg,],M_Mat[gg,],method = \"pearson\")\n",
    "    rmse[gg] <- RMSE(M_Mat[gg,],H_Mat[gg,])\n",
    "}\n",
    "df1 <- data.frame(GameNb=1:15,\n",
    "                r=rs)\n",
    "df2 <- data.frame(GameNb=1:15,\n",
    "                rmse=rmse)"
   ]
  },
  {
   "cell_type": "code",
   "execution_count": 11,
   "metadata": {},
   "outputs": [],
   "source": [
    "#4) Periodicity results\n",
    "muTab<-aggregate(filt_data$Periodicity, by=list(filt_data$Agent,filt_data$GameSpeed,filt_data$GameNb), FUN=mean)\n",
    "colnames(muTab)<-c(\"Agent\",\"GameSpeed\",\"GameNb\",\"Value\")\n",
    "H_Mat <- matrix(, nrow = 15, ncol = 4)\n",
    "for (i in 1:15)\n",
    "{\n",
    "    H_Mat[i,] <- muTab[which(muTab$Agent==\"Human\" & muTab$GameNb==i),]$Value\n",
    "}\n",
    "M_Mat <- matrix(, nrow = 15, ncol = 4)\n",
    "for (i in 1:15)\n",
    "{\n",
    "    M_Mat[i,] <- muTab[which(muTab$Agent==\"Model\" & muTab$GameNb==i),]$Value\n",
    "}\n",
    "colnames(H_Mat) <- c(\"MMM\",\"MSM\",\"SMS\",\"SSS\")\n",
    "rownames(H_Mat) <- 1:15\n",
    "colnames(M_Mat) <- c(\"MMM\",\"MSM\",\"SMS\",\"SSS\")\n",
    "rownames(M_Mat) <- 1:15\n",
    "\n",
    "H_vec <- c(H_Mat)\n",
    "M_vec <- c(M_Mat)\n",
    "\n",
    "#correlations & RMSE per condition\n",
    "condition <- c(\"MMM\",\"MSM\",\"SMS\",\"SSS\")\n",
    "rs<- rep(0,4)\n",
    "rmse <- rep(0,4)\n",
    "for (cond in 1:4) {\n",
    "    rs[cond] <- cor(H_Mat[,cond],M_Mat[,cond],method = \"pearson\")\n",
    "    rmse[cond] <- RMSE(M_Mat[,cond],H_Mat[,cond])\n",
    "}\n",
    "r_tab_Per <- data.frame(condition,r=rs)\n",
    "rmse_tab_Per <- data.frame(condition,rmse=rmse)\n",
    "\n",
    "#correlations & RMSE in R\n",
    "rs<- rep(0,15)\n",
    "rmse <- rep(0,15)\n",
    "for (gg in 1:15) {\n",
    "    rs[gg] <- cor(H_Mat[gg,],M_Mat[gg,],method = \"pearson\")\n",
    "    rmse[gg] <- RMSE(M_Mat[gg,],H_Mat[gg,])\n",
    "}\n",
    "df1 <- data.frame(GameNb=1:15,\n",
    "                r=rs)\n",
    "df2 <- data.frame(GameNb=1:15,\n",
    "                rmse=rmse)"
   ]
  },
  {
   "cell_type": "code",
   "execution_count": 12,
   "metadata": {},
   "outputs": [],
   "source": [
    "#5) Regularity results\n",
    "muTab<-aggregate(filt_data$Amplitude, by=list(filt_data$Agent,filt_data$GameSpeed,filt_data$GameNb), FUN=mean)\n",
    "colnames(muTab)<-c(\"Agent\",\"GameSpeed\",\"GameNb\",\"Value\")\n",
    "H_Mat <- matrix(, nrow = 15, ncol = 4)\n",
    "for (i in 1:15)\n",
    "{\n",
    "    H_Mat[i,] <- muTab[which(muTab$Agent==\"Human\" & muTab$GameNb==i),]$Value\n",
    "}\n",
    "M_Mat <- matrix(, nrow = 15, ncol = 4)\n",
    "for (i in 1:15)\n",
    "{\n",
    "    M_Mat[i,] <- muTab[which(muTab$Agent==\"Model\" & muTab$GameNb==i),]$Value\n",
    "}\n",
    "colnames(H_Mat) <- c(\"MMM\",\"MSM\",\"SMS\",\"SSS\")\n",
    "rownames(H_Mat) <- 1:15\n",
    "colnames(M_Mat) <- c(\"MMM\",\"MSM\",\"SMS\",\"SSS\")\n",
    "rownames(M_Mat) <- 1:15\n",
    "\n",
    "H_vec <- c(H_Mat)\n",
    "M_vec <- c(M_Mat)\n",
    "\n",
    "#correlations & RMSE per condition\n",
    "condition <- c(\"MMM\",\"MSM\",\"SMS\",\"SSS\")\n",
    "rs<- rep(0,4)\n",
    "rmse <- rep(0,4)\n",
    "for (cond in 1:4) {\n",
    "    rs[cond] <- cor(H_Mat[,cond],M_Mat[,cond],method = \"pearson\")\n",
    "    rmse[cond] <- RMSE(M_Mat[,cond],H_Mat[,cond])\n",
    "}\n",
    "r_tab_Reg <- data.frame(condition,r=rs)\n",
    "rmse_tab_Reg <- data.frame(condition,rmse=rmse)\n",
    "\n",
    "#correlations & RMSE in R\n",
    "rs<- rep(0,15)\n",
    "rmse <- rep(0,15)\n",
    "for (gg in 1:15) {\n",
    "    rs[gg] <- cor(H_Mat[gg,],M_Mat[gg,],method = \"pearson\")\n",
    "    rmse[gg] <- RMSE(M_Mat[gg,],H_Mat[gg,])\n",
    "}\n",
    "df1 <- data.frame(GameNb=1:15,\n",
    "                r=rs)\n",
    "df2 <- data.frame(GameNb=1:15,\n",
    "                rmse=rmse)"
   ]
  },
  {
   "cell_type": "code",
   "execution_count": 13,
   "metadata": {},
   "outputs": [],
   "source": [
    "#6) Resets results\n",
    "muTab<-aggregate(filt_data$Resets, by=list(filt_data$Agent,filt_data$GameSpeed,filt_data$GameNb), FUN=mean)\n",
    "colnames(muTab)<-c(\"Agent\",\"GameSpeed\",\"GameNb\",\"Value\")\n",
    "H_Mat <- matrix(, nrow = 15, ncol = 4)\n",
    "for (i in 1:15)\n",
    "{\n",
    "    H_Mat[i,] <- muTab[which(muTab$Agent==\"Human\" & muTab$GameNb==i),]$Value\n",
    "}\n",
    "M_Mat <- matrix(, nrow = 15, ncol = 4)\n",
    "for (i in 1:15)\n",
    "{\n",
    "    M_Mat[i,] <- muTab[which(muTab$Agent==\"Model\" & muTab$GameNb==i),]$Value\n",
    "}\n",
    "colnames(H_Mat) <- c(\"MMM\",\"MSM\",\"SMS\",\"SSS\")\n",
    "rownames(H_Mat) <- 1:15\n",
    "colnames(M_Mat) <- c(\"MMM\",\"MSM\",\"SMS\",\"SSS\")\n",
    "rownames(M_Mat) <- 1:15\n",
    "\n",
    "H_vec <- c(H_Mat)\n",
    "M_vec <- c(M_Mat)\n",
    "\n",
    "#correlations & RMSE per condition\n",
    "condition <- c(\"MMM\",\"MSM\",\"SMS\",\"SSS\")\n",
    "rs<- rep(0,4)\n",
    "rmse <- rep(0,4)\n",
    "for (cond in 1:4) {\n",
    "    rs[cond] <- cor(H_Mat[,cond],M_Mat[,cond],method = \"pearson\")\n",
    "    rmse[cond] <- RMSE(M_Mat[,cond],H_Mat[,cond])\n",
    "}\n",
    "r_tab_Res <- data.frame(condition,r=rs)\n",
    "rmse_tab_Res <- data.frame(condition,rmse=rmse)\n",
    "\n",
    "#correlations & RMSE in R\n",
    "rs<- rep(0,15)\n",
    "rmse <- rep(0,15)\n",
    "for (gg in 1:15) {\n",
    "    rs[gg] <- cor(H_Mat[gg,],M_Mat[gg,],method = \"pearson\")\n",
    "    rmse[gg] <- RMSE(M_Mat[gg,],H_Mat[gg,])\n",
    "}\n",
    "df1 <- data.frame(GameNb=1:15,\n",
    "                r=rs)\n",
    "df2 <- data.frame(GameNb=1:15,\n",
    "                rmse=rmse)"
   ]
  },
  {
   "cell_type": "code",
   "execution_count": 14,
   "metadata": {},
   "outputs": [],
   "source": [
    "#7) Deflations results\n",
    "muTab<-aggregate(filt_data$Deflations, by=list(filt_data$Agent,filt_data$GameSpeed,filt_data$GameNb), FUN=mean)\n",
    "colnames(muTab)<-c(\"Agent\",\"GameSpeed\",\"GameNb\",\"Value\")\n",
    "H_Mat <- matrix(, nrow = 15, ncol = 4)\n",
    "for (i in 1:15)\n",
    "{\n",
    "    H_Mat[i,] <- muTab[which(muTab$Agent==\"Human\" & muTab$GameNb==i),]$Value\n",
    "}\n",
    "M_Mat <- matrix(, nrow = 15, ncol = 4)\n",
    "for (i in 1:15)\n",
    "{\n",
    "    M_Mat[i,] <- muTab[which(muTab$Agent==\"Model\" & muTab$GameNb==i),]$Value\n",
    "}\n",
    "colnames(H_Mat) <- c(\"MMM\",\"MSM\",\"SMS\",\"SSS\")\n",
    "rownames(H_Mat) <- 1:15\n",
    "colnames(M_Mat) <- c(\"MMM\",\"MSM\",\"SMS\",\"SSS\")\n",
    "rownames(M_Mat) <- 1:15\n",
    "\n",
    "H_vec <- c(H_Mat)\n",
    "M_vec <- c(M_Mat)\n",
    "\n",
    "#correlations & RMSE per condition\n",
    "condition <- c(\"MMM\",\"MSM\",\"SMS\",\"SSS\")\n",
    "rs<- rep(0,4)\n",
    "rmse <- rep(0,4)\n",
    "for (cond in 1:4) {\n",
    "    rs[cond] <- cor(H_Mat[,cond],M_Mat[,cond],method = \"pearson\")\n",
    "    rmse[cond] <- RMSE(M_Mat[,cond],H_Mat[,cond])\n",
    "}\n",
    "r_tab_Def <- data.frame(condition,r=rs)\n",
    "rmse_tab_Def <- data.frame(condition,rmse=rmse)\n",
    "\n",
    "#correlations & RMSE in R\n",
    "rs<- rep(0,15)\n",
    "rmse <- rep(0,15)\n",
    "for (gg in 1:15) {\n",
    "    rs[gg] <- cor(H_Mat[gg,],M_Mat[gg,],method = \"pearson\")\n",
    "    rmse[gg] <- RMSE(M_Mat[gg,],H_Mat[gg,])\n",
    "}\n",
    "df1 <- data.frame(GameNb=1:15,\n",
    "                r=rs)\n",
    "df2 <- data.frame(GameNb=1:15,\n",
    "                rmse=rmse)"
   ]
  },
  {
   "cell_type": "code",
   "execution_count": 15,
   "metadata": {},
   "outputs": [],
   "source": [
    "#8) Misses results\n",
    "muTab<-aggregate(filt_data$Misses, by=list(filt_data$Agent,filt_data$GameSpeed,filt_data$GameNb), FUN=mean)\n",
    "colnames(muTab)<-c(\"Agent\",\"GameSpeed\",\"GameNb\",\"Value\")\n",
    "H_Mat <- matrix(, nrow = 15, ncol = 4)\n",
    "for (i in 1:15)\n",
    "{\n",
    "    H_Mat[i,] <- muTab[which(muTab$Agent==\"Human\" & muTab$GameNb==i),]$Value\n",
    "}\n",
    "M_Mat <- matrix(, nrow = 15, ncol = 4)\n",
    "for (i in 1:15)\n",
    "{\n",
    "    M_Mat[i,] <- muTab[which(muTab$Agent==\"Model\" & muTab$GameNb==i),]$Value\n",
    "}\n",
    "colnames(H_Mat) <- c(\"MMM\",\"MSM\",\"SMS\",\"SSS\")\n",
    "rownames(H_Mat) <- 1:15\n",
    "colnames(M_Mat) <- c(\"MMM\",\"MSM\",\"SMS\",\"SSS\")\n",
    "rownames(M_Mat) <- 1:15\n",
    "\n",
    "H_vec <- c(H_Mat)\n",
    "M_vec <- c(M_Mat)\n",
    "\n",
    "#correlations & RMSE per condition\n",
    "condition <- c(\"MMM\",\"MSM\",\"SMS\",\"SSS\")\n",
    "rs<- rep(0,4)\n",
    "rmse <- rep(0,4)\n",
    "for (cond in 1:4) {\n",
    "    rs[cond] <- cor(H_Mat[,cond],M_Mat[,cond],method = \"pearson\")\n",
    "    rmse[cond] <- RMSE(M_Mat[,cond],H_Mat[,cond])\n",
    "}\n",
    "r_tab_Mis <- data.frame(condition,r=rs)\n",
    "rmse_tab_Mis <- data.frame(condition,rmse=rmse)\n",
    "\n",
    "#correlations & RMSE in R\n",
    "rs<- rep(0,15)\n",
    "rmse <- rep(0,15)\n",
    "for (gg in 1:15) {\n",
    "    rs[gg] <- cor(H_Mat[gg,],M_Mat[gg,],method = \"pearson\")\n",
    "    rmse[gg] <- RMSE(M_Mat[gg,],H_Mat[gg,])\n",
    "}\n",
    "df1 <- data.frame(GameNb=1:15,\n",
    "                r=rs)\n",
    "df2 <- data.frame(GameNb=1:15,\n",
    "                rmse=rmse)"
   ]
  },
  {
   "cell_type": "code",
   "execution_count": 16,
   "metadata": {},
   "outputs": [
    {
     "data": {
      "text/html": [
       "<table>\n",
       "<thead><tr><th scope=col>condition</th><th scope=col>Points</th><th scope=col>Entropy</th><th scope=col>logCV</th><th scope=col>Periodicity</th><th scope=col>Regularity</th><th scope=col>Resets</th><th scope=col>Deflations</th><th scope=col>Misses</th></tr></thead>\n",
       "<tbody>\n",
       "\t<tr><td>MMM       </td><td>145.2561  </td><td>0.21270353</td><td>0.4558655 </td><td>80.74668  </td><td>0.03863908</td><td>3.585598  </td><td>1.229434  </td><td>5.797483  </td></tr>\n",
       "\t<tr><td>MSM       </td><td>244.6830  </td><td>0.11053673</td><td>0.2099198 </td><td>58.49662  </td><td>0.04391037</td><td>5.728427  </td><td>4.440100  </td><td>8.005687  </td></tr>\n",
       "\t<tr><td>SMS       </td><td>226.0335  </td><td>0.06704038</td><td>0.2430459 </td><td>62.98331  </td><td>0.02576453</td><td>7.210624  </td><td>4.382451  </td><td>7.514872  </td></tr>\n",
       "\t<tr><td>SSS       </td><td>507.1129  </td><td>0.13160052</td><td>0.4979796 </td><td>57.34365  </td><td>0.04149782</td><td>2.413616  </td><td>3.845649  </td><td>3.894219  </td></tr>\n",
       "</tbody>\n",
       "</table>\n"
      ],
      "text/latex": [
       "\\begin{tabular}{r|lllllllll}\n",
       " condition & Points & Entropy & logCV & Periodicity & Regularity & Resets & Deflations & Misses\\\\\n",
       "\\hline\n",
       "\t MMM        & 145.2561   & 0.21270353 & 0.4558655  & 80.74668   & 0.03863908 & 3.585598   & 1.229434   & 5.797483  \\\\\n",
       "\t MSM        & 244.6830   & 0.11053673 & 0.2099198  & 58.49662   & 0.04391037 & 5.728427   & 4.440100   & 8.005687  \\\\\n",
       "\t SMS        & 226.0335   & 0.06704038 & 0.2430459  & 62.98331   & 0.02576453 & 7.210624   & 4.382451   & 7.514872  \\\\\n",
       "\t SSS        & 507.1129   & 0.13160052 & 0.4979796  & 57.34365   & 0.04149782 & 2.413616   & 3.845649   & 3.894219  \\\\\n",
       "\\end{tabular}\n"
      ],
      "text/markdown": [
       "\n",
       "| condition | Points | Entropy | logCV | Periodicity | Regularity | Resets | Deflations | Misses |\n",
       "|---|---|---|---|---|---|---|---|---|\n",
       "| MMM        | 145.2561   | 0.21270353 | 0.4558655  | 80.74668   | 0.03863908 | 3.585598   | 1.229434   | 5.797483   |\n",
       "| MSM        | 244.6830   | 0.11053673 | 0.2099198  | 58.49662   | 0.04391037 | 5.728427   | 4.440100   | 8.005687   |\n",
       "| SMS        | 226.0335   | 0.06704038 | 0.2430459  | 62.98331   | 0.02576453 | 7.210624   | 4.382451   | 7.514872   |\n",
       "| SSS        | 507.1129   | 0.13160052 | 0.4979796  | 57.34365   | 0.04149782 | 2.413616   | 3.845649   | 3.894219   |\n",
       "\n"
      ],
      "text/plain": [
       "  condition Points   Entropy    logCV     Periodicity Regularity Resets  \n",
       "1 MMM       145.2561 0.21270353 0.4558655 80.74668    0.03863908 3.585598\n",
       "2 MSM       244.6830 0.11053673 0.2099198 58.49662    0.04391037 5.728427\n",
       "3 SMS       226.0335 0.06704038 0.2430459 62.98331    0.02576453 7.210624\n",
       "4 SSS       507.1129 0.13160052 0.4979796 57.34365    0.04149782 2.413616\n",
       "  Deflations Misses  \n",
       "1 1.229434   5.797483\n",
       "2 4.440100   8.005687\n",
       "3 4.382451   7.514872\n",
       "4 3.845649   3.894219"
      ]
     },
     "metadata": {},
     "output_type": "display_data"
    }
   ],
   "source": [
    "All_rmses <- data.frame(condition,Points=rmse_tab_Perf$rmse,Entropy=rmse_tab_Ent$rmse,logCV=rmse_tab_lCV$rmse,Periodicity=rmse_tab_Per$rmse,Regularity=rmse_tab_Reg$rmse,\n",
    "                     Resets=rmse_tab_Res$rmse,Deflations=rmse_tab_Def$rmse,Misses=rmse_tab_Mis$rmse)\n",
    "All_rmses"
   ]
  },
  {
   "cell_type": "code",
   "execution_count": 17,
   "metadata": {},
   "outputs": [
    {
     "data": {
      "text/html": [
       "280.771390482088"
      ],
      "text/latex": [
       "280.771390482088"
      ],
      "text/markdown": [
       "280.771390482088"
      ],
      "text/plain": [
       "[1] 280.7714"
      ]
     },
     "metadata": {},
     "output_type": "display_data"
    },
    {
     "data": {
      "text/html": [
       "0.13047028775991"
      ],
      "text/latex": [
       "0.13047028775991"
      ],
      "text/markdown": [
       "0.13047028775991"
      ],
      "text/plain": [
       "[1] 0.1304703"
      ]
     },
     "metadata": {},
     "output_type": "display_data"
    },
    {
     "data": {
      "text/html": [
       "0.351702707267107"
      ],
      "text/latex": [
       "0.351702707267107"
      ],
      "text/markdown": [
       "0.351702707267107"
      ],
      "text/plain": [
       "[1] 0.3517027"
      ]
     },
     "metadata": {},
     "output_type": "display_data"
    },
    {
     "data": {
      "text/html": [
       "64.8925643623555"
      ],
      "text/latex": [
       "64.8925643623555"
      ],
      "text/markdown": [
       "64.8925643623555"
      ],
      "text/plain": [
       "[1] 64.89256"
      ]
     },
     "metadata": {},
     "output_type": "display_data"
    },
    {
     "data": {
      "text/html": [
       "0.0374529492697121"
      ],
      "text/latex": [
       "0.0374529492697121"
      ],
      "text/markdown": [
       "0.0374529492697121"
      ],
      "text/plain": [
       "[1] 0.03745295"
      ]
     },
     "metadata": {},
     "output_type": "display_data"
    },
    {
     "data": {
      "text/html": [
       "4.73456621765443"
      ],
      "text/latex": [
       "4.73456621765443"
      ],
      "text/markdown": [
       "4.73456621765443"
      ],
      "text/plain": [
       "[1] 4.734566"
      ]
     },
     "metadata": {},
     "output_type": "display_data"
    },
    {
     "data": {
      "text/html": [
       "3.47440848108246"
      ],
      "text/latex": [
       "3.47440848108246"
      ],
      "text/markdown": [
       "3.47440848108246"
      ],
      "text/plain": [
       "[1] 3.474408"
      ]
     },
     "metadata": {},
     "output_type": "display_data"
    },
    {
     "data": {
      "text/html": [
       "6.30306536841034"
      ],
      "text/latex": [
       "6.30306536841034"
      ],
      "text/markdown": [
       "6.30306536841034"
      ],
      "text/plain": [
       "[1] 6.303065"
      ]
     },
     "metadata": {},
     "output_type": "display_data"
    }
   ],
   "source": [
    "#rmse averages per measures\n",
    "Points_rmse <- mean(All_rmses$Points)\n",
    "Points_rmse\n",
    "Ent_rmse <- mean(All_rmses$Entropy)\n",
    "Ent_rmse\n",
    "lCV_rmse <- mean(All_rmses$logCV)\n",
    "lCV_rmse\n",
    "Per_rmse <- mean(All_rmses$Periodicity)\n",
    "Per_rmse\n",
    "Reg_rmse <- mean(All_rmses$Regularity)\n",
    "Reg_rmse\n",
    "Res_rmse <- mean(All_rmses$Resets)\n",
    "Res_rmse\n",
    "Def_rmse <- mean(All_rmses$Deflations)\n",
    "Def_rmse\n",
    "Mis_rmse <- mean(All_rmses$Misses)\n",
    "Mis_rmse"
   ]
  },
  {
   "cell_type": "markdown",
   "metadata": {},
   "source": [
    "# Alternative RMSE with new temperature ('yes')"
   ]
  },
  {
   "cell_type": "code",
   "execution_count": 18,
   "metadata": {},
   "outputs": [],
   "source": [
    "#RMSE function definition\n",
    "RMSE = function(mod, obs){\n",
    "  sqrt(mean((mod - obs)^2))\n",
    "}\n",
    "\n",
    "#Filtered data set\n",
    "filt_data2 <- data %>% filter(!Temperature=='no')"
   ]
  },
  {
   "cell_type": "code",
   "execution_count": 19,
   "metadata": {},
   "outputs": [
    {
     "data": {
      "text/html": [
       "<ol class=list-inline>\n",
       "\t<li>117.832113727498</li>\n",
       "\t<li>217.529582675503</li>\n",
       "\t<li>227.958174762577</li>\n",
       "\t<li>506.333429063236</li>\n",
       "</ol>\n"
      ],
      "text/latex": [
       "\\begin{enumerate*}\n",
       "\\item 117.832113727498\n",
       "\\item 217.529582675503\n",
       "\\item 227.958174762577\n",
       "\\item 506.333429063236\n",
       "\\end{enumerate*}\n"
      ],
      "text/markdown": [
       "1. 117.832113727498\n",
       "2. 217.529582675503\n",
       "3. 227.958174762577\n",
       "4. 506.333429063236\n",
       "\n",
       "\n"
      ],
      "text/plain": [
       "[1] 117.8321 217.5296 227.9582 506.3334"
      ]
     },
     "metadata": {},
     "output_type": "display_data"
    }
   ],
   "source": [
    "#1) Performance results - new temperature & Humans\n",
    "muTab<-aggregate(filt_data2$Points, by=list(filt_data2$Temperature,filt_data2$GameSpeed,filt_data2$GameNb), FUN=mean)\n",
    "colnames(muTab)<-c(\"Temperature\",\"GameSpeed\",\"GameNb\",\"Value\")\n",
    "H_Mat <- matrix(, nrow = 15, ncol = 4)\n",
    "for (i in 1:15)\n",
    "{\n",
    "    H_Mat[i,] <- muTab[which(muTab$Temperature==\"Human\" & muTab$GameNb==i),]$Value\n",
    "}\n",
    "M2_Mat <- matrix(, nrow = 15, ncol = 4)\n",
    "for (i in 1:15)\n",
    "{\n",
    "    M2_Mat[i,] <- muTab[which(muTab$Temperature==\"yes\" & muTab$GameNb==i),]$Value\n",
    "}\n",
    "colnames(H_Mat) <- c(\"MMM\",\"MSM\",\"SMS\",\"SSS\")\n",
    "rownames(H_Mat) <- 1:15\n",
    "colnames(M2_Mat) <- c(\"MMM\",\"MSM\",\"SMS\",\"SSS\")\n",
    "rownames(M2_Mat) <- 1:15\n",
    "\n",
    "#correlations & RMSE per condition\n",
    "#print(\"Performance correlations & RMSE\")\n",
    "condition <- c(\"MMM\",\"MSM\",\"SMS\",\"SSS\")\n",
    "rmse <- rep(0,4)\n",
    "rs<- rep(0,4)\n",
    "for (cond in 1:4) {\n",
    "    rs[cond] <- cor(M2_Mat[,cond],H_Mat[,cond],method = \"pearson\")\n",
    "    rmse[cond] <- RMSE(M2_Mat[,cond],H_Mat[,cond])\n",
    "}\n",
    "rmse_perf_M2 <- rmse\n",
    "rmse_perf_M2"
   ]
  },
  {
   "cell_type": "code",
   "execution_count": 20,
   "metadata": {},
   "outputs": [
    {
     "data": {
      "text/html": [
       "<ol class=list-inline>\n",
       "\t<li>0.208113951916744</li>\n",
       "\t<li>0.12864930002305</li>\n",
       "\t<li>0.0694520765301631</li>\n",
       "\t<li>0.132970348522221</li>\n",
       "</ol>\n"
      ],
      "text/latex": [
       "\\begin{enumerate*}\n",
       "\\item 0.208113951916744\n",
       "\\item 0.12864930002305\n",
       "\\item 0.0694520765301631\n",
       "\\item 0.132970348522221\n",
       "\\end{enumerate*}\n"
      ],
      "text/markdown": [
       "1. 0.208113951916744\n",
       "2. 0.12864930002305\n",
       "3. 0.0694520765301631\n",
       "4. 0.132970348522221\n",
       "\n",
       "\n"
      ],
      "text/plain": [
       "[1] 0.20811395 0.12864930 0.06945208 0.13297035"
      ]
     },
     "metadata": {},
     "output_type": "display_data"
    }
   ],
   "source": [
    "#2) Entropy results - new Temperature & Humans\n",
    "muTab<-aggregate(filt_data2$Entropy, by=list(filt_data2$Temperature,filt_data2$GameSpeed,filt_data2$GameNb), FUN=mean)\n",
    "colnames(muTab)<-c(\"Temperature\",\"GameSpeed\",\"GameNb\",\"Value\")\n",
    "H_Mat <- matrix(, nrow = 15, ncol = 4)\n",
    "for (i in 1:15)\n",
    "{\n",
    "    H_Mat[i,] <- muTab[which(muTab$Temperature==\"Human\" & muTab$GameNb==i),]$Value\n",
    "}\n",
    "M2_Mat <- matrix(, nrow = 15, ncol = 4)\n",
    "for (i in 1:15)\n",
    "{\n",
    "    M2_Mat[i,] <- muTab[which(muTab$Temperature==\"yes\" & muTab$GameNb==i),]$Value\n",
    "}\n",
    "colnames(H_Mat) <- c(\"MMM\",\"MSM\",\"SMS\",\"SSS\")\n",
    "rownames(H_Mat) <- 1:15\n",
    "colnames(M2_Mat) <- c(\"MMM\",\"MSM\",\"SMS\",\"SSS\")\n",
    "rownames(M2_Mat) <- 1:15\n",
    "\n",
    "#correlations & RMSE per condition\n",
    "#print(\"Performance correlations & RMSE\")\n",
    "condition <- c(\"MMM\",\"MSM\",\"SMS\",\"SSS\")\n",
    "rmse <- rep(0,4)\n",
    "rs<- rep(0,4)\n",
    "for (cond in 1:4) {\n",
    "    rs[cond] <- cor(M2_Mat[,cond],H_Mat[,cond],method = \"pearson\")\n",
    "    rmse[cond] <- RMSE(M2_Mat[,cond],H_Mat[,cond])\n",
    "}\n",
    "rmse_Ent_M2 <- rmse\n",
    "rmse_Ent_M2"
   ]
  },
  {
   "cell_type": "code",
   "execution_count": 21,
   "metadata": {},
   "outputs": [
    {
     "data": {
      "text/html": [
       "<ol class=list-inline>\n",
       "\t<li>0.448713535711727</li>\n",
       "\t<li>0.218277279205293</li>\n",
       "\t<li>0.255752803376628</li>\n",
       "\t<li>0.497112108045387</li>\n",
       "</ol>\n"
      ],
      "text/latex": [
       "\\begin{enumerate*}\n",
       "\\item 0.448713535711727\n",
       "\\item 0.218277279205293\n",
       "\\item 0.255752803376628\n",
       "\\item 0.497112108045387\n",
       "\\end{enumerate*}\n"
      ],
      "text/markdown": [
       "1. 0.448713535711727\n",
       "2. 0.218277279205293\n",
       "3. 0.255752803376628\n",
       "4. 0.497112108045387\n",
       "\n",
       "\n"
      ],
      "text/plain": [
       "[1] 0.4487135 0.2182773 0.2557528 0.4971121"
      ]
     },
     "metadata": {},
     "output_type": "display_data"
    }
   ],
   "source": [
    "#3) Log CV ISI results - new Temperature & Humans\n",
    "muTab<-aggregate(filt_data2$lCV, by=list(filt_data2$Temperature,filt_data2$GameSpeed,filt_data2$GameNb), FUN=mean)\n",
    "colnames(muTab)<-c(\"Temperature\",\"GameSpeed\",\"GameNb\",\"Value\")\n",
    "H_Mat <- matrix(, nrow = 15, ncol = 4)\n",
    "for (i in 1:15)\n",
    "{\n",
    "    H_Mat[i,] <- muTab[which(muTab$Temperature==\"Human\" & muTab$GameNb==i),]$Value\n",
    "}\n",
    "M2_Mat <- matrix(, nrow = 15, ncol = 4)\n",
    "for (i in 1:15)\n",
    "{\n",
    "    M2_Mat[i,] <- muTab[which(muTab$Temperature==\"yes\" & muTab$GameNb==i),]$Value\n",
    "}\n",
    "colnames(H_Mat) <- c(\"MMM\",\"MSM\",\"SMS\",\"SSS\")\n",
    "rownames(H_Mat) <- 1:15\n",
    "colnames(M2_Mat) <- c(\"MMM\",\"MSM\",\"SMS\",\"SSS\")\n",
    "rownames(M2_Mat) <- 1:15\n",
    "\n",
    "#correlations & RMSE per condition\n",
    "#print(\"Performance correlations & RMSE\")\n",
    "condition <- c(\"MMM\",\"MSM\",\"SMS\",\"SSS\")\n",
    "rmse <- rep(0,4)\n",
    "rs<- rep(0,4)\n",
    "for (cond in 1:4) {\n",
    "    rs[cond] <- cor(M2_Mat[,cond],H_Mat[,cond],method = \"pearson\")\n",
    "    rmse[cond] <- RMSE(M2_Mat[,cond],H_Mat[,cond])\n",
    "}\n",
    "rmse_lCV_M2 <- rmse\n",
    "rmse_lCV_M2"
   ]
  },
  {
   "cell_type": "code",
   "execution_count": 22,
   "metadata": {},
   "outputs": [
    {
     "data": {
      "text/html": [
       "<ol class=list-inline>\n",
       "\t<li>80.6456329331885</li>\n",
       "\t<li>58.03874160187</li>\n",
       "\t<li>67.7800761006978</li>\n",
       "\t<li>55.1901769077787</li>\n",
       "</ol>\n"
      ],
      "text/latex": [
       "\\begin{enumerate*}\n",
       "\\item 80.6456329331885\n",
       "\\item 58.03874160187\n",
       "\\item 67.7800761006978\n",
       "\\item 55.1901769077787\n",
       "\\end{enumerate*}\n"
      ],
      "text/markdown": [
       "1. 80.6456329331885\n",
       "2. 58.03874160187\n",
       "3. 67.7800761006978\n",
       "4. 55.1901769077787\n",
       "\n",
       "\n"
      ],
      "text/plain": [
       "[1] 80.64563 58.03874 67.78008 55.19018"
      ]
     },
     "metadata": {},
     "output_type": "display_data"
    }
   ],
   "source": [
    "#4) Periodicity results - new Temperature & Humans\n",
    "muTab<-aggregate(filt_data2$Periodicity, by=list(filt_data2$Temperature,filt_data2$GameSpeed,filt_data2$GameNb), FUN=mean)\n",
    "colnames(muTab)<-c(\"Temperature\",\"GameSpeed\",\"GameNb\",\"Value\")\n",
    "H_Mat <- matrix(, nrow = 15, ncol = 4)\n",
    "for (i in 1:15)\n",
    "{\n",
    "    H_Mat[i,] <- muTab[which(muTab$Temperature==\"Human\" & muTab$GameNb==i),]$Value\n",
    "}\n",
    "M2_Mat <- matrix(, nrow = 15, ncol = 4)\n",
    "for (i in 1:15)\n",
    "{\n",
    "    M2_Mat[i,] <- muTab[which(muTab$Temperature==\"yes\" & muTab$GameNb==i),]$Value\n",
    "}\n",
    "colnames(H_Mat) <- c(\"MMM\",\"MSM\",\"SMS\",\"SSS\")\n",
    "rownames(H_Mat) <- 1:15\n",
    "colnames(M2_Mat) <- c(\"MMM\",\"MSM\",\"SMS\",\"SSS\")\n",
    "rownames(M2_Mat) <- 1:15\n",
    "\n",
    "#correlations & RMSE per condition\n",
    "#print(\"Performance correlations & RMSE\")\n",
    "condition <- c(\"MMM\",\"MSM\",\"SMS\",\"SSS\")\n",
    "rmse <- rep(0,4)\n",
    "rs<- rep(0,4)\n",
    "for (cond in 1:4) {\n",
    "    rs[cond] <- cor(M2_Mat[,cond],H_Mat[,cond],method = \"pearson\")\n",
    "    rmse[cond] <- RMSE(M2_Mat[,cond],H_Mat[,cond])\n",
    "}\n",
    "rmse_Per_M2 <- rmse\n",
    "rmse_Per_M2"
   ]
  },
  {
   "cell_type": "code",
   "execution_count": 23,
   "metadata": {},
   "outputs": [
    {
     "data": {
      "text/html": [
       "<ol class=list-inline>\n",
       "\t<li>0.0346533695820524</li>\n",
       "\t<li>0.0258812722731604</li>\n",
       "\t<li>0.0326658602113769</li>\n",
       "\t<li>0.0404217832289672</li>\n",
       "</ol>\n"
      ],
      "text/latex": [
       "\\begin{enumerate*}\n",
       "\\item 0.0346533695820524\n",
       "\\item 0.0258812722731604\n",
       "\\item 0.0326658602113769\n",
       "\\item 0.0404217832289672\n",
       "\\end{enumerate*}\n"
      ],
      "text/markdown": [
       "1. 0.0346533695820524\n",
       "2. 0.0258812722731604\n",
       "3. 0.0326658602113769\n",
       "4. 0.0404217832289672\n",
       "\n",
       "\n"
      ],
      "text/plain": [
       "[1] 0.03465337 0.02588127 0.03266586 0.04042178"
      ]
     },
     "metadata": {},
     "output_type": "display_data"
    }
   ],
   "source": [
    "#5) Regularity results - new Temperature & Humans\n",
    "muTab<-aggregate(filt_data2$Amplitude, by=list(filt_data2$Temperature,filt_data2$GameSpeed,filt_data2$GameNb), FUN=mean)\n",
    "colnames(muTab)<-c(\"Temperature\",\"GameSpeed\",\"GameNb\",\"Value\")\n",
    "H_Mat <- matrix(, nrow = 15, ncol = 4)\n",
    "for (i in 1:15)\n",
    "{\n",
    "    H_Mat[i,] <- muTab[which(muTab$Temperature==\"Human\" & muTab$GameNb==i),]$Value\n",
    "}\n",
    "M2_Mat <- matrix(, nrow = 15, ncol = 4)\n",
    "for (i in 1:15)\n",
    "{\n",
    "    M2_Mat[i,] <- muTab[which(muTab$Temperature==\"yes\" & muTab$GameNb==i),]$Value\n",
    "}\n",
    "colnames(H_Mat) <- c(\"MMM\",\"MSM\",\"SMS\",\"SSS\")\n",
    "rownames(H_Mat) <- 1:15\n",
    "colnames(M2_Mat) <- c(\"MMM\",\"MSM\",\"SMS\",\"SSS\")\n",
    "rownames(M2_Mat) <- 1:15\n",
    "\n",
    "#correlations & RMSE per condition\n",
    "#print(\"Performance correlations & RMSE\")\n",
    "condition <- c(\"MMM\",\"MSM\",\"SMS\",\"SSS\")\n",
    "rmse <- rep(0,4)\n",
    "rs<- rep(0,4)\n",
    "for (cond in 1:4) {\n",
    "    rs[cond] <- cor(M2_Mat[,cond],H_Mat[,cond],method = \"pearson\")\n",
    "    rmse[cond] <- RMSE(M2_Mat[,cond],H_Mat[,cond])\n",
    "}\n",
    "rmse_Reg_M2 <- rmse\n",
    "rmse_Reg_M2"
   ]
  },
  {
   "cell_type": "code",
   "execution_count": 24,
   "metadata": {},
   "outputs": [
    {
     "data": {
      "text/html": [
       "<ol class=list-inline>\n",
       "\t<li>3.13902599812402</li>\n",
       "\t<li>6.22114001970579</li>\n",
       "\t<li>6.10964580418679</li>\n",
       "\t<li>1.88292866161086</li>\n",
       "</ol>\n"
      ],
      "text/latex": [
       "\\begin{enumerate*}\n",
       "\\item 3.13902599812402\n",
       "\\item 6.22114001970579\n",
       "\\item 6.10964580418679\n",
       "\\item 1.88292866161086\n",
       "\\end{enumerate*}\n"
      ],
      "text/markdown": [
       "1. 3.13902599812402\n",
       "2. 6.22114001970579\n",
       "3. 6.10964580418679\n",
       "4. 1.88292866161086\n",
       "\n",
       "\n"
      ],
      "text/plain": [
       "[1] 3.139026 6.221140 6.109646 1.882929"
      ]
     },
     "metadata": {},
     "output_type": "display_data"
    }
   ],
   "source": [
    "#6) Reset results - new Temperature & Humans\n",
    "muTab<-aggregate(filt_data2$Resets, by=list(filt_data2$Temperature,filt_data2$GameSpeed,filt_data2$GameNb), FUN=mean)\n",
    "colnames(muTab)<-c(\"Temperature\",\"GameSpeed\",\"GameNb\",\"Value\")\n",
    "H_Mat <- matrix(, nrow = 15, ncol = 4)\n",
    "for (i in 1:15)\n",
    "{\n",
    "    H_Mat[i,] <- muTab[which(muTab$Temperature==\"Human\" & muTab$GameNb==i),]$Value\n",
    "}\n",
    "M2_Mat <- matrix(, nrow = 15, ncol = 4)\n",
    "for (i in 1:15)\n",
    "{\n",
    "    M2_Mat[i,] <- muTab[which(muTab$Temperature==\"yes\" & muTab$GameNb==i),]$Value\n",
    "}\n",
    "colnames(H_Mat) <- c(\"MMM\",\"MSM\",\"SMS\",\"SSS\")\n",
    "rownames(H_Mat) <- 1:15\n",
    "colnames(M2_Mat) <- c(\"MMM\",\"MSM\",\"SMS\",\"SSS\")\n",
    "rownames(M2_Mat) <- 1:15\n",
    "\n",
    "#correlations & RMSE per condition\n",
    "#print(\"Performance correlations & RMSE\")\n",
    "condition <- c(\"MMM\",\"MSM\",\"SMS\",\"SSS\")\n",
    "rmse <- rep(0,4)\n",
    "rs<- rep(0,4)\n",
    "for (cond in 1:4) {\n",
    "    rs[cond] <- cor(M2_Mat[,cond],H_Mat[,cond],method = \"pearson\")\n",
    "    rmse[cond] <- RMSE(M2_Mat[,cond],H_Mat[,cond])\n",
    "}\n",
    "rmse_Res_M2 <- rmse\n",
    "rmse_Res_M2"
   ]
  },
  {
   "cell_type": "code",
   "execution_count": 25,
   "metadata": {},
   "outputs": [
    {
     "data": {
      "text/html": [
       "<ol class=list-inline>\n",
       "\t<li>1.21742053380999</li>\n",
       "\t<li>3.23546833274189</li>\n",
       "\t<li>4.10649529856902</li>\n",
       "\t<li>3.92276964165068</li>\n",
       "</ol>\n"
      ],
      "text/latex": [
       "\\begin{enumerate*}\n",
       "\\item 1.21742053380999\n",
       "\\item 3.23546833274189\n",
       "\\item 4.10649529856902\n",
       "\\item 3.92276964165068\n",
       "\\end{enumerate*}\n"
      ],
      "text/markdown": [
       "1. 1.21742053380999\n",
       "2. 3.23546833274189\n",
       "3. 4.10649529856902\n",
       "4. 3.92276964165068\n",
       "\n",
       "\n"
      ],
      "text/plain": [
       "[1] 1.217421 3.235468 4.106495 3.922770"
      ]
     },
     "metadata": {},
     "output_type": "display_data"
    }
   ],
   "source": [
    "#7) Deflation results - new Temperature & Humans\n",
    "muTab<-aggregate(filt_data2$Deflations, by=list(filt_data2$Temperature,filt_data2$GameSpeed,filt_data2$GameNb), FUN=mean)\n",
    "colnames(muTab)<-c(\"Temperature\",\"GameSpeed\",\"GameNb\",\"Value\")\n",
    "H_Mat <- matrix(, nrow = 15, ncol = 4)\n",
    "for (i in 1:15)\n",
    "{\n",
    "    H_Mat[i,] <- muTab[which(muTab$Temperature==\"Human\" & muTab$GameNb==i),]$Value\n",
    "}\n",
    "M2_Mat <- matrix(, nrow = 15, ncol = 4)\n",
    "for (i in 1:15)\n",
    "{\n",
    "    M2_Mat[i,] <- muTab[which(muTab$Temperature==\"yes\" & muTab$GameNb==i),]$Value\n",
    "}\n",
    "colnames(H_Mat) <- c(\"MMM\",\"MSM\",\"SMS\",\"SSS\")\n",
    "rownames(H_Mat) <- 1:15\n",
    "colnames(M2_Mat) <- c(\"MMM\",\"MSM\",\"SMS\",\"SSS\")\n",
    "rownames(M2_Mat) <- 1:15\n",
    "\n",
    "#correlations & RMSE per condition\n",
    "#print(\"Performance correlations & RMSE\")\n",
    "condition <- c(\"MMM\",\"MSM\",\"SMS\",\"SSS\")\n",
    "rmse <- rep(0,4)\n",
    "rs<- rep(0,4)\n",
    "for (cond in 1:4) {\n",
    "    rs[cond] <- cor(M2_Mat[,cond],H_Mat[,cond],method = \"pearson\")\n",
    "    rmse[cond] <- RMSE(M2_Mat[,cond],H_Mat[,cond])\n",
    "}\n",
    "rmse_Def_M2 <- rmse\n",
    "rmse_Def_M2"
   ]
  },
  {
   "cell_type": "code",
   "execution_count": 26,
   "metadata": {},
   "outputs": [
    {
     "data": {
      "text/html": [
       "<ol class=list-inline>\n",
       "\t<li>5.4719344589947</li>\n",
       "\t<li>7.87978669095024</li>\n",
       "\t<li>7.14716823922773</li>\n",
       "\t<li>3.98002076003002</li>\n",
       "</ol>\n"
      ],
      "text/latex": [
       "\\begin{enumerate*}\n",
       "\\item 5.4719344589947\n",
       "\\item 7.87978669095024\n",
       "\\item 7.14716823922773\n",
       "\\item 3.98002076003002\n",
       "\\end{enumerate*}\n"
      ],
      "text/markdown": [
       "1. 5.4719344589947\n",
       "2. 7.87978669095024\n",
       "3. 7.14716823922773\n",
       "4. 3.98002076003002\n",
       "\n",
       "\n"
      ],
      "text/plain": [
       "[1] 5.471934 7.879787 7.147168 3.980021"
      ]
     },
     "metadata": {},
     "output_type": "display_data"
    }
   ],
   "source": [
    "#8) Miss results - new Temperature & Humans\n",
    "muTab<-aggregate(filt_data2$Misses, by=list(filt_data2$Temperature,filt_data2$GameSpeed,filt_data2$GameNb), FUN=mean)\n",
    "colnames(muTab)<-c(\"Temperature\",\"GameSpeed\",\"GameNb\",\"Value\")\n",
    "H_Mat <- matrix(, nrow = 15, ncol = 4)\n",
    "for (i in 1:15)\n",
    "{\n",
    "    H_Mat[i,] <- muTab[which(muTab$Temperature==\"Human\" & muTab$GameNb==i),]$Value\n",
    "}\n",
    "M2_Mat <- matrix(, nrow = 15, ncol = 4)\n",
    "for (i in 1:15)\n",
    "{\n",
    "    M2_Mat[i,] <- muTab[which(muTab$Temperature==\"yes\" & muTab$GameNb==i),]$Value\n",
    "}\n",
    "colnames(H_Mat) <- c(\"MMM\",\"MSM\",\"SMS\",\"SSS\")\n",
    "rownames(H_Mat) <- 1:15\n",
    "colnames(M2_Mat) <- c(\"MMM\",\"MSM\",\"SMS\",\"SSS\")\n",
    "rownames(M2_Mat) <- 1:15\n",
    "\n",
    "#correlations & RMSE per condition\n",
    "#print(\"Performance correlations & RMSE\")\n",
    "condition <- c(\"MMM\",\"MSM\",\"SMS\",\"SSS\")\n",
    "rmse <- rep(0,4)\n",
    "rs<- rep(0,4)\n",
    "for (cond in 1:4) {\n",
    "    rs[cond] <- cor(M2_Mat[,cond],H_Mat[,cond],method = \"pearson\")\n",
    "    rmse[cond] <- RMSE(M2_Mat[,cond],H_Mat[,cond])\n",
    "}\n",
    "rmse_Mis_M2 <- rmse\n",
    "rmse_Mis_M2"
   ]
  },
  {
   "cell_type": "code",
   "execution_count": 27,
   "metadata": {},
   "outputs": [
    {
     "data": {
      "text/html": [
       "<table>\n",
       "<thead><tr><th scope=col>rev.condition.</th><th scope=col>Points</th><th scope=col>Entropy</th><th scope=col>logCV</th><th scope=col>Periodicity</th><th scope=col>Regularity</th><th scope=col>Resets</th><th scope=col>Deflations</th><th scope=col>Misses</th></tr></thead>\n",
       "<tbody>\n",
       "\t<tr><td>SSS       </td><td>117.8321  </td><td>0.20811395</td><td>0.4487135 </td><td>80.64563  </td><td>0.03465337</td><td>3.139026  </td><td>1.217421  </td><td>5.471934  </td></tr>\n",
       "\t<tr><td>SMS       </td><td>217.5296  </td><td>0.12864930</td><td>0.2182773 </td><td>58.03874  </td><td>0.02588127</td><td>6.221140  </td><td>3.235468  </td><td>7.879787  </td></tr>\n",
       "\t<tr><td>MSM       </td><td>227.9582  </td><td>0.06945208</td><td>0.2557528 </td><td>67.78008  </td><td>0.03266586</td><td>6.109646  </td><td>4.106495  </td><td>7.147168  </td></tr>\n",
       "\t<tr><td>MMM       </td><td>506.3334  </td><td>0.13297035</td><td>0.4971121 </td><td>55.19018  </td><td>0.04042178</td><td>1.882929  </td><td>3.922770  </td><td>3.980021  </td></tr>\n",
       "</tbody>\n",
       "</table>\n"
      ],
      "text/latex": [
       "\\begin{tabular}{r|lllllllll}\n",
       " rev.condition. & Points & Entropy & logCV & Periodicity & Regularity & Resets & Deflations & Misses\\\\\n",
       "\\hline\n",
       "\t SSS        & 117.8321   & 0.20811395 & 0.4487135  & 80.64563   & 0.03465337 & 3.139026   & 1.217421   & 5.471934  \\\\\n",
       "\t SMS        & 217.5296   & 0.12864930 & 0.2182773  & 58.03874   & 0.02588127 & 6.221140   & 3.235468   & 7.879787  \\\\\n",
       "\t MSM        & 227.9582   & 0.06945208 & 0.2557528  & 67.78008   & 0.03266586 & 6.109646   & 4.106495   & 7.147168  \\\\\n",
       "\t MMM        & 506.3334   & 0.13297035 & 0.4971121  & 55.19018   & 0.04042178 & 1.882929   & 3.922770   & 3.980021  \\\\\n",
       "\\end{tabular}\n"
      ],
      "text/markdown": [
       "\n",
       "| rev.condition. | Points | Entropy | logCV | Periodicity | Regularity | Resets | Deflations | Misses |\n",
       "|---|---|---|---|---|---|---|---|---|\n",
       "| SSS        | 117.8321   | 0.20811395 | 0.4487135  | 80.64563   | 0.03465337 | 3.139026   | 1.217421   | 5.471934   |\n",
       "| SMS        | 217.5296   | 0.12864930 | 0.2182773  | 58.03874   | 0.02588127 | 6.221140   | 3.235468   | 7.879787   |\n",
       "| MSM        | 227.9582   | 0.06945208 | 0.2557528  | 67.78008   | 0.03266586 | 6.109646   | 4.106495   | 7.147168   |\n",
       "| MMM        | 506.3334   | 0.13297035 | 0.4971121  | 55.19018   | 0.04042178 | 1.882929   | 3.922770   | 3.980021   |\n",
       "\n"
      ],
      "text/plain": [
       "  rev.condition. Points   Entropy    logCV     Periodicity Regularity Resets  \n",
       "1 SSS            117.8321 0.20811395 0.4487135 80.64563    0.03465337 3.139026\n",
       "2 SMS            217.5296 0.12864930 0.2182773 58.03874    0.02588127 6.221140\n",
       "3 MSM            227.9582 0.06945208 0.2557528 67.78008    0.03266586 6.109646\n",
       "4 MMM            506.3334 0.13297035 0.4971121 55.19018    0.04042178 1.882929\n",
       "  Deflations Misses  \n",
       "1 1.217421   5.471934\n",
       "2 3.235468   7.879787\n",
       "3 4.106495   7.147168\n",
       "4 3.922770   3.980021"
      ]
     },
     "metadata": {},
     "output_type": "display_data"
    }
   ],
   "source": [
    "All_rmses_M2 <- data.frame(rev(condition),Points=rmse_perf_M2,Entropy=rmse_Ent_M2,logCV=rmse_lCV_M2,Periodicity=rmse_Per_M2,Regularity=rmse_Reg_M2,\n",
    "                     Resets=rmse_Res_M2,Deflations=rmse_Def_M2,Misses=rmse_Mis_M2)\n",
    "All_rmses_M2"
   ]
  },
  {
   "cell_type": "markdown",
   "metadata": {},
   "source": [
    "# Line Graphs to show"
   ]
  },
  {
   "cell_type": "code",
   "execution_count": 28,
   "metadata": {},
   "outputs": [
    {
     "data": {
      "text/plain": [
       "       \n",
       "         SSS  SMS  MSM  MMM\n",
       "  Human  273  282  286  273\n",
       "  no    1499 1495 1490 1499\n",
       "  yes   1496 1498 1491 1499"
      ]
     },
     "metadata": {},
     "output_type": "display_data"
    }
   ],
   "source": [
    "table(data$Temperature, data$GameSpeed)"
   ]
  },
  {
   "cell_type": "code",
   "execution_count": 29,
   "metadata": {},
   "outputs": [],
   "source": [
    "data <- data %>% filter(!GameSpeed=='MMM') %>% filter(!GameSpeed=='SSS')\n",
    "Shaded <- data %>% filter(!Temperature=='no') \n",
    "datac <- summarySE(Shaded, measurevar=\"Amplitude\", groupvars=c(\"GameSpeed\",\"GameNb\",\"Agent\"))\n",
    "Tra1 <- data %>% filter(Temperature=='no')\n",
    "datac_b <- summarySE(Tra1, measurevar=\"Amplitude\", groupvars=c(\"GameSpeed\",\"GameNb\",\"Agent\"))"
   ]
  },
  {
   "cell_type": "markdown",
   "metadata": {},
   "source": [
    "# Performance measures multiplot"
   ]
  },
  {
   "cell_type": "code",
   "execution_count": 30,
   "metadata": {},
   "outputs": [
    {
     "data": {
      "image/png": "[encoded data removed]",
      "text/plain": [
       "plot without title"
      ]
     },
     "metadata": {},
     "output_type": "display_data"
    }
   ],
   "source": [
    "#Performance\n",
    "Shaded <- data %>% filter(Temperature=='Human')\n",
    "Agent <- Shaded$Agent\n",
    "Subject <- Shaded$Subject\n",
    "Points <- Shaded$Points\n",
    "GameNb <- Shaded$GameNb\n",
    "GameSpeed <- Shaded$GameSpeed\n",
    "Rep_Nb <- 8\n",
    "NewLabs <- c(MMM=paste(\"H\",\"H\",\"H\", sep = strrep(\" \",Rep_Nb)),MSM=paste(\"H\",\"L\",\"H\", sep = strrep(\" \",Rep_Nb)),SMS=paste(\"L\",\"H\",\"L\", sep = strrep(\" \",Rep_Nb)),SSS=paste(\"L\",\"L\",\"L\", sep = strrep(\" \",Rep_Nb)))\n",
    "Perf_Scores <- data.frame(Agent,Subject,GameNb,GameSpeed,Points)\n",
    "\n",
    "ar <- 0.7\n",
    "args <- list(cutpoints = c(0, 0.0001, 0.001, 0.01, 0.05, 1), symbols = c(\"****\", \"***\", \"**\", \"*\", \"\"))\n",
    "sz <- 6\n",
    "\n",
    "datac2 <- summarySE(Shaded, measurevar=\"Points\", groupvars=c(\"GameSpeed\",\"GameNb\",\"Agent\"))\n",
    "Tra1 <- data %>% filter(Temperature=='no')\n",
    "datac_e <- summarySE(Tra1, measurevar=\"Points\", groupvars=c(\"GameSpeed\",\"GameNb\"))\n",
    "Tra2 <- data %>% filter(Temperature=='yes')\n",
    "datac_f <- summarySE(Tra2, measurevar=\"Points\", groupvars=c(\"GameSpeed\",\"GameNb\"))\n",
    "rmsePerf <- format(round(All_rmses$Points, 2), nsmall = 2)\n",
    "rmsePerf2 <- format(round(All_rmses_M2$Points, 2), nsmall = 2)\n",
    "\n",
    "p2 <- ggplot(datac2) +  geom_line(aes(x=GameNb, y=Points,colour=Agent)) + geom_ribbon(aes(x=GameNb, ymin=Points-sd, ymax=Points+sd, fill=\"Human\")) +\n",
    "      theme_classic() +\n",
    "      ggtitle(\"Game Score\") +\n",
    "      theme(plot.title = element_text(size=28,hjust=0.5,face =\"bold\"),\n",
    "           axis.text = element_text(size = 24),\n",
    "           strip.text = element_text(size = 30,face =\"bold\",color='black'),\n",
    "           axis.title = element_text( size = 24 ),\n",
    "           legend.text = element_text( size = 28),\n",
    "           legend.title = element_text( size = 28),\n",
    "           legend.position = 'none',\n",
    "           aspect.ratio=ar\n",
    "          ) +\n",
    "     geom_vline(xintercept=c(5.5,10.5),linetype=\"dashed\",lwd=0.6) +\n",
    "     guides(color = guide_legend(override.aes = list(size=2))) +\n",
    "     scale_fill_manual(values = alpha(c(\"sienna\"), .33), name = \"Variation (SD)\") + \n",
    "     scale_color_manual(values = c(\"sienna4\",\"blue\",\"green3\"), name = \"Agent means\") +\n",
    "     scale_x_continuous(name=\"\", breaks=seq(0,15,5)) +\n",
    "     scale_y_continuous(name=\"Score (Points)\", limits=c(0, 3500))\n",
    "p2 <- p2+ geom_line(data = datac_e, aes(x=GameNb, y=Points,color=\"Model (2 Temp.)\")) +\n",
    "      geom_line(data = datac_f, aes(x=GameNb, y=Points,color=\"Model (1 Temp.)\")) \n",
    "h1 <- p2+facet_wrap(~ GameSpeed, labeller = labeller(GameSpeed = NewLabs), nrow = 1)\n",
    "h1\n",
    "pathFig <- '../Figures/Performance_temperature.png'\n",
    "ggsave(pathFig,h1,width=20,height=15)"
   ]
  },
  {
   "cell_type": "code",
   "execution_count": 31,
   "metadata": {},
   "outputs": [
    {
     "data": {
      "image/png": "[encoded data removed]",
      "text/plain": [
       "plot without title"
      ]
     },
     "metadata": {},
     "output_type": "display_data"
    }
   ],
   "source": [
    "#Resets\n",
    "Shaded <- data %>% filter(Temperature=='Human')\n",
    "datac3 <- summarySE(Shaded, measurevar=\"Resets\", groupvars=c(\"GameSpeed\",\"GameNb\",\"Agent\"))\n",
    "Tra1 <- data %>% filter(Temperature=='no')\n",
    "datac_h1 <- summarySE(Tra1, measurevar=\"Resets\", groupvars=c(\"GameSpeed\",\"GameNb\"))\n",
    "Tra2 <- data %>% filter(Temperature=='yes')\n",
    "datac_h2 <- summarySE(Tra2, measurevar=\"Resets\", groupvars=c(\"GameSpeed\",\"GameNb\"))\n",
    "rmseRe <- format(round(All_rmses$Resets, 2), nsmall = 2)\n",
    "rmseRe2 <- format(round(All_rmses_M2$Resets, 2), nsmall = 2)\n",
    "\n",
    "p3 <- ggplot(datac3) +  geom_line(aes(x=GameNb, y=Resets,colour=Agent)) + geom_ribbon(aes(x=GameNb, ymin=Resets-sd, ymax=Resets+sd, fill=\"Human\"))+\n",
    "     theme_classic() +\n",
    "      ggtitle(\"Reset Count\") +\n",
    "      theme(plot.title = element_text(size=28,hjust=0.5,face =\"bold\"),\n",
    "           axis.text = element_text(size = 24),\n",
    "           strip.text = element_text(size = 30,face =\"bold\",color='black'),\n",
    "           axis.title = element_text( size = 24 ),\n",
    "           legend.text = element_text( size = 28),\n",
    "           legend.title = element_text( size = 28),\n",
    "           legend.position = 'none',\n",
    "           aspect.ratio=ar\n",
    "          ) +\n",
    "     geom_vline(xintercept=c(5.5,10.5),linetype=\"dashed\",lwd=0.6) +\n",
    "     guides(color = guide_legend(override.aes = list(size=2))) +\n",
    "     scale_fill_manual(values = alpha(c(\"sienna\"), .33), name = \"Variation (SD)\") + \n",
    "     scale_color_manual(values = c(\"sienna4\",\"blue\",\"green3\"), name = \"Agent means\") +\n",
    "     scale_x_continuous(name=\"\", breaks=seq(0,15,5)) +\n",
    "     scale_y_continuous(name=\"Count\", limits=c(-20, 100)) \n",
    "p3 <- p3+ geom_line(data = datac_h1, aes(x=GameNb, y=Resets,color=\"Model (2 Temp.)\")) +\n",
    "      geom_line(data = datac_h2, aes(x=GameNb, y=Resets,color=\"Model (1 Temp.)\")) \n",
    "h6 <- p3+facet_wrap(~ GameSpeed, labeller = labeller(GameSpeed = NewLabs), nrow = 1)\n",
    "h6\n",
    "pathFig <- '../Figures/Resets_temperature.png'\n",
    "ggsave(pathFig,h6,width=20,height=15)"
   ]
  },
  {
   "cell_type": "code",
   "execution_count": 32,
   "metadata": {},
   "outputs": [
    {
     "data": {
      "text/plain": [
       "$title\n",
       "[1] \"Deflations over the games\"\n",
       "\n",
       "attr(,\"class\")\n",
       "[1] \"labels\""
      ]
     },
     "metadata": {},
     "output_type": "display_data"
    },
    {
     "data": {
      "image/png": "[encoded data removed]",
      "text/plain": [
       "plot without title"
      ]
     },
     "metadata": {},
     "output_type": "display_data"
    }
   ],
   "source": [
    "#Deflations\n",
    "\n",
    "Shaded <- data %>% filter(Temperature=='Human')\n",
    "datac4 <- summarySE(Shaded, measurevar=\"Deflations\", groupvars=c(\"GameSpeed\",\"GameNb\",\"Agent\"))\n",
    "Tra1 <- data %>% filter(Temperature=='no')\n",
    "datac_j1 <- summarySE(Tra1, measurevar=\"Deflations\", groupvars=c(\"GameSpeed\",\"GameNb\"))\n",
    "Tra2 <- data %>% filter(Temperature=='yes')\n",
    "datac_j2 <- summarySE(Tra2, measurevar=\"Deflations\", groupvars=c(\"GameSpeed\",\"GameNb\"))\n",
    "rmseDe <- format(round(All_rmses$Deflations, 2), nsmall = 2)\n",
    "rmseDe2 <- format(round(All_rmses_M2$Deflations, 2), nsmall = 2)\n",
    "\n",
    "p3 <- ggplot(datac4) +  geom_line(aes(x=GameNb, y=Deflations,colour=Agent)) + geom_ribbon(aes(x=GameNb, ymin=Deflations-sd, ymax=Deflations+sd, fill=\"Human\"))+\n",
    "     theme_classic() +\n",
    "      ggtitle(\"Deflation Count\") +\n",
    "      theme(plot.title = element_text(size=28,hjust=0.5,face =\"bold\"),\n",
    "           axis.text = element_text(size = 24),\n",
    "           strip.text = element_text(size = 30,face =\"bold\",color='black'),\n",
    "           axis.title = element_text( size = 24 ),\n",
    "           legend.text = element_text( size = 28),\n",
    "           legend.title = element_text( size = 28),\n",
    "           legend.position = 'none',\n",
    "           aspect.ratio=ar\n",
    "          ) +\n",
    "     geom_vline(xintercept=c(5.5,10.5),linetype=\"dashed\",lwd=0.6) +\n",
    "     guides(color = guide_legend(override.aes = list(size=2))) +\n",
    "     scale_fill_manual(values = alpha(c(\"sienna\"), .33), name = \"Variation (SD)\") + \n",
    "     scale_color_manual(values = c(\"sienna4\",\"blue\",\"green3\"), name = \"Agent means\") +\n",
    "     scale_x_continuous(name=\"Game Number\", breaks=seq(0,15,5)) +\n",
    "     scale_y_continuous(name=\"Count\", limits=c(-5,60))\n",
    "     ggtitle(\"Deflations over the games\")\n",
    "p3 <- p3+ geom_line(data = datac_j1, aes(x=GameNb, y=Deflations,color=\"Model (2 Temp.)\")) +\n",
    "      geom_line(data = datac_j2, aes(x=GameNb, y=Deflations,color=\"Model (1 Temp.)\")) \n",
    "h7 <- p3+facet_wrap(~ GameSpeed, labeller = labeller(GameSpeed = NewLabs), nrow = 1)\n",
    "h7\n",
    "\n",
    "pathFig <- '../Figures/Deflations_temperature.png'\n",
    "ggsave(pathFig,h7,width=20,height=15)"
   ]
  },
  {
   "cell_type": "code",
   "execution_count": 33,
   "metadata": {},
   "outputs": [
    {
     "data": {
      "image/png": "[encoded data removed]",
      "text/plain": [
       "plot without title"
      ]
     },
     "metadata": {},
     "output_type": "display_data"
    }
   ],
   "source": [
    "#Misses\n",
    "\n",
    "Shaded <- data %>% filter(Temperature=='Human')\n",
    "datac4 <- summarySE(Shaded, measurevar=\"Misses\", groupvars=c(\"GameSpeed\",\"GameNb\",\"Agent\"))\n",
    "Tra1 <- data %>% filter(Temperature=='no')\n",
    "datac_k1 <- summarySE(Tra1, measurevar=\"Misses\", groupvars=c(\"GameSpeed\",\"GameNb\"))\n",
    "Tra2 <- data %>% filter(Temperature=='yes')\n",
    "datac_k2 <- summarySE(Tra2, measurevar=\"Misses\", groupvars=c(\"GameSpeed\",\"GameNb\"))\n",
    "rmseMi <- format(round(All_rmses$Misses, 2), nsmall = 2)\n",
    "rmseMi2 <- format(round(All_rmses_M2$Misses, 2), nsmall = 2)\n",
    "\n",
    "#Example\n",
    "p1 <- ggplot(datac4) +  geom_line(aes(x=GameNb, y=Misses,colour=Agent)) + geom_ribbon(aes(x=GameNb, ymin=Misses-sd, ymax=Misses+sd, fill=\"Human\"))+\n",
    "     theme_classic() +\n",
    "      ggtitle(\"Miss Count\") +\n",
    "      theme(plot.title = element_text(size=28,hjust=0.5,face =\"bold\"),\n",
    "           axis.text = element_text(size = 24),\n",
    "           strip.text = element_text(size = 30,face =\"bold\",color='black'),\n",
    "           axis.title = element_text( size = 24 ),\n",
    "           legend.text = element_text( size = 28),\n",
    "           legend.title = element_text( size = 28),\n",
    "           legend.position = 'none',\n",
    "           aspect.ratio=ar\n",
    "          ) +\n",
    "     geom_vline(xintercept=c(5.5,10.5),linetype=\"dashed\",lwd=0.6) +\n",
    "     guides(color = guide_legend(override.aes = list(size=2))) +\n",
    "     scale_fill_manual(values = alpha(c(\"sienna\"), .33), name = \"Variation (SD)\") + \n",
    "     scale_color_manual(values = c(\"sienna4\",\"blue\",\"green3\"), name = \"Agent means\") +\n",
    "     scale_x_continuous(name=\"Game Number\", breaks=seq(0,15,5)) +\n",
    "     scale_y_continuous(name=\"Count\", limits=c(-20,80))\n",
    "p1 <- p1+ geom_line(data = datac_k1, aes(x=GameNb, y=Misses,color=\"Model (2 Temp.)\")) +\n",
    "      geom_line(data = datac_k2, aes(x=GameNb, y=Misses,color=\"Model (1 Temp.)\")) \n",
    "h8 <- p1+facet_wrap(~ GameSpeed, labeller = labeller(GameSpeed = NewLabs), nrow = 1)\n",
    "h8\n",
    "\n",
    "pathFig <- '../Figures/Misses_temperature.png'\n",
    "ggsave(pathFig,h8,width=20,height=15)"
   ]
  },
  {
   "cell_type": "code",
   "execution_count": 34,
   "metadata": {},
   "outputs": [],
   "source": [
    "toSave <- ggarrange(h1,h6,h7,h8, ncol=2, nrow=2, common.legend = TRUE, legend=\"right\")\n",
    "ggsave(\"../Figures/Fig6_I.tiff\",toSave,width=24,height=9,dpi=1200)"
   ]
  },
  {
   "cell_type": "markdown",
   "metadata": {},
   "source": [
    "# Measures Multiplot"
   ]
  },
  {
   "cell_type": "code",
   "execution_count": 35,
   "metadata": {},
   "outputs": [
    {
     "data": {
      "image/png": "[encoded data removed]",
      "text/plain": [
       "plot without title"
      ]
     },
     "metadata": {},
     "output_type": "display_data"
    }
   ],
   "source": [
    "#Entropy\n",
    "Shaded <- data %>% filter(Temperature=='Human')\n",
    "datac4 <- summarySE(Shaded, measurevar=\"Entropy\", groupvars=c(\"GameSpeed\",\"GameNb\",\"Agent\"))\n",
    "Tra1 <- data %>% filter(Temperature=='no')\n",
    "datac_f1 <- summarySE(Tra1, measurevar=\"Entropy\", groupvars=c(\"GameSpeed\",\"GameNb\"))\n",
    "Tra2 <- data %>% filter(Temperature=='yes')\n",
    "datac_f2 <- summarySE(Tra2, measurevar=\"Entropy\", groupvars=c(\"GameSpeed\",\"GameNb\"))\n",
    "rmseEn <- format(round(All_rmses$Entropy, 2), nsmall = 2)\n",
    "rmseEn2 <- format(round(All_rmses_M2$Entropy, 2), nsmall = 2)\n",
    "\n",
    "p3 <- ggplot(datac4) +  geom_line(aes(x=GameNb, y=Entropy,color=Agent)) + geom_ribbon(aes(x=GameNb, ymin=Entropy-sd, ymax=Entropy+sd, fill=\"Human\")) +\n",
    "     theme_classic() +\n",
    "      ggtitle(\"Entropy\") +\n",
    "      theme(plot.title = element_text(size=28,hjust=0.5,face =\"bold\"),\n",
    "           axis.text = element_text(size = 24),\n",
    "           strip.text = element_text(size = 30,face =\"bold\",color='black'),\n",
    "           axis.title = element_text( size = 24 ),\n",
    "           legend.text = element_text( size = 28),\n",
    "           legend.title = element_text( size = 28),\n",
    "           legend.position = 'none',\n",
    "           aspect.ratio=ar\n",
    "          ) +\n",
    "     geom_vline(xintercept=c(5.5,10.5),linetype=\"dashed\",lwd=0.6) +\n",
    "     guides(color = guide_legend(override.aes = list(size=2))) +\n",
    "     scale_fill_manual(values = alpha(c(\"mediumpurple4\"), .3), name = \"Variation (SD)\") + \n",
    "     scale_color_manual(values = c(\"mediumpurple3\",\"blue\",\"green3\"), name = \"Agent means\") +  \n",
    "     scale_x_continuous(name=\"\", breaks=seq(0,15,5)) +\n",
    "     scale_y_continuous(name=\"Entropy (bits)\", limits=c(2.5, 4.5))\n",
    "p3 <- p3+ geom_line(data = datac_f1, aes(x=GameNb, y=Entropy,color=\"Model (2 Temp.)\")) +\n",
    "      geom_line(data = datac_f2, aes(x=GameNb, y=Entropy,color=\"Model (1 Temp.)\")) \n",
    "h2 <- p3+facet_wrap(~ GameSpeed, labeller = labeller(GameSpeed = NewLabs), nrow = 1)\n",
    "h2\n",
    "pathFig <- '../Figures/Entropy_temperature.png'\n",
    "ggsave(pathFig,h2,width=20,height=15)"
   ]
  },
  {
   "cell_type": "code",
   "execution_count": 36,
   "metadata": {},
   "outputs": [
    {
     "data": {
      "image/png": "[encoded data removed]",
      "text/plain": [
       "plot without title"
      ]
     },
     "metadata": {},
     "output_type": "display_data"
    }
   ],
   "source": [
    "#Periodicity\n",
    "Shaded <- data %>% filter(Temperature=='Human')\n",
    "datac4 <- summarySE(Shaded, measurevar=\"Periodicity\", groupvars=c(\"GameSpeed\",\"GameNb\",\"Agent\"))\n",
    "Tra1 <- data %>% filter(Temperature=='no')\n",
    "datac_g1 <- summarySE(Tra1, measurevar=\"Periodicity\", groupvars=c(\"GameSpeed\",\"GameNb\"))\n",
    "Tra2 <- data %>% filter(Temperature=='yes')\n",
    "datac_g2 <- summarySE(Tra2, measurevar=\"Periodicity\", groupvars=c(\"GameSpeed\",\"GameNb\"))\n",
    "rmsePe <- format(round(All_rmses$Periodicity, 2), nsmall = 2)\n",
    "rmsePe2 <- format(round(All_rmses_M2$Periodicity, 2), nsmall = 2)\n",
    "\n",
    "p4 <- ggplot(datac4) +  geom_line(aes(x=GameNb, y=Periodicity,color=Agent)) + geom_ribbon(aes(x=GameNb, ymin=Periodicity-sd, ymax=Periodicity+sd, fill=\"Human\")) +\n",
    "     theme_classic() +\n",
    "      ggtitle(\"Shot Periodicity\") +\n",
    "      theme(plot.title = element_text(size=28,hjust=0.5,face =\"bold\"),\n",
    "           axis.text = element_text(size = 24),\n",
    "           strip.text = element_text(size = 30,face =\"bold\",color='black'),\n",
    "           axis.title = element_text( size = 24 ),\n",
    "           legend.text = element_text( size = 28),\n",
    "           legend.title = element_text( size = 28),\n",
    "           legend.position = 'none',\n",
    "           aspect.ratio=ar\n",
    "          ) +\n",
    "     geom_vline(xintercept=c(5.5,10.5),linetype=\"dashed\",lwd=0.6) +\n",
    "     guides(color = guide_legend(override.aes = list(size=2))) +\n",
    "     scale_fill_manual(values = alpha(c(\"mediumpurple4\"), .3), name = \"Variation (SD)\") + \n",
    "     scale_color_manual(values = c(\"mediumpurple3\",\"blue\",\"green3\"), name = \"Agent means\") +     \n",
    "     scale_x_continuous(name=\"\", breaks=seq(0,15,5)) +\n",
    "     scale_y_continuous(name=\"Periodicity (ms)\")\n",
    "p4 <- p4+ geom_line(data = datac_g1, aes(x=GameNb, y=Periodicity,color=\"Model (2 Temp.)\")) +\n",
    "      geom_line(data = datac_g2, aes(x=GameNb, y=Periodicity,color=\"Model (1 Temp.)\")) \n",
    "h3 <- p4+facet_wrap(~ GameSpeed, labeller = labeller(GameSpeed = NewLabs), nrow = 1)\n",
    "h3\n",
    "pathFig <- '../Figures/Periodicity_temperature.png'\n",
    "ggsave(pathFig,h3,width=20,height=15)"
   ]
  },
  {
   "cell_type": "code",
   "execution_count": 37,
   "metadata": {},
   "outputs": [
    {
     "data": {
      "image/png": "[encoded data removed]",
      "text/plain": [
       "plot without title"
      ]
     },
     "metadata": {},
     "output_type": "display_data"
    }
   ],
   "source": [
    "#Regularity\n",
    "Shaded <- data %>% filter(Temperature=='Human')\n",
    "datac1 <- summarySE(Shaded, measurevar=\"Amplitude\", groupvars=c(\"GameSpeed\",\"GameNb\",\"Agent\"))\n",
    "Tra1 <- data %>% filter(Temperature=='no')\n",
    "datac_d1 <- summarySE(Tra1, measurevar=\"Amplitude\", groupvars=c(\"GameSpeed\",\"GameNb\"))\n",
    "Tra2 <- data %>% filter(Temperature=='yes')\n",
    "datac_d2 <- summarySE(Tra2, measurevar=\"Amplitude\", groupvars=c(\"GameSpeed\",\"GameNb\"))\n",
    "rmseReg <- format(round(All_rmses$Regularity, 2), nsmall = 2)\n",
    "rmseReg2 <- format(round(All_rmses_M2$Regularity, 2), nsmall = 2)\n",
    "\n",
    "p1 <- ggplot(datac1) +  geom_line(aes(x=GameNb, y=Amplitude,color=Agent)) + geom_ribbon(aes(x=GameNb, ymin=Amplitude-sd, ymax=Amplitude+sd, fill=\"Human\")) +\n",
    "     theme_classic() +\n",
    "      ggtitle(\"Shot Regularity\") +\n",
    "      theme(plot.title = element_text(size=28,hjust=0.5,face =\"bold\"),\n",
    "           axis.text = element_text(size = 24),\n",
    "           strip.text = element_text(size = 30,face =\"bold\",color='black'),\n",
    "           axis.title = element_text( size = 24 ),\n",
    "           legend.text = element_text( size = 28),\n",
    "           legend.title = element_text( size = 28),\n",
    "           legend.position = 'none',\n",
    "           aspect.ratio=ar\n",
    "          ) +\n",
    "     geom_vline(xintercept=c(5.5,10.5),linetype=\"dashed\",lwd=0.6) +\n",
    "     guides(color = guide_legend(override.aes = list(size=2))) +\n",
    "     scale_fill_manual(values = alpha(c(\"mediumpurple4\"), .3), name = \"Variation (SD)\") + \n",
    "     scale_color_manual(values = c(\"mediumpurple3\",\"blue\",\"green3\"), name = \"Agent means\") +\n",
    "     scale_x_continuous(name=\"Game Number\", breaks=seq(0,15,5)) +\n",
    "     scale_y_continuous(name=\"Regularity (r)\", limits=c(0, 0.6))\n",
    "p1 <- p1+ geom_line(data = datac_d1, aes(x=GameNb, y=Amplitude,color=\"Model (2 Temp.)\")) +\n",
    "      geom_line(data = datac_d2, aes(x=GameNb, y=Amplitude,color=\"Model (1 Temp.)\")) \n",
    "h4 <- p1+facet_wrap(~ GameSpeed, labeller = labeller(GameSpeed = NewLabs), nrow = 1)\n",
    "h4\n",
    "pathFig <- '../Figures/Regularity_temperature.png'\n",
    "ggsave(pathFig,h4,width=20,height=15)"
   ]
  },
  {
   "cell_type": "code",
   "execution_count": 38,
   "metadata": {},
   "outputs": [
    {
     "data": {
      "image/png": "[encoded data removed]",
      "text/plain": [
       "plot without title"
      ]
     },
     "metadata": {},
     "output_type": "display_data"
    }
   ],
   "source": [
    "#logCV_ISI\n",
    "Shaded <- data %>% filter(Temperature=='Human')\n",
    "datac0 <- summarySE(Shaded, measurevar=\"lCV\", groupvars=c(\"GameSpeed\",\"GameNb\",\"Agent\"))\n",
    "Tra1 <- data %>% filter(Temperature=='no')\n",
    "datac_c1 <- summarySE(Tra1, measurevar=\"lCV\", groupvars=c(\"GameSpeed\",\"GameNb\"))\n",
    "Tra2 <- data %>% filter(Temperature=='yes')\n",
    "datac_c2 <- summarySE(Tra2, measurevar=\"lCV\", groupvars=c(\"GameSpeed\",\"GameNb\"))\n",
    "rmseLCV <- format(round(All_rmses$logCV, 2), nsmall = 2)\n",
    "rmseLCV2 <- format(round(All_rmses_M2$logCV, 2), nsmall = 2)\n",
    "\n",
    "p0 <- ggplot(datac0) +  geom_line(aes(x=GameNb, y=lCV,color=Agent)) + geom_ribbon(aes(x=GameNb, ymin=lCV-sd, ymax=lCV+sd, fill=\"Human SD\")) +\n",
    "     theme_classic() +\n",
    "      ggtitle(\"Shot Timing Variability\") +\n",
    "      theme(plot.title = element_text(size=28,hjust=0.5,face =\"bold\"),\n",
    "           axis.text = element_text(size = 24),\n",
    "           strip.text = element_text(size = 30,face =\"bold\",color='black'),\n",
    "           axis.title = element_text( size = 24 ),\n",
    "           legend.text = element_text( size = 28),\n",
    "           legend.title = element_text( size = 28),\n",
    "           legend.position = 'none',\n",
    "           aspect.ratio=ar\n",
    "          ) +\n",
    "     geom_vline(xintercept=c(5.5,10.5),linetype=\"dashed\",lwd=0.6) +\n",
    "         guides(color = guide_legend(override.aes = list(size=1.5))) +\n",
    "         scale_fill_manual(values = alpha(c(\"mediumpurple4\"), .3), name = \"Variation\") + \n",
    "         scale_color_manual(values = c(\"mediumpurple3\",\"blue\",\"green3\"), name = \"Agent means\") +\n",
    "     scale_x_continuous(name=\"Game Number\", breaks=seq(0,15,5)) +\n",
    "     scale_y_continuous(name=\"log CV ISI\", limits=c(-3.0,1.5))\n",
    "p0 <- p0+ geom_line(data = datac_c1, aes(x=GameNb, y=lCV,color=\"Model (2 Temp.)\")) +\n",
    "      geom_line(data = datac_c2, aes(x=GameNb, y=lCV,color=\"Model (1 Temp.)\")) \n",
    "h5 <- p0+facet_wrap(~ GameSpeed, labeller = labeller(GameSpeed = NewLabs), nrow = 1)\n",
    "h5\n",
    "pathFig <- '../Figures/lCV_temperature.png'\n",
    "ggsave(pathFig,h5,width=20,height=15)"
   ]
  },
  {
   "cell_type": "code",
   "execution_count": 39,
   "metadata": {},
   "outputs": [],
   "source": [
    "toSave2 <- ggarrange(h2,h3,h5,h4, ncol=2, nrow=2, common.legend = TRUE, legend=\"right\")\n",
    "ggsave(\"../Figures/Fig6_II.tiff\",toSave2,width=24,height=9,dpi=1200)"
   ]
  },
  {
   "cell_type": "code",
   "execution_count": 40,
   "metadata": {},
   "outputs": [],
   "source": [
    "ggsave(\"../Figures/Fig6_FULL.tiff\",multiplot(toSave,toSave2, cols=1),width=24,height=18,dpi=1000)"
   ]
  },
  {
   "cell_type": "code",
   "execution_count": null,
   "metadata": {},
   "outputs": [],
   "source": []
  },
  {
   "cell_type": "code",
   "execution_count": null,
   "metadata": {},
   "outputs": [],
   "source": []
  },
  {
   "cell_type": "code",
   "execution_count": null,
   "metadata": {},
   "outputs": [],
   "source": []
  },
  {
   "cell_type": "code",
   "execution_count": null,
   "metadata": {},
   "outputs": [],
   "source": []
  },
  {
   "cell_type": "code",
   "execution_count": null,
   "metadata": {},
   "outputs": [],
   "source": []
  }
 ],
 "metadata": {
  "kernelspec": {
   "display_name": "R",
   "language": "R",
   "name": "ir"
  },
  "language_info": {
   "codemirror_mode": "r",
   "file_extension": ".r",
   "mimetype": "text/x-r-source",
   "name": "R",
   "pygments_lexer": "r",
   "version": "3.6.1"
  }
 },
 "nbformat": 4,
 "nbformat_minor": 2
}
