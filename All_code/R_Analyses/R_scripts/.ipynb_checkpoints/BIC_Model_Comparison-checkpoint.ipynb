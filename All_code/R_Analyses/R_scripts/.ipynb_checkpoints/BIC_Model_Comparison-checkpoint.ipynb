{
 "cells": [
  {
   "cell_type": "code",
   "execution_count": 1,
   "metadata": {},
   "outputs": [
    {
     "name": "stderr",
     "output_type": "stream",
     "text": [
      "Loading required package: Matrix\n",
      "\n",
      "\n",
      "Attaching package: ‘dplyr’\n",
      "\n",
      "\n",
      "The following objects are masked from ‘package:stats’:\n",
      "\n",
      "    filter, lag\n",
      "\n",
      "\n",
      "The following objects are masked from ‘package:base’:\n",
      "\n",
      "    intersect, setdiff, setequal, union\n",
      "\n",
      "\n",
      "\n",
      "Attaching package: ‘MASS’\n",
      "\n",
      "\n",
      "The following object is masked from ‘package:dplyr’:\n",
      "\n",
      "    select\n",
      "\n",
      "\n",
      "Loading required package: coda\n",
      "\n",
      "************\n",
      "Welcome to BayesFactor 0.9.12-4.2. If you have questions, please contact Richard Morey (richarddmorey@gmail.com).\n",
      "\n",
      "Type BFManual() to open the manual.\n",
      "************\n",
      "\n",
      "Loading required package: carData\n",
      "\n",
      "Registered S3 methods overwritten by 'car':\n",
      "  method                          from\n",
      "  influence.merMod                lme4\n",
      "  cooks.distance.influence.merMod lme4\n",
      "  dfbeta.influence.merMod         lme4\n",
      "  dfbetas.influence.merMod        lme4\n",
      "\n",
      "\n",
      "Attaching package: ‘car’\n",
      "\n",
      "\n",
      "The following object is masked from ‘package:dplyr’:\n",
      "\n",
      "    recode\n",
      "\n",
      "\n",
      "\n",
      "Attaching package: ‘lmerTest’\n",
      "\n",
      "\n",
      "The following object is masked from ‘package:lme4’:\n",
      "\n",
      "    lmer\n",
      "\n",
      "\n",
      "The following object is masked from ‘package:stats’:\n",
      "\n",
      "    step\n",
      "\n",
      "\n",
      "------------------------------------------------------------------------------\n",
      "\n",
      "You have loaded plyr after dplyr - this is likely to cause problems.\n",
      "If you need functions from both plyr and dplyr, please load plyr first, then dplyr:\n",
      "library(plyr); library(dplyr)\n",
      "\n",
      "------------------------------------------------------------------------------\n",
      "\n",
      "\n",
      "Attaching package: ‘plyr’\n",
      "\n",
      "\n",
      "The following objects are masked from ‘package:dplyr’:\n",
      "\n",
      "    arrange, count, desc, failwith, id, mutate, rename, summarise,\n",
      "    summarize\n",
      "\n",
      "\n",
      "\n",
      "Attaching package: ‘rstatix’\n",
      "\n",
      "\n",
      "The following objects are masked from ‘package:plyr’:\n",
      "\n",
      "    desc, mutate\n",
      "\n",
      "\n",
      "The following object is masked from ‘package:MASS’:\n",
      "\n",
      "    select\n",
      "\n",
      "\n",
      "The following object is masked from ‘package:stats’:\n",
      "\n",
      "    filter\n",
      "\n",
      "\n",
      "\n",
      "Attaching package: ‘ggpubr’\n",
      "\n",
      "\n",
      "The following object is masked from ‘package:plyr’:\n",
      "\n",
      "    mutate\n",
      "\n",
      "\n",
      "corrplot 0.84 loaded\n",
      "\n"
     ]
    }
   ],
   "source": [
    "library(\"lme4\")\n",
    "library(\"ggplot2\")\n",
    "library(\"dplyr\")\n",
    "library(MASS)\n",
    "library(\"BayesFactor\")\n",
    "library(\"car\")\n",
    "library(\"scales\")\n",
    "library(\"lmerTest\")\n",
    "library(\"MuMIn\")\n",
    "library(\"plyr\")\n",
    "library(\"rstatix\")\n",
    "library(\"ggpubr\")\n",
    "library(\"knitr\")\n",
    "library(\"corrplot\")\n",
    "library(\"RColorBrewer\")"
   ]
  },
  {
   "cell_type": "code",
   "execution_count": 3,
   "metadata": {},
   "outputs": [
    {
     "data": {
      "text/html": [
       "1200"
      ],
      "text/latex": [
       "1200"
      ],
      "text/markdown": [
       "1200"
      ],
      "text/plain": [
       "[1] 1200"
      ]
     },
     "metadata": {},
     "output_type": "display_data"
    }
   ],
   "source": [
    "#Load the data => Here, we are filtering the cases in which subjects had a MuIFI of 0\n",
    "FinalPath<-'../ToInput/R_HumanMod_MS17.txt'\n",
    "data <- read.delim(FinalPath, sep=\"\\t\", header=T, stringsAsFactors=F)\n",
    "Human_N <- nrow(data %>% filter(NewTracker==\"Human\"))\n",
    "Human_N\n",
    "No_N <- nrow(data %>% filter(NewTracker==\"no\"))\n",
    "Yes_N <- nrow(data %>% filter(NewTracker==\"yes\"))\n",
    "data <- data %>% filter(!Amplitude==0)\n",
    "data$lCV <- log(data$CV)"
   ]
  },
  {
   "cell_type": "code",
   "execution_count": 4,
   "metadata": {},
   "outputs": [
    {
     "data": {
      "text/plain": [
       "       \n",
       "         MMM  MSM  SMS  SSS\n",
       "  Human  273  286  282  273\n",
       "  no    1500 1129 1484 1486\n",
       "  yes   1499 1491 1498 1496"
      ]
     },
     "metadata": {},
     "output_type": "display_data"
    }
   ],
   "source": [
    "table(data$NewTracker, data$GameSpeed)"
   ]
  },
  {
   "cell_type": "code",
   "execution_count": 5,
   "metadata": {},
   "outputs": [],
   "source": [
    "## Gives count, mean, standard deviation, standard error of the mean, and confidence interval (default 95%).\n",
    "##   data: a data frame.\n",
    "##   measurevar: the name of a column that contains the variable to be summariezed\n",
    "##   groupvars: a vector containing names of columns that contain grouping variables\n",
    "##   na.rm: a boolean that indicates whether to ignore NA's\n",
    "##   conf.interval: the percent range of the confidence interval (default is 95%)\n",
    "summarySE <- function(data=NULL, measurevar, groupvars=NULL, na.rm=FALSE,\n",
    "                      conf.interval=.95, .drop=TRUE) {\n",
    "    library(plyr)\n",
    "\n",
    "    # New version of length which can handle NA's: if na.rm==T, don't count them\n",
    "    length2 <- function (x, na.rm=FALSE) {\n",
    "        if (na.rm) sum(!is.na(x))\n",
    "        else       length(x)\n",
    "    }\n",
    "\n",
    "    # This does the summary. For each group's data frame, return a vector with\n",
    "    # N, mean, and sd\n",
    "    datac <- ddply(data, groupvars, .drop=.drop,\n",
    "      .fun = function(xx, col) {\n",
    "        c(N    = length2(xx[[col]], na.rm=na.rm),\n",
    "          mean = mean   (xx[[col]], na.rm=na.rm),\n",
    "          sd   = sd     (xx[[col]], na.rm=na.rm)\n",
    "        )\n",
    "      },\n",
    "      measurevar\n",
    "    )\n",
    "\n",
    "    # Rename the \"mean\" column    \n",
    "    datac <- rename(datac, c(\"mean\" = measurevar))\n",
    "\n",
    "    datac$se <- datac$sd / sqrt(datac$N)  # Calculate standard error of the mean\n",
    "\n",
    "    # Confidence interval multiplier for standard error\n",
    "    # Calculate t-statistic for confidence interval: \n",
    "    # e.g., if conf.interval is .95, use .975 (above/below), and use df=N-1\n",
    "    ciMult <- qt(conf.interval/2 + .5, datac$N-1)\n",
    "    datac$ci <- datac$se * ciMult\n",
    "\n",
    "    return(datac)\n",
    "}"
   ]
  },
  {
   "cell_type": "code",
   "execution_count": 6,
   "metadata": {},
   "outputs": [],
   "source": [
    "# Multiple plot function\n",
    "#\n",
    "# ggplot objects can be passed in ..., or to plotlist (as a list of ggplot objects)\n",
    "# - cols:   Number of columns in layout\n",
    "# - layout: A matrix specifying the layout. If present, 'cols' is ignored.\n",
    "#\n",
    "# If the layout is something like matrix(c(1,2,3,3), nrow=2, byrow=TRUE),\n",
    "# then plot 1 will go in the upper left, 2 will go in the upper right, and\n",
    "# 3 will go all the way across the bottom.\n",
    "#\n",
    "multiplot <- function(..., plotlist=NULL, file, cols=1, layout=NULL) {\n",
    "  library(grid)\n",
    "\n",
    "  # Make a list from the ... arguments and plotlist\n",
    "  plots <- c(list(...), plotlist)\n",
    "\n",
    "  numPlots = length(plots)\n",
    "\n",
    "  # If layout is NULL, then use 'cols' to determine layout\n",
    "  if (is.null(layout)) {\n",
    "    # Make the panel\n",
    "    # ncol: Number of columns of plots\n",
    "    # nrow: Number of rows needed, calculated from # of cols\n",
    "    layout <- matrix(seq(1, cols * ceiling(numPlots/cols)),\n",
    "                    ncol = cols, nrow = ceiling(numPlots/cols))\n",
    "  }\n",
    "\n",
    " if (numPlots==1) {\n",
    "    print(plots[[1]])\n",
    "\n",
    "  } else {\n",
    "    # Set up the page\n",
    "    grid.newpage()\n",
    "    pushViewport(viewport(layout = grid.layout(nrow(layout), ncol(layout))))\n",
    "\n",
    "    # Make each plot, in the correct location\n",
    "    for (i in 1:numPlots) {\n",
    "      # Get the i,j matrix positions of the regions that contain this subplot\n",
    "      matchidx <- as.data.frame(which(layout == i, arr.ind = TRUE))\n",
    "\n",
    "      print(plots[[i]], vp = viewport(layout.pos.row = matchidx$row,\n",
    "                                      layout.pos.col = matchidx$col))\n",
    "    }\n",
    "  }\n",
    "}"
   ]
  },
  {
   "cell_type": "markdown",
   "metadata": {},
   "source": [
    "# Compute RMSE"
   ]
  },
  {
   "cell_type": "code",
   "execution_count": 7,
   "metadata": {},
   "outputs": [],
   "source": [
    "#RMSE function definition\n",
    "RMSE = function(mod, obs){\n",
    "  sqrt(mean((mod - obs)^2))\n",
    "}\n",
    "\n",
    "RSS = function(mod,obs){\n",
    "    sum((mod - obs)^2)\n",
    "}\n",
    "\n",
    "BIC = function(RSS,n,k){\n",
    "    n*log(RSS/n)+k*log(n)\n",
    "}\n",
    "\n",
    "#Filtered data set\n",
    "filt_data <- data %>% filter(!NewTracker=='no')"
   ]
  },
  {
   "cell_type": "code",
   "execution_count": 14,
   "metadata": {},
   "outputs": [
    {
     "data": {
      "text/html": [
       "303.9498302321"
      ],
      "text/latex": [
       "303.9498302321"
      ],
      "text/markdown": [
       "303.9498302321"
      ],
      "text/plain": [
       "[1] 303.9498"
      ]
     },
     "metadata": {},
     "output_type": "display_data"
    },
    {
     "data": {
      "text/html": [
       "5543129.95788734"
      ],
      "text/latex": [
       "5543129.95788734"
      ],
      "text/markdown": [
       "5543129.95788734"
      ],
      "text/plain": [
       "[1] 5543130"
      ]
     },
     "metadata": {},
     "output_type": "display_data"
    }
   ],
   "source": [
    "#1) Performance results\n",
    "muTab<-aggregate(filt_data$Points, by=list(filt_data$Agent,filt_data$GameSpeed,filt_data$GameNb), FUN=mean)\n",
    "colnames(muTab)<-c(\"Agent\",\"GameSpeed\",\"GameNb\",\"Value\")\n",
    "H_Mat <- matrix(, nrow = 15, ncol = 4)\n",
    "for (i in 1:15)\n",
    "{\n",
    "    H_Mat[i,] <- muTab[which(muTab$Agent==\"Human\" & muTab$GameNb==i),]$Value\n",
    "}\n",
    "M_Mat <- matrix(, nrow = 15, ncol = 4)\n",
    "for (i in 1:15)\n",
    "{\n",
    "    M_Mat[i,] <- muTab[which(muTab$Agent==\"Model\" & muTab$GameNb==i),]$Value\n",
    "}\n",
    "colnames(H_Mat) <- c(\"MMM\",\"MSM\",\"SMS\",\"SSS\")\n",
    "rownames(H_Mat) <- 1:15\n",
    "colnames(M_Mat) <- c(\"MMM\",\"MSM\",\"SMS\",\"SSS\")\n",
    "rownames(M_Mat) <- 1:15\n",
    "\n",
    "H_vec <- c(H_Mat)\n",
    "M_vec <- c(M_Mat)\n",
    "Perf_r <- cor(H_vec,M_vec,method = \"pearson\")\n",
    "Perf_RMSE <- RMSE(M_vec,H_vec)\n",
    "Perf_RSS <- RSS(M_vec,H_vec)\n",
    "Perf_RMSE\n",
    "Perf_RSS"
   ]
  },
  {
   "cell_type": "code",
   "execution_count": 15,
   "metadata": {},
   "outputs": [
    {
     "data": {
      "text/html": [
       "0.143498052163878"
      ],
      "text/latex": [
       "0.143498052163878"
      ],
      "text/markdown": [
       "0.143498052163878"
      ],
      "text/plain": [
       "[1] 0.1434981"
      ]
     },
     "metadata": {},
     "output_type": "display_data"
    },
    {
     "data": {
      "text/html": [
       "1.23550145848963"
      ],
      "text/latex": [
       "1.23550145848963"
      ],
      "text/markdown": [
       "1.23550145848963"
      ],
      "text/plain": [
       "[1] 1.235501"
      ]
     },
     "metadata": {},
     "output_type": "display_data"
    }
   ],
   "source": [
    "#2) Entropy results\n",
    "muTab<-aggregate(filt_data$Entropy, by=list(filt_data$Agent,filt_data$GameSpeed,filt_data$GameNb), FUN=mean)\n",
    "colnames(muTab)<-c(\"Agent\",\"GameSpeed\",\"GameNb\",\"Value\")\n",
    "H_Mat <- matrix(, nrow = 15, ncol = 4)\n",
    "for (i in 1:15)\n",
    "{\n",
    "    H_Mat[i,] <- muTab[which(muTab$Agent==\"Human\" & muTab$GameNb==i),]$Value\n",
    "}\n",
    "M_Mat <- matrix(, nrow = 15, ncol = 4)\n",
    "for (i in 1:15)\n",
    "{\n",
    "    M_Mat[i,] <- muTab[which(muTab$Agent==\"Model\" & muTab$GameNb==i),]$Value\n",
    "}\n",
    "colnames(H_Mat) <- c(\"MMM\",\"MSM\",\"SMS\",\"SSS\")\n",
    "rownames(H_Mat) <- 1:15\n",
    "colnames(M_Mat) <- c(\"MMM\",\"MSM\",\"SMS\",\"SSS\")\n",
    "rownames(M_Mat) <- 1:15\n",
    "\n",
    "H_vec <- c(H_Mat)\n",
    "M_vec <- c(M_Mat)\n",
    "Ent_r <- cor(H_vec,M_vec,method = \"pearson\")\n",
    "Ent_RMSE <- RMSE(M_vec,H_vec)\n",
    "Ent_RSS <- RSS(M_vec,H_vec)\n",
    "Ent_RMSE\n",
    "Ent_RSS"
   ]
  },
  {
   "cell_type": "code",
   "execution_count": 16,
   "metadata": {},
   "outputs": [
    {
     "data": {
      "text/html": [
       "0.374672774614235"
      ],
      "text/latex": [
       "0.374672774614235"
      ],
      "text/markdown": [
       "0.374672774614235"
      ],
      "text/plain": [
       "[1] 0.3746728"
      ]
     },
     "metadata": {},
     "output_type": "display_data"
    },
    {
     "data": {
      "text/html": [
       "8.42278128222776"
      ],
      "text/latex": [
       "8.42278128222776"
      ],
      "text/markdown": [
       "8.42278128222776"
      ],
      "text/plain": [
       "[1] 8.422781"
      ]
     },
     "metadata": {},
     "output_type": "display_data"
    }
   ],
   "source": [
    "#3) Log CV ISI results\n",
    "muTab<-aggregate(filt_data$lCV, by=list(filt_data$Agent,filt_data$GameSpeed,filt_data$GameNb), FUN=mean)\n",
    "colnames(muTab)<-c(\"Agent\",\"GameSpeed\",\"GameNb\",\"Value\")\n",
    "H_Mat <- matrix(, nrow = 15, ncol = 4)\n",
    "for (i in 1:15)\n",
    "{\n",
    "    H_Mat[i,] <- muTab[which(muTab$Agent==\"Human\" & muTab$GameNb==i),]$Value\n",
    "}\n",
    "M_Mat <- matrix(, nrow = 15, ncol = 4)\n",
    "for (i in 1:15)\n",
    "{\n",
    "    M_Mat[i,] <- muTab[which(muTab$Agent==\"Model\" & muTab$GameNb==i),]$Value\n",
    "}\n",
    "colnames(H_Mat) <- c(\"MMM\",\"MSM\",\"SMS\",\"SSS\")\n",
    "rownames(H_Mat) <- 1:15\n",
    "colnames(M_Mat) <- c(\"MMM\",\"MSM\",\"SMS\",\"SSS\")\n",
    "rownames(M_Mat) <- 1:15\n",
    "\n",
    "H_vec <- c(H_Mat)\n",
    "M_vec <- c(M_Mat)\n",
    "lcv_r <- cor(H_vec,M_vec,method = \"pearson\")\n",
    "lcv_RMSE <- RMSE(M_vec,H_vec)\n",
    "lcv_RSS <- RSS(M_vec,H_vec)\n",
    "lcv_RMSE\n",
    "lcv_RSS"
   ]
  },
  {
   "cell_type": "code",
   "execution_count": 17,
   "metadata": {},
   "outputs": [
    {
     "data": {
      "text/html": [
       "66.1670385865415"
      ],
      "text/latex": [
       "66.1670385865415"
      ],
      "text/markdown": [
       "66.1670385865415"
      ],
      "text/plain": [
       "[1] 66.16704"
      ]
     },
     "metadata": {},
     "output_type": "display_data"
    },
    {
     "data": {
      "text/html": [
       "262684.619718773"
      ],
      "text/latex": [
       "262684.619718773"
      ],
      "text/markdown": [
       "262684.619718773"
      ],
      "text/plain": [
       "[1] 262684.6"
      ]
     },
     "metadata": {},
     "output_type": "display_data"
    }
   ],
   "source": [
    "#4) Periodicity results\n",
    "muTab<-aggregate(filt_data$Periodicity, by=list(filt_data$Agent,filt_data$GameSpeed,filt_data$GameNb), FUN=mean)\n",
    "colnames(muTab)<-c(\"Agent\",\"GameSpeed\",\"GameNb\",\"Value\")\n",
    "H_Mat <- matrix(, nrow = 15, ncol = 4)\n",
    "for (i in 1:15)\n",
    "{\n",
    "    H_Mat[i,] <- muTab[which(muTab$Agent==\"Human\" & muTab$GameNb==i),]$Value\n",
    "}\n",
    "M_Mat <- matrix(, nrow = 15, ncol = 4)\n",
    "for (i in 1:15)\n",
    "{\n",
    "    M_Mat[i,] <- muTab[which(muTab$Agent==\"Model\" & muTab$GameNb==i),]$Value\n",
    "}\n",
    "colnames(H_Mat) <- c(\"MMM\",\"MSM\",\"SMS\",\"SSS\")\n",
    "rownames(H_Mat) <- 1:15\n",
    "colnames(M_Mat) <- c(\"MMM\",\"MSM\",\"SMS\",\"SSS\")\n",
    "rownames(M_Mat) <- 1:15\n",
    "\n",
    "H_vec <- c(H_Mat)\n",
    "M_vec <- c(M_Mat)\n",
    "Per_r <- cor(H_vec,M_vec,method = \"pearson\")\n",
    "Per_RMSE <- RMSE(M_vec,H_vec)\n",
    "Per_RSS <- RSS(M_vec,H_vec)\n",
    "Per_RMSE\n",
    "Per_RSS"
   ]
  },
  {
   "cell_type": "code",
   "execution_count": 18,
   "metadata": {},
   "outputs": [
    {
     "data": {
      "text/html": [
       "0.0338070823224461"
      ],
      "text/latex": [
       "0.0338070823224461"
      ],
      "text/markdown": [
       "0.0338070823224461"
      ],
      "text/plain": [
       "[1] 0.03380708"
      ]
     },
     "metadata": {},
     "output_type": "display_data"
    },
    {
     "data": {
      "text/html": [
       "0.068575128909399"
      ],
      "text/latex": [
       "0.068575128909399"
      ],
      "text/markdown": [
       "0.068575128909399"
      ],
      "text/plain": [
       "[1] 0.06857513"
      ]
     },
     "metadata": {},
     "output_type": "display_data"
    }
   ],
   "source": [
    "#5) Regularity results\n",
    "muTab<-aggregate(filt_data$Amplitude, by=list(filt_data$Agent,filt_data$GameSpeed,filt_data$GameNb), FUN=mean)\n",
    "colnames(muTab)<-c(\"Agent\",\"GameSpeed\",\"GameNb\",\"Value\")\n",
    "H_Mat <- matrix(, nrow = 15, ncol = 4)\n",
    "for (i in 1:15)\n",
    "{\n",
    "    H_Mat[i,] <- muTab[which(muTab$Agent==\"Human\" & muTab$GameNb==i),]$Value\n",
    "}\n",
    "M_Mat <- matrix(, nrow = 15, ncol = 4)\n",
    "for (i in 1:15)\n",
    "{\n",
    "    M_Mat[i,] <- muTab[which(muTab$Agent==\"Model\" & muTab$GameNb==i),]$Value\n",
    "}\n",
    "colnames(H_Mat) <- c(\"MMM\",\"MSM\",\"SMS\",\"SSS\")\n",
    "rownames(H_Mat) <- 1:15\n",
    "colnames(M_Mat) <- c(\"MMM\",\"MSM\",\"SMS\",\"SSS\")\n",
    "rownames(M_Mat) <- 1:15\n",
    "\n",
    "H_vec <- c(H_Mat)\n",
    "M_vec <- c(M_Mat)\n",
    "Reg_r <- cor(H_vec,M_vec,method = \"pearson\")\n",
    "Reg_RMSE <- RMSE(M_vec,H_vec)\n",
    "Reg_RSS <- RSS(M_vec,H_vec)\n",
    "Reg_RMSE\n",
    "Reg_RSS"
   ]
  },
  {
   "cell_type": "code",
   "execution_count": 19,
   "metadata": {},
   "outputs": [
    {
     "data": {
      "text/html": [
       "4.72835223833357"
      ],
      "text/latex": [
       "4.72835223833357"
      ],
      "text/markdown": [
       "4.72835223833357"
      ],
      "text/plain": [
       "[1] 4.728352"
      ]
     },
     "metadata": {},
     "output_type": "display_data"
    },
    {
     "data": {
      "text/html": [
       "1341.43889338525"
      ],
      "text/latex": [
       "1341.43889338525"
      ],
      "text/markdown": [
       "1341.43889338525"
      ],
      "text/plain": [
       "[1] 1341.439"
      ]
     },
     "metadata": {},
     "output_type": "display_data"
    }
   ],
   "source": [
    "#6) Resets results\n",
    "muTab<-aggregate(filt_data$Resets, by=list(filt_data$Agent,filt_data$GameSpeed,filt_data$GameNb), FUN=mean)\n",
    "colnames(muTab)<-c(\"Agent\",\"GameSpeed\",\"GameNb\",\"Value\")\n",
    "H_Mat <- matrix(, nrow = 15, ncol = 4)\n",
    "for (i in 1:15)\n",
    "{\n",
    "    H_Mat[i,] <- muTab[which(muTab$Agent==\"Human\" & muTab$GameNb==i),]$Value\n",
    "}\n",
    "M_Mat <- matrix(, nrow = 15, ncol = 4)\n",
    "for (i in 1:15)\n",
    "{\n",
    "    M_Mat[i,] <- muTab[which(muTab$Agent==\"Model\" & muTab$GameNb==i),]$Value\n",
    "}\n",
    "colnames(H_Mat) <- c(\"MMM\",\"MSM\",\"SMS\",\"SSS\")\n",
    "rownames(H_Mat) <- 1:15\n",
    "colnames(M_Mat) <- c(\"MMM\",\"MSM\",\"SMS\",\"SSS\")\n",
    "rownames(M_Mat) <- 1:15\n",
    "\n",
    "H_vec <- c(H_Mat)\n",
    "M_vec <- c(M_Mat)\n",
    "Res_r <- cor(H_vec,M_vec,method = \"pearson\")\n",
    "Res_RMSE <- RMSE(M_vec,H_vec)\n",
    "Res_RSS <- RSS(M_vec,H_vec)\n",
    "Res_RMSE\n",
    "Res_RSS"
   ]
  },
  {
   "cell_type": "code",
   "execution_count": 20,
   "metadata": {},
   "outputs": [
    {
     "data": {
      "text/html": [
       "3.3242214647547"
      ],
      "text/latex": [
       "3.3242214647547"
      ],
      "text/markdown": [
       "3.3242214647547"
      ],
      "text/plain": [
       "[1] 3.324221"
      ]
     },
     "metadata": {},
     "output_type": "display_data"
    },
    {
     "data": {
      "text/html": [
       "663.026900804152"
      ],
      "text/latex": [
       "663.026900804152"
      ],
      "text/markdown": [
       "663.026900804152"
      ],
      "text/plain": [
       "[1] 663.0269"
      ]
     },
     "metadata": {},
     "output_type": "display_data"
    }
   ],
   "source": [
    "#7) Deflations results\n",
    "muTab<-aggregate(filt_data$Deflations, by=list(filt_data$Agent,filt_data$GameSpeed,filt_data$GameNb), FUN=mean)\n",
    "colnames(muTab)<-c(\"Agent\",\"GameSpeed\",\"GameNb\",\"Value\")\n",
    "H_Mat <- matrix(, nrow = 15, ncol = 4)\n",
    "for (i in 1:15)\n",
    "{\n",
    "    H_Mat[i,] <- muTab[which(muTab$Agent==\"Human\" & muTab$GameNb==i),]$Value\n",
    "}\n",
    "M_Mat <- matrix(, nrow = 15, ncol = 4)\n",
    "for (i in 1:15)\n",
    "{\n",
    "    M_Mat[i,] <- muTab[which(muTab$Agent==\"Model\" & muTab$GameNb==i),]$Value\n",
    "}\n",
    "colnames(H_Mat) <- c(\"MMM\",\"MSM\",\"SMS\",\"SSS\")\n",
    "rownames(H_Mat) <- 1:15\n",
    "colnames(M_Mat) <- c(\"MMM\",\"MSM\",\"SMS\",\"SSS\")\n",
    "rownames(M_Mat) <- 1:15\n",
    "\n",
    "H_vec <- c(H_Mat)\n",
    "M_vec <- c(M_Mat)\n",
    "Def_r <- cor(H_vec,M_vec,method = \"pearson\")\n",
    "Def_RMSE <- RMSE(M_vec,H_vec)\n",
    "Def_RSS <- RSS(M_vec,H_vec)\n",
    "Def_RMSE\n",
    "Def_RSS"
   ]
  },
  {
   "cell_type": "code",
   "execution_count": 15,
   "metadata": {},
   "outputs": [
    {
     "name": "stdout",
     "output_type": "stream",
     "text": [
      "[1] \"Table for Misses\"\n",
      "[1] \"Overall correlation & RMSE\"\n"
     ]
    },
    {
     "data": {
      "text/html": [
       "0.705497384054236"
      ],
      "text/latex": [
       "0.705497384054236"
      ],
      "text/markdown": [
       "0.705497384054236"
      ],
      "text/plain": [
       "[1] 0.7054974"
      ]
     },
     "metadata": {},
     "output_type": "display_data"
    },
    {
     "data": {
      "text/html": [
       "6.30388142552875"
      ],
      "text/latex": [
       "6.30388142552875"
      ],
      "text/markdown": [
       "6.30388142552875"
      ],
      "text/plain": [
       "[1] 6.303881"
      ]
     },
     "metadata": {},
     "output_type": "display_data"
    },
    {
     "data": {
      "text/html": [
       "2384.33526162759"
      ],
      "text/latex": [
       "2384.33526162759"
      ],
      "text/markdown": [
       "2384.33526162759"
      ],
      "text/plain": [
       "[1] 2384.335"
      ]
     },
     "metadata": {},
     "output_type": "display_data"
    }
   ],
   "source": [
    "#8) Misses results\n",
    "muTab<-aggregate(filt_data$Misses, by=list(filt_data$Agent,filt_data$GameSpeed,filt_data$GameNb), FUN=mean)\n",
    "colnames(muTab)<-c(\"Agent\",\"GameSpeed\",\"GameNb\",\"Value\")\n",
    "H_Mat <- matrix(, nrow = 15, ncol = 4)\n",
    "for (i in 1:15)\n",
    "{\n",
    "    H_Mat[i,] <- muTab[which(muTab$Agent==\"Human\" & muTab$GameNb==i),]$Value\n",
    "}\n",
    "M_Mat <- matrix(, nrow = 15, ncol = 4)\n",
    "for (i in 1:15)\n",
    "{\n",
    "    M_Mat[i,] <- muTab[which(muTab$Agent==\"Model\" & muTab$GameNb==i),]$Value\n",
    "}\n",
    "colnames(H_Mat) <- c(\"MMM\",\"MSM\",\"SMS\",\"SSS\")\n",
    "rownames(H_Mat) <- 1:15\n",
    "colnames(M_Mat) <- c(\"MMM\",\"MSM\",\"SMS\",\"SSS\")\n",
    "rownames(M_Mat) <- 1:15\n",
    "\n",
    "H_vec <- c(H_Mat)\n",
    "M_vec <- c(M_Mat)\n",
    "Mis_r <- cor(H_vec,M_vec,method = \"pearson\")\n",
    "Mis_RMSE <- RMSE(M_vec,H_vec)\n",
    "Mis_RSS <- RSS(M_vec,H_vec)\n",
    "Mis_RMSE\n",
    "Mis_RSS"
   ]
  },
  {
   "cell_type": "code",
   "execution_count": 16,
   "metadata": {},
   "outputs": [
    {
     "data": {
      "text/html": [
       "686.02351867868"
      ],
      "text/latex": [
       "686.02351867868"
      ],
      "text/markdown": [
       "686.02351867868"
      ],
      "text/plain": [
       "[1] 686.0235"
      ]
     },
     "metadata": {},
     "output_type": "display_data"
    },
    {
     "data": {
      "text/html": [
       "-232.972058117456"
      ],
      "text/latex": [
       "-232.972058117456"
      ],
      "text/markdown": [
       "-232.972058117456"
      ],
      "text/plain": [
       "[1] -232.9721"
      ]
     },
     "metadata": {},
     "output_type": "display_data"
    },
    {
     "data": {
      "text/html": [
       "-117.8042681974"
      ],
      "text/latex": [
       "-117.8042681974"
      ],
      "text/markdown": [
       "-117.8042681974"
      ],
      "text/plain": [
       "[1] -117.8043"
      ]
     },
     "metadata": {},
     "output_type": "display_data"
    },
    {
     "data": {
      "text/html": [
       "503.061891887835"
      ],
      "text/latex": [
       "503.061891887835"
      ],
      "text/markdown": [
       "503.061891887835"
      ],
      "text/plain": [
       "[1] 503.0619"
      ]
     },
     "metadata": {},
     "output_type": "display_data"
    },
    {
     "data": {
      "text/html": [
       "-406.450195473091"
      ],
      "text/latex": [
       "-406.450195473091"
      ],
      "text/markdown": [
       "-406.450195473091"
      ],
      "text/plain": [
       "[1] -406.4502"
      ]
     },
     "metadata": {},
     "output_type": "display_data"
    },
    {
     "data": {
      "text/html": [
       "186.42921333868"
      ],
      "text/latex": [
       "186.42921333868"
      ],
      "text/markdown": [
       "186.42921333868"
      ],
      "text/plain": [
       "[1] 186.4292"
      ]
     },
     "metadata": {},
     "output_type": "display_data"
    },
    {
     "data": {
      "text/html": [
       "144.148260090353"
      ],
      "text/latex": [
       "144.148260090353"
      ],
      "text/markdown": [
       "144.148260090353"
      ],
      "text/plain": [
       "[1] 144.1483"
      ]
     },
     "metadata": {},
     "output_type": "display_data"
    },
    {
     "data": {
      "text/html": [
       "220.939865157182"
      ],
      "text/latex": [
       "220.939865157182"
      ],
      "text/markdown": [
       "220.939865157182"
      ],
      "text/plain": [
       "[1] 220.9399"
      ]
     },
     "metadata": {},
     "output_type": "display_data"
    }
   ],
   "source": [
    "#BIC measure\n",
    "n=60\n",
    "k=0\n",
    "Points_BIC <- BIC(Perf_RSS,n,k)\n",
    "Points_BIC\n",
    "Ent_BIC <- BIC(Ent_RSS,n,k)\n",
    "Ent_BIC\n",
    "lCV_BIC <- BIC(lcv_RSS,n,k)\n",
    "lCV_BIC\n",
    "Per_BIC <- BIC(Per_RSS,n,k)\n",
    "Per_BIC\n",
    "Reg_BIC <- BIC(Reg_RSS,n,k)\n",
    "Reg_BIC\n",
    "Res_BIC <- BIC(Res_RSS,n,k)\n",
    "Res_BIC\n",
    "Def_BIC <- BIC(Def_RSS,n,k)\n",
    "Def_BIC\n",
    "Mis_BIC <- BIC(Mis_RSS,n,k)\n",
    "Mis_BIC"
   ]
  },
  {
   "cell_type": "markdown",
   "metadata": {},
   "source": [
    "# Alternative r and RMSE"
   ]
  },
  {
   "cell_type": "code",
   "execution_count": 17,
   "metadata": {},
   "outputs": [],
   "source": [
    "#RMSE function definition\n",
    "RMSE = function(mod, obs){\n",
    "  sqrt(mean((mod - obs)^2))\n",
    "}\n",
    "\n",
    "#Filtered data set\n",
    "filt_data2 <- data %>% filter(!NewTracker=='yes')"
   ]
  },
  {
   "cell_type": "code",
   "execution_count": 18,
   "metadata": {},
   "outputs": [
    {
     "name": "stdout",
     "output_type": "stream",
     "text": [
      "[1] \"Table for Points\"\n",
      "[1] \"Overall correlation & RMSE\"\n"
     ]
    },
    {
     "data": {
      "text/html": [
       "0.507467851407536"
      ],
      "text/latex": [
       "0.507467851407536"
      ],
      "text/markdown": [
       "0.507467851407536"
      ],
      "text/plain": [
       "[1] 0.5074679"
      ]
     },
     "metadata": {},
     "output_type": "display_data"
    },
    {
     "data": {
      "text/html": [
       "478.640578624483"
      ],
      "text/latex": [
       "478.640578624483"
      ],
      "text/markdown": [
       "478.640578624483"
      ],
      "text/plain": [
       "[1] 478.6406"
      ]
     },
     "metadata": {},
     "output_type": "display_data"
    },
    {
     "data": {
      "text/html": [
       "13745808.2103588"
      ],
      "text/latex": [
       "13745808.2103588"
      ],
      "text/markdown": [
       "13745808.2103588"
      ],
      "text/plain": [
       "[1] 13745808"
      ]
     },
     "metadata": {},
     "output_type": "display_data"
    }
   ],
   "source": [
    "#1) Performance results\n",
    "muTab<-aggregate(filt_data2$Points, by=list(filt_data2$Agent,filt_data2$GameSpeed,filt_data2$GameNb), FUN=mean)\n",
    "print(\"Table for Points\")\n",
    "colnames(muTab)<-c(\"Agent\",\"GameSpeed\",\"GameNb\",\"Value\")\n",
    "H_Mat <- matrix(, nrow = 15, ncol = 4)\n",
    "for (i in 1:15)\n",
    "{\n",
    "    H_Mat[i,] <- muTab[which(muTab$Agent==\"Human\" & muTab$GameNb==i),]$Value\n",
    "}\n",
    "M_Mat <- matrix(, nrow = 15, ncol = 4)\n",
    "for (i in 1:15)\n",
    "{\n",
    "    M_Mat[i,] <- muTab[which(muTab$Agent==\"Model\" & muTab$GameNb==i),]$Value\n",
    "}\n",
    "colnames(H_Mat) <- c(\"MMM\",\"MSM\",\"SMS\",\"SSS\")\n",
    "rownames(H_Mat) <- 1:15\n",
    "colnames(M_Mat) <- c(\"MMM\",\"MSM\",\"SMS\",\"SSS\")\n",
    "rownames(M_Mat) <- 1:15\n",
    "\n",
    "H_vec <- c(H_Mat)\n",
    "M_vec <- c(M_Mat)\n",
    "Perf_r <- cor(H_vec,M_vec,method = \"pearson\")\n",
    "Perf_RMSE <- RMSE(M_vec,H_vec)\n",
    "Perf_RSS <- RSS(M_vec,H_vec)\n",
    "print(\"Overall correlation & RMSE\")\n",
    "Perf_r\n",
    "Perf_RMSE\n",
    "Perf_RSS"
   ]
  },
  {
   "cell_type": "code",
   "execution_count": 19,
   "metadata": {},
   "outputs": [
    {
     "name": "stdout",
     "output_type": "stream",
     "text": [
      "[1] \"Table for Entropy\"\n",
      "[1] \"Overall correlation & RMSE\"\n"
     ]
    },
    {
     "data": {
      "text/html": [
       "0.460956486196548"
      ],
      "text/latex": [
       "0.460956486196548"
      ],
      "text/markdown": [
       "0.460956486196548"
      ],
      "text/plain": [
       "[1] 0.4609565"
      ]
     },
     "metadata": {},
     "output_type": "display_data"
    },
    {
     "data": {
      "text/html": [
       "0.209374764817621"
      ],
      "text/latex": [
       "0.209374764817621"
      ],
      "text/markdown": [
       "0.209374764817621"
      ],
      "text/plain": [
       "[1] 0.2093748"
      ]
     },
     "metadata": {},
     "output_type": "display_data"
    },
    {
     "data": {
      "text/html": [
       "2.63026752854605"
      ],
      "text/latex": [
       "2.63026752854605"
      ],
      "text/markdown": [
       "2.63026752854605"
      ],
      "text/plain": [
       "[1] 2.630268"
      ]
     },
     "metadata": {},
     "output_type": "display_data"
    }
   ],
   "source": [
    "#2) Entropy results\n",
    "muTab<-aggregate(filt_data2$Entropy, by=list(filt_data2$Agent,filt_data2$GameSpeed,filt_data2$GameNb), FUN=mean)\n",
    "print(\"Table for Entropy\")\n",
    "colnames(muTab)<-c(\"Agent\",\"GameSpeed\",\"GameNb\",\"Value\")\n",
    "H_Mat <- matrix(, nrow = 15, ncol = 4)\n",
    "for (i in 1:15)\n",
    "{\n",
    "    H_Mat[i,] <- muTab[which(muTab$Agent==\"Human\" & muTab$GameNb==i),]$Value\n",
    "}\n",
    "M_Mat <- matrix(, nrow = 15, ncol = 4)\n",
    "for (i in 1:15)\n",
    "{\n",
    "    M_Mat[i,] <- muTab[which(muTab$Agent==\"Model\" & muTab$GameNb==i),]$Value\n",
    "}\n",
    "colnames(H_Mat) <- c(\"MMM\",\"MSM\",\"SMS\",\"SSS\")\n",
    "rownames(H_Mat) <- 1:15\n",
    "colnames(M_Mat) <- c(\"MMM\",\"MSM\",\"SMS\",\"SSS\")\n",
    "rownames(M_Mat) <- 1:15\n",
    "\n",
    "H_vec <- c(H_Mat)\n",
    "M_vec <- c(M_Mat)\n",
    "Ent_r <- cor(H_vec,M_vec,method = \"pearson\")\n",
    "Ent_RMSE <- RMSE(M_vec,H_vec)\n",
    "Ent_RSS <- RSS(M_vec,H_vec)\n",
    "print(\"Overall correlation & RMSE\")\n",
    "Ent_r\n",
    "Ent_RMSE\n",
    "Ent_RSS"
   ]
  },
  {
   "cell_type": "code",
   "execution_count": 20,
   "metadata": {},
   "outputs": [
    {
     "name": "stdout",
     "output_type": "stream",
     "text": [
      "[1] \"Table for log CV ISI\"\n",
      "[1] \"Overall correlation & RMSE\"\n"
     ]
    },
    {
     "data": {
      "text/html": [
       "0.712340565956763"
      ],
      "text/latex": [
       "0.712340565956763"
      ],
      "text/markdown": [
       "0.712340565956763"
      ],
      "text/plain": [
       "[1] 0.7123406"
      ]
     },
     "metadata": {},
     "output_type": "display_data"
    },
    {
     "data": {
      "text/html": [
       "0.401958346522931"
      ],
      "text/latex": [
       "0.401958346522931"
      ],
      "text/markdown": [
       "0.401958346522931"
      ],
      "text/plain": [
       "[1] 0.4019583"
      ]
     },
     "metadata": {},
     "output_type": "display_data"
    },
    {
     "data": {
      "text/html": [
       "9.69423074036694"
      ],
      "text/latex": [
       "9.69423074036694"
      ],
      "text/markdown": [
       "9.69423074036694"
      ],
      "text/plain": [
       "[1] 9.694231"
      ]
     },
     "metadata": {},
     "output_type": "display_data"
    }
   ],
   "source": [
    "#3) Log CV ISI results\n",
    "muTab<-aggregate(filt_data2$lCV, by=list(filt_data2$Agent,filt_data2$GameSpeed,filt_data2$GameNb), FUN=mean)\n",
    "print(\"Table for log CV ISI\")\n",
    "colnames(muTab)<-c(\"Agent\",\"GameSpeed\",\"GameNb\",\"Value\")\n",
    "H_Mat <- matrix(, nrow = 15, ncol = 4)\n",
    "for (i in 1:15)\n",
    "{\n",
    "    H_Mat[i,] <- muTab[which(muTab$Agent==\"Human\" & muTab$GameNb==i),]$Value\n",
    "}\n",
    "M_Mat <- matrix(, nrow = 15, ncol = 4)\n",
    "for (i in 1:15)\n",
    "{\n",
    "    M_Mat[i,] <- muTab[which(muTab$Agent==\"Model\" & muTab$GameNb==i),]$Value\n",
    "}\n",
    "colnames(H_Mat) <- c(\"MMM\",\"MSM\",\"SMS\",\"SSS\")\n",
    "rownames(H_Mat) <- 1:15\n",
    "colnames(M_Mat) <- c(\"MMM\",\"MSM\",\"SMS\",\"SSS\")\n",
    "rownames(M_Mat) <- 1:15\n",
    "\n",
    "H_vec <- c(H_Mat)\n",
    "M_vec <- c(M_Mat)\n",
    "lcv_r <- cor(H_vec,M_vec,method = \"pearson\")\n",
    "lcv_RMSE <- RMSE(M_vec,H_vec)\n",
    "lcv_RSS <- RSS(M_vec,H_vec)\n",
    "print(\"Overall correlation & RMSE\")\n",
    "lcv_r\n",
    "lcv_RMSE\n",
    "lcv_RSS"
   ]
  },
  {
   "cell_type": "code",
   "execution_count": 21,
   "metadata": {},
   "outputs": [
    {
     "name": "stdout",
     "output_type": "stream",
     "text": [
      "[1] \"Table for Periodicity\"\n",
      "[1] \"Overall correlation & RMSE\"\n"
     ]
    },
    {
     "data": {
      "text/html": [
       "0.904150979308024"
      ],
      "text/latex": [
       "0.904150979308024"
      ],
      "text/markdown": [
       "0.904150979308024"
      ],
      "text/plain": [
       "[1] 0.904151"
      ]
     },
     "metadata": {},
     "output_type": "display_data"
    },
    {
     "data": {
      "text/html": [
       "106.872237559341"
      ],
      "text/latex": [
       "106.872237559341"
      ],
      "text/markdown": [
       "106.872237559341"
      ],
      "text/plain": [
       "[1] 106.8722"
      ]
     },
     "metadata": {},
     "output_type": "display_data"
    },
    {
     "data": {
      "text/html": [
       "685300.50965641"
      ],
      "text/latex": [
       "685300.50965641"
      ],
      "text/markdown": [
       "685300.50965641"
      ],
      "text/plain": [
       "[1] 685300.5"
      ]
     },
     "metadata": {},
     "output_type": "display_data"
    }
   ],
   "source": [
    "#4) Periodicity results\n",
    "muTab<-aggregate(filt_data2$Periodicity, by=list(filt_data2$Agent,filt_data2$GameSpeed,filt_data2$GameNb), FUN=mean)\n",
    "print(\"Table for Periodicity\")\n",
    "colnames(muTab)<-c(\"Agent\",\"GameSpeed\",\"GameNb\",\"Value\")\n",
    "H_Mat <- matrix(, nrow = 15, ncol = 4)\n",
    "for (i in 1:15)\n",
    "{\n",
    "    H_Mat[i,] <- muTab[which(muTab$Agent==\"Human\" & muTab$GameNb==i),]$Value\n",
    "}\n",
    "M_Mat <- matrix(, nrow = 15, ncol = 4)\n",
    "for (i in 1:15)\n",
    "{\n",
    "    M_Mat[i,] <- muTab[which(muTab$Agent==\"Model\" & muTab$GameNb==i),]$Value\n",
    "}\n",
    "colnames(H_Mat) <- c(\"MMM\",\"MSM\",\"SMS\",\"SSS\")\n",
    "rownames(H_Mat) <- 1:15\n",
    "colnames(M_Mat) <- c(\"MMM\",\"MSM\",\"SMS\",\"SSS\")\n",
    "rownames(M_Mat) <- 1:15\n",
    "\n",
    "H_vec <- c(H_Mat)\n",
    "M_vec <- c(M_Mat)\n",
    "Per_r <- cor(H_vec,M_vec,method = \"pearson\")\n",
    "Per_RMSE <- RMSE(M_vec,H_vec)\n",
    "Per_RSS <- RSS(M_vec,H_vec)\n",
    "print(\"Overall correlation & RMSE\")\n",
    "Per_r\n",
    "Per_RMSE\n",
    "Per_RSS"
   ]
  },
  {
   "cell_type": "code",
   "execution_count": 22,
   "metadata": {},
   "outputs": [
    {
     "name": "stdout",
     "output_type": "stream",
     "text": [
      "[1] \"Table for Regularity\"\n",
      "[1] \"Overall correlation & RMSE\"\n"
     ]
    },
    {
     "data": {
      "text/html": [
       "0.761327833674755"
      ],
      "text/latex": [
       "0.761327833674755"
      ],
      "text/markdown": [
       "0.761327833674755"
      ],
      "text/plain": [
       "[1] 0.7613278"
      ]
     },
     "metadata": {},
     "output_type": "display_data"
    },
    {
     "data": {
      "text/html": [
       "0.0528300009652763"
      ],
      "text/latex": [
       "0.0528300009652763"
      ],
      "text/markdown": [
       "0.0528300009652763"
      ],
      "text/plain": [
       "[1] 0.05283"
      ]
     },
     "metadata": {},
     "output_type": "display_data"
    },
    {
     "data": {
      "text/html": [
       "0.167460540119466"
      ],
      "text/latex": [
       "0.167460540119466"
      ],
      "text/markdown": [
       "0.167460540119466"
      ],
      "text/plain": [
       "[1] 0.1674605"
      ]
     },
     "metadata": {},
     "output_type": "display_data"
    }
   ],
   "source": [
    "#5) Regularity results\n",
    "muTab<-aggregate(filt_data2$Amplitude, by=list(filt_data2$Agent,filt_data2$GameSpeed,filt_data2$GameNb), FUN=mean)\n",
    "print(\"Table for Regularity\")\n",
    "colnames(muTab)<-c(\"Agent\",\"GameSpeed\",\"GameNb\",\"Value\")\n",
    "H_Mat <- matrix(, nrow = 15, ncol = 4)\n",
    "for (i in 1:15)\n",
    "{\n",
    "    H_Mat[i,] <- muTab[which(muTab$Agent==\"Human\" & muTab$GameNb==i),]$Value\n",
    "}\n",
    "M_Mat <- matrix(, nrow = 15, ncol = 4)\n",
    "for (i in 1:15)\n",
    "{\n",
    "    M_Mat[i,] <- muTab[which(muTab$Agent==\"Model\" & muTab$GameNb==i),]$Value\n",
    "}\n",
    "colnames(H_Mat) <- c(\"MMM\",\"MSM\",\"SMS\",\"SSS\")\n",
    "rownames(H_Mat) <- 1:15\n",
    "colnames(M_Mat) <- c(\"MMM\",\"MSM\",\"SMS\",\"SSS\")\n",
    "rownames(M_Mat) <- 1:15\n",
    "\n",
    "H_vec <- c(H_Mat)\n",
    "M_vec <- c(M_Mat)\n",
    "Reg_r <- cor(H_vec,M_vec,method = \"pearson\")\n",
    "Reg_RMSE <- RMSE(M_vec,H_vec)\n",
    "Reg_RSS <- RSS(M_vec,H_vec)\n",
    "print(\"Overall correlation & RMSE\")\n",
    "Reg_r\n",
    "Reg_RMSE\n",
    "Reg_RSS"
   ]
  },
  {
   "cell_type": "code",
   "execution_count": 23,
   "metadata": {},
   "outputs": [
    {
     "name": "stdout",
     "output_type": "stream",
     "text": [
      "[1] \"Table for Resets\"\n",
      "[1] \"Overall correlation & RMSE\"\n"
     ]
    },
    {
     "data": {
      "text/html": [
       "0.494025540444849"
      ],
      "text/latex": [
       "0.494025540444849"
      ],
      "text/markdown": [
       "0.494025540444849"
      ],
      "text/plain": [
       "[1] 0.4940255"
      ]
     },
     "metadata": {},
     "output_type": "display_data"
    },
    {
     "data": {
      "text/html": [
       "11.6313370342784"
      ],
      "text/latex": [
       "11.6313370342784"
      ],
      "text/markdown": [
       "11.6313370342784"
      ],
      "text/plain": [
       "[1] 11.63134"
      ]
     },
     "metadata": {},
     "output_type": "display_data"
    },
    {
     "data": {
      "text/html": [
       "8117.28007229859"
      ],
      "text/latex": [
       "8117.28007229859"
      ],
      "text/markdown": [
       "8117.28007229859"
      ],
      "text/plain": [
       "[1] 8117.28"
      ]
     },
     "metadata": {},
     "output_type": "display_data"
    }
   ],
   "source": [
    "#6) Resets results\n",
    "muTab<-aggregate(filt_data2$Resets, by=list(filt_data2$Agent,filt_data2$GameSpeed,filt_data2$GameNb), FUN=mean)\n",
    "print(\"Table for Resets\")\n",
    "colnames(muTab)<-c(\"Agent\",\"GameSpeed\",\"GameNb\",\"Value\")\n",
    "H_Mat <- matrix(, nrow = 15, ncol = 4)\n",
    "for (i in 1:15)\n",
    "{\n",
    "    H_Mat[i,] <- muTab[which(muTab$Agent==\"Human\" & muTab$GameNb==i),]$Value\n",
    "}\n",
    "M_Mat <- matrix(, nrow = 15, ncol = 4)\n",
    "for (i in 1:15)\n",
    "{\n",
    "    M_Mat[i,] <- muTab[which(muTab$Agent==\"Model\" & muTab$GameNb==i),]$Value\n",
    "}\n",
    "colnames(H_Mat) <- c(\"MMM\",\"MSM\",\"SMS\",\"SSS\")\n",
    "rownames(H_Mat) <- 1:15\n",
    "colnames(M_Mat) <- c(\"MMM\",\"MSM\",\"SMS\",\"SSS\")\n",
    "rownames(M_Mat) <- 1:15\n",
    "\n",
    "H_vec <- c(H_Mat)\n",
    "M_vec <- c(M_Mat)\n",
    "Res_r <- cor(H_vec,M_vec,method = \"pearson\")\n",
    "Res_RMSE <- RMSE(M_vec,H_vec)\n",
    "Res_RSS <- RSS(M_vec,H_vec)\n",
    "print(\"Overall correlation & RMSE\")\n",
    "Res_r\n",
    "Res_RMSE\n",
    "Res_RSS"
   ]
  },
  {
   "cell_type": "code",
   "execution_count": 24,
   "metadata": {},
   "outputs": [
    {
     "name": "stdout",
     "output_type": "stream",
     "text": [
      "[1] \"Table for Deflations\"\n",
      "[1] \"Overall correlation & RMSE\"\n"
     ]
    },
    {
     "data": {
      "text/html": [
       "0.529817493067162"
      ],
      "text/latex": [
       "0.529817493067162"
      ],
      "text/markdown": [
       "0.529817493067162"
      ],
      "text/plain": [
       "[1] 0.5298175"
      ]
     },
     "metadata": {},
     "output_type": "display_data"
    },
    {
     "data": {
      "text/html": [
       "8.72913752615435"
      ],
      "text/latex": [
       "8.72913752615435"
      ],
      "text/markdown": [
       "8.72913752615435"
      ],
      "text/plain": [
       "[1] 8.729138"
      ]
     },
     "metadata": {},
     "output_type": "display_data"
    },
    {
     "data": {
      "text/html": [
       "4571.87051703096"
      ],
      "text/latex": [
       "4571.87051703096"
      ],
      "text/markdown": [
       "4571.87051703096"
      ],
      "text/plain": [
       "[1] 4571.871"
      ]
     },
     "metadata": {},
     "output_type": "display_data"
    }
   ],
   "source": [
    "#7) Deflations results\n",
    "muTab<-aggregate(filt_data2$Deflations, by=list(filt_data2$Agent,filt_data2$GameSpeed,filt_data2$GameNb), FUN=mean)\n",
    "print(\"Table for Deflations\")\n",
    "colnames(muTab)<-c(\"Agent\",\"GameSpeed\",\"GameNb\",\"Value\")\n",
    "H_Mat <- matrix(, nrow = 15, ncol = 4)\n",
    "for (i in 1:15)\n",
    "{\n",
    "    H_Mat[i,] <- muTab[which(muTab$Agent==\"Human\" & muTab$GameNb==i),]$Value\n",
    "}\n",
    "M_Mat <- matrix(, nrow = 15, ncol = 4)\n",
    "for (i in 1:15)\n",
    "{\n",
    "    M_Mat[i,] <- muTab[which(muTab$Agent==\"Model\" & muTab$GameNb==i),]$Value\n",
    "}\n",
    "colnames(H_Mat) <- c(\"MMM\",\"MSM\",\"SMS\",\"SSS\")\n",
    "rownames(H_Mat) <- 1:15\n",
    "colnames(M_Mat) <- c(\"MMM\",\"MSM\",\"SMS\",\"SSS\")\n",
    "rownames(M_Mat) <- 1:15\n",
    "\n",
    "H_vec <- c(H_Mat)\n",
    "M_vec <- c(M_Mat)\n",
    "Def_r <- cor(H_vec,M_vec,method = \"pearson\")\n",
    "Def_RMSE <- RMSE(M_vec,H_vec)\n",
    "Def_RSS <- RSS(M_vec,H_vec)\n",
    "print(\"Overall correlation & RMSE\")\n",
    "Def_r\n",
    "Def_RMSE\n",
    "Def_RSS"
   ]
  },
  {
   "cell_type": "code",
   "execution_count": 25,
   "metadata": {},
   "outputs": [
    {
     "name": "stdout",
     "output_type": "stream",
     "text": [
      "[1] \"Table for Misses\"\n",
      "[1] \"Overall correlation & RMSE\"\n"
     ]
    },
    {
     "data": {
      "text/html": [
       "0.694039398569932"
      ],
      "text/latex": [
       "0.694039398569932"
      ],
      "text/markdown": [
       "0.694039398569932"
      ],
      "text/plain": [
       "[1] 0.6940394"
      ]
     },
     "metadata": {},
     "output_type": "display_data"
    },
    {
     "data": {
      "text/html": [
       "6.67593486244427"
      ],
      "text/latex": [
       "6.67593486244427"
      ],
      "text/markdown": [
       "6.67593486244427"
      ],
      "text/plain": [
       "[1] 6.675935"
      ]
     },
     "metadata": {},
     "output_type": "display_data"
    },
    {
     "data": {
      "text/html": [
       "2674.08637725593"
      ],
      "text/latex": [
       "2674.08637725593"
      ],
      "text/markdown": [
       "2674.08637725593"
      ],
      "text/plain": [
       "[1] 2674.086"
      ]
     },
     "metadata": {},
     "output_type": "display_data"
    }
   ],
   "source": [
    "#8) Misses results\n",
    "muTab<-aggregate(filt_data2$Misses, by=list(filt_data2$Agent,filt_data2$GameSpeed,filt_data2$GameNb), FUN=mean)\n",
    "print(\"Table for Misses\")\n",
    "colnames(muTab)<-c(\"Agent\",\"GameSpeed\",\"GameNb\",\"Value\")\n",
    "H_Mat <- matrix(, nrow = 15, ncol = 4)\n",
    "for (i in 1:15)\n",
    "{\n",
    "    H_Mat[i,] <- muTab[which(muTab$Agent==\"Human\" & muTab$GameNb==i),]$Value\n",
    "}\n",
    "M_Mat <- matrix(, nrow = 15, ncol = 4)\n",
    "for (i in 1:15)\n",
    "{\n",
    "    M_Mat[i,] <- muTab[which(muTab$Agent==\"Model\" & muTab$GameNb==i),]$Value\n",
    "}\n",
    "colnames(H_Mat) <- c(\"MMM\",\"MSM\",\"SMS\",\"SSS\")\n",
    "rownames(H_Mat) <- 1:15\n",
    "colnames(M_Mat) <- c(\"MMM\",\"MSM\",\"SMS\",\"SSS\")\n",
    "rownames(M_Mat) <- 1:15\n",
    "\n",
    "H_vec <- c(H_Mat)\n",
    "M_vec <- c(M_Mat)\n",
    "Mis_r <- cor(H_vec,M_vec,method = \"pearson\")\n",
    "Mis_RMSE <- RMSE(M_vec,H_vec)\n",
    "Mis_RSS <- RSS(M_vec,H_vec)\n",
    "print(\"Overall correlation & RMSE\")\n",
    "Mis_r\n",
    "Mis_RMSE\n",
    "Mis_RSS"
   ]
  },
  {
   "cell_type": "code",
   "execution_count": 26,
   "metadata": {},
   "outputs": [
    {
     "data": {
      "text/html": [
       "740.51399495687"
      ],
      "text/latex": [
       "740.51399495687"
      ],
      "text/markdown": [
       "740.51399495687"
      ],
      "text/plain": [
       "[1] 740.514"
      ]
     },
     "metadata": {},
     "output_type": "display_data"
    },
    {
     "data": {
      "text/html": [
       "-187.635539959507"
      ],
      "text/latex": [
       "-187.635539959507"
      ],
      "text/markdown": [
       "-187.635539959507"
      ],
      "text/plain": [
       "[1] -187.6355"
      ]
     },
     "metadata": {},
     "output_type": "display_data"
    },
    {
     "data": {
      "text/html": [
       "-109.368817361542"
      ],
      "text/latex": [
       "-109.368817361542"
      ],
      "text/markdown": [
       "-109.368817361542"
      ],
      "text/plain": [
       "[1] -109.3688"
      ]
     },
     "metadata": {},
     "output_type": "display_data"
    },
    {
     "data": {
      "text/html": [
       "560.596089542987"
      ],
      "text/latex": [
       "560.596089542987"
      ],
      "text/markdown": [
       "560.596089542987"
      ],
      "text/plain": [
       "[1] 560.5961"
      ]
     },
     "metadata": {},
     "output_type": "display_data"
    },
    {
     "data": {
      "text/html": [
       "-352.881125944145"
      ],
      "text/latex": [
       "-352.881125944145"
      ],
      "text/markdown": [
       "-352.881125944145"
      ],
      "text/plain": [
       "[1] -352.8811"
      ]
     },
     "metadata": {},
     "output_type": "display_data"
    },
    {
     "data": {
      "text/html": [
       "294.444350901248"
      ],
      "text/latex": [
       "294.444350901248"
      ],
      "text/markdown": [
       "294.444350901248"
      ],
      "text/plain": [
       "[1] 294.4444"
      ]
     },
     "metadata": {},
     "output_type": "display_data"
    },
    {
     "data": {
      "text/html": [
       "259.999988485931"
      ],
      "text/latex": [
       "259.999988485931"
      ],
      "text/markdown": [
       "259.999988485931"
      ],
      "text/plain": [
       "[1] 260"
      ]
     },
     "metadata": {},
     "output_type": "display_data"
    },
    {
     "data": {
      "text/html": [
       "227.821109853407"
      ],
      "text/latex": [
       "227.821109853407"
      ],
      "text/markdown": [
       "227.821109853407"
      ],
      "text/plain": [
       "[1] 227.8211"
      ]
     },
     "metadata": {},
     "output_type": "display_data"
    }
   ],
   "source": [
    "#BIC measure\n",
    "n=60\n",
    "k=0\n",
    "Points_BIC <- BIC(Perf_RSS,n,k)\n",
    "Points_BIC\n",
    "Ent_BIC <- BIC(Ent_RSS,n,k)\n",
    "Ent_BIC\n",
    "lCV_BIC <- BIC(lcv_RSS,n,k)\n",
    "lCV_BIC\n",
    "Per_BIC <- BIC(Per_RSS,n,k)\n",
    "Per_BIC\n",
    "Reg_BIC <- BIC(Reg_RSS,n,k)\n",
    "Reg_BIC\n",
    "Res_BIC <- BIC(Res_RSS,n,k)\n",
    "Res_BIC\n",
    "Def_BIC <- BIC(Def_RSS,n,k)\n",
    "Def_BIC\n",
    "Mis_BIC <- BIC(Mis_RSS,n,k)\n",
    "Mis_BIC"
   ]
  },
  {
   "cell_type": "code",
   "execution_count": null,
   "metadata": {},
   "outputs": [],
   "source": []
  }
 ],
 "metadata": {
  "kernelspec": {
   "display_name": "R",
   "language": "R",
   "name": "ir"
  },
  "language_info": {
   "codemirror_mode": "r",
   "file_extension": ".r",
   "mimetype": "text/x-r-source",
   "name": "R",
   "pygments_lexer": "r",
   "version": "3.6.3"
  }
 },
 "nbformat": 4,
 "nbformat_minor": 2
}
