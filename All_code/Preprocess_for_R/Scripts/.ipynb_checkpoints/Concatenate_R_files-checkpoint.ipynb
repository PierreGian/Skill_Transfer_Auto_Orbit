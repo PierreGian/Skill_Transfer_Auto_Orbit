{
 "cells": [
  {
   "cell_type": "code",
   "execution_count": 1,
   "metadata": {},
   "outputs": [],
   "source": [
    "import numpy as np"
   ]
  },
  {
   "cell_type": "code",
   "execution_count": 4,
   "metadata": {},
   "outputs": [],
   "source": [
    "Model = 'MS17_1tracker'\n",
    "paths = [\n",
    "    '/Users/pierregianferrara/Documents/Academic/CMU_PhD/Research/Papers/Paper1_2020/ToInput/Humans/R_Humans_t01_All_wCV.txt',\n",
    "    '/Users/pierregianferrara/Documents/Academic/CMU_PhD/Programming/Auto_Orbit/Transfer_Model/Data/Paper2020/Final/'+Model+'/MMM/R_'+Model+'_MMM.txt',\n",
    "    '/Users/pierregianferrara/Documents/Academic/CMU_PhD/Programming/Auto_Orbit/Transfer_Model/Data/Paper2020/Final/'+Model+'/MSM/R_'+Model+'_MSM.txt',\n",
    "    '/Users/pierregianferrara/Documents/Academic/CMU_PhD/Programming/Auto_Orbit/Transfer_Model/Data/Paper2020/Final/'+Model+'/SSS/R_'+Model+'_SSS.txt',\n",
    "    '/Users/pierregianferrara/Documents/Academic/CMU_PhD/Programming/Auto_Orbit/Transfer_Model/Data/Paper2020/Final/'+Model+'/SMS/R_'+Model+'_SMS.txt'\n",
    "]"
   ]
  },
  {
   "cell_type": "code",
   "execution_count": 6,
   "metadata": {},
   "outputs": [],
   "source": [
    "#Store final table in the R way\n",
    "Finalpath='/Users/pierregianferrara/Documents/Academic/CMU_PhD/Programming/Auto_Orbit/Transfer_Model/Data/Paper2020/Final/'+Model+'/'\n",
    "SeqFile = Finalpath+'R_HumMod_MS17_1tracker_All_wCV.txt'\n",
    "ff_toWrite = open(SeqFile,\"w+\")\n",
    "ToWrite = \"Agent\\tSubject\\tcondition1\\tcondition2\\tGameNb\\tPoints\\tEntropy\\tPeriodicity\\tAmplitude\\tMuIFI\\tStdIFI\\tCV\\tResets\\tDeflations\\tMisses\\tGameSpeed\\n\"\n",
    "ff_toWrite.write(ToWrite)\n",
    "\n",
    "#Store data from each file\n",
    "for pp in paths:\n",
    "    SeqFile = pp\n",
    "    f_toOpen = open(SeqFile,\"r\") \n",
    "    lines = [line.rstrip() for line in f_toOpen]\n",
    "    for i,line in enumerate(lines):\n",
    "        if(i>0):\n",
    "            lineSplit = line.split(\"\\t\")\n",
    "            ToAdd=''\n",
    "            if(lineSplit[2]=='slow' and lineSplit[3]=='slow'):\n",
    "                ToAdd='SSS'\n",
    "                ToWrite=line+\"\\t\"+ToAdd+\"\\n\"\n",
    "                ff_toWrite.write(ToWrite)\n",
    "            elif(lineSplit[2]=='slow' and lineSplit[3]=='medium'):\n",
    "                ToAdd='SMS'\n",
    "                ToWrite=line+\"\\t\"+ToAdd+\"\\n\"\n",
    "                ff_toWrite.write(ToWrite)\n",
    "            elif(lineSplit[2]=='medium' and lineSplit[3]=='slow'):\n",
    "                ToAdd='MSM'\n",
    "                ToWrite=line+\"\\t\"+ToAdd+\"\\n\"\n",
    "                ff_toWrite.write(ToWrite)\n",
    "            elif(lineSplit[2]=='medium' and lineSplit[3]=='medium'):\n",
    "                ToAdd='MMM'\n",
    "                ToWrite=line+\"\\t\"+ToAdd+\"\\n\"\n",
    "                ff_toWrite.write(ToWrite)\n",
    "ff_toWrite.close()"
   ]
  },
  {
   "cell_type": "code",
   "execution_count": null,
   "metadata": {},
   "outputs": [],
   "source": []
  },
  {
   "cell_type": "code",
   "execution_count": null,
   "metadata": {},
   "outputs": [],
   "source": []
  }
 ],
 "metadata": {
  "kernelspec": {
   "display_name": "Python 3",
   "language": "python",
   "name": "python3"
  },
  "language_info": {
   "codemirror_mode": {
    "name": "ipython",
    "version": 3
   },
   "file_extension": ".py",
   "mimetype": "text/x-python",
   "name": "python",
   "nbconvert_exporter": "python",
   "pygments_lexer": "ipython3",
   "version": "3.8.5"
  }
 },
 "nbformat": 4,
 "nbformat_minor": 2
}
