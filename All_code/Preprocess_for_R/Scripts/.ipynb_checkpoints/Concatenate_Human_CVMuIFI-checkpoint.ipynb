{
 "cells": [
  {
   "cell_type": "code",
   "execution_count": 1,
   "metadata": {},
   "outputs": [],
   "source": [
    "import numpy as np"
   ]
  },
  {
   "cell_type": "code",
   "execution_count": 19,
   "metadata": {},
   "outputs": [],
   "source": [
    "Type = 'CVIFI'\n",
    "paths = [\n",
    "    '/Users/pierregianferrara/Documents/Academic/CMU_PhD/Programming/Auto_Orbit/Transfer_All/All_subjects/Outputs/'+Type+'_fastTransfer_Humans.txt',\n",
    "    '/Users/pierregianferrara/Documents/Academic/CMU_PhD/Programming/Auto_Orbit/Transfer_All/All_subjects/Outputs/'+Type+'_mediumTransfer_Humans.txt',\n",
    "    '/Users/pierregianferrara/Documents/Academic/CMU_PhD/Programming/Auto_Orbit/Transfer_All/All_subjects/Outputs/'+Type+'_slowTransfer_Humans.txt'\n",
    "]"
   ]
  },
  {
   "cell_type": "code",
   "execution_count": 20,
   "metadata": {},
   "outputs": [],
   "source": [
    "#Store final table in the R way\n",
    "Finalpath='/Users/pierregianferrara/Documents/Academic/CMU_PhD/Programming/Auto_Orbit/Transfer_All/All_subjects/Outputs/'\n",
    "SeqFile = Finalpath+Type+'_Transfer_Humans.txt'\n",
    "ff_toWrite = open(SeqFile,\"w+\")\n",
    "\n",
    "#Store data from each file\n",
    "PrintFirst=True\n",
    "for ii,pp in enumerate(paths):\n",
    "    if(ii>0):\n",
    "        PrintFirst=False\n",
    "    SeqFile = pp\n",
    "    f_toOpen = open(SeqFile,\"r\") \n",
    "    lines = [line.rstrip() for line in f_toOpen]\n",
    "    for i,line in enumerate(lines):\n",
    "            ToWrite = line+'\\n'\n",
    "            if(not(PrintFirst==False and i==0)):\n",
    "                ff_toWrite.write(ToWrite)"
   ]
  },
  {
   "cell_type": "code",
   "execution_count": null,
   "metadata": {},
   "outputs": [],
   "source": []
  }
 ],
 "metadata": {
  "kernelspec": {
   "display_name": "Python 3",
   "language": "python",
   "name": "python3"
  },
  "language_info": {
   "codemirror_mode": {
    "name": "ipython",
    "version": 3
   },
   "file_extension": ".py",
   "mimetype": "text/x-python",
   "name": "python",
   "nbconvert_exporter": "python",
   "pygments_lexer": "ipython3",
   "version": "3.8.5"
  }
 },
 "nbformat": 4,
 "nbformat_minor": 2
}
