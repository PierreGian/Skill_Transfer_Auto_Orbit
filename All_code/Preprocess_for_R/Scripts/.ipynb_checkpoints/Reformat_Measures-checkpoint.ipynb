{
 "cells": [
  {
   "cell_type": "code",
   "execution_count": 7,
   "metadata": {},
   "outputs": [],
   "source": [
    "import numpy as np\n",
    "import matplotlib.pyplot as plt\n",
    "import pylab"
   ]
  },
  {
   "cell_type": "code",
   "execution_count": 8,
   "metadata": {
    "scrolled": false
   },
   "outputs": [
    {
     "name": "stdout",
     "output_type": "stream",
     "text": [
      "['name', 'condition1', 'condition2', '1', '2', '3', '4', '5', '6', '7', '8', '9', '10', '11', '12', '13', '14', '15', 'Average']\n",
      "['A14JGIN4ZXXLGD', 'A1EP3XESXAG0EP', 'A1G34TESSXG1R8', 'A1H5I0BGVIY5CC', 'A1HKCTDOTL6C9I', 'A1MN2PWAV10VAB', 'A1N53V41FMCR7Q', 'A1V4IGF2OD43ZT', 'A1X84T4EFW04GZ', 'A1Z7XZCHIRHCBY', 'A28GXI90JIF3I7', 'A28IFWT5CR33RZ', 'A29CB19F64GGIF', 'A2FBT0BSFOV91D', 'A2FMEIDYEIWJA8', 'A2H4HO2XNNKV0O', 'A2HHWFGVV9UUC5', 'A2M3FPQF852HW4', 'A2RWLFIP23FZA7', 'A2RY4MK1FONYH1', 'A2W8TJXW68442D', 'A2XW91EHCZ3T3V', 'A2Z750U1HCWVEE', 'A3APMO8WXVH1V0', 'A3BLJ6QSDTZC9U', 'A3MYPYBVHX7FQ2', 'A3RUQO10JKY9NT', 'A3UQ5DF8VVD975', 'A53S7J4JGWG38', 'A6AAAG3KQ7XXV', 'A6WYBPPG8Y2Q4', 'A7P3R1AIA4TVV', 'AAE1COF4E8740', 'ADFKY1MOYP7P2', 'AFUZEIQF6FD30', 'AHI4FABU79VTP', 'ALTMSSCYKZS8Z', 'AN7VKUM6J7KMS', 'ATN07GFZ7CKKU', 'AWDU600NXZ26L', 'AY5OS6NZWVX22', 'A10IZOZGBH42K', 'A11FFJZ0C984W4', 'A122LRCSBAD6DC', 'A12ZO39VZ879ZS', 'A19278PENOWZPZ', 'A1ETEW9WH37WDS', 'A1M6Y1W2PTXFN1', 'A1PF01FF85HUY4', 'A1RH69F7I73LRW', 'A1RV2LERVS0A4H', 'A1S1O9ZCONEGE3', 'A1XVHV97ZVXRA4', 'A1YSBD5XW5UCR0', 'A21XQYRKFFHL4A', 'A23YOV169QAC2M', 'A2BFFKEYMCBFWW', 'A2CD4H68NVVC5A', 'A2GO3SYV3X3KE', 'A2JH4QBXGHJ47M', 'A2R1TM9CS8OAL', 'A2T1JYVKKQQHH9', 'A2UM5VTQ1Q4TGU', 'A2XPDRWL1KCWDM', 'A2YPG2YAUIRXES', 'A32AM1ZLLNQF81', 'A32XQQQSFXCMP2', 'A35J1SKAW9FTJX', 'A38F7I5ZZ4JOLF', 'A394JO4NEPCY3M', 'A39GXHWJ23W5F', 'A3DUL880Y08G95', 'A3FF1VSY7QIDWB', 'A3LA0JBSIW4MUI', 'A3MHYBS6PHJ5QG', 'A3O5RKGH6VB19C', 'A3SWT9MJCQTORQ', 'A3V4AW6DGWBHDO', 'A3VDG4N48AVYGQ', 'A3VPK66FDCY78Q', 'A7445W1585GJX', 'AAFDTSRFE14R3', 'AKOOC3BXIS15H', 'ALC46VKZ9C5TR', 'AMARSQRPRZ3TG', 'AZNY7CZTSQRXS', 'A01913642LJT7L89AFM2F', 'A10GBO6PU2EI0K', 'A12WDL4PB927P6', 'A13YOOKZFZJJ10', 'A161UN6SUJBB33', 'A16335MOISDG1F', 'A194WFDN5KXOXW', 'A19M1TGTL9HKHB', 'A1A5X39XFG2PWH', 'A1AJ2G7JXXJ8UJ', 'A1AR0HVJQKTZER', 'A1B7GQTH9YG04X', 'A1DS0M9DLHAISJ', 'A1E8ZYOQSGKTP8', 'A1EQAFAN71Z0SK', 'A1GPAKHKT74GA4', 'A1IAMNSZB9U4Z1', 'A1JFN2WUBMMI6K', 'A1LF2VKDYRKXZ9', 'A1MFQBQRNANOD6', 'A1NIKHUA79SWGD', 'A1OR6CKL5VWQ6D', 'A1OVGCI9KUL4MI', 'A1PAPIJ1ZCEQBD', 'A1QAIJ6OOQH3RL', 'A1R0NGPP4NGUTE', 'A1SISJL5ST2PWH', 'A1SNDQPYVHYPK9', 'A1U2A42K8FV3RA', 'A1URCANKSOR247', 'A1USR9JCAMDGM3', 'A1VR1XQEQQXYUE', 'A1WVNDH62P2UNZ', 'A22DF0EWILGRLV', 'A28J7H4TH29DC3', 'A2ACDHSJLC41IV', 'A2BA9Y6VGW6WS1', 'A2C0VTQOFYUP83', 'A2E609OEGN4D6H', 'A2GA29WTMFW2W', 'A2KSAAQBU5R0F6', 'A2N5O2OTCXM8Z4', 'A2QS8G463BJAUU', 'A2UU1PPOQC12SC', 'A2WPKP73S4MBLK', 'A2WTOW5KR5GQCF', 'A2YD4XK9B1TBKL', 'A2YE7NBCK14VAQ', 'A2YT9HJEU5KTYM', 'A2ZIATVCA2NKPF', 'A2ZL7BZA7RRMIN', 'A309E9ZYRIL8X2', 'A39MKVROUZ1UWR', 'A3B1P3B6X3AM2B', 'A3BHC8XH566T0Y', 'A3BU6QQUL1R5OT', 'A3FKDL7CAES4LP', 'A3IGG3RX4HXUV9', 'A3PHU8OHA8PONE', 'A3PN17H3QT51O', 'A3T2YYWJM6NRH9', 'A3UX3RPWUKNVX', 'A3VMPVPOWNWUZC', 'A65FDBSWHLIVX', 'A6F4S7L3OALOX', 'A72QIS9A5W4K6', 'A7WCYUB783QNB', 'A9LSEP71DNP4O', 'AFIK3VBMMX6G6', 'AFM65NU0UXIGP', 'AGSSG1SWNWGHD', 'AIOZF654BN0LT', 'ALDKDKRBR4LXD', 'ALT6TQMZJKSFQ', 'AN0JVAS4VR13F', 'ANNEV2BKIR8GK', 'ANQ0RLFEZ17W0', 'AQ7LRYYA7NRWR', 'AQXRHIMQ7UK7O', 'ASZBND3G5UYJG', 'AUWE1BE6SGVHA', 'AXMPSUNKUBEIL', 'AY832D29HUURG', 'AYPOAY43REHC8', 'AZ8NBOTCBCLKG', 'AZDRKFTM4LARP', 'A15J42M6EC7Y1K', 'A2CM4LDI7GNDNW', 'A2ZGRB5DEGOG9C', 'A36FBIDN58N139', 'A3CTXNQ2GXIQSP', 'A82Q1HS5CPZ5I', 'ACGHHDT7RY1AH', 'A3GHPWV5J07UE8']\n",
      "[('medium', 'fast'), ('fast', 'fast'), ('slow', 'fast'), ('slow', 'slow'), ('slow', 'slow'), ('fast', 'slow'), ('fast', 'slow'), ('medium', 'medium'), ('medium', 'fast'), ('slow', 'slow'), ('medium', 'medium'), ('medium', 'fast'), ('fast', 'medium'), ('medium', 'fast'), ('slow', 'fast'), ('slow', 'medium'), ('medium', 'slow'), ('fast', 'slow'), ('medium', 'slow'), ('fast', 'fast'), ('fast', 'fast'), ('medium', 'slow'), ('slow', 'slow'), ('slow', 'slow'), ('slow', 'fast'), ('fast', 'slow'), ('medium', 'medium'), ('slow', 'medium'), ('fast', 'medium'), ('medium', 'medium'), ('medium', 'fast'), ('slow', 'medium'), ('fast', 'fast'), ('medium', 'medium'), ('fast', 'slow'), ('medium', 'slow'), ('fast', 'medium'), ('slow', 'medium'), ('fast', 'medium'), ('slow', 'medium'), ('fast', 'fast'), ('fast', 'medium'), ('slow', 'fast'), ('fast', 'fast'), ('slow', 'medium'), ('slow', 'fast'), ('fast', 'slow'), ('fast', 'slow'), ('medium', 'medium'), ('fast', 'fast'), ('fast', 'fast'), ('slow', 'fast'), ('slow', 'slow'), ('medium', 'slow'), ('medium', 'fast'), ('slow', 'medium'), ('fast', 'fast'), ('medium', 'fast'), ('medium', 'slow'), ('medium', 'slow'), ('medium', 'slow'), ('slow', 'medium'), ('medium', 'medium'), ('medium', 'slow'), ('slow', 'medium'), ('fast', 'slow'), ('fast', 'medium'), ('slow', 'medium'), ('medium', 'fast'), ('fast', 'medium'), ('slow', 'fast'), ('slow', 'slow'), ('slow', 'slow'), ('fast', 'fast'), ('medium', 'fast'), ('medium', 'medium'), ('fast', 'slow'), ('fast', 'medium'), ('fast', 'medium'), ('slow', 'slow'), ('slow', 'slow'), ('medium', 'medium'), ('slow', 'fast'), ('fast', 'medium'), ('slow', 'fast'), ('medium', 'medium'), ('fast', 'slow'), ('medium', 'slow'), ('slow', 'medium'), ('fast', 'fast'), ('fast', 'slow'), ('medium', 'slow'), ('fast', 'medium'), ('slow', 'slow'), ('medium', 'fast'), ('medium', 'medium'), ('medium', 'fast'), ('fast', 'slow'), ('fast', 'slow'), ('medium', 'slow'), ('slow', 'slow'), ('fast', 'slow'), ('fast', 'medium'), ('slow', 'medium'), ('fast', 'slow'), ('fast', 'slow'), ('fast', 'slow'), ('slow', 'fast'), ('slow', 'medium'), ('slow', 'slow'), ('medium', 'medium'), ('medium', 'fast'), ('fast', 'fast'), ('slow', 'fast'), ('fast', 'fast'), ('medium', 'medium'), ('slow', 'slow'), ('medium', 'medium'), ('fast', 'medium'), ('medium', 'fast'), ('fast', 'slow'), ('slow', 'slow'), ('medium', 'medium'), ('slow', 'medium'), ('medium', 'slow'), ('medium', 'fast'), ('fast', 'medium'), ('fast', 'medium'), ('slow', 'medium'), ('medium', 'medium'), ('slow', 'medium'), ('slow', 'medium'), ('slow', 'fast'), ('medium', 'fast'), ('medium', 'slow'), ('slow', 'fast'), ('medium', 'slow'), ('slow', 'fast'), ('medium', 'slow'), ('slow', 'fast'), ('slow', 'medium'), ('medium', 'slow'), ('slow', 'slow'), ('fast', 'fast'), ('medium', 'fast'), ('medium', 'fast'), ('fast', 'medium'), ('medium', 'slow'), ('slow', 'slow'), ('fast', 'medium'), ('medium', 'fast'), ('fast', 'slow'), ('medium', 'fast'), ('fast', 'medium'), ('slow', 'slow'), ('fast', 'fast'), ('slow', 'fast'), ('fast', 'medium'), ('slow', 'fast'), ('slow', 'medium'), ('slow', 'medium'), ('medium', 'slow'), ('medium', 'medium'), ('slow', 'slow'), ('fast', 'fast'), ('fast', 'fast'), ('medium', 'medium'), ('fast', 'fast'), ('medium', 'medium'), ('slow', 'fast'), ('fast', 'fast'), ('medium', 'medium'), ('slow', 'slow'), ('fast', 'medium'), ('medium', 'slow'), ('fast', 'slow'), ('medium', 'fast'), ('slow', 'fast'), ('fast', 'fast'), ('slow', 'fast')]\n"
     ]
    }
   ],
   "source": [
    "##### Load prepared Excel data file with scores\n",
    "GameNb=15\n",
    "SubjNb = 180\n",
    "names=['' for j in range(SubjNb)]\n",
    "conds=[('','') for j in range(SubjNb)]\n",
    "scores=[('','','','','','','','','','','','','','','') for j in range(SubjNb)]\n",
    "avgs = ['' for j in range(SubjNb)]\n",
    "SeqFile = '/Users/pierregianferrara/Documents/Academic/CMU_PhD/Programming/Auto_Orbit/Transfer_All/All_Subjects/Excel/Summary_Scores_ALL.txt'\n",
    "f_toOpen = open(SeqFile,\"r\") \n",
    "lines = [line.rstrip().split(\"\\t\") for line in f_toOpen]\n",
    "#print(len(lines))\n",
    "cats = lines[0]\n",
    "print(cats)\n",
    "#print(lines[2])\n",
    "idx=0\n",
    "for ii in np.arange(1,len(lines)):\n",
    "    cur_line=lines[ii]\n",
    "    #print(cur_line)\n",
    "    names[idx] = cur_line[0]\n",
    "    conds[idx] = (cur_line[1],cur_line[2])\n",
    "    idx=idx+1\n",
    "print(names)\n",
    "print(conds)\n",
    "#Test number of columns per score"
   ]
  },
  {
   "cell_type": "code",
   "execution_count": 9,
   "metadata": {},
   "outputs": [
    {
     "name": "stdout",
     "output_type": "stream",
     "text": [
      "1\n",
      "A1EP3XESXAG0EP\n",
      "('fast', 'fast')\n"
     ]
    }
   ],
   "source": [
    "#Function to identify the subject index of a given suubject name\n",
    "def FindSubIdx(name):\n",
    "    for el,nn in enumerate(names):\n",
    "        if(nn==name):\n",
    "            return el\n",
    "print(FindSubIdx('A1EP3XESXAG0EP'))\n",
    "print(names[1])\n",
    "print(conds[1])"
   ]
  },
  {
   "cell_type": "code",
   "execution_count": 10,
   "metadata": {},
   "outputs": [
    {
     "name": "stdout",
     "output_type": "stream",
     "text": [
      "A3GHPWV5J07UE8\n"
     ]
    }
   ],
   "source": [
    "#test cell\n",
    "print(cur_line[0])"
   ]
  },
  {
   "cell_type": "code",
   "execution_count": 16,
   "metadata": {},
   "outputs": [],
   "source": [
    "#Rewrite output measures files with conditions inserted\n",
    "inputPath = '/Users/pierregianferrara/Documents/Academic/CMU_PhD/Programming/Auto_Orbit/Transfer_All/All_subjects/Outputs5t01/Periodicity_thresh_ALL_Humans_avg_Transfer.txt'\n",
    "outputPath = '/Users/pierregianferrara/Documents/Academic/CMU_PhD/Programming/Auto_Orbit/Transfer_All/All_subjects/Outputs5t01/Periodicity_ALL_Humans_avg_Transfer_SORTED.txt'\n",
    "ff_toWrite = open(outputPath,\"w+\")\n",
    "ToWrite = \"Subject\\tcondition1\\tcondition2\\t1\\t2\\t3\\t4\\t5\\t6\\t7\\t8\\t9\\t10\\t11\\t12\\t13\\t14\\t15\\n\"\n",
    "ff_toWrite.write(ToWrite)\n",
    "f_toOpen = open(inputPath,\"r\") \n",
    "lines = [line.rstrip().split(\"\\t\") for line in f_toOpen]\n",
    "for cur_line in lines[1:]:\n",
    "    subj_indx = FindSubIdx(cur_line[0])\n",
    "    ToWrite = names[subj_indx]+\"\\t\"+conds[subj_indx][0]+\"\\t\"+conds[subj_indx][1]\n",
    "    for j in np.arange(1,16):\n",
    "        ToWrite=ToWrite+\"\\t\"+cur_line[j]\n",
    "    ToWrite=ToWrite+\"\\n\"\n",
    "    ff_toWrite.write(ToWrite)\n",
    "ff_toWrite.close()"
   ]
  },
  {
   "cell_type": "code",
   "execution_count": 7,
   "metadata": {},
   "outputs": [
    {
     "name": "stdout",
     "output_type": "stream",
     "text": [
      "['A1GPAKHKT74GA4', '0.4636452946974489', '0.3298699213966124', '0.3836462154609237', '0.27709551986567804', '0.45596295070328496', '0.23301551392900935', '0.21658898405214652', '0.16649591500082436', '0.08824283677498088', '0.03247197818680792', '0.48162559119712434', '0.44058593938412666', '0.37513218295761963', '0.4526152390340493', '0.36660198940717365']\n"
     ]
    }
   ],
   "source": [
    "print(cur_line)"
   ]
  },
  {
   "cell_type": "code",
   "execution_count": null,
   "metadata": {},
   "outputs": [],
   "source": []
  }
 ],
 "metadata": {
  "kernelspec": {
   "display_name": "Python 3",
   "language": "python",
   "name": "python3"
  },
  "language_info": {
   "codemirror_mode": {
    "name": "ipython",
    "version": 3
   },
   "file_extension": ".py",
   "mimetype": "text/x-python",
   "name": "python",
   "nbconvert_exporter": "python",
   "pygments_lexer": "ipython3",
   "version": "3.8.5"
  }
 },
 "nbformat": 4,
 "nbformat_minor": 2
}
